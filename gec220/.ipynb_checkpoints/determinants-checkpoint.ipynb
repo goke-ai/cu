{
 "cells": [
  {
   "cell_type": "markdown",
   "metadata": {},
   "source": [
    "# Matrices and Determinants"
   ]
  },
  {
   "cell_type": "markdown",
   "metadata": {},
   "source": [
    "Compute $\\ f(x) = x^2 + 2 \\quad if \\; x=2 $"
   ]
  },
  {
   "cell_type": "markdown",
   "metadata": {},
   "source": [
    "Newton postulated that $\\vec { F } = m \\vec { a }$."
   ]
  },
  {
   "cell_type": "markdown",
   "metadata": {},
   "source": [
    "$$\n",
    "x = \\frac { - b \\pm \\sqrt { b ^ { 2 } - 4 a c } } { 2 a }\n",
    "$$"
   ]
  },
  {
   "cell_type": "markdown",
   "metadata": {},
   "source": [
    "$$\n",
    "y = \\frac { \\sum _ { i } w _ { i } y _ { i } } { \\sum _ { i } w _ { i } } , i = 1,2 \\ldots k\n",
    "$$"
   ]
  },
  {
   "cell_type": "markdown",
   "metadata": {},
   "source": [
    "\\begin{equation*}\n",
    "l ( \\theta ) = \\sum _ { i = 1 } ^ { m } \\log p ( x , \\theta )\n",
    "\\end{equation*}"
   ]
  },
  {
   "cell_type": "markdown",
   "metadata": {},
   "source": [
    "\\begin{align*}\n",
    "t _ { 1 } + t _ { 2 } = \\frac { ( 2 L / c ) \\sqrt { 1 - u ^ { 2 } / c ^ { 2 } } } { 1 - u ^ { 2 } / c ^ { 2 } } = \\frac { 2 L / c } { \\sqrt { 1 - u ^ { 2 } / c ^ { 2 } } }\n",
    "\\end{align*}"
   ]
  },
  {
   "cell_type": "markdown",
   "metadata": {},
   "source": [
    "\\begin{equation}\n",
    "m = \\frac { m _ { 0 } } { \\sqrt { 1 - v ^ { 2 } / c ^ { 2 } } }\n",
    "\\end{equation}"
   ]
  },
  {
   "cell_type": "markdown",
   "metadata": {},
   "source": [
    "\\begin{split}\n",
    "a& =b+c-d\\\\\n",
    "& \\quad +e-f\\\\\n",
    "& =g+h\\\\\n",
    "& =i\n",
    "\\end{split}"
   ]
  },
  {
   "cell_type": "markdown",
   "metadata": {},
   "source": [
    "\\begin{gather}\n",
    "a_1=b_1+c_1\\\\\n",
    "a_2=b_2+c_2-d_2+e_2\n",
    "\\end{gather}"
   ]
  },
  {
   "cell_type": "markdown",
   "metadata": {},
   "source": [
    "In equation $\\eqref{eq:1}$, we find the value of an\n",
    "interesting integral:\n",
    "\n",
    "\n",
    "\\begin{equation}\n",
    "  \\int_0^\\infty \\frac{x^3}{e^x-1}\\,dx = \\frac{\\pi^4}{15}\n",
    "  $\\tag{eq:1}$\n",
    "\\end{equation}\n",
    "\n",
    "\\begin{equation}\n",
    "  \\| x + y \\| \\geq | \\| x | | - \\| y \\| |\n",
    "  \\tag{eq:2}\n",
    "\\end{equation}\n",
    "\n",
    "Look at the Equation \\ref{eq:2}"
   ]
  },
  {
   "cell_type": "markdown",
   "metadata": {},
   "source": [
    "$$\n",
    "\\frac{x\\left(x^{2 n}-x^{-2 n}\\right)}{x^{2 n}+x^{-2 n}}\n",
    "\\tag{1.1}\n",
    "$$"
   ]
  },
  {
   "cell_type": "markdown",
   "metadata": {},
   "source": [
    "\\begin{equation}\n",
    "\\max _{\\theta} \\mathbb{E}_{\\mathbf{z} \\sim \\mathcal{Z}_{T}}\\left[\\sum_{t=1}^{T} \\log p_{\\theta}\\left(x_{z_{t}} | \\mathbf{x}_{\\mathbf{z}_{<t}}\\right)\\right]\n",
    "\\tag{1.2}\n",
    "\\end{equation}"
   ]
  },
  {
   "cell_type": "markdown",
   "metadata": {},
   "source": [
    "\\begin{equation}\n",
    "\\max _{\\theta} \\mathbb{E}_{\\mathbf{z} \\sim \\mathcal{Z}_{T}}\\left[\\sum_{t=1}^{T} \\log p_{\\theta}\\left(x_{z_{t}} | \\mathbf{x}_{\\mathbf{z}_{<t}}\\right)\\right]\n",
    "\\tag{1.2}\n",
    "\\end{equation}"
   ]
  },
  {
   "cell_type": "markdown",
   "metadata": {},
   "source": [
    "```smiles\n",
    "OC(=O)c1cc(Cl)cs1\n",
    "```"
   ]
  },
  {
   "cell_type": "markdown",
   "metadata": {},
   "source": [
    "$$\n",
    "A=\n",
    "\\begin{bmatrix}\n",
    "    1 & 2 & 3\\\\\n",
    "    4 & 5 & 6\\\\\n",
    "    a_{31} & 2 & 3\n",
    "\\end{bmatrix}\n",
    "$$"
   ]
  },
  {
   "cell_type": "markdown",
   "metadata": {},
   "source": [
    "$$\n",
    "\\int_0^\\infty \\frac{x^3}{e^x-1}\\,dx = \\frac{\\pi^4}{15}\n",
    "$$\n",
    "$$\n",
    "\\frac{\\partial Q}{\\partial t} = \\frac{\\partial s}{\\partial t}\n",
    "$$\n",
    "$$\n",
    "\\frac{dQ}{dt} = \\frac{\\partial s}{\\partial t}\n",
    "$$"
   ]
  },
  {
   "cell_type": "markdown",
   "metadata": {},
   "source": [
    "\\begin{eqnarray}\n",
    "   7x + 4y & =  & 0 \\\\\n",
    "   2x - 5y & =  & 0\n",
    "\\end{eqnarray}\n",
    "$\\vec{AB} = 0_E$"
   ]
  },
  {
   "cell_type": "markdown",
   "metadata": {},
   "source": [
    "$\\vec{AB} = 0_E$   \n",
    "$\\overrightarrow{AB} = 0_E$"
   ]
  },
  {
   "cell_type": "markdown",
   "metadata": {},
   "source": [
    "$\\mathbf{N}$ is the set of naturel numbers.  \n",
    "$\\mathbb{N}$ is the set of naturel numbers."
   ]
  },
  {
   "cell_type": "markdown",
   "metadata": {},
   "source": [
    "$$\n",
    "\\frac{n!}{k!(n - k)!} = \\binom{n}{k} = {}^{n}C_{k} = C_{n}^k\n",
    "$$"
   ]
  },
  {
   "cell_type": "markdown",
   "metadata": {},
   "source": [
    "$$\n",
    "\\frac{f(x+\\delta x)-f(x)}{\\delta x}\n",
    "   \\overset{\\delta x\\to 0}{\\longrightarrow}\n",
    "f'(x)\n",
    "$$\n",
    "$$\n",
    "A \\underset{f}{\\rightarrow} B\n",
    "$$"
   ]
  },
  {
   "cell_type": "markdown",
   "metadata": {},
   "source": [
    "$$\n",
    "\\lvert x \\rvert \\\\\n",
    "\\lvert \\frac{1}{x} \\rvert \\\\\n",
    "\\left\\lvert \\frac{1}{x} \\right\\rvert\n",
    "$$  \n",
    "$\\displaystyle\\left\\lvert \\frac{1}{x} \\right\\rvert$  "
   ]
  },
  {
   "cell_type": "markdown",
   "metadata": {},
   "source": [
    "\\begin{equation*}\n",
    "y = f(x) = \\lvert x \\rvert = \\left\\{\n",
    "        \\begin{array}{ll}\n",
    "            -x & \\quad x \\leq 0 \\\\\n",
    "            x & \\quad x \\geq 0\n",
    "        \\end{array}\n",
    "    \\right.\n",
    "\\end{equation*}"
   ]
  },
  {
   "cell_type": "markdown",
   "metadata": {},
   "source": [
    "\\begin{equation*}\n",
    "g(x)=\\begin{cases}\n",
    "          x \\quad &\\text{if} \\, x \\in \\mathbb{Q} \\\\\n",
    "          -x \\quad &\\text{if} \\, x \\notin \\mathbb{Q} \\\\\n",
    "     \\end{cases}\n",
    "\\end{equation*}"
   ]
  },
  {
   "cell_type": "markdown",
   "metadata": {},
   "source": [
    "$$\\boxed{u=1}$$\n",
    "$$\n",
    "\\begin{equation}\n",
    "\\boxed{\n",
    "\\begin{array}{rcl}\n",
    "x + -y + z -t & = & 0 \\\\\n",
    "2x + 2y + 2z +3t & = & 0\n",
    "\\end{array}\n",
    "}\n",
    "\\end{equation}\n",
    "$$"
   ]
  },
  {
   "cell_type": "markdown",
   "metadata": {},
   "source": [
    "$$\n",
    "\\lVert \\cos x \\rVert \\\\\n",
    "$$\n",
    "$$\n",
    "\\left\\lVert \\frac{1}{x} \\right\\rVert\n",
    "$$\n",
    "$$\n",
    "\\left\\lVert \\sum_{k=1}^n \\alpha_k\\right\\rVert\n",
    "$$"
   ]
  },
  {
   "cell_type": "markdown",
   "metadata": {},
   "source": [
    "$]-\\infty, +\\infty[$  \n",
    "$\\lim_{x \\to +\\infty} f(x)$  \n",
    "$\\sum_{n=1}^{\\infty} \\frac{1}{n^2}$"
   ]
  },
  {
   "cell_type": "markdown",
   "metadata": {},
   "source": [
    "$\\bar{X} \\overline{X}$  \n",
    "$\\bar{X_n} \\overline{X_n}$  \n",
    "$\\bar{XY} \\overline{XY}$  \n",
    "$\\bar{X^\\alpha} \\overline{X^\\alpha}$  "
   ]
  },
  {
   "cell_type": "markdown",
   "metadata": {},
   "source": [
    "$u_2 = \\textrm{Second element of the sequence } u_n$  \n",
    "$u_2 = Second element of the sequence u_n$"
   ]
  },
  {
   "cell_type": "markdown",
   "metadata": {},
   "source": [
    "$\\forall x \\in ]0,\\infty[$"
   ]
  },
  {
   "cell_type": "markdown",
   "metadata": {},
   "source": [
    "$$\n",
    "\\exists x \\in ]a,b[  \\\\\n",
    "\\nexists x \\in ]a,b[\n",
    "$$"
   ]
  },
  {
   "cell_type": "markdown",
   "metadata": {},
   "source": [
    "$$\n",
    "ax^2 + bx + c = 0 \\\\\n",
    "    a \\neq 0\n",
    "\n",
    "$$\n",
    "$$\n",
    "\\frac{-b \\pm \\sqrt{b^2-4ac}}{2a} \n",
    "$$"
   ]
  },
  {
   "cell_type": "markdown",
   "metadata": {},
   "source": [
    "Choose/Choisissez:  \n",
    "\n",
    "$\\alpha=\\ang{30} \\Rightarrow$ package siunitx  \n",
    "\n",
    "$\\alpha=30^\\circ \\Rightarrow$ defaut/default  "
   ]
  },
  {
   "cell_type": "code",
   "execution_count": null,
   "metadata": {},
   "outputs": [],
   "source": [
    "$$\n",
    "Copyright: \\copyright Math-Linux.Com\\\\\n",
    "Trademark: \\texttrademark or \\textsuperscript{TM} Math-Linux.Com  \\\\\n",
    "Registered: \\textregistered Math-Linux.Com \\\\\n",
    "$$"
   ]
  },
  {
   "cell_type": "markdown",
   "metadata": {},
   "source": [
    "$$\n",
    "\\sigma(s,i) = \\left\\{\n",
    "    \\begin{array}{ll}\n",
    "        \\tau_{si} & \\mbox{si } \\{s,i\\} \\in E \\\\\n",
    "        \\infty & \\mbox{sinon.}\n",
    "    \\end{array}\n",
    "\\right.\n",
    "$$"
   ]
  },
  {
   "cell_type": "markdown",
   "metadata": {},
   "source": [
    "$$\n",
    " \\left.\n",
    "    \\begin{array}{ll}\n",
    "        \\tau_{si} & \\mbox{si } \\{s,i\\} \\in E \\\\\n",
    "        \\infty & \\mbox{sinon.}\n",
    "    \\end{array}\n",
    " \\right \\}=\\sigma(s,i) \n",
    "$$"
   ]
  },
  {
   "cell_type": "markdown",
   "metadata": {},
   "source": [
    "$$\n",
    "\\underbrace{\\ln \\left( \\frac{5}{6} \\right)}_{\\simeq -0.1823}\n",
    "< \\overbrace{\\exp \\left(\\frac{1}{2} \\right)}^{\\simeq 1.6487}\n",
    "$$"
   ]
  },
  {
   "cell_type": "markdown",
   "metadata": {},
   "source": [
    "$$\n",
    "\\Sigma=\\left[\n",
    "\\begin{array}{ccc}\n",
    "   \\sigma_{11} & \\cdots & \\sigma_{1n} \\\\\n",
    "   \\vdots & \\ddots & \\vdots \\\\\n",
    "   \\sigma_{n1} & \\cdots & \\sigma_{nn}\n",
    "\\end{array}\n",
    "\\right]\n",
    "$$"
   ]
  },
  {
   "cell_type": "markdown",
   "metadata": {},
   "source": [
    "$$\\forall p=1,\\ldots,n.$$"
   ]
  },
  {
   "cell_type": "markdown",
   "metadata": {},
   "source": [
    "if and only if  \n",
    "A $\\Leftrightarrow$ B   \n",
    "C $\\Longleftrightarrow$ D"
   ]
  },
  {
   "cell_type": "markdown",
   "metadata": {},
   "source": [
    "$$\n",
    "\\emptyset \\Leftarrow no package \\\\\n",
    "$\\O$ \\Leftarrow no package \\\\\n",
    "\\varnothing \\Leftarrow package amssymb \\\\\n",
    "$$\n"
   ]
  },
  {
   "cell_type": "markdown",
   "metadata": {},
   "source": [
    "$X$ is normally distributed with mean $\\mu$ and standard deviation $\\sigma$:  \n",
    "$$X \\sim \\mathcal{N}(\\mu,\\,\\sigma^{2})$$"
   ]
  },
  {
   "cell_type": "markdown",
   "metadata": {},
   "source": [
    "$$\\nabla u$$"
   ]
  },
  {
   "cell_type": "markdown",
   "metadata": {},
   "source": [
    "$$\n",
    "\\nabla f(\\left.x_{1}, x_{2}, \\ldots, x_{n}\\right)=\\left[\\begin{array}{c}\n",
    "\\dfrac{\\partial f}{\\partial x_1}(\\left.x_{1}, x_{2}, \\ldots, x_{n}\\right)\\\\\n",
    "\\dfrac{\\partial f}{\\partial x_2}(\\left.x_{1}, x_{2}, \\ldots, x_{n}\\right) \\\\\n",
    "\\vdots \\\\\n",
    "\\dfrac{\\partial f}{\\partial x_n}(\\left.x_{1}, x_{2}, \\ldots, x_{n}\\right) \n",
    "\\end{array}\\right]\n",
    "$$"
   ]
  },
  {
   "cell_type": "markdown",
   "metadata": {},
   "source": [
    "$$\n",
    "\\mathbb{J}=\\left[\\begin{array}{ccc}\n",
    "\\dfrac{\\partial \\mathbf{f}(\\mathbf{x})}{\\partial x_{1}} & \\cdots & \\dfrac{\\partial \\mathbf{f}(\\mathbf{x})}{\\partial x_{n}}\n",
    "\\end{array}\\right]=\\left[\\begin{array}{c}\n",
    "\\nabla^{T} f_{1}(\\mathbf{x}) \\\\\n",
    "\\vdots \\\\\n",
    "\\nabla^{T} f_{m}(\\mathbf{x})\n",
    "\\end{array}\\right]=\\left[\\begin{array}{ccc}\n",
    "\\dfrac{\\partial f_{1}(\\mathbf{x})}{\\partial x_{1}} & \\cdots & \\dfrac{\\partial f_{1}(\\mathbf{x})}{\\partial x_{n}} \\\\\n",
    "\\vdots & \\ddots & \\vdots \\\\\n",
    "\\dfrac{\\partial f_{m}(\\mathbf{x})}{\\partial x_{1}} & \\cdots & \\dfrac{\\partial f_{m}(\\mathbf{x})}{\\partial x_{n}}\n",
    "\\end{array}\\right]\n",
    "$$"
   ]
  },
  {
   "cell_type": "markdown",
   "metadata": {},
   "source": [
    "$$\n",
    "\\left(f \\ast g_{T}\\right)(t) \\equiv \\int_{t_{0}}^{t_{0}+T}\\left[\\sum_{k=-\\infty}^{\\infty} f(\\tau+k T)\\right] g_{T}(t-\\tau) d \\tau\n",
    "$$"
   ]
  },
  {
   "cell_type": "markdown",
   "metadata": {},
   "source": [
    "$$\n",
    "a\\backslash b \\\\\n",
    "A\\setminus B\n",
    "$$"
   ]
  },
  {
   "cell_type": "markdown",
   "metadata": {},
   "source": [
    "$$\n",
    "\\mathbf{v}=\\left[\\begin{array}{c}\n",
    "v_{1} \\\\\n",
    "v_{2} \\\\\n",
    "\\vdots \\\\\n",
    "v_{n}\n",
    "\\end{array}\\right], \\mathbf{w}=\\left[\\begin{array}{c}\n",
    "w_{1} \\\\\n",
    "w_{2} \\\\\n",
    "\\vdots \\\\\n",
    "w_{m}\n",
    "\\end{array}\\right]\n",
    "$$\n",
    "\n",
    "Tensor product of $\\mathbf{v}$ and $\\mathbf{w}$ is given by\n",
    "\n",
    "$$\n",
    "\\underset{\\underset{\\scriptstyle\\text{\\bigotimes}}{\\scriptstyle}}{\\mathbf{v} \\bigotimes \\mathbf{w}} = \n",
    "\\underset{\\underset{\\scriptstyle\\text{\\otimes}}{\\scriptstyle}}{\\mathbf{v} \\otimes \\mathbf{w}}=\\left[\\begin{array}{cccc}\n",
    "v_{1} w_{1} & v_{1} w_{2} & \\cdots & v_{1} w_{m} \\\\\n",
    "v_{2} w_{1} & v_{2} w_{2} & \\cdots & v_{2} w_{m} \\\\\n",
    "\\vdots & \\vdots & \\ddots & \\vdots \\\\\n",
    "v_{n} w_{1} & v_{n} w_{2} & \\cdots & v_{n} w_{m}\n",
    "\\end{array}\\right]\n",
    "$$"
   ]
  },
  {
   "cell_type": "markdown",
   "metadata": {},
   "source": [
    "$$\n",
    "\\mathbf{x} \\otimes \\mathbf{y} \\otimes \\mathbf{z}=\n",
    "\\begin{aligned}\n",
    "\\left[\\begin{array}{l}\n",
    "x_{1} \\\\\n",
    "x_{2}\n",
    "\\end{array}\\right] \\otimes\\left[\\begin{array}{l}\n",
    "y_{1} \\\\\n",
    "y_{2}\n",
    "\\end{array}\\right] \\otimes\\left[\\begin{array}{l}\n",
    "z_{1} \\\\\n",
    "z_{2}\n",
    "\\end{array}\\right]=\\left[\\begin{array}{l}\n",
    "x_{1} \\\\\n",
    "x_{2}\n",
    "\\end{array}\\right] \\otimes\\left[\\begin{array}{l}\n",
    "y_{1} z_{1} \\\\\n",
    "y_{1} z_{2} \\\\\n",
    "y_{2} z_{1} \\\\\n",
    "y_{2} z_{2}\n",
    "\\end{array}\\right] =\\left[\\begin{array}{l}\n",
    "x_{1} y_{1} z_{1} \\\\\n",
    "x_{1} y_{1} z_{2} \\\\\n",
    "x_{1} y_{2} z_{1} \\\\\n",
    "x_{1} y_{2} z_{2} \\\\\n",
    "x_{2} y_{1} z_{1} \\\\\n",
    "x_{2} y_{1} z_{2} \\\\\n",
    "x_{2} y_{2} z_{1} \\\\\n",
    "x_{2} y_{2} z_{2}\n",
    "\\end{array}\\right]\n",
    "\\end{aligned}\n",
    "$$"
   ]
  },
  {
   "cell_type": "markdown",
   "metadata": {},
   "source": [
    "$$\n",
    "\\Re (z)= \\Re(a+ib)=a\n",
    "$$"
   ]
  },
  {
   "cell_type": "markdown",
   "metadata": {},
   "source": [
    "$$\\mathfrak{Re}(z)= \\mathfrak{Re}(a+ib)=a$$"
   ]
  },
  {
   "cell_type": "markdown",
   "metadata": {},
   "source": [
    "$$\\Im (z)= \\Im(a+ib)=b$$"
   ]
  },
  {
   "cell_type": "markdown",
   "metadata": {},
   "source": [
    "$$\\mathfrak{Im}(z)= \\mathfrak{Im}(a+ib)=b$$"
   ]
  },
  {
   "cell_type": "markdown",
   "metadata": {},
   "source": [
    "$$\n",
    "\\vec \\bigtriangleup \\\\\n",
    "\\vec \\Box \\\\ \n",
    "\\vec \\Delta\n",
    "$$"
   ]
  },
  {
   "cell_type": "markdown",
   "metadata": {},
   "source": [
    "$$\n",
    "\\bigtriangleup_{0}\n",
    "$$"
   ]
  },
  {
   "cell_type": "code",
   "execution_count": null,
   "metadata": {},
   "outputs": [],
   "source": [
    "\\documentclass[a4paper,10pt,leqno]{article}\n",
    "\\begin{document}\n",
    "    \\begin{eqnarray}\n",
    "   7x + 4y & =  & 0 \\\\\n",
    "   2x - 5y & =  & 0\n",
    "    \\end{eqnarray}\n",
    "\\end{document}"
   ]
  },
  {
   "cell_type": "code",
   "execution_count": 3,
   "metadata": {},
   "outputs": [],
   "source": [
    "import numpy as np\n"
   ]
  },
  {
   "cell_type": "code",
   "execution_count": 3,
   "metadata": {},
   "outputs": [
    {
     "data": {
      "text/plain": [
       "array([[ 3, -3, -4, -1],\n",
       "       [ 1, -1, -1, -2],\n",
       "       [ 2, -1,  4, -3]])"
      ]
     },
     "execution_count": 3,
     "metadata": {},
     "output_type": "execute_result"
    }
   ],
   "source": [
    "a = np.array([\n",
    "    [3, -3, -4, -1],\n",
    "    [1, -1, -1, -2],\n",
    "    [2, -1, 4, -3],\n",
    "])\n",
    "a"
   ]
  },
  {
   "cell_type": "code",
   "execution_count": 4,
   "metadata": {},
   "outputs": [],
   "source": [
    "a0 = np.array([\n",
    "    [3, -3, -4],\n",
    "    [1, -1, -1],\n",
    "    [2, -1, 4],\n",
    "])\n",
    "a1 = np.array([\n",
    "    [ -3, -4, -1],\n",
    "    [ -1, -1, -2],\n",
    "    [ -1, 4, -3],\n",
    "])\n",
    "a2 = np.array([\n",
    "    [3,  -4, -1],\n",
    "    [1,  -1, -2],\n",
    "    [2,  4, -3],\n",
    "])\n",
    "a3 = np.array([\n",
    "    [3, -3,  -1],\n",
    "    [1, -1,  -2],\n",
    "    [2, -1, -3],\n",
    "])"
   ]
  },
  {
   "cell_type": "code",
   "execution_count": 8,
   "metadata": {},
   "outputs": [
    {
     "ename": "NameError",
     "evalue": "name 'np' is not defined",
     "output_type": "error",
     "traceback": [
      "\u001b[0;31m---------------------------------------------------------------------------\u001b[0m",
      "\u001b[0;31mNameError\u001b[0m                                 Traceback (most recent call last)",
      "\u001b[0;32m<ipython-input-8-360ce8a559be>\u001b[0m in \u001b[0;36m<module>\u001b[0;34m\u001b[0m\n\u001b[0;32m----> 1\u001b[0;31m \u001b[0md0\u001b[0m \u001b[0;34m=\u001b[0m \u001b[0mnp\u001b[0m\u001b[0;34m.\u001b[0m\u001b[0mlinalg\u001b[0m\u001b[0;34m.\u001b[0m\u001b[0mdet\u001b[0m\u001b[0;34m(\u001b[0m\u001b[0ma0\u001b[0m\u001b[0;34m)\u001b[0m\u001b[0;34m\u001b[0m\u001b[0;34m\u001b[0m\u001b[0m\n\u001b[0m\u001b[1;32m      2\u001b[0m \u001b[0mprint\u001b[0m\u001b[0;34m(\u001b[0m\u001b[0;34m'd0='\u001b[0m\u001b[0;34m,\u001b[0m \u001b[0md0\u001b[0m\u001b[0;34m)\u001b[0m\u001b[0;34m\u001b[0m\u001b[0;34m\u001b[0m\u001b[0m\n\u001b[1;32m      3\u001b[0m \u001b[0md1\u001b[0m \u001b[0;34m=\u001b[0m \u001b[0mnp\u001b[0m\u001b[0;34m.\u001b[0m\u001b[0mlinalg\u001b[0m\u001b[0;34m.\u001b[0m\u001b[0mdet\u001b[0m\u001b[0;34m(\u001b[0m\u001b[0ma1\u001b[0m\u001b[0;34m)\u001b[0m\u001b[0;34m\u001b[0m\u001b[0;34m\u001b[0m\u001b[0m\n\u001b[1;32m      4\u001b[0m \u001b[0mprint\u001b[0m\u001b[0;34m(\u001b[0m\u001b[0;34m'd1='\u001b[0m\u001b[0;34m,\u001b[0m \u001b[0md1\u001b[0m\u001b[0;34m)\u001b[0m\u001b[0;34m\u001b[0m\u001b[0;34m\u001b[0m\u001b[0m\n\u001b[1;32m      5\u001b[0m \u001b[0md2\u001b[0m \u001b[0;34m=\u001b[0m \u001b[0mnp\u001b[0m\u001b[0;34m.\u001b[0m\u001b[0mlinalg\u001b[0m\u001b[0;34m.\u001b[0m\u001b[0mdet\u001b[0m\u001b[0;34m(\u001b[0m\u001b[0ma2\u001b[0m\u001b[0;34m)\u001b[0m\u001b[0;34m\u001b[0m\u001b[0;34m\u001b[0m\u001b[0m\n",
      "\u001b[0;31mNameError\u001b[0m: name 'np' is not defined"
     ]
    }
   ],
   "source": [
    "d0 = np.linalg.det(a0)\n",
    "print('d0=', d0)\n",
    "d1 = np.linalg.det(a1)\n",
    "print('d1=', d1)\n",
    "d2 = np.linalg.det(a2)\n",
    "print('d2=', d2)\n",
    "d3 = np.linalg.det(a3)\n",
    "print('d3=', d3)"
   ]
  },
  {
   "cell_type": "code",
   "execution_count": 6,
   "metadata": {},
   "outputs": [
    {
     "name": "stdout",
     "output_type": "stream",
     "text": [
      "x= -24.00000000000002\n",
      "y= -31.00000000000002\n",
      "z= 5.000000000000002\n"
     ]
    }
   ],
   "source": [
    "x = -d1/d0\n",
    "print('x=', x)\n",
    "y = d2/d0\n",
    "print('y=', y)\n",
    "z = -d3/d0\n",
    "print('z=', z)"
   ]
  },
  {
   "cell_type": "code",
   "execution_count": 7,
   "metadata": {},
   "outputs": [
    {
     "data": {
      "text/plain": [
       "0.9999999999999929"
      ]
     },
     "execution_count": 7,
     "metadata": {},
     "output_type": "execute_result"
    }
   ],
   "source": [
    "3*(x)+-3*(y)+-4*z"
   ]
  },
  {
   "cell_type": "code",
   "execution_count": 23,
   "metadata": {},
   "outputs": [],
   "source": [
    "M=np.array([\n",
    "   [3.0,-3.0,-4.0,1.0],\n",
    "   [1,-1,-1,2],\n",
    "   [2,-1,4,3]\n",
    "   ])"
   ]
  },
  {
   "cell_type": "code",
   "execution_count": 24,
   "metadata": {},
   "outputs": [
    {
     "data": {
      "text/plain": [
       "array([[ 3., -3., -4.,  1.],\n",
       "       [ 1., -1., -1.,  2.],\n",
       "       [ 2., -1.,  4.,  3.]])"
      ]
     },
     "execution_count": 24,
     "metadata": {},
     "output_type": "execute_result"
    }
   ],
   "source": [
    "M"
   ]
  },
  {
   "cell_type": "code",
   "execution_count": 25,
   "metadata": {},
   "outputs": [],
   "source": [
    "p=0\n",
    "i=p+1"
   ]
  },
  {
   "cell_type": "code",
   "execution_count": 26,
   "metadata": {},
   "outputs": [
    {
     "data": {
      "text/plain": [
       "array([[ 3.        , -3.        , -4.        ,  1.        ],\n",
       "       [ 0.        ,  0.        ,  0.33333333,  1.66666667],\n",
       "       [ 2.        , -1.        ,  4.        ,  3.        ]])"
      ]
     },
     "execution_count": 26,
     "metadata": {},
     "output_type": "execute_result"
    }
   ],
   "source": [
    "\n",
    "M[i,:]=M[i,:]-(M[p,:]*M[i,p]/M[p,p])\n",
    "M"
   ]
  },
  {
   "cell_type": "code",
   "execution_count": 27,
   "metadata": {},
   "outputs": [
    {
     "data": {
      "text/plain": [
       "array([[ 3.        , -3.        , -4.        ,  1.        ],\n",
       "       [ 0.        ,  0.        ,  0.33333333,  1.66666667],\n",
       "       [ 0.        ,  1.        ,  6.66666667,  2.33333333]])"
      ]
     },
     "execution_count": 27,
     "metadata": {},
     "output_type": "execute_result"
    }
   ],
   "source": [
    "i=i+1\n",
    "M[i,:]=M[i,:]-(M[p,:]*M[i,p]/M[p,p])\n",
    "M"
   ]
  },
  {
   "cell_type": "code",
   "execution_count": 28,
   "metadata": {},
   "outputs": [
    {
     "data": {
      "text/plain": [
       "5.0606060606060606"
      ]
     },
     "execution_count": 28,
     "metadata": {},
     "output_type": "execute_result"
    }
   ],
   "source": [
    "1.67/0.33"
   ]
  },
  {
   "cell_type": "code",
   "execution_count": 30,
   "metadata": {},
   "outputs": [
    {
     "data": {
      "text/plain": [
       "-31.4202"
      ]
     },
     "execution_count": 30,
     "metadata": {},
     "output_type": "execute_result"
    }
   ],
   "source": [
    "2.33-(6.67*5.06)"
   ]
  },
  {
   "cell_type": "code",
   "execution_count": 35,
   "metadata": {},
   "outputs": [
    {
     "data": {
      "text/plain": [
       "-24.340000000000003"
      ]
     },
     "execution_count": 35,
     "metadata": {},
     "output_type": "execute_result"
    }
   ],
   "source": [
    "(1-(-3*(-31.42))-(-4*5.06))/3"
   ]
  },
  {
   "cell_type": "code",
   "execution_count": 36,
   "metadata": {},
   "outputs": [
    {
     "data": {
      "text/plain": [
       "0.99"
      ]
     },
     "execution_count": 36,
     "metadata": {},
     "output_type": "execute_result"
    }
   ],
   "source": [
    "3*1*.33"
   ]
  },
  {
   "cell_type": "code",
   "execution_count": 37,
   "metadata": {},
   "outputs": [
    {
     "data": {
      "text/plain": [
       "array([[ 3, -3, -4],\n",
       "       [ 1, -1, -1],\n",
       "       [ 2, -1,  4]])"
      ]
     },
     "execution_count": 37,
     "metadata": {},
     "output_type": "execute_result"
    }
   ],
   "source": [
    "a0"
   ]
  },
  {
   "cell_type": "code",
   "execution_count": 40,
   "metadata": {},
   "outputs": [
    {
     "data": {
      "text/plain": [
       "array([[  5., -16.,   1.],\n",
       "       [  6., -20.,   1.],\n",
       "       [ -1.,   3.,   0.]])"
      ]
     },
     "execution_count": 40,
     "metadata": {},
     "output_type": "execute_result"
    }
   ],
   "source": [
    "a_inv = np.linalg.inv(a0)\n",
    "a_inv"
   ]
  },
  {
   "cell_type": "code",
   "execution_count": null,
   "metadata": {},
   "outputs": [],
   "source": []
  }
 ],
 "metadata": {
  "interpreter": {
   "hash": "916dbcbb3f70747c44a77c7bcd40155683ae19c65e1c03b4aa3499c5328201f1"
  },
  "kernelspec": {
   "display_name": "Python 3",
   "language": "python",
   "name": "python3"
  },
  "language_info": {
   "codemirror_mode": {
    "name": "ipython",
    "version": 3
   },
   "file_extension": ".py",
   "mimetype": "text/x-python",
   "name": "python",
   "nbconvert_exporter": "python",
   "pygments_lexer": "ipython3",
   "version": "3.8.5"
  }
 },
 "nbformat": 4,
 "nbformat_minor": 4
}
