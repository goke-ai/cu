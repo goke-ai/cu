{
 "metadata": {
  "language_info": {
   "codemirror_mode": {
    "name": "ipython",
    "version": 3
   },
   "file_extension": ".py",
   "mimetype": "text/x-python",
   "name": "python",
   "nbconvert_exporter": "python",
   "pygments_lexer": "ipython3",
   "version": "3.8.5"
  },
  "orig_nbformat": 4,
  "kernelspec": {
   "name": "python3",
   "display_name": "Python 3.8.5 64-bit"
  },
  "interpreter": {
   "hash": "916dbcbb3f70747c44a77c7bcd40155683ae19c65e1c03b4aa3499c5328201f1"
  }
 },
 "nbformat": 4,
 "nbformat_minor": 2,
 "cells": [
  {
   "source": [
    "# Matrices  \n",
    "\n",
    "Olagoke Oladokun  \n",
    "Covenant University, Ota, Nigeria  \n",
    "\n",
    "©2021  \n"
   ],
   "cell_type": "markdown",
   "metadata": {}
  },
  {
   "source": [
    "## GEC220  \n",
    "## Engineering Mathematics II  \n",
    "\n",
    "\n",
    "Matrices and Determinants: Solution of system of linear equations by determinants. Linear dependence and independence, rank of a matrix. General system of linear equations, existence and properties of solution, Gaussian elimination. Matrix inverse by elementary matrices, adjoint, and partitioning methods. Characteristic polynomial, characteristic equation, eigenvalues and eigenvectors.  \n",
    "\n"
   ],
   "cell_type": "markdown",
   "metadata": {}
  },
  {
   "cell_type": "code",
   "execution_count": null,
   "metadata": {},
   "outputs": [],
   "source": []
  },
  {
   "source": [
    " \n",
    "GEC220\n",
    "Engineering Mathematics II \n",
    "3 Units\n",
    "LH 45\n",
    "Lecturers\n",
    "\tProf. Vincent \n",
    "\tDr. Adeeyo\n",
    "\tDr. Olagoke\n",
    "\n",
    "Partial Differentiation: Functions of several variables, continuity and partial derivatives. Total differentials, approximate calculations using differentials. Chain rule. Implicit differentiation. Series representation of functions (Maclaurin & Taylor’s), Taylor’s Theorem. Extremum problems, (analytic method) without and with constraints, Lagrange multipliers, global extremum. Ordinary Differential Equations: Definition, degree, order, linear, non-linear, solution. First order equations, separable variables, equations reducible to separable form, exact equations, integrating factors, homogenous differential equations. Modeling of engineering systems leading to first order differential equations- electric circuit, mixing/dilution, radioactive decay, bacterial culture. 2nd order differential equations with constant coefficients, homogeneous, non-homogeneous, complementary functions, particular integrals, D-operator method. General linear second-order differential equations (without using matrices). Power series solution, Legendre’s differential equation. Modeling of engineering systems leading to 2nd order differential equations- electric circuit, mechanical oscillations-free and forced, resonance. Pre-requisites: MAT 121 and MAT 122.\n",
    "Matrices and Determinants: Solution of system of linear equations by determinants. Linear dependence and independence, rank of a matrix. General system of linear equations, existence and properties of solution, Gaussian elimination. Matrix inverse by elementary matrices, adjoint, and partitioning methods. Characteristic polynomial, characteristic equation, eigenvalues and eigenvectors.\n"
   ],
   "cell_type": "markdown",
   "metadata": {}
  },
  {
   "source": [
    "Contents\n",
    "1\tMatrices\t6\n",
    "1.1\tMatrix notation\t7\n",
    "1.2\tAddition and Subtraction of Matrices\t7\n",
    "1.3\tMultiplication of Matrices\t8\n",
    "1.3.1\tScalar Multiplication\t8\n",
    "1.3.2\tTwo matrices multiplication\t8\n",
    "1.4\tTranspose of matrix\t10\n",
    "1.5\tSquare matrix\t10\n",
    "1.5.1\tSymmetry matrix\t10\n",
    "1.6\tTriangular matrix\t11\n",
    "1.7\tDiagonal matrix\t11\n",
    "1.8\tUnit matrix\t11\n",
    "1.9\tNull matrix\t12\n",
    "2\tDeterminants\t13\n",
    "2.1\tDeterminants of the second order\t13\n",
    "2.2\tDeterminants of the third order\t14\n",
    "3\tSolution of system of linear equations by determinants\t17\n",
    "3.1\tDeterminant Equation Method\t18\n",
    "3.1.1\tSecondary Degree\t18\n",
    "3.1.2\tThird Degree\t19\n",
    "3.2\tCramers Rule\t22\n",
    "3.2.1\tFor second degree\t22\n",
    "3.2.2\tThird degree\t22\n",
    "4\tLinear dependence and independence\t25\n",
    "5\tRank of a matrix\t27\n",
    "6\tGeneral system of linear equations,\t28\n",
    "7\tExistence and properties of solution\t31\n",
    "7.1\tExistence of solution\t31\n",
    "7.2\tOther properties of the solution\t31\n",
    "8\tGaussian elimination.\t33\n",
    "8.1\tAlgorithm of Gaussian Elimination\t33\n",
    "8.2\tDeterminant from Gaussian Elimination\t38\n",
    "9\tMatrix inverse by elementary matrices, adjoint, and partitioning methods.\t39\n",
    "9.1\tInverse of a square matrix\t39\n",
    "9.2\tCofactors\t39\n",
    "9.3\tAdjoint\t41\n",
    "10\tEigenvalues and Eigenvectors.\t43\n",
    "10.1\tEigenvalues\t43\n",
    "10.1.1\tExample\t43\n",
    "10.2\tEigenvectors\t44\n",
    "10.2.1\tExample\t44\n"
   ],
   "cell_type": "markdown",
   "metadata": {}
  },
  {
   "source": [
    "# Matrices"
   ],
   "cell_type": "markdown",
   "metadata": {}
  },
  {
   "source": [
    "A matrix is a set of real or complex numbers (or elements) arranged in rows and columns to form a rectangular array.\n",
    "A matrix can be identified by its order denoted as $m \\times n \\quad (m \\ by \\ n)$ matrix.  \n",
    "\n",
    "$$\n",
    "\\left[\\begin{matrix}3&-3&-4\\\\1&-1&-1\\\\2&-1&4\\\\\\end{matrix}\\right]\t\n",
    "$$  \n",
    "\n",
    "What is the order of matrix above?. Matrix  has order $3\\times 3$. The number of rows of A, $m = 3$ and number of column, $n = 3$  \n"
   ],
   "cell_type": "markdown",
   "metadata": {}
  },
  {
   "cell_type": "code",
   "execution_count": 42,
   "metadata": {},
   "outputs": [
    {
     "output_type": "stream",
     "name": "stdout",
     "text": [
      "===============================\nmatrix A =\n[[ 3 -3 -4]\n [ 1 -1 -1]\n [ 2 -1  4]]\n\nmxn = (3, 3)\n===============================\n"
     ]
    }
   ],
   "source": [
    "import numpy as np\n",
    "\n",
    "A = np.array([\n",
    "    [3,-3,-4],\n",
    "    [1,-1,-1],\n",
    "    [2,-1,4]\n",
    "])\n",
    "\n",
    "print('===============================')\n",
    "print('matrix A =')\n",
    "print(A)\n",
    "print()\n",
    "print('mxn =', np.shape(A))\n",
    "print('===============================')"
   ]
  },
  {
   "source": [
    "Similarly, the matrix $C$ below is of order $4\\times2$  \n",
    "\n",
    "$$\n",
    "\\left[\\begin{matrix}\\begin{matrix}1&2\\\\\\end{matrix}\\\\\\begin{matrix}4&3\\\\-1&-5\\\\3&3\\\\\\end{matrix}\\\\\\end{matrix}\\right]=m\\times n=4\\times2\t\n",
    "$$\n",
    "$$\n",
    "C=\\left[\\begin{matrix}\\begin{matrix}1&2\\\\\\end{matrix}\\\\\\begin{matrix}4&3\\\\-1&-5\\\\3&3\\\\\\end{matrix}\\\\\\end{matrix}\\right]=m\\times n=4\\times2\t\n",
    "$$"
   ],
   "cell_type": "markdown",
   "metadata": {}
  },
  {
   "cell_type": "code",
   "execution_count": 43,
   "metadata": {},
   "outputs": [
    {
     "output_type": "stream",
     "name": "stdout",
     "text": [
      "===============================\nmatrix C =\n [[ 1  2]\n [ 4  3]\n [-1 -5]\n [ 3  3]]\n\nmxn = (4, 2)\n===============================\n"
     ]
    }
   ],
   "source": [
    "import numpy as np\n",
    "\n",
    "C = np.array([\n",
    "    [1,2], [4,3],[-1,-5], [3,3],\n",
    "])\n",
    "\n",
    "print('===============================')\n",
    "print('matrix C =\\n', C)\n",
    "print()\n",
    "print('mxn =', np.shape(C))\n",
    "print('===============================')\n"
   ]
  },
  {
   "source": [
    "## Matrix notation  \n",
    "\n",
    "$$\n",
    "A=\\left[\n",
    "    \\begin{matrix}\n",
    "        a_{11}&a_{12}&a_{13}\\\\\n",
    "        a_{21}&a_{22}&a_{23}\\\\\n",
    "        a_{31}&a_{32}&a_{33}\\\\\n",
    "    \\end{matrix}\n",
    "    \\right]\t\n",
    "$$\n",
    "Matrix $A$ is of order $3 \\times 3$ with elements $a_{ij}$ where $i$ and $j$ represents the index of the row and column it belongs in the matrix."
   ],
   "cell_type": "markdown",
   "metadata": {}
  },
  {
   "source": [
    "## Addition and Subtraction of Matrices\n",
    "\n",
    "Addition and subtraction of two matrices can only be achieved if they are the same order.\n",
    "$$\n",
    "A\\pm B\n",
    "$$\n",
    "\n",
    "Only possible if  \n",
    "$$\n",
    "\\left.A\\right|m{==}\\left.B\\right|m\\ \\\\ and \\\\  \\left.A\\right|n{==}\\left.B\\right|n\t\n",
    "$$\n",
    "\n",
    "Example\n",
    "\n",
    "$$\n",
    "A=\\left[\\begin{matrix}1&-3\\\\4&-2\\\\\\end{matrix}\\right]\t\n",
    "$$\n",
    "$$\n",
    "B=\\left[\\begin{matrix}2&-3\\\\4.1&-4.5\\\\\\end{matrix}\\right]\t\n",
    "$$\n",
    "Then \n",
    "Check the order of $A (2 \\times 2)$ and compare to order $B (2 \\times 2)$?\n",
    "Since they are both equal the addition and subtraction is possible.\n",
    "\n",
    "$$\n",
    "\\left[\\begin{matrix}1&-3\\\\4&-2\\\\\\end{matrix}\\right]+\\left[\\begin{matrix}2&-3\\\\4.1&-4.5\\\\\\end{matrix}\\right]=\\left[\\begin{matrix}3&-6\\\\8.1&-6.5\\\\\\end{matrix}\\right]\t\n",
    "$$\n",
    "$$\n",
    "\\left[\\begin{matrix}1&-3\\\\4&-2\\\\\\end{matrix}\\right]-\\left[\\begin{matrix}2&-3\\\\4.1&-4.5\\\\\\end{matrix}\\right]=\\left[\\begin{matrix}-1&0\\\\-0.1&2.5\\\\\\end{matrix}\\right]\t\n",
    "$$\n",
    "\n"
   ],
   "cell_type": "markdown",
   "metadata": {}
  },
  {
   "cell_type": "code",
   "execution_count": 44,
   "metadata": {},
   "outputs": [
    {
     "output_type": "stream",
     "name": "stdout",
     "text": [
      "============================\nsum = \n [[ 3.  -6. ]\n [ 8.1 -6.5]]\n\ndiff = \n [[-1.   0. ]\n [-0.1  2.5]]\n============================\n"
     ]
    }
   ],
   "source": [
    "import numpy as np\n",
    "\n",
    "A = np.array([[1,-3],[4,-2]])\n",
    "B = np.array([[2,-3],[4.1,-4.5]])\n",
    "\n",
    "sum = A + B\n",
    "diff = A - B\n",
    "\n",
    "print('============================')\n",
    "\n",
    "print('sum = \\n', sum)\n",
    "print()\n",
    "print('diff = \\n', diff)\n",
    "\n",
    "print('============================')\n"
   ]
  },
  {
   "source": [
    "## Multiplication of Matrices  \n",
    "### Scalar Multiplication\n",
    "\n",
    "$$ \n",
    "4\\times A= 4\\times\\left[\n",
    "    \\begin{matrix}\n",
    "    1&-3 \\\\\n",
    "    4&-2 \\\\\n",
    "    \\end{matrix}\n",
    "    \\right]\n",
    "    =\n",
    "    \\left[\n",
    "        \\begin{matrix}\n",
    "        4&-12\\\\\n",
    "        16&-8\\\\\n",
    "        \\end{matrix}\n",
    "    \\right]\n",
    "$$ "
   ],
   "cell_type": "markdown",
   "metadata": {}
  },
  {
   "cell_type": "code",
   "execution_count": 45,
   "metadata": {},
   "outputs": [
    {
     "output_type": "stream",
     "name": "stdout",
     "text": [
      "============================\nA= \n[[ 1 -3]\n [ 4 -2]]\n4*A =\n [[  4 -12]\n [ 16  -8]]\n============================\n"
     ]
    }
   ],
   "source": [
    "import numpy as np\n",
    "\n",
    "A = np.array(\n",
    "    [\n",
    "        [1, -3],\n",
    "        [4, -2]\n",
    "    ])\n",
    "\n",
    "prod = 4*A\n",
    "\n",
    "print('============================')\n",
    "print('A= ')\n",
    "print(A)\n",
    "print('4*A =\\n', prod)\n",
    "print('============================')\n"
   ]
  },
  {
   "source": [
    "## Two matrices multiplication  \n",
    "To multiply any two matrices the number of columns in the first matrix must be equal to the number of rows of the second matrix. The product matrix will have number of rows of the first matrix and number of columns of the second matrix\n",
    "$$\n",
    "A\\times B =P\n",
    "$$\n",
    "Is possible if and only if\n",
    "$$\n",
    "    A|n == B|m \\quad \\Rightarrow \\quad P=A|m\\times B|n\n",
    "$$"
   ],
   "cell_type": "markdown",
   "metadata": {}
  },
  {
   "source": [
    "Example\n",
    "$$\n",
    "C=\\left[\\begin{matrix}\\begin{matrix}1&2\\\\\\end{matrix}\\\\\\begin{matrix}4&3\\\\-1&-5\\\\3&3\\\\\\end{matrix}\\\\\\end{matrix}\\right]=m\\times n=4\\times2\t\n",
    "$$\n",
    "$$\n",
    "A=\\left[\\begin{matrix}1&-3\\\\4&-2\\\\\\end{matrix}\\right]=m\\times n=2\\times2\n",
    "$$\t\n",
    "\n",
    "$$\n",
    "A\\times C \\\\\n",
    "(2\\times2)\\ \\times(4\\times2) \\\\\n",
    "2\\times(2\\neq4)\\times2 \n",
    "$$\n",
    "  \n",
    "$$\n",
    "(2\\neq4)∶\\ A\\times C \\textrm{ is not possible.}\n",
    "$$\n"
   ],
   "cell_type": "markdown",
   "metadata": {}
  },
  {
   "cell_type": "code",
   "execution_count": 46,
   "metadata": {},
   "outputs": [
    {
     "output_type": "error",
     "ename": "ValueError",
     "evalue": "matmul: Input operand 1 has a mismatch in its core dimension 0, with gufunc signature (n?,k),(k,m?)->(n?,m?) (size 4 is different from 2)",
     "traceback": [
      "\u001b[0;31m---------------------------------------------------------------------------\u001b[0m",
      "\u001b[0;31mValueError\u001b[0m                                Traceback (most recent call last)",
      "\u001b[0;32m<ipython-input-46-df629c1bc95c>\u001b[0m in \u001b[0;36m<module>\u001b[0;34m\u001b[0m\n\u001b[1;32m     17\u001b[0m )\n\u001b[1;32m     18\u001b[0m \u001b[0;34m\u001b[0m\u001b[0m\n\u001b[0;32m---> 19\u001b[0;31m \u001b[0mP\u001b[0m \u001b[0;34m=\u001b[0m \u001b[0mA\u001b[0m \u001b[0;34m@\u001b[0m \u001b[0mC\u001b[0m\u001b[0;34m\u001b[0m\u001b[0;34m\u001b[0m\u001b[0m\n\u001b[0m",
      "\u001b[0;31mValueError\u001b[0m: matmul: Input operand 1 has a mismatch in its core dimension 0, with gufunc signature (n?,k),(k,m?)->(n?,m?) (size 4 is different from 2)"
     ]
    }
   ],
   "source": [
    "import numpy as np\n",
    "\n",
    "C = np.array(\n",
    "    [\n",
    "        [1,2],\n",
    "        [4,3],\n",
    "        [-1,-5],\n",
    "        [3,3],\n",
    "    ]\n",
    ")\n",
    "\n",
    "A = np.array(\n",
    "    [\n",
    "        [1,-3],\n",
    "        [4,-2]\n",
    "    ]\n",
    ")\n",
    "\n",
    "P = A @ C"
   ]
  },
  {
   "source": [
    "Interchanging \n",
    "$$\n",
    "C\\times A \\\\\n",
    "(4\\times2)\\ \\times(2\\times2) \\\\\n",
    "4\\times(2=2)\\times2 \\\\\n",
    "$$\n",
    "$$\n",
    "(2=4)∶\\ C\\times A \\textrm{ is possible.} \\\\\n",
    "C\\times A\\equiv4\\times2\t\n",
    "$$"
   ],
   "cell_type": "markdown",
   "metadata": {}
  },
  {
   "source": [
    "Let’s carryout the multiplication.\n",
    "$$\n",
    "C\\times A=\\left[\\begin{matrix}\\begin{matrix}c_{11}&c_{12}\\\\\\end{matrix}\\\\\\begin{matrix}c_{21}&c_{22}\\\\c_{31}&c_{32}\\\\c_{41}&c_{42}\\\\\\end{matrix}\\\\\\end{matrix}\\right]\\times\\left[\\begin{matrix}a_{11}&a_{12}\\\\a_{21}&a_{22}\\\\\\end{matrix}\\right]\n",
    "$$"
   ],
   "cell_type": "markdown",
   "metadata": {}
  },
  {
   "source": [
    "$$\n",
    "C\\times A=\\left[\\begin{matrix}\\begin{matrix}c_{11}a_{11}+c_{12}a_{21}&c_{11}a_{12}+c_{12}a_{22}\\\\\\end{matrix}\\\\\\begin{matrix}c_{21}a_{11}+c_{22}a_{21}&c_{21}a_{12}+c_{22}a_{22}\\\\c_{31}a_{11}+c_{32}a_{21}&c_{31}a_{12}+c_{32}a_{22}\\\\c_{41}a_{11}+c_{42}a_{21}&c_{41}a_{12}+c_{42}a_{22}\\\\\\end{matrix}\\\\\\end{matrix}\\right]\t\n",
    "$$"
   ],
   "cell_type": "markdown",
   "metadata": {}
  },
  {
   "source": [
    "$$\n",
    "C\\times A=\\left[\\begin{matrix}\\begin{matrix}1\\times1+2\\times4\\ \\ \\ \\ \\ \\ &1\\times-3+2\\times-2\\\\\\end{matrix}\\\\\\begin{matrix}4\\times1+3\\times4&4\\times-3+3\\times-2\\\\-1\\times1+-5\\times4&-1\\times-3+-5\\times-2\\\\3\\times1+3\\times4&3\\times-3+3\\times-2\\\\\\end{matrix}\\\\\\end{matrix}\\right]=\\left[\\begin{matrix}\\begin{matrix}9&-7\\\\\\end{matrix}\\\\\\begin{matrix}16&-18\\\\-21&13\\\\15&-15\\\\\\end{matrix}\\\\\\end{matrix}\\right]\t\n",
    "$$"
   ],
   "cell_type": "markdown",
   "metadata": {}
  },
  {
   "cell_type": "code",
   "execution_count": 7,
   "metadata": {},
   "outputs": [
    {
     "output_type": "stream",
     "name": "stdout",
     "text": [
      "=========================\nP=\n [[  9  -7]\n [ 16 -18]\n [-21  13]\n [ 15 -15]]\n=========================\n"
     ]
    }
   ],
   "source": [
    "import numpy as np\n",
    "\n",
    "C = np.array(\n",
    "    [\n",
    "        [1,2],\n",
    "        [4,3],\n",
    "        [-1,-5],\n",
    "        [3,3],\n",
    "    ]\n",
    ")\n",
    "\n",
    "A = np.array(\n",
    "    [\n",
    "        [1,-3],\n",
    "        [4,-2]\n",
    "    ]\n",
    ")\n",
    "\n",
    "P = C @ A\n",
    "\n",
    "print('=========================')\n",
    "print('P=\\n', P)\n",
    "print('=========================')\n"
   ]
  },
  {
   "source": [
    "## Transpose of matrix\n",
    "Interchanging the rows and columns of a matrix is called transpose.\n",
    "$$\n",
    "A=\\left[\\begin{matrix}1&-3\\\\4&-2\\\\\\end{matrix}\\right]\t\n",
    "$$\n",
    "$$\n",
    "A^T=\\left[\\begin{matrix}1&4\\\\-3&-2\\\\\\end{matrix}\\right]\t\n",
    "$$\n"
   ],
   "cell_type": "markdown",
   "metadata": {}
  },
  {
   "cell_type": "code",
   "execution_count": 11,
   "metadata": {},
   "outputs": [
    {
     "output_type": "stream",
     "name": "stdout",
     "text": [
      "=========================\nA=\n [[ 1 -3]\n [ 4 -2]]\nA^T=\n [[ 1  4]\n [-3 -2]]\n\nC=\n [[ 1  2]\n [ 4  3]\n [-1 -5]\n [ 3  3]]\nC^T=\n [[ 1  4 -1  3]\n [ 2  3 -5  3]]\n=========================\n"
     ]
    }
   ],
   "source": [
    "import numpy as np\n",
    "\n",
    "C = np.array(\n",
    "    [\n",
    "        [1,2],\n",
    "        [4,3],\n",
    "        [-1,-5],\n",
    "        [3,3],\n",
    "    ]\n",
    ")\n",
    "\n",
    "A = np.array(\n",
    "    [\n",
    "        [1,-3],\n",
    "        [4,-2]\n",
    "    ]\n",
    ")\n",
    "\n",
    "Atrp = np.transpose(A)\n",
    "\n",
    "print('=========================')\n",
    "print('A=\\n', A)\n",
    "print('A^T=\\n', Atrp)\n",
    "print()\n",
    "print('C=\\n', C)\n",
    "print('C^T=\\n', np.transpose(C))\n",
    "print('=========================')\n"
   ]
  },
  {
   "source": [
    "## Square matrix\n",
    "Square matrix is a matrix of order $m \\times m$ or $n \\times n$. It contains same number of rows and columns.\n",
    "\n",
    "$$\n",
    "A=  \\left[\n",
    "        \\begin{matrix}\n",
    "            a_{11} & a_{12} & \\cdots & a_{1n}\\\\\n",
    "            a_{21} & a_{22} & \\cdots & a_{2n}\\\\\n",
    "            \\vdots & \\vdots & \\ddots & \\vdots \\\\\n",
    "            a_{n1} & a_{n2} & \\cdots & a_{nn}\\\\\n",
    "        \\end{matrix}\n",
    "    \\right]\n",
    "    =n\\times n\n",
    "    =m\\times m\t\n",
    "$$\n",
    "$$\n",
    "A=\\left[\\begin{matrix}3&-3&-4\\\\1&-1&-1\\\\2&-1&4\\\\\\end{matrix}\\right]=3\\times3\t\n",
    "$$\n"
   ],
   "cell_type": "markdown",
   "metadata": {}
  },
  {
   "cell_type": "code",
   "execution_count": 13,
   "metadata": {},
   "outputs": [
    {
     "output_type": "stream",
     "name": "stdout",
     "text": [
      "=========================\nA=\n [[ 3 -3 -4]\n [ 1 -1 -2]\n [ 2 -1  4]]\n\nmxn=  (3, 3)\n\nA^T=\n [[ 3  1  2]\n [-3 -1 -1]\n [-4 -2  4]]\n\nmxn=  (3, 3)\n=========================\n"
     ]
    }
   ],
   "source": [
    "import numpy as np\n",
    "\n",
    "A = np.array(\n",
    "    [\n",
    "        [3,-3,-4],\n",
    "        [1, -1, -2],\n",
    "        [2, -1, 4],\n",
    "    ]\n",
    ")\n",
    "\n",
    "Atrp = np.transpose(A)\n",
    "\n",
    "print('=========================')\n",
    "print('A=\\n', A)\n",
    "print('\\nmxn= ', np.shape(A))\n",
    "print()\n",
    "print('A^T=\\n', Atrp)\n",
    "print('\\nmxn= ', np.shape(Atrp))\n",
    "print('=========================')\n"
   ]
  },
  {
   "source": [
    "### Symmetry matrix \n",
    "A square matrix is symmetrical if   $a_{ij}=a_{ji}$, meaning $S=S^T$.\n",
    "$$\n",
    "S=\\left[\\begin{matrix}1&2&3\\\\2&4&5\\\\3&5&6\\\\\\end{matrix}\\right]\t\n",
    "$$\n",
    "$$\n",
    "S^T=\\left[\\begin{matrix}1&2&3\\\\2&4&5\\\\3&5&6\\\\\\end{matrix}\\right]\t\n",
    "$$"
   ],
   "cell_type": "markdown",
   "metadata": {}
  },
  {
   "cell_type": "code",
   "execution_count": 1,
   "metadata": {},
   "outputs": [
    {
     "output_type": "stream",
     "name": "stdout",
     "text": [
      "=========================\nS=\n [[1 2 3]\n [2 4 5]\n [3 5 6]]\n\nmxn=  (3, 3)\n\nS^T=\n [[1 2 3]\n [2 4 5]\n [3 5 6]]\n\nmxn=  (3, 3)\n\nS == S^T\n[[ True  True  True]\n [ True  True  True]\n [ True  True  True]]\n=========================\nA=\n [[ 3 -3 -4]\n [ 1 -1 -2]\n [ 2 -1  4]]\n\nmxn=  (3, 3)\n\nA^T=\n [[ 3  1  2]\n [-3 -1 -1]\n [-4 -2  4]]\n\nmxn=  (3, 3)\n\nA == A^T\n[[ True False False]\n [False  True False]\n [False False  True]]\n=========================\n"
     ]
    }
   ],
   "source": [
    "import numpy as np\n",
    "\n",
    "A = np.array(\n",
    "    [\n",
    "        [3,-3,-4],\n",
    "        [1, -1, -2],\n",
    "        [2, -1, 4],\n",
    "    ]\n",
    ")\n",
    "\n",
    "A_T = np.transpose(A)\n",
    "\n",
    "S = np.array(\n",
    "    [\n",
    "        [1, 2, 3],\n",
    "        [2, 4, 5],\n",
    "        [3, 5, 6],\n",
    "    ]\n",
    ")\n",
    "\n",
    "S_T = np.transpose(S)\n",
    "print('=========================')\n",
    "print('S=\\n', S)\n",
    "print('\\nmxn= ', np.shape(S))\n",
    "print()\n",
    "print('S^T=\\n', S_T)\n",
    "print('\\nmxn= ', np.shape(S_T))\n",
    "print() \n",
    "print('S == S^T')\n",
    "print(S == S_T)\n",
    "\n",
    "print('=========================')\n",
    "\n",
    "print('A=\\n', A)\n",
    "print('\\nmxn= ', np.shape(A))\n",
    "print()\n",
    "print('A^T=\\n', A_T)\n",
    "print('\\nmxn= ', np.shape(A_T))\n",
    "print()\n",
    "print('A == A^T')\n",
    "print(A == A_T)\n",
    "print('=========================')\n"
   ]
  },
  {
   "source": [
    "### Triangular matrix\n",
    "A triangular matrix is a square matrix with all elements below the leading diagonal equal to zero.\n",
    "$$\n",
    "A=\\left[\\begin{matrix}1&2&3\\\\0&4&5\\\\0&0&6\\\\\\end{matrix}\\right]\t\n",
    "$$"
   ],
   "cell_type": "markdown",
   "metadata": {}
  },
  {
   "source": [
    "### Diagonal matrix\n",
    "A diagonal matrix is a square matrix with all elements zero except the leading diagonal.\n",
    "$$\n",
    "A=\\left[\\begin{matrix}1&0&0\\\\0&4&0\\\\0&0&6\\\\\\end{matrix}\\right]\t\n",
    "$$"
   ],
   "cell_type": "markdown",
   "metadata": {}
  },
  {
   "source": [
    "### Unit matrix\n",
    "A Unit matrix is a special diagonal matrix with the leading diagonal element values all unity or ones. The unit matrix is denoted by I. \n",
    "$$\n",
    "\\mathbb{I}=\\left[\\begin{matrix}1&0&0\\\\0&1&0\\\\0&0&1\\\\\\end{matrix}\\right]\t\n",
    "$$\n"
   ],
   "cell_type": "markdown",
   "metadata": {}
  },
  {
   "source": [
    "#### Useful property\n",
    "A useful property\n",
    "$$\n",
    "A.I=I.A=A\t\n",
    "$$\n"
   ],
   "cell_type": "markdown",
   "metadata": {}
  },
  {
   "cell_type": "code",
   "execution_count": 2,
   "metadata": {},
   "outputs": [
    {
     "output_type": "stream",
     "name": "stdout",
     "text": [
      "=========================\nA =\n [[ 3 -3 -4]\n [ 1 -1 -2]\n [ 2 -1  4]]\n\nI =\n [[1. 0. 0.]\n [0. 1. 0.]\n [0. 0. 1.]]\n\nA * I=\n [[ 3. -3. -4.]\n [ 1. -1. -2.]\n [ 2. -1.  4.]]\n\nI * A=\n [[ 3. -3. -4.]\n [ 1. -1. -2.]\n [ 2. -1.  4.]]\n=========================\n"
     ]
    }
   ],
   "source": [
    "import numpy as np\n",
    "\n",
    "A = np.array(\n",
    "    [\n",
    "        [3,-3,-4],\n",
    "        [1, -1, -2],\n",
    "        [2, -1, 4],\n",
    "    ]\n",
    ")\n",
    "\n",
    "I = np.identity(3)\n",
    "\n",
    "print('=========================')\n",
    "print('A =\\n', A)\n",
    "print()\n",
    "print('I =\\n', I)\n",
    "print()\n",
    "print('A * I=\\n', A @ I)\n",
    "print()\n",
    "print('I * A=\\n', I @ A)\n",
    "print('=========================')\n"
   ]
  },
  {
   "source": [
    "## Null matrix\n",
    "A null matrix is one whose elements are all zero.\n",
    "$$\n",
    "N=\\left[\\begin{matrix}0&0&0\\\\0&0&0\\\\0&0&0\\\\\\end{matrix}\\right]\t\n",
    "$$"
   ],
   "cell_type": "markdown",
   "metadata": {}
  },
  {
   "source": [
    "#### Useful property\n",
    "A useful property\n",
    "$$\n",
    "A.B=0\n",
    "$$\n",
    "we cannot say $A=0$ or $B=0$\t\n"
   ],
   "cell_type": "markdown",
   "metadata": {}
  },
  {
   "cell_type": "code",
   "execution_count": 3,
   "metadata": {},
   "outputs": [
    {
     "output_type": "stream",
     "name": "stdout",
     "text": [
      "=========================\nA =\n [[ 3 -3 -4]\n [ 1 -1 -2]\n [ 2 -1  4]]\n\nN =\n [0. 0. 0.]\n\nA * N=\n [0. 0. 0.]\n\nN * A=\n [0. 0. 0.]\n=========================\n"
     ]
    }
   ],
   "source": [
    "import numpy as np\n",
    "\n",
    "A = np.array(\n",
    "    [\n",
    "        [3,-3,-4],\n",
    "        [1, -1, -2],\n",
    "        [2, -1, 4],\n",
    "    ]\n",
    ")\n",
    "\n",
    "N = np.zeros(3)\n",
    "\n",
    "print('=========================')\n",
    "print('A =\\n', A)\n",
    "print()\n",
    "print('N =\\n', N)\n",
    "print()\n",
    "print('A * N=\\n', A @ N)\n",
    "print()\n",
    "print('N * A=\\n', N @ A)\n",
    "print('=========================')\n"
   ]
  },
  {
   "source": [
    "# Determinants"
   ],
   "cell_type": "markdown",
   "metadata": {}
  },
  {
   "source": [
    "The arrangement of numbers in an equal rows and columns bounded by a straight bar is called determinant.\n",
    "\n",
    "$$\n",
    "\\left|\\begin{matrix}a_{11}&a_{12}\\\\a_{21}&a_{22}\\\\\\end{matrix}\\right|\t\n",
    "$$"
   ],
   "cell_type": "markdown",
   "metadata": {}
  },
  {
   "source": [
    "## Determinants of the second order\n",
    "The symbol above is determinant of a $2\\times 2$ (two by two matrix) with element $a_{11}$ on row 1 and column 1 and $a_{12}$  is element on row 1 and column 2.  It means each element is identified by row and column number subscript $i \\textrm{and} j: a_{ij}$.  \n",
    "\n",
    "By definition,\n",
    "$$\n",
    "\\left|\\begin{matrix}a_{11}&a_{12}\\\\a_{21}&a_{22}\\\\\\end{matrix}\\right|=a_{11}a_{22}-a_{12}a_{21}\t\n",
    "$$"
   ],
   "cell_type": "markdown",
   "metadata": {}
  },
  {
   "source": [
    "To find determinant of \n",
    "$$\n",
    "\\left|\\begin{matrix}a_{11}&a_{12}\\\\a_{21}&a_{22}\\\\\\end{matrix}\\right| \n",
    "$$  \n",
    "\n",
    "we must multiply the elements diagonally to form the product terms in the expansion: \n",
    "\n",
    "$$\n",
    "\\textrm{we multiply }\n",
    "\\left|\n",
    "    \\begin{matrix}\n",
    "        a_{11} & \\\\\n",
    "        & a_{22}\\\\\n",
    "    \\end{matrix}\n",
    "\\right| \n",
    "\n",
    "\\textrm{ then subtract the product } \n",
    "\n",
    "\\left|\n",
    "    \\begin{matrix}\n",
    "         & a_{12}\\\\\n",
    "        a_{21} & \\\\\n",
    "    \\end{matrix}\n",
    "\\right|\n",
    "$$"
   ],
   "cell_type": "markdown",
   "metadata": {}
  },
  {
   "source": [
    "Note:  \n",
    "$a_{11}$ before $a_{12}$ i.e column 1 before 2.  \n",
    "\n",
    "$$\n",
    "\\left|\n",
    "    \\begin{matrix}\n",
    "        1 & -3\\\\\n",
    "        4 & -2\\\\\n",
    "    \\end{matrix}\n",
    "\\right|\n",
    "=(1)(-2)-(-3)(4)=-2+12=10\t\n",
    "$$\n",
    "\n",
    "Or\n",
    "\n",
    "$$\n",
    "\\left|\n",
    "    \\begin{matrix}\n",
    "        1&\\\\\n",
    "        &-2\\\\\n",
    "    \\end{matrix}\n",
    "\\right|\n",
    "-\n",
    "\\left|\n",
    "    \\begin{matrix}\n",
    "         & -3\\\\\n",
    "        4 & \\\\\n",
    "    \\end{matrix}\n",
    "\\right|\n",
    "= 1\\times -2 --3\\times 4 = 10\t\n",
    "$$\n"
   ],
   "cell_type": "markdown",
   "metadata": {}
  },
  {
   "cell_type": "code",
   "execution_count": 52,
   "metadata": {},
   "outputs": [],
   "source": [
    "# create a function for 2x2 determinant\n",
    "def det2(a):\n",
    "    d = (a[0,0]*a[1,1]) - (a[0,1]*a[1,0])\n",
    "    return d\n"
   ]
  },
  {
   "cell_type": "code",
   "execution_count": 53,
   "metadata": {},
   "outputs": [
    {
     "output_type": "stream",
     "name": "stdout",
     "text": [
      "determinant of \n [[ 1 -3]\n [ 4 -2]] = 10\n"
     ]
    }
   ],
   "source": [
    "import numpy as np\n",
    "# create our own 2x2 determinant\n",
    "\n",
    "a = np.array([\n",
    "    [1,-3],\n",
    "    [4,-2]\n",
    "])\n",
    "\n",
    "detA = det2(a)\n",
    "print('determinant of \\n', a, '=', detA)"
   ]
  },
  {
   "cell_type": "code",
   "execution_count": 54,
   "metadata": {},
   "outputs": [
    {
     "output_type": "stream",
     "name": "stdout",
     "text": [
      "determinant=  10.000000000000002\n"
     ]
    }
   ],
   "source": [
    "import numpy as np\n",
    "\n",
    "A = np.array([\n",
    "    [1,-3],\n",
    "    [4,-2]\n",
    "])\n",
    "\n",
    "# using in-built function in numpy\n",
    "detA = np.linalg.det(A)\n",
    "\n",
    "print('determinant= ', detA)"
   ]
  },
  {
   "source": [
    "More example in class  "
   ],
   "cell_type": "markdown",
   "metadata": {}
  },
  {
   "source": [
    "## Determinants of the third order\n",
    "A determinant of the third order contains 3 rows and 3 columns.\n",
    "$$\n",
    "\\left|\\begin{matrix}a_{11}&a_{12}&a_{13}\\\\a_{21}&a_{22}&a_{23}\\\\a_{31}&a_{32}&a_{33}\\\\\\end{matrix}\\right|\t\n",
    "$$\n"
   ],
   "cell_type": "markdown",
   "metadata": {}
  },
  {
   "source": [
    "In order to find the determinant of a higher order the matrix minor must be developed until second order is reached.\n",
    "Developing each element in the first row minor:\n",
    "$$\n",
    "\\left|\\begin{matrix}a_{11}&a_{12}&a_{13}\\\\a_{21}&a_{22}&a_{23}\\\\a_{31}&a_{32}&a_{33}\\\\\\end{matrix}\\right|\n",
    "\\left|\\begin{matrix}+&-&+\\\\& &\\\\&&\\\\\\end{matrix}\\right|\t\n",
    "$$\n",
    "\n",
    "For $a_{11}$\n",
    "$$\n",
    "\\left|\\begin{matrix}a_{11}&&\\\\&a_{22}&a_{23}\\\\&a_{32}&a_{33}\\\\\\end{matrix}\\right|\t\n",
    "\\begin{matrix}a_{11}\\\\\\\\\\end{matrix}\\left|\\begin{matrix}a_{22}&a_{23}\\\\a_{32}&a_{33}\\\\\\end{matrix}\\right|=a_{11}\\left(a_{22}a_{33}-a_{23}a_{32}\\right)\t\n",
    "$$\n",
    "For $a_{12}$\n",
    "$$\n",
    "\\left|\\begin{matrix}&a_{12}&\\\\a_{21}&&a_{23}\\\\a_{31}&&a_{33}\\\\\\end{matrix}\\right|\t\n",
    "\\begin{matrix}{-a}_{12}\\\\\\\\\\end{matrix}\\left|\\begin{matrix}a_{21}&a_{23}\\\\a_{31}&a_{33}\\\\\\end{matrix}\\right|=-a_{12}\\left(a_{21}a_{33}-a_{23}a_{31}\\right)\t\n",
    "$$\n",
    "For $a_{13}$\n",
    "$$\n",
    "\\left|\\begin{matrix}&&a_{13}\\\\a_{21}&a_{22}&\\\\a_{31}&a_{32}&\\\\\\end{matrix}\\right|\t\n",
    "\\begin{matrix}a_{13}\\\\\\\\\\end{matrix}\\left|\\begin{matrix}a_{21}&a_{22}\\\\a_{31}&a_{32}\\\\\\end{matrix}\\right|=a_{13}\\left(a_{21}a_{32}-a_{22}a_{31}\\right)\t\n",
    "$$\n"
   ],
   "cell_type": "markdown",
   "metadata": {}
  },
  {
   "source": [
    "Summing all together:\n",
    "$$\n",
    "\\left|\\begin{matrix}a_{11}&a_{12}&a_{13}\\\\a_{21}&a_{22}&a_{23}\\\\a_{31}&a_{32}&a_{33}\\\\\\end{matrix}\\right|=\\begin{matrix}a_{11}\\\\\\\\\\end{matrix}\\left|\\begin{matrix}a_{22}&a_{23}\\\\a_{32}&a_{33}\\\\\\end{matrix}\\right|\\begin{matrix}{-a}_{12}\\\\\\\\\\end{matrix}\\left|\\begin{matrix}a_{21}&a_{23}\\\\a_{31}&a_{33}\\\\\\end{matrix}\\right|\\begin{matrix}{+a}_{13}\\\\\\\\\\end{matrix}\\left|\\begin{matrix}a_{21}&a_{22}\\\\a_{31}&a_{32}\\\\\\end{matrix}\\right|\t\n",
    "$$"
   ],
   "cell_type": "markdown",
   "metadata": {}
  },
  {
   "source": [
    "$$\n",
    "\\left|\\begin{matrix}3&-3&-4\\\\1&-1&-1\\\\2&-1&4\\\\\\end{matrix}\\right|\t\n",
    "=\\begin{matrix}3\\\\\\\\\\end{matrix}\\left|\\begin{matrix}-1&-1\\\\-1&4\\\\\\end{matrix}\\right|\\begin{matrix}-\\\\\\\\\\end{matrix}\\begin{matrix}-3\\\\\\\\\\end{matrix}\\left|\\begin{matrix}1&-1\\\\2&4\\\\\\end{matrix}\\right|\\begin{matrix}+\\\\\\\\\\end{matrix}\\begin{matrix}-4\\\\\\\\\\end{matrix}\\left|\\begin{matrix}1&-1\\\\2&-1\\\\\\end{matrix}\\right|\t\n",
    "$$\n",
    "$$\n",
    "=3\\left((-1\\times4)-(-1\\times-1)\\right)--3((1\\times4)-(-1\\times2))+-4((1\\times-1)-(-1\\times2))\t\n",
    "$$\n",
    "$$\n",
    "=3\\left(-4-1\\right)--3(4-(-2))+-4(-1-(-2))\t\n",
    "$$\n",
    "$$\n",
    "=3\\left(-5\\right)+3(6)-4(1)\t\n",
    "$$\n",
    "$$\n",
    "=-15+18-4=-1\n",
    "$$"
   ],
   "cell_type": "markdown",
   "metadata": {}
  },
  {
   "cell_type": "code",
   "execution_count": 57,
   "metadata": {},
   "outputs": [],
   "source": [
    "def det3(a):\n",
    "    a11 = a[1:,1:]  \n",
    "    a12 = a[1:, 0::2]\n",
    "    a13 = a[1:, 0:2]\n",
    "\n",
    "    det_a11 = a[0,0]*(det2(a11))\n",
    "    det_a12 = a[0,1]*(det2(a12))\n",
    "    det_a13 = a[0,2]*(det2(a13))\n",
    "\n",
    "    print('===+det3=========')\n",
    "    print('determinant of a11\\n', a11, '=', det_a11)\n",
    "    print('determinant of a12\\n', a12, '=', det_a12)\n",
    "    print('determinant of a13\\n', a13, '=', det_a13)\n",
    "    print('===-det3=========')\n",
    "\n",
    "    return det_a11 - det_a12 + det_a13"
   ]
  },
  {
   "cell_type": "code",
   "execution_count": 58,
   "metadata": {},
   "outputs": [
    {
     "output_type": "stream",
     "name": "stdout",
     "text": [
      "===+det3=========\ndeterminant of a11\n [[-1 -1]\n [-1  4]] = -15\ndeterminant of a12\n [[ 1 -1]\n [ 2  4]] = -18\ndeterminant of a13\n [[ 1 -1]\n [ 2 -1]] = -4\n===-det3=========\n\ndeterminant of a\n [[ 3 -3 -4]\n [ 1 -1 -1]\n [ 2 -1  4]] = -1\n\n In-built determinant = -0.9999999999999998\n"
     ]
    }
   ],
   "source": [
    "import numpy as np\n",
    "\n",
    "a = np.array([\n",
    "    [3, -3, -4],\n",
    "    [1, -1, -1],\n",
    "    [2, -1, 4],\n",
    "])\n",
    "\n",
    "detA = det3(a)\n",
    "print('\\ndeterminant of a\\n', a, '=', detA)\n",
    "\n",
    "# using in-built function\n",
    "print('\\n In-built determinant =', np.linalg.det(a))\n"
   ]
  },
  {
   "source": [
    "Try \n",
    "$$\n",
    "\\left|\\begin{matrix}2&3&4\\\\6&1&0\\\\2&3&4\\\\\\end{matrix}\\right|\n",
    "$$\n",
    "\n",
    "Answer  \n",
    "$$\n",
    "\\left|\\begin{matrix}2&3&4\\\\6&1&0\\\\2&3&4\\\\\\end{matrix}\\right|=0\n",
    "$$"
   ],
   "cell_type": "markdown",
   "metadata": {}
  },
  {
   "cell_type": "code",
   "execution_count": 61,
   "metadata": {},
   "outputs": [
    {
     "output_type": "stream",
     "name": "stdout",
     "text": [
      "===+det3=========\ndeterminant of a11\n [[1 0]\n [3 4]] = 8\ndeterminant of a12\n [[6 0]\n [2 4]] = 72\ndeterminant of a13\n [[6 1]\n [2 3]] = 64\n===-det3=========\n\ndeterminant of a\n [[2 3 4]\n [6 1 0]\n [2 3 4]] = 0\n\n In-built determinant = 0.0\n"
     ]
    }
   ],
   "source": [
    "import numpy as np\n",
    "\n",
    "a = np.array([\n",
    "    [2, 3, 4],\n",
    "    [6, 1, 0],\n",
    "    [2, 3, 4],\n",
    "])\n",
    "\n",
    "detA = det3(a)\n",
    "print('\\ndeterminant of a\\n', a, '=', detA)\n",
    "\n",
    "# using in-built function\n",
    "print('\\n In-built determinant =', np.linalg.det(a))"
   ]
  },
  {
   "source": [
    "# Solution of system of linear equations by determinants\n"
   ],
   "cell_type": "markdown",
   "metadata": {}
  },
  {
   "source": [
    "A system of linear equations of the second degree of two unknowns can be written below: \n",
    "$$\n",
    "a_{11}x+a_{12}y=b_1 \\\\\n",
    "a_{21}x+a_{22}y=b_2 \t\n",
    "$$\n",
    "and can further be written in matrices form as  \n",
    "$$\n",
    "\\left[\\begin{matrix}a_{11}&a_{11}\\\\a_{11}&a_{11}\\\\\\end{matrix}\\right]\\ \\ \\left[\\begin{matrix}x\\\\y\\\\\\end{matrix}\\right]=\\left[\\begin{matrix}b_1\\\\b_2\\\\\\end{matrix}\\right]\\ \\ \n",
    "$$\n",
    "$$\t\n",
    "A . x=b\n",
    "$$\t"
   ],
   "cell_type": "markdown",
   "metadata": {}
  },
  {
   "source": [
    "Solving Simultaneous Equation\n",
    "$$\n",
    "2x + 3y = 10\\\\\n",
    "4x + y = 1\n",
    "$$ \t\n",
    "\n",
    "By elimination and substitution \n",
    "$$\n",
    "x=-\\frac{7}{10},\\quad y=\\frac{38}{10}\t\n",
    "$$\n"
   ],
   "cell_type": "markdown",
   "metadata": {}
  },
  {
   "source": [
    "## Determinant Equation Method\n",
    "### Secondary Degree\n",
    "$$\n",
    "2x + 3y = 10\\\\\n",
    "4x + y = 1\n",
    "$$ \t\n",
    "could be written as: \n",
    "$$\n",
    "2x+3y-10=0 \\quad \\left(a\\right) \\\\\n",
    "4x+y-1=0 \\quad \\left(b\\right)\t\n",
    "$$\n",
    "and\n",
    "$$\n",
    "a_{11}x+a_{12}y+b_1=0 \\quad \\left(a\\right) \\\\\n",
    "a_{21}x+a_{22}y+b_2=0 \\quad \\left(b\\right)\t\n",
    "$$"
   ],
   "cell_type": "markdown",
   "metadata": {}
  },
  {
   "source": [
    "The solution\n",
    "$$\n",
    "\\frac{x}{∆_1}=\\frac{-y}{∆_2}=\\frac{1}{∆_0}\n",
    "$$\n",
    "$$\n",
    "x=\\frac{∆_1}{∆_0}, \\quad y=\\frac{-∆_2}{∆_0}\n",
    "$$\n",
    "where\n",
    "$$\n",
    "∆_0=\\left|\n",
    "        \\begin{matrix} \n",
    "            a_{11} & a_{12} \\\\ \n",
    "            a_{21} & a_{22}\n",
    "        \\end{matrix}\n",
    "    \\right|\n",
    ",\\quad\n",
    "∆_1=\\left|\n",
    "        \\begin{matrix} \n",
    "            a_{12} & b_{1} \\\\ \n",
    "            a_{22} & b_{2}\n",
    "        \\end{matrix}\n",
    "    \\right|\n",
    ",\\quad\n",
    "∆_2=\\left|\n",
    "        \\begin{matrix} \n",
    "            a_{11} & b_{1} \\\\ \n",
    "            a_{21} & b_{2}\n",
    "        \\end{matrix}\n",
    "    \\right|\n",
    "$$"
   ],
   "cell_type": "markdown",
   "metadata": {}
  },
  {
   "source": [
    "Solving Equation \n",
    "$$\n",
    "2x+3y-10=0 \\quad \\left(a\\right) \\\\\n",
    "4x+y-1=0 \\quad \\left(b\\right)\t\n",
    "$$\n",
    "$$\n",
    "∆_0=\\left|\n",
    "        \\begin{matrix} \n",
    "            2 & 3 \\\\ \n",
    "            4 & 1\n",
    "        \\end{matrix}\n",
    "    \\right|\n",
    "    =\n",
    "    (2\\times 1)-(3\\times 4)=2-12=-10\n",
    "$$\n",
    "$$\n",
    "∆_1=\\left|\n",
    "        \\begin{matrix} \n",
    "            3 & -10 \\\\ \n",
    "            1 & -1\n",
    "        \\end{matrix}\n",
    "    \\right|\n",
    "    =\n",
    "    (3\\times -1)-(-10 \\times 1)=-3--10=7\n",
    "$$\n",
    "$$\n",
    "∆_2=\\left|\n",
    "        \\begin{matrix} \n",
    "            2 & -10 \\\\ \n",
    "            4 & -1\n",
    "        \\end{matrix}\n",
    "    \\right|\n",
    "    =\n",
    "    (2 \\times -1)-(-10 \\times 4)=-2--40=38\n",
    "$$\n",
    "$$\n",
    "x=\\frac{∆_1}{∆_0}=\\frac{7}{-10} =\\left. -\\frac{7}{10} \\right. \\\\    \n",
    "y=\\frac{-∆_2}{∆_0}=\\left.-\\frac{38}{-10}\\right.=\\frac{38}{10}\n",
    "$$"
   ],
   "cell_type": "markdown",
   "metadata": {}
  },
  {
   "cell_type": "code",
   "execution_count": 62,
   "metadata": {},
   "outputs": [
    {
     "output_type": "stream",
     "name": "stdout",
     "text": [
      "a0=\n [[2 3]\n [4 1]] , D0= -10\na1=\n [[  3 -10]\n [  1  -1]] , D1= 7\na2=\n [[  2 -10]\n [  4  -1]] , D2= 38\n\nx = 7/-10 = -0.7, y = 38/-10 = -3.8\n"
     ]
    }
   ],
   "source": [
    "a0 = np.array([\n",
    "    [2, 3],\n",
    "    [4, 1]\n",
    "])\n",
    "a1 = np.array([\n",
    "    [3, -10],\n",
    "    [1, -1]\n",
    "])\n",
    "a2 = np.array([\n",
    "    [2, -10],\n",
    "    [4, -1]\n",
    "])\n",
    "\n",
    "D0 = det2(a0)\n",
    "D1 = det2(a1)\n",
    "D2 = det2(a2)\n",
    "\n",
    "x = D1 / D0\n",
    "y = D2 / D0\n",
    "\n",
    "print('a0=\\n', a0, ', D0=',D0)\n",
    "print('a1=\\n', a1, ', D1=',D1)\n",
    "print('a2=\\n', a2, ', D2=',D2)\n",
    "print()\n",
    "print(f'x = {D1}/{D0} = {x}, y = {D2}/{D0} = {y}')\n"
   ]
  },
  {
   "source": [
    "### The solution for higher degree system of linear equations are:\n",
    "### For third degree:\n",
    "$$\n",
    "\\frac {x}{∆_1} = \\frac {-y}{∆_2} = \\frac {z}{∆_2} = \\frac {-1}{∆_0} \n",
    "$$\n",
    "$$\n",
    "x=\\frac {-∆_1}{∆_0}, \\quad  y=\\frac {∆_2}{∆_0}, \\quad z=\\frac {-∆_3}{∆_0}\n",
    "$$\n",
    "\n",
    "Note: The positive and negative signs alternate as the degree increases."
   ],
   "cell_type": "markdown",
   "metadata": {}
  },
  {
   "source": [
    "### Third Degree\n",
    "Solve \n",
    "$$\n",
    "3x -3y-4z = 1 \\\\\n",
    "x -y - z =2 \\\\\n",
    "2x -y + 4y =3\t\n",
    "$$\n",
    "Rearrange\n",
    "$$\n",
    "3x -3y -4z -1 = 0 \\\\\n",
    "x- y- z -2 =0 \\\\\n",
    "2x -y + 4z -3 =0\n",
    "$$\t\n"
   ],
   "cell_type": "markdown",
   "metadata": {}
  },
  {
   "source": [
    "Extract the matrix of coefficients:\t\n",
    "$$\n",
    "\\begin{bmatrix}\n",
    "    3 & -3 & -4 & -1 \\\\\n",
    "    1 & -1 & -1 & -2 \\\\\n",
    "    2 & -1 & 4 & -3 \\\\\n",
    "\\end{bmatrix}\n",
    "$$"
   ],
   "cell_type": "markdown",
   "metadata": {}
  },
  {
   "source": [
    "From earlier\n",
    "$$\n",
    "\\Delta {_0}=\n",
    "\\left |\n",
    " \\begin{matrix}\n",
    " 3 & -3 & -4  \\\\\n",
    " 1 & -1 & -1  \\\\\n",
    " 2 & -1 & 4  \\\\\n",
    " \\end{matrix}\n",
    "\\right |\n",
    " =-1\n",
    "$$\n",
    "\n",
    "Note: Please evaluate $\\Delta{_0}$ to confirm"
   ],
   "cell_type": "markdown",
   "metadata": {}
  },
  {
   "source": [
    "$$\n",
    "\\Delta {_1}=\n",
    "\\left |\n",
    " \\begin{matrix}\n",
    " -3 & -4 & -1 \\\\\n",
    " -1 & -1 & -2 \\\\\n",
    " -1 & 4 & -3 \\\\\n",
    " \\end{matrix}\n",
    "\\right | \\\\\n",
    "=-3\\left(3--8\\right)--4(3-2)+-1(-4-1)\t\\\\\n",
    "=-3\\left(11\\right)+4(1)-(-5)=-24\n",
    "$$"
   ],
   "cell_type": "markdown",
   "metadata": {}
  },
  {
   "source": [
    "$$\n",
    "\\Delta {_2}=\n",
    "\\left |\n",
    " \\begin{matrix}\n",
    "    3  & -4 & -1 \\\\\n",
    "    1  & -1 & -2 \\\\\n",
    "    2  & 4 & -3 \\\\\n",
    " \\end{matrix}\n",
    "\\right| \\\\\n",
    "=3\\left(3--8\\right)--4(-3--4)+-1(4--2)\t\\\\\n",
    "=3\\left(11\\right)+4(1)-(6)=31 \n",
    "$$"
   ],
   "cell_type": "markdown",
   "metadata": {}
  },
  {
   "source": [
    "$$\n",
    "\\Delta{_3}=\n",
    "\\left |\n",
    "\\begin{matrix}\n",
    "    3 & -3 & -1 \\\\\n",
    "    1 & -1 & -2 \\\\\n",
    "    2 & -1 & -3 \\\\\n",
    "\\end{matrix}\n",
    "\\right| \\\\\n",
    "=3\\left(3-2\\right)--3(-3--4)+-1(-1--2)\t\\\\\n",
    "=3\\left(1\\right)+3(1)-(1)=5\n",
    "$$"
   ],
   "cell_type": "markdown",
   "metadata": {}
  },
  {
   "source": [
    "From \n",
    "$$\n",
    "x=\\frac {-∆_1}{∆_0}, \\quad  y=\\frac {∆_2}{∆_0}, \\quad z=\\frac {-∆_3}{∆_0}\n",
    "$$\n",
    "$$\n",
    "x=\\frac{-(-24)}{-1},\\quad y=\\frac{31}{-1},\\quad z=\\frac{-(5)}{-1}\t\n",
    "$$\n",
    "$$\n",
    "x=-24,\\quad y=-31,\\quad z=5\t\n",
    "$$\n"
   ],
   "cell_type": "markdown",
   "metadata": {}
  },
  {
   "cell_type": "code",
   "execution_count": 71,
   "metadata": {},
   "outputs": [
    {
     "output_type": "stream",
     "name": "stdout",
     "text": [
      "\n===+det3=========\ndeterminant of a11\n [[-1 -1]\n [-1  4]] = -15\ndeterminant of a12\n [[ 1 -1]\n [ 2  4]] = -18\ndeterminant of a13\n [[ 1 -1]\n [ 2 -1]] = -4\n===-det3=========\na0=\n[[ 3 -3 -4]\n [ 1 -1 -1]\n [ 2 -1  4]], D0= -1\n\n===+det3=========\ndeterminant of a11\n [[-1 -2]\n [ 4 -3]] = -33\ndeterminant of a12\n [[-1 -2]\n [-1 -3]] = -4\ndeterminant of a13\n [[-1 -1]\n [-1  4]] = 5\n===-det3=========\na1=\n[[-3 -4 -1]\n [-1 -1 -2]\n [-1  4 -3]], D1= -24\n\n===+det3=========\ndeterminant of a11\n [[-1 -2]\n [ 4 -3]] = 33\ndeterminant of a12\n [[ 1 -2]\n [ 2 -3]] = -4\ndeterminant of a13\n [[ 1 -1]\n [ 2  4]] = -6\n===-det3=========\na2=\n [[ 3 -4 -1]\n [ 1 -1 -2]\n [ 2  4 -3]] , D2= 31\n\n===+det3=========\ndeterminant of a11\n [[-1 -2]\n [-1 -3]] = 3\ndeterminant of a12\n [[ 1 -2]\n [ 2 -3]] = -3\ndeterminant of a13\n [[ 1 -1]\n [ 2 -1]] = -1\n===-det3=========\na3=\n [[ 3 -3 -1]\n [ 1 -1 -2]\n [ 2 -1 -3]] , D3= 5\n\nx = -24/-1 = -24.0, y = 31/-1 = -31.0, z = 5/-1 = 5.0\n"
     ]
    }
   ],
   "source": [
    "a0 = np.array([\n",
    "    [3, -3,-4],\n",
    "    [1, -1,-1],\n",
    "    [2, -1, 4]\n",
    "])\n",
    "\n",
    "a1 = np.array([\n",
    "    [-3,-4,-1],\n",
    "    [-1,-1,-2],\n",
    "    [-1, 4,-3]\n",
    "])\n",
    "a2 = np.array([\n",
    "    [3,-4,-1],\n",
    "    [1,-1,-2],\n",
    "    [2, 4,-3]\n",
    "])\n",
    "a3 = np.array([\n",
    "    [3, -3,-1],\n",
    "    [1, -1,-2],\n",
    "    [2, -1,-3]\n",
    "])\n",
    "\n",
    "print()\n",
    "D0 = det3(a0)\n",
    "print(f'a0=\\n{a0}, D0= {D0}')\n",
    "\n",
    "print()\n",
    "D1 = det3(a1)\n",
    "print(f'a1=\\n{a1}, D1= {D1}')\n",
    "\n",
    "print()\n",
    "D2 = det3(a2)\n",
    "print('a2=\\n', a2, ', D2=',D2)\n",
    "\n",
    "print()\n",
    "D3 = det3(a3)\n",
    "print('a3=\\n', a3, ', D3=',D3)\n",
    "\n",
    "\n",
    "x = -D1 / D0\n",
    "y = D2 / D0\n",
    "z = -D3 / D0\n",
    "\n",
    "print()\n",
    "print(f'x = {D1}/{D0} = {x}, y = {D2}/{D0} = {y}, z = {D3}/{D0} = {z}')\n"
   ]
  },
  {
   "source": [
    "## Cramers Rule\n"
   ],
   "cell_type": "markdown",
   "metadata": {}
  },
  {
   "source": [
    "## For second degree\n",
    "For a system of two linear equations in two unknowns $(x,\\  y)$ given below:\n",
    "$$\n",
    "a_{11}x + a_{12}y = b_1 \\\\\n",
    "a_{21}x + a_{22}y = b_2 \t\n",
    "$$\n"
   ],
   "cell_type": "markdown",
   "metadata": {}
  },
  {
   "source": [
    "Cramer’s rule states that:\n",
    "$$\n",
    "x=\\frac{\\left|\\begin{matrix}b_1&a_{12}\\\\b_2&a_{22}\\\\\\end{matrix}\\right|}{\\left|\\begin{matrix}a_{11}&a_{12}\\\\a_{21}&a_{22}\\\\\\end{matrix}\\right|},\\ \\ \\ \\ y=\\frac{\\left|\\begin{matrix}a_{11}&b_1\\\\a_{21}&b_2\\\\\\end{matrix}\\right|}{\\left|\\begin{matrix}a_{11}&a_{12}\\\\a_{21}&a_{22}\\\\\\end{matrix}\\right|}\\\n",
    "$$ \t\n",
    "The denominator is the determinant of the coefficients of $x$ and $y$. The numerator for $x$ is the determinant of coefficients matrix when coefficients of $x$ is replaced by $b$. Similarly, the numerator for $y$ is the determinant of coefficients matrix when coefficients of $y$ is replaced by $b$."
   ],
   "cell_type": "markdown",
   "metadata": {}
  },
  {
   "source": [
    "### Third degree\n",
    "$$\n",
    "a_{11}x+a_{12}y+a_{13}z=b_1 \\\\\n",
    "a_{21}x+a_{22}y+a_{23}z=b_2 \\\\\n",
    "a_{31}x+a_{32}y+a_{33}z=b_3\t\n",
    "$$\n",
    "$$\n",
    "x=\\frac{\\left|\\begin{matrix}b_1&a_{12}&a_{13}\\\\b_2&a_{22}&a_{23}\\\\b_3&a_{32}&a_{33}\\\\\\end{matrix}\\right|}{\\left|\\begin{matrix}a_{11}&a_{12}&a_{13}\\\\a_{21}&a_{22}&a_{23}\\\\a_{31}&a_{32}&a_{33}\\\\\\end{matrix}\\right|},\\quad y=?,\\quad z=?\t\n",
    "$$"
   ],
   "cell_type": "markdown",
   "metadata": {}
  },
  {
   "source": [
    "$$\n",
    "y=\\frac{\\left|\\begin{matrix}a_{11}&b_1&a_{13}\\\\a_{21}&b_2&a_{23}\\\\a_{31}&b_3&a_{33}\\\\\\end{matrix}\\right|}{\\left|\\begin{matrix}a_{11}&a_{12}&a_{13}\\\\a_{21}&a_{22}&a_{23}\\\\a_{31}&a_{32}&a_{33}\\\\\\end{matrix}\\right|},\\quad \t\n",
    "\n",
    "z=\\frac{\\left|\\begin{matrix}a_{11}&a_{12}&b_1\\\\a_{21}&a_{22}&b_2\\\\a_{31}&a_{32}&b_3\\\\\\end{matrix}\\right|}{\\left|\\begin{matrix}a_{11}&a_{12}&a_{13}\\\\a_{21}&a_{22}&a_{23}\\\\a_{31}&a_{32}&a_{33}\\\\\\end{matrix}\\right|}\n",
    "$$"
   ],
   "cell_type": "markdown",
   "metadata": {}
  },
  {
   "source": [
    "The Cramer’s rule can be generalized:\n",
    "$$\n",
    "x=\\frac{D_x}{D},\\quad y=\\frac{D_y}{D},\\quad z=\\frac{D_z}{D}\n",
    "$$\t"
   ],
   "cell_type": "markdown",
   "metadata": {}
  },
  {
   "source": [
    "Solve\n",
    "$$\n",
    "3x -3y-4z= 1\\\\\n",
    "x-y- z =2\\\\\n",
    "2x-y+ 4y =3\t\n",
    "$$"
   ],
   "cell_type": "markdown",
   "metadata": {}
  },
  {
   "source": [
    "$$\n",
    "x=\\frac{\\left|\\begin{matrix}1&-3&-4\\\\2&-1&-1\\\\3&-1&4\\\\\\end{matrix}\\right|}{\\left|\\begin{matrix}3&-3&-4\\\\1&-1&-1\\\\2&-1&4\\\\\\end{matrix}\\right|}=\\frac{24}{-1}=-24\t\n",
    "$$\n"
   ],
   "cell_type": "markdown",
   "metadata": {}
  },
  {
   "source": [
    "$$\n",
    "y=\\frac{\\left|\\begin{matrix}3&1&-4\\\\1&2&-1\\\\2&3&4\\\\\\end{matrix}\\right|}{\\left|\\begin{matrix}3&-3&-4\\\\1&-1&-1\\\\2&-1&4\\\\\\end{matrix}\\right|}=\\frac{31}{-1}=-31\t\n",
    "$$\n"
   ],
   "cell_type": "markdown",
   "metadata": {}
  },
  {
   "source": [
    "$$\n",
    "z=\\frac{\\left|\\begin{matrix}3&-3&1\\\\1&-1&2\\\\2&-1&3\\\\\\end{matrix}\\right|}{\\left|\\begin{matrix}3&-3&-4\\\\1&-1&-1\\\\2&-1&4\\\\\\end{matrix}\\right|}=\\frac{-5}{-1}=5\n",
    "$$"
   ],
   "cell_type": "markdown",
   "metadata": {}
  },
  {
   "source": [
    "Note: For both the determinant Equation Method and Cramer’s rule. The determinant, $∆_0$ or $D$, the coefficients of the variables must not equal zero. \n",
    "$$\n",
    "∆_0≠0;\\quad D\\neq0\n",
    "$$\n"
   ],
   "cell_type": "markdown",
   "metadata": {}
  },
  {
   "cell_type": "code",
   "execution_count": 72,
   "metadata": {},
   "outputs": [
    {
     "output_type": "stream",
     "name": "stdout",
     "text": [
      "\n===+det3=========\ndeterminant of a11\n [[-1 -1]\n [-1  4]] = -15\ndeterminant of a12\n [[ 1 -1]\n [ 2  4]] = -18\ndeterminant of a13\n [[ 1 -1]\n [ 2 -1]] = -4\n===-det3=========\na0=\n[[ 3 -3 -4]\n [ 1 -1 -1]\n [ 2 -1  4]], D0= -1\n\n===+det3=========\ndeterminant of a11\n [[-1 -1]\n [-1  4]] = -5\ndeterminant of a12\n [[ 2 -1]\n [ 3  4]] = -33\ndeterminant of a13\n [[ 2 -1]\n [ 3 -1]] = -4\n===-det3=========\na1=\n[[ 1 -3 -4]\n [ 2 -1 -1]\n [ 3 -1  4]], D1= 24\n\n===+det3=========\ndeterminant of a11\n [[ 2 -1]\n [ 3  4]] = 33\ndeterminant of a12\n [[ 1 -1]\n [ 2  4]] = 6\ndeterminant of a13\n [[1 2]\n [2 3]] = 4\n===-det3=========\na2=\n [[ 3  1 -4]\n [ 1  2 -1]\n [ 2  3  4]] , D2= 31\n\n===+det3=========\ndeterminant of a11\n [[-1  2]\n [-1  3]] = -3\ndeterminant of a12\n [[1 2]\n [2 3]] = 3\ndeterminant of a13\n [[ 1 -1]\n [ 2 -1]] = 1\n===-det3=========\na3=\n [[ 3 -3  1]\n [ 1 -1  2]\n [ 2 -1  3]] , D3= -5\n\nx = 24/-1 = -24.0, y = 31/-1 = -31.0, z = -5/-1 = 5.0\n"
     ]
    }
   ],
   "source": [
    "a0 = np.array([\n",
    "    [3, -3,-4],\n",
    "    [1, -1,-1],\n",
    "    [2, -1, 4]\n",
    "])\n",
    "\n",
    "a1 = np.array([\n",
    "    [1, -3, -4],\n",
    "    [2, -1, -1],\n",
    "    [3, -1, 4]\n",
    "])\n",
    "a2 = np.array([\n",
    "    [3, 1, -4],\n",
    "    [1, 2, -1],\n",
    "    [2, 3, 4]\n",
    "])\n",
    "a3 = np.array([\n",
    "    [3, -3, 1],\n",
    "    [1, -1, 2],\n",
    "    [2, -1, 3]\n",
    "])\n",
    "\n",
    "print()\n",
    "D0 = det3(a0)\n",
    "print(f'a0=\\n{a0}, D0= {D0}')\n",
    "\n",
    "print()\n",
    "D1 = det3(a1)\n",
    "print(f'a1=\\n{a1}, D1= {D1}')\n",
    "\n",
    "print()\n",
    "D2 = det3(a2)\n",
    "print('a2=\\n', a2, ', D2=',D2)\n",
    "\n",
    "print()\n",
    "D3 = det3(a3)\n",
    "print('a3=\\n', a3, ', D3=',D3)\n",
    "\n",
    "\n",
    "x = D1 / D0\n",
    "y = D2 / D0\n",
    "z = D3 / D0\n",
    "\n",
    "print()\n",
    "print(f'x = {D1}/{D0} = {x}, y = {D2}/{D0} = {y}, z = {D3}/{D0} = {z}')\n"
   ]
  },
  {
   "cell_type": "code",
   "execution_count": null,
   "metadata": {},
   "outputs": [],
   "source": [
    "#Linear dependence and independence\n",
    "\t"
   ]
  },
  {
   "source": [
    "A matrix is said to be linearly dependent if the determinant is zero and linearly independent if the determinant is not zero.\n",
    "Linear dependence\n",
    "$$\n",
    "D=\\left|A\\right|=\\ 0\t\n",
    "$$\n",
    "And Linear independence\n",
    "$$\n",
    "D=\\left|A\\right|\\neq\\ 0\n",
    "$$"
   ],
   "cell_type": "markdown",
   "metadata": {}
  },
  {
   "cell_type": "code",
   "execution_count": null,
   "metadata": {},
   "outputs": [],
   "source": []
  },
  {
   "cell_type": "code",
   "execution_count": 4,
   "metadata": {},
   "outputs": [
    {
     "output_type": "error",
     "ename": "SyntaxError",
     "evalue": "invalid syntax (<ipython-input-4-eaab5783b539>, line 1)",
     "traceback": [
      "\u001b[0;36m  File \u001b[0;32m\"<ipython-input-4-eaab5783b539>\"\u001b[0;36m, line \u001b[0;32m1\u001b[0m\n\u001b[0;31m    In order to find the determinant of a higher order the matrix minor must be developed until second order is reached.\u001b[0m\n\u001b[0m       ^\u001b[0m\n\u001b[0;31mSyntaxError\u001b[0m\u001b[0;31m:\u001b[0m invalid syntax\n"
     ]
    }
   ],
   "source": [
    "Check if the matrices below are linear dependence or independence:\n",
    "A=\\left|\\begin{matrix}2&3&4\\\\6&1&0\\\\2&3&4\\\\\\end{matrix}\\right|\t\n",
    "B=\\left|\\begin{matrix}3&-3&-4\\\\1&-1&-1\\\\2&-1&4\\\\\\end{matrix}\\right|\t\n",
    "\n",
    "What is your answer?\n",
    "A=\\left|\\begin{matrix}2&3&4\\\\6&1&0\\\\2&3&4\\\\\\end{matrix}\\right|=0\t\n",
    "B=\\left|\\begin{matrix}3&-3&-4\\\\1&-1&-1\\\\2&-1&4\\\\\\end{matrix}\\right|=-1\t\n",
    "\n",
    "\n",
    "\n",
    "\n",
    " \n",
    "\n",
    " \n",
    "\n",
    "Rank of a matrix\n",
    "The rank of an m x n matrix A is the order of the largest square, linear independence sub-matrix. In order to get a matrix rank you must get a non-zero determinant matrix of the original m x n matrix or a sub-matrix.\n",
    "\n",
    "Check the rank of matrix B below:\n",
    "B=\\left|\\begin{matrix}3&-3&-4\\\\1&-1&-1\\\\2&-1&4\\\\\\end{matrix}\\right|=-1\t\n",
    "Since the determinant is non-zero the rank = 3.\n",
    "\n",
    "Similarly, check for matrix A.\n",
    "A=\\left|\\begin{matrix}2&3&4\\\\6&1&0\\\\2&3&4\\\\\\end{matrix}\\right|=0\t\n",
    "The determinant is zero, we need to check for the determinant of its sub-matrix:\n",
    "A_1=\\left|\\begin{matrix}2&3\\\\6&1\\\\\\end{matrix}\\right|=-16\t\n",
    "Since the determinant of the sub-matrix A1 is non-zero, we can conclude that matrix A is of rank =2.\n",
    "\n",
    "\n",
    " \n",
    "\n",
    " \n",
    "\n",
    "General system of linear equations, \n",
    "A system linear of equations below with three unknown x, y, z:\n",
    "a_{11}x_1+a_{12}x_2+a_{13}x_3=b_1\\ \\ \\ \\ \\bigma_{21}x_1+a_{22}x_2+a_{23}x_3=b_2\\bigma_{31}x_1+a_{32}x_2+a_{33}x_3=b_3\t\n",
    "can be represented using matrix notation:\n",
    "\\left[\\begin{matrix}a_{11}&a_{12}&a_{13}\\\\a_{21}&a_{22}&a_{23}\\\\a_{31}&a_{32}&a_{33}\\\\\\end{matrix}\\right]\\left[\\begin{matrix}x_1\\\\x_2\\\\x_3\\\\\\end{matrix}\\right]=\\left[\\begin{matrix}b_1\\\\b_2\\\\b_3\\\\\\end{matrix}\\right]\t\n",
    "\n",
    "Similarly,\n",
    "a_{11}x_1+a_{12}x_2+a_{13}x_3=b_1\\ \\ \\ \\ \\bigma_{21}x_1+a_{22}x_2+a_{23}x_3=b_2\t\n",
    "\\left[\\begin{matrix}a_{11}&a_{12}&a_{13}\\\\a_{21}&a_{22}&a_{23}\\\\\\end{matrix}\\right]\\left[\\begin{matrix}x_1\\\\x_2\\\\x_3\\\\\\end{matrix}\\right]=\\left[\\begin{matrix}b_1\\\\b_2\\\\\\end{matrix}\\right]\t\n",
    "\n",
    "\n",
    "Generally,\n",
    "\\begin{matrix}\\begin{matrix}\\begin{matrix}a_{11}x_1\\\\a_{21}x_1\\\\a_{31}x_1\\\\\\end{matrix}&\\begin{matrix}a_{12}x_2\\\\a_{22}x_2\\\\a_{32}x_2\\\\\\end{matrix}&\\begin{matrix}a_{13}x_3\\\\a_{23}x_3\\\\a_{33}x_3\\\\\\end{matrix}\\\\\\end{matrix}&\\begin{matrix}\\ldots\\\\\\ldots\\\\\\ldots\\\\\\end{matrix}&\\begin{matrix}\\begin{matrix}a_{1n}x_n&=&b_1\\\\\\end{matrix}\\\\\\begin{matrix}a_{2n}x_n&=&b_1\\\\\\end{matrix}\\\\\\begin{matrix}a_{3n}x_n&=&b_1\\\\\\end{matrix}\\\\\\end{matrix}\\\\\\begin{matrix}\\vdots\\ \\ \\ \\ \\ &\\ \\ \\ \\vdots\\ \\ &\\ \\ \\ \\ \\ \\ \\ \\ \\vdots\\\\\\end{matrix}&&\\ \\ \\ \\begin{matrix}\\vdots&&\\ \\ \\ \\ \\ \\ \\vdots\\\\\\end{matrix}\\\\\\begin{matrix}a_{m1}x_1&a_{m2}x_2&a_{m3}x_3\\\\\\end{matrix}&\\ldots&\\begin{matrix}a_{mn}x_n&=&b_m\\\\\\end{matrix}\\\\\\end{matrix}\t\n",
    "\\left[\\begin{matrix}\\begin{matrix}\\begin{matrix}a_{11}\\\\a_{21}\\\\a_{31}\\\\\\end{matrix}&\\begin{matrix}a_{12}\\\\a_{22}\\\\a_{32}\\\\\\end{matrix}&\\begin{matrix}a_{13}\\\\a_{23}\\\\a_{33}\\\\\\end{matrix}\\\\\\end{matrix}&\\begin{matrix}\\ldots\\\\\\ldots\\\\\\ldots\\\\\\end{matrix}&\\begin{matrix}a_{1n}\\\\a_{2n}\\\\a_{3n}\\\\\\end{matrix}\\\\\\begin{matrix}\\vdots\\ \\ &\\ \\ \\ \\vdots\\ &\\ \\ \\ \\ \\vdots\\\\\\end{matrix}&&\\vdots\\\\\\begin{matrix}a_{m1}&a_{m2}&a_{m3}\\\\\\end{matrix}&\\ldots&a_{mn}\\\\\\end{matrix}\\right]\\left[\\begin{matrix}x_1\\\\\\begin{matrix}x_2\\\\x_3\\\\\\vdots\\\\\\end{matrix}\\\\x_n\\\\\\end{matrix}\\right]=\\left[\\begin{matrix}b_1\\\\\\begin{matrix}b_2\\\\b_3\\\\\\vdots\\\\\\end{matrix}\\\\b_m\\\\\\end{matrix}\\right]\t\n",
    "A\\bullet x=b\t\n",
    "where\n",
    "A=\\left[\\begin{matrix}\\begin{matrix}\\begin{matrix}a_{11}\\\\a_{21}\\\\a_{31}\\\\\\end{matrix}&\\begin{matrix}a_{12}\\\\a_{22}\\\\a_{32}\\\\\\end{matrix}&\\begin{matrix}a_{13}\\\\a_{23}\\\\a_{33}\\\\\\end{matrix}\\\\\\end{matrix}&\\begin{matrix}\\ldots\\\\\\ldots\\\\\\ldots\\\\\\end{matrix}&\\begin{matrix}a_{1n}\\\\a_{2n}\\\\a_{3n}\\\\\\end{matrix}\\\\\\begin{matrix}\\vdots\\ \\ &\\ \\ \\ \\vdots\\ &\\ \\ \\ \\ \\vdots\\\\\\end{matrix}&&\\vdots\\\\\\begin{matrix}a_{m1}&a_{m2}&a_{m3}\\\\\\end{matrix}&\\ldots&a_{mn}\\\\\\end{matrix}\\right];\\ \\ x=\\left[\\begin{matrix}x_1\\\\\\begin{matrix}x_2\\\\x_3\\\\\\vdots\\\\\\end{matrix}\\\\x_n\\\\\\end{matrix}\\right];\\ \\ b=\\left[\\begin{matrix}b_1\\\\\\begin{matrix}b_2\\\\b_3\\\\\\vdots\\\\\\end{matrix}\\\\b_m\\\\\\end{matrix}\\right]\t\n",
    "If we multiply Eq (6.7) by A-1 the inverse of A. \n",
    "A^{-1}.A.x=A^{-1}.b\t\n",
    "A^{-1}.A=\\mathbit{I}\t\n",
    "\\mathbit{I}.x=A^{-1}.b\t\n",
    "x=A^{-1}.b\t\n",
    "and\t\n",
    "A^{-1}=\\frac{C^T}{\\left|A\\right|}\t\n",
    "\n",
    "\n",
    " \n",
    "\n",
    " \n",
    "\n",
    "Existence and properties of solution\n",
    "Existence of solution\n",
    "Looking at the equations below:\n",
    "A.x=b\t\n",
    "x=A^{-1}.b\t\n",
    "A^{-1}=\\frac{C^T}{\\left|A\\right|}\t\n",
    "Forming an augmented matrix A_b.\n",
    "A_b.=[A|b]\t\n",
    "\n",
    "For a solution to exist for a set of linear equations the following must be true:\n",
    "\tDeterminant of A must not be equal to zero, i.e \\left|A\\right|\\neq0. \n",
    "\tA unique solution exists:\n",
    "rank\\ of\\ A=rank\\ of\\ A_b=n\n",
    "\tAn infinite number of solutions exist:\n",
    "rank\\ of\\ A=rank\\ of\\ A_b=m<n\n",
    "\tNo solution exists:\n",
    "rank\\ A<rank\\ A_b\n",
    "Other properties of the solution\n",
    "x=0,\\ \\ A^{-1}=0\\ or\\ b=0\t\n",
    "\n",
    " \n",
    "\n",
    " \n",
    "\n",
    "Gaussian elimination. \n",
    "Algorithm of Gaussian Elimination\n",
    "Gaussian elimination method converts the combine matrix of A and b, [A|b] to triangular matrix. Then proceed with backward substitution to obtain x.\n",
    "For a system of linear equations\n",
    "a_{11}x_1+a_{12}x_2+a_{13}x_3=b_1\\ \\ \\ \\ \\bigma_{21}x_1+a_{22}x_2+a_{23}x_3=b_2\\bigma_{31}x_1+a_{32}x_2+a_{33}x_3=b_3\t\n",
    "\n",
    "Step 1: Write in matrix form.\n",
    "\\left[\\begin{matrix}a_{11}&a_{12}&a_{13}\\\\a_{21}&a_{22}&a_{23}\\\\a_{31}&a_{32}&a_{33}\\\\\\end{matrix}\\right]\\left[\\begin{matrix}x_1\\\\x_2\\\\x_3\\\\\\end{matrix}\\right]=\\left[\\begin{matrix}b_1\\\\b_2\\\\b_3\\\\\\end{matrix}\\right]\t\n",
    "A\\bullet x=b\t\n",
    "\n",
    "Step 2: Arrange matrix A and b together to form augmented matrix A_b.\n",
    "A_b=\\left[A|b\\right]\t\n",
    "A_b=\\left[\\begin{matrix}a_{11}&a_{12}&\\begin{matrix}a_{13}&|&b_1\\\\\\end{matrix}\\\\a_{21}&a_{22}&\\begin{matrix}a_{23}&|&b_2\\\\\\end{matrix}\\\\a_{31}&a_{32}&\\begin{matrix}a_{33}&|&b_3\\\\\\end{matrix}\\\\\\end{matrix}\\right]\t\n",
    "Step 3: Using matrix row equivalent operation reduce A_b to triangular matrix \\widetilde{A_b}.\n",
    "A_b\\rightarrow\\widetilde{A_b}\t\n",
    "\\left[\\begin{matrix}a_{11}&a_{12}&\\begin{matrix}a_{13}&|&b_1\\\\\\end{matrix}\\\\a_{21}&a_{22}&\\begin{matrix}a_{23}&|&b_2\\\\\\end{matrix}\\\\a_{31}&a_{32}&\\begin{matrix}a_{33}&|&b_3\\\\\\end{matrix}\\\\\\end{matrix}\\right]\\rightarrow\\left[\\begin{matrix}{\\widetilde{a}}_{11}&{\\widetilde{a}}_{12}&\\begin{matrix}{\\widetilde{a}}_{13}&|&{\\widetilde{b}}_1\\\\\\end{matrix}\\\\0&{\\widetilde{a}}_{22}&\\begin{matrix}{\\widetilde{a}}_{23}&|&{\\widetilde{b}}_2\\\\\\end{matrix}\\\\0&0&\\begin{matrix}{\\widetilde{a}}_{33}&|&{\\widetilde{b}}_3\\\\\\end{matrix}\\\\\\end{matrix}\\right]\t\n",
    "\\widetilde{M}=\\left[\\begin{matrix}{\\widetilde{a}}_{11}&{\\widetilde{a}}_{12}&\\begin{matrix}{\\widetilde{a}}_{13}&|&{\\widetilde{b}}_1\\\\\\end{matrix}\\\\0&{\\widetilde{a}}_{22}&\\begin{matrix}{\\widetilde{a}}_{23}&|&{\\widetilde{b}}_2\\\\\\end{matrix}\\\\0&0&\\begin{matrix}{\\widetilde{a}}_{33}&|&{\\widetilde{b}}_3\\\\\\end{matrix}\\\\\\end{matrix}\\right]\t\n",
    "Step 4: Back substitution\n",
    "\\begin{matrix}\\begin{matrix}{\\widetilde{a}}_{11}x_1&+\\\\\\end{matrix}&\\begin{matrix}{\\widetilde{a}}_{12}x_2&+\\\\\\end{matrix}&\\begin{matrix}{\\widetilde{a}}_{13}x_3&=&{\\widetilde{b}}_1\\\\\\end{matrix}\\\\&\\begin{matrix}{\\widetilde{a}}_{22}x_2&+\\\\\\end{matrix}&\\begin{matrix}{\\widetilde{a}}_{23}x_3&=&{\\widetilde{b}}_2\\\\\\end{matrix}\\\\&&\\begin{matrix}{\\widetilde{a}}_{33}x_3&=&{\\widetilde{b}}_3\\\\\\end{matrix}\\\\\\end{matrix}\t\n",
    "\\begin{matrix}x_3&=&\\sfrac{{\\widetilde{b}}_3}{{\\widetilde{a}}_{33}}\\\\\\end{matrix}\t\n",
    "\\begin{matrix}x_2&=&\\frac{{\\widetilde{b}}_2-{\\widetilde{a}}_{23}x_3}{{\\widetilde{a}}_{22}}\\\\\\end{matrix}\t\n",
    "\\begin{matrix}x_1&=&\\frac{{\\widetilde{b}}_1-{\\widetilde{a}}_{12}x_2-{\\widetilde{a}}_{13}x_3}{{\\widetilde{a}}_{11}}\\\\\\end{matrix}\t\n",
    "\n",
    "Solve the set of equations.\n",
    "3x\\ -3y-4z=\\ 1\\bigmx-y-\\ z\\ \\ \\ \\ \\ \\ \\ =2\\bigm2x-y+\\ 4y\\ \\ \\ =3\t\n",
    "Step 1: Write in matrix form.\n",
    "A\\bullet x=b\t\n",
    "\\left[\\begin{matrix}3&-3&-4\\\\1&-1&-1\\\\2&-1&4\\\\\\end{matrix}\\right]\\left[\\begin{matrix}x\\\\y\\\\z\\\\\\end{matrix}\\right]=\\left[\\begin{matrix}1\\\\2\\\\3\\\\\\end{matrix}\\right]\t\n",
    "\n",
    "Step 2: Arrange matrix A and b together augmented matrix A_b.\n",
    "A_b=\\left[A|b\\right]\t\n",
    "A_b=\\left[\\begin{matrix}3&-3&\\begin{matrix}-4&|&1\\\\\\end{matrix}\\\\1&-1&\\begin{matrix}-1&|&2\\\\\\end{matrix}\\\\2&-1&\\begin{matrix}\\ \\ \\ 4&|&3\\\\\\end{matrix}\\\\\\end{matrix}\\right]\t\n",
    "Step 3: Using matrix row equivalent operation reduce M to triangular matrix \\widetilde{M}.\n",
    "A_b\\rightarrow\\widetilde{A_b}\t\n",
    "pivot,\\ p=1,\\ldots,\\ m-1\\ \n",
    "i=p+1,\\ ...,\\ m\\ \\ \\ \\ \n",
    "Note: \n",
    "a_{pp}\\neq0\\ \\ \\ \\ \n",
    "If a_{pp}\\neq0\\ \\ \\ \\ \\ interchange\\ row\\ with\\ a\\ none-zero\\ pivot\\ column\\ element.\t\n",
    "R_i\\ =R_i-\\left(R_p\\times\\ \\frac{a_{ip}}{a_{pp}}\\right)\\ \\ \\ \t\n",
    "\n",
    "p=1,...,2;\\ i=2,...,3\t\n",
    "Reduce {\\widetilde{A_b}}_{p=1}\n",
    "\\ p=1;\\ i=2\t\n",
    "a_{pp}=a_{11}=3\\ \\ \\ \\ \t\n",
    "R_2=\\left[\\begin{matrix}1&-1&\\begin{matrix}-1&|&2\\\\\\end{matrix}\\\\\\end{matrix}\\right]-\\left(\\left[\\begin{matrix}3&-3&\\begin{matrix}-4&|&1\\\\\\end{matrix}\\\\\\end{matrix}\\right]\\times\\frac{1}{3}\\right)=\\left[\\begin{matrix}0&0&\\begin{matrix}0.33&|&1.67\\\\\\end{matrix}\\\\\\end{matrix}\\right]\t\n",
    "p=1;\\ i=3\\ \\ \\ \\ \t\n",
    "R_3=\\left[\\begin{matrix}2&-1&\\begin{matrix}4&|&3\\\\\\end{matrix}\\\\\\end{matrix}\\right]-\\left(\\left[\\begin{matrix}3&-3&\\begin{matrix}-4&|&1\\\\\\end{matrix}\\\\\\end{matrix}\\right]\\times\\frac{2}{3}\\right)=\\left[\\begin{matrix}0&1&\\begin{matrix}6.67&|&2.33\\\\\\end{matrix}\\\\\\end{matrix}\\right]\t\n",
    "{\\widetilde{A_b}}_{p=1}=\\left[\\begin{matrix}3&-3&\\begin{matrix}-4&|&1\\\\\\end{matrix}\\\\0&0&\\begin{matrix}0.33&|&1.67\\\\\\end{matrix}\\\\0&1&\\begin{matrix}6.67&|&2.33\\\\\\end{matrix}\\\\\\end{matrix}\\right]\t\n",
    "Reduce {\\widetilde{A_b}}_{p=2}\n",
    "p=2;\\ i=3\\ \\ \\ \\ \t\n",
    "a_{pp}=a_{22}=0\\ \\ \\ \\ \t\n",
    "Interchange row 2 and 3\n",
    "{\\widetilde{A_b}}_{p=1}=\\left[\\begin{matrix}3&-3&\\begin{matrix}-4&|&1\\\\\\end{matrix}\\\\0&1&\\begin{matrix}6.67&|&2.33\\\\\\end{matrix}\\\\0&0&\\begin{matrix}0.33&|&1.67\\\\\\end{matrix}\\\\\\end{matrix}\\right]\t\n",
    "\\ p=2;\\ i=3\\ \\ \\ \\ \t\n",
    "a_{pp}=a_{22}=1\\ \\ \\ \\ \t\n",
    "R_3=\\left[\\begin{matrix}0&0&\\begin{matrix}0.33&|&1.67\\\\\\end{matrix}\\\\\\end{matrix}\\right]-\\left(\\left[\\begin{matrix}0&1&\\begin{matrix}6.67&|&2.33\\\\\\end{matrix}\\\\\\end{matrix}\\right]\\times\\frac{0}{1}\\right)=\\left[\\begin{matrix}0&0&\\begin{matrix}0.33&|&1.67\\\\\\end{matrix}\\\\\\end{matrix}\\right]\t\n",
    "{\\widetilde{A_b}}_{p=2}=\\left[\\begin{matrix}3&-3&\\begin{matrix}-4&|&1\\\\\\end{matrix}\\\\0&1&\\begin{matrix}6.67&|&2.33\\\\\\end{matrix}\\\\0&0&\\begin{matrix}0.33&|&1.67\\\\\\end{matrix}\\\\\\end{matrix}\\right]\t\n",
    "\n",
    "Step 4: Back substitution\n",
    "\\begin{matrix}\\begin{matrix}3x_1&-\\\\\\end{matrix}&\\begin{matrix}3x_2&-\\\\\\end{matrix}&\\begin{matrix}4x_3&=&1\\\\\\end{matrix}\\\\&\\begin{matrix}x_2&+\\\\\\end{matrix}&\\begin{matrix}6.67x_3&=&2.33\\\\\\end{matrix}\\\\&&\\begin{matrix}0.33x_3&=&1.67\\\\\\end{matrix}\\\\\\end{matrix}\t\n",
    "\\begin{matrix}x_3&=&\\sfrac{1.67}{0.33}\\\\\\end{matrix}=5.06\t\n",
    "\\begin{matrix}x_2&=&\\frac{2.33-6.67(5.06)}{1}\\\\\\end{matrix}=-31.42\t\n",
    "\\begin{matrix}x_1&=&\\frac{1--3(-31.42)--4(5.06)}{3}\\\\\\end{matrix}=-24.34\t\n",
    "\n",
    "Determinant from Gaussian Elimination \n",
    "\\widetilde{A_b}=\\left[\\begin{matrix}{\\widetilde{a}}_{11}&{\\widetilde{a}}_{12}&\\begin{matrix}{\\widetilde{a}}_{13}&|&{\\widetilde{b}}_1\\\\\\end{matrix}\\\\0&{\\widetilde{a}}_{22}&\\begin{matrix}{\\widetilde{a}}_{23}&|&{\\widetilde{b}}_2\\\\\\end{matrix}\\\\0&0&\\begin{matrix}{\\widetilde{a}}_{33}&|&{\\widetilde{b}}_3\\\\\\end{matrix}\\\\\\end{matrix}\\right]\t\n",
    "\\left|A\\right|={(-1)}^k\\prod_{i}^{m}{\\widetilde{a}}_{ii}={\\widetilde{a}}_{11}\\times{\\widetilde{a}}_{22}\\times{\\widetilde{a}}_{33}\t\n",
    "where k is the number of times rows were interchanged.\n",
    "From the example above and Eq (8.34)\n",
    "\\left|A\\right|={(-1)}^1\\prod_{i=1}^{m=3}{\\widetilde{a}}_{ii}={(-1)}^1(3\\times1\\times0.33)=-0.99\t\n",
    "\n",
    "\n",
    " \n",
    "\n",
    " \n",
    "\n",
    "Matrix inverse by elementary matrices, adjoint, and partitioning methods. \n",
    "Inverse of a square matrix\n",
    "Recall the solution to system of linear equation:\n",
    "A.x=b\t\n",
    "x=A^{-1}.b\t\n",
    "A^{-1}=\\frac{C^T}{\\left|A\\right|}\t\n",
    "To solve Eq (9.3) the inverse of matrix A, {(A}^{-1}) must be evaluated.\n",
    "where C^Tis the adjoint of matrix A, and Adjoint is the transpose of the co-factor of matrix A.\n",
    "\n",
    "Cofactors\n",
    "Cofactor of a square matrix is obtained from the determinant of its elements.\n",
    "\\left|A\\right|=\\left|\\begin{matrix}\\begin{matrix}\\begin{matrix}a_{11}\\\\a_{21}\\\\a_{31}\\\\\\end{matrix}&\\begin{matrix}a_{12}\\\\a_{22}\\\\a_{32}\\\\\\end{matrix}&\\begin{matrix}a_{13}\\\\a_{23}\\\\a_{33}\\\\\\end{matrix}\\\\\\end{matrix}&\\begin{matrix}\\ldots\\\\\\ldots\\\\\\ldots\\\\\\end{matrix}&\\begin{matrix}a_{1n}\\\\a_{2n}\\\\a_{3n}\\\\\\end{matrix}\\\\\\begin{matrix}\\vdots\\ \\ &\\ \\ \\ \\vdots\\ &\\ \\ \\ \\ \\vdots\\\\\\end{matrix}&&\\vdots\\\\\\begin{matrix}a_{n1}&a_{n2}&a_{n3}\\\\\\end{matrix}&\\ldots&a_{nn}\\\\\\end{matrix}\\right|\t\n",
    "Cofactor=\\left[\\begin{matrix}\\begin{matrix}\\begin{matrix}c_{11}\\\\c_{21}\\\\c_{31}\\\\\\end{matrix}&\\begin{matrix}c_{12}\\\\c_{22}\\\\c_{32}\\\\\\end{matrix}&\\begin{matrix}c_{13}\\\\c_{23}\\\\c_{33}\\\\\\end{matrix}\\\\\\end{matrix}&\\begin{matrix}\\ldots\\\\\\ldots\\\\\\ldots\\\\\\end{matrix}&\\begin{matrix}c_{1n}\\\\c_{2n}\\\\c_{3n}\\\\\\end{matrix}\\\\\\begin{matrix}\\vdots\\ \\ &\\ \\ \\ \\vdots\\ &\\ \\ \\ \\ \\vdots\\\\\\end{matrix}&&\\vdots\\\\\\begin{matrix}c_{n1}&c_{n2}&c_{n3}\\\\\\end{matrix}&\\ldots&c_{nn}\\\\\\end{matrix}\\right]\t\n",
    "where each element of the cofactor is formed from the determinant of its sub-matrix multiplied by element position sign. The element positional sign alternate between plus + and minus -.\n",
    "Evaluate the cofactor of the matrix A below:\n",
    "A=\\left[\\begin{matrix}3&-3&-4\\\\1&-1&-1\\\\2&-1&4\\\\\\end{matrix}\\right]\t\n",
    "For element a_{11}=3;\n",
    "c_{11}=+\\left|\\begin{matrix}-1&-1\\\\-1&4\\\\\\end{matrix}\\right|=-5\t\n",
    "For element a_{12}=-3;\n",
    "c_{12}=-\\left|\\begin{matrix}1&-1\\\\2&4\\\\\\end{matrix}\\right|=-6\t\n",
    "For element a_{13}=-4;\n",
    "c_{13}=+\\left|\\begin{matrix}1&-1\\\\2&-1\\\\\\end{matrix}\\right|=1\t\n",
    "For element a_{21}=1;\n",
    "c_{21}=-\\left|\\begin{matrix}-3&-4\\\\-1&4\\\\\\end{matrix}\\right|=16\t\n",
    "For element a_{22}=-1;\n",
    "c_{22}=+\\left|\\begin{matrix}3&-4\\\\2&4\\\\\\end{matrix}\\right|=20\t\n",
    "For element a_{23}=-1;\n",
    "c_{23}=-\\left|\\begin{matrix}3&-3\\\\2&-1\\\\\\end{matrix}\\right|=-3\t\n",
    "For element a_{31}=2;\n",
    "c_{31}=+\\left|\\begin{matrix}-3&-4\\\\-1&-1\\\\\\end{matrix}\\right|=-1\t\n",
    "For element a_{32}=-1;\n",
    "c_{32}=-\\left|\\begin{matrix}3&-4\\\\1&-1\\\\\\end{matrix}\\right|=-1\t\n",
    "For element a_{33}=4;\n",
    "c_{13}=+\\left|\\begin{matrix}3&-3\\\\1&-1\\\\\\end{matrix}\\right|=0\t\n",
    "The cofactor form is:\n",
    "Cofactor\\ A=\\left[\\begin{matrix}-5&-6&1\\\\16&20&-3\\\\-1&-1&0\\\\\\end{matrix}\\right]\t\n",
    "\n",
    "\n",
    "\n",
    "Adjoint\n",
    "Adjoint of matrix A is the transpose of the cofactor of A.\n",
    "From Eq (9.16)\n",
    "Adj\\ A=C^T\\ =\\left[\\begin{matrix}-5&16&-1\\\\-6&20&-1\\\\1&-3&0\\\\\\end{matrix}\\right]\t\n",
    "\n",
    "A^{-1}=\\frac{C^T}{\\left|A\\right|}\t\n",
    "\\left|A\\right|=\\left|\\begin{matrix}3&-3&-4\\\\1&-1&-1\\\\2&-1&4\\\\\\end{matrix}\\right|=-1\t\n",
    "Therefore\n",
    "A^{-1}=\\frac{1}{-1}\\left[\\begin{matrix}-5&16&-1\\\\-6&20&-1\\\\1&-3&0\\\\\\end{matrix}\\right]=\\left[\\begin{matrix}5&-16&1\\\\6&-20&1\\\\-1&3&0\\\\\\end{matrix}\\right]\t\n",
    "To solve the system linear of equation\n",
    "x=A^{-1}.b\t\n",
    "\\left[\\begin{matrix}x\\\\y\\\\z\\\\\\end{matrix}\\right]=\\left[\\begin{matrix}5&-16&1\\\\6&-20&1\\\\-1&3&0\\\\\\end{matrix}\\right]\\left[\\begin{matrix}1\\\\2\\\\3\\\\\\end{matrix}\\right]\n",
    "\\left[\\begin{matrix}x\\\\y\\\\z\\\\\\end{matrix}\\right]=\\left[\\begin{matrix}(5\\times1)+(-16\\times2)+(1\\times3)\\\\(6\\times1)+(-20\\times2)+(1\\times3)\\\\(-1\\times1)+(3\\times2)+(0\\times3)\\\\\\end{matrix}\\right]=\\left[\\begin{matrix}-24\\\\-31\\\\5\\\\\\end{matrix}\\right]\t\n",
    "\n",
    "\n",
    " \n",
    "\n",
    " \n",
    "\n",
    "Eigenvalues and Eigenvectors.\n",
    "Eigenvalues\n",
    "Eigenvalues are characteristic scalar value (\\lambda) of a square matrix (A) that satisfy the equation 10.1.\n",
    "Ax=\\lambda x\t\n",
    "In other to find the eigenvalues, we develop the characteristic equation and solve the characteristic polynomial of matrix A.\n",
    "(A-\\lambda\\mathbit{I})x=0\t\n",
    "To prevent the trivial solution x\\neq0. Therefore we have the characteristic equation Eq (10.3).\n",
    "\\left|A-\\lambda\\mathbit{I}\\right|=0\t\n",
    "The solution of Eq (10.3) gives the eigenvalues \\lambda.\n",
    "\n",
    "Example\n",
    "Find the eigenvalues of the matrix. \n",
    "A=\\left[\\begin{matrix}2&3\\\\4&1\\\\\\end{matrix}\\right]\t\n",
    "A-\\lambda\\mathbit{I}=\\left[\\begin{matrix}2&3\\\\4&1\\\\\\end{matrix}\\right]-\\lambda\\left[\\begin{matrix}1&0\\\\0&1\\\\\\end{matrix}\\right]=\\left[\\begin{matrix}(2-\\lambda)&3\\\\4&(1-\\lambda)\\\\\\end{matrix}\\right]\t\n",
    "\\left|A-\\lambda\\mathbit{I}\\right|=\\left|\\begin{matrix}\\left(2-\\lambda\\right)&3\\\\4&\\left(1-\\lambda\\right)\\\\\\end{matrix}\\right|=\\left(2-\\lambda\\right)\\left(1-\\lambda\\right)-12=2-2\\lambda-\\lambda+\\lambda^2-12\n",
    "\\left|A-\\lambda\\mathbit{I}\\right|=\\lambda^2-3\\lambda-10=0\t\n",
    "The solutions to the characteristic polynomial in Eq 10.6\n",
    "\\lambda=-2\\ or\\ 5\t\n",
    "\\lambda_1=-2,\\ \\ \\lambda_2=5\t\n",
    "\n",
    "Eigenvectors\n",
    "Each eigenvalues obtained has a corresponding eigenvector or eigenline associated with it.\n",
    "Ax=\\lambda x\t\n",
    "Example\n",
    "When matrix A is:\n",
    "A=\\left[\\begin{matrix}2&3\\\\4&1\\\\\\end{matrix}\\right]\n",
    "\\lambda_1=-2,\\ \\ \\lambda_2=5\t\n",
    "For \\lambda_1=-2\n",
    "\\left[\\begin{matrix}2&3\\\\4&1\\\\\\end{matrix}\\right]\\left[\\begin{matrix}x_1\\\\x_2\\\\\\end{matrix}\\right]=-2\\left[\\begin{matrix}x_1\\\\x_2\\\\\\end{matrix}\\right]\t\n",
    "\\begin{matrix}\\begin{matrix}2x_1&+\\\\\\end{matrix}&\\begin{matrix}3x_2&=\\\\\\end{matrix}\\ \\ \\\\\\begin{matrix}4x_1&+\\\\\\end{matrix}&\\begin{matrix}x_2&=\\\\\\end{matrix}\\\\\\end{matrix}\\begin{matrix}{-2x}_1\\\\{-2x}_2\\\\\\end{matrix}\t\n",
    "x_2=-\\frac{4}{3}x_1\t\n",
    "The eigenvector for \\lambda_1=-2\n",
    "x_1=\\left[\\begin{matrix}k\\\\-{\\frac{4}{3}}k\\\\\\end{matrix}\\right]\\ and\\ the\\ smallest:\\ x_1=\\left[\\begin{matrix}1\\\\-{\\frac{4}{3}}\\\\\\end{matrix}\\right]\t\n",
    "For \\lambda_2=5\n",
    "\\left[\\begin{matrix}2&3\\\\4&1\\\\\\end{matrix}\\right]\\left[\\begin{matrix}x_1\\\\x_2\\\\\\end{matrix}\\right]=5\\left[\\begin{matrix}x_1\\\\x_2\\\\\\end{matrix}\\right]\t\n",
    "\\begin{matrix}\\begin{matrix}2x_1&+\\\\\\end{matrix}&\\begin{matrix}3x_2&=\\\\\\end{matrix}\\ \\ \\\\\\begin{matrix}4x_1&+\\\\\\end{matrix}&\\begin{matrix}x_2&=\\\\\\end{matrix}\\\\\\end{matrix}\\begin{matrix}{5x}_1\\\\{5x}_2\\\\\\end{matrix}\t\n",
    "x_2=x_1\t\n",
    "The eigenvector for \\lambda_2=5\n",
    "x_2=\\left[\\begin{matrix}k\\\\k\\\\\\end{matrix}\\right]\\ and\\ the\\ smallest:\\ x_2=\\left[\\begin{matrix}1\\\\1\\\\\\end{matrix}\\right]\t\n",
    "\n",
    "\n",
    "\n",
    " \n",
    "\n"
   ]
  },
  {
   "cell_type": "code",
   "execution_count": null,
   "metadata": {},
   "outputs": [],
   "source": []
  }
 ]
}