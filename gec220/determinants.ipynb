{
 "metadata": {
  "language_info": {
   "codemirror_mode": {
    "name": "ipython",
    "version": 3
   },
   "file_extension": ".py",
   "mimetype": "text/x-python",
   "name": "python",
   "nbconvert_exporter": "python",
   "pygments_lexer": "ipython3",
   "version": "3.8.5"
  },
  "orig_nbformat": 4,
  "kernelspec": {
   "name": "python3",
   "display_name": "Python 3.8.5 64-bit"
  },
  "interpreter": {
   "hash": "916dbcbb3f70747c44a77c7bcd40155683ae19c65e1c03b4aa3499c5328201f1"
  }
 },
 "nbformat": 4,
 "nbformat_minor": 2,
 "cells": [
  {
   "cell_type": "code",
   "execution_count": 1,
   "metadata": {},
   "outputs": [],
   "source": [
    "import numpy as np\n"
   ]
  },
  {
   "cell_type": "code",
   "execution_count": 3,
   "metadata": {},
   "outputs": [
    {
     "output_type": "execute_result",
     "data": {
      "text/plain": [
       "array([[ 3, -3, -4, -1],\n",
       "       [ 1, -1, -1, -2],\n",
       "       [ 2, -1,  4, -3]])"
      ]
     },
     "metadata": {},
     "execution_count": 3
    }
   ],
   "source": [
    "a = np.array([\n",
    "    [3, -3, -4, -1],\n",
    "    [1, -1, -1, -2],\n",
    "    [2, -1, 4, -3],\n",
    "])\n",
    "a"
   ]
  },
  {
   "cell_type": "code",
   "execution_count": 6,
   "metadata": {},
   "outputs": [],
   "source": [
    "a0 = np.array([\n",
    "    [3, -3, -4],\n",
    "    [1, -1, -1],\n",
    "    [2, -1, 4],\n",
    "])\n",
    "a1 = np.array([\n",
    "    [ -3, -4, -1],\n",
    "    [ -1, -1, -2],\n",
    "    [ -1, 4, -3],\n",
    "])\n",
    "a2 = np.array([\n",
    "    [3,  -4, -1],\n",
    "    [1,  -1, -2],\n",
    "    [2,  4, -3],\n",
    "])\n",
    "a3 = np.array([\n",
    "    [3, -3,  -1],\n",
    "    [1, -1,  -2],\n",
    "    [2, -1, -3],\n",
    "])"
   ]
  },
  {
   "cell_type": "code",
   "execution_count": 8,
   "metadata": {},
   "outputs": [
    {
     "output_type": "stream",
     "name": "stdout",
     "text": [
      "-0.9999999999999998\n-24.000000000000014\n31.000000000000014\n5.000000000000001\n"
     ]
    }
   ],
   "source": [
    "d0 = np.linalg.det(a0)\n",
    "print('d0=', d0)\n",
    "d1 = np.linalg.det(a1)\n",
    "print('d1=', d1)\n",
    "d2 = np.linalg.det(a2)\n",
    "print('d2=', d2)\n",
    "d3 = np.linalg.det(a3)\n",
    "print('d3=', d3)"
   ]
  },
  {
   "cell_type": "code",
   "execution_count": 14,
   "metadata": {},
   "outputs": [
    {
     "output_type": "stream",
     "name": "stdout",
     "text": [
      "x= -24.00000000000002\ny= -31.00000000000002\nz= 5.000000000000002\n"
     ]
    }
   ],
   "source": [
    "x = -d1/d0\n",
    "print('x=', x)\n",
    "y = d2/d0\n",
    "print('y=', y)\n",
    "z = -d3/d0\n",
    "print('z=', z)"
   ]
  },
  {
   "cell_type": "code",
   "execution_count": 15,
   "metadata": {},
   "outputs": [
    {
     "output_type": "execute_result",
     "data": {
      "text/plain": [
       "0.9999999999999929"
      ]
     },
     "metadata": {},
     "execution_count": 15
    }
   ],
   "source": [
    "3*(x)+-3*(y)+-4*z"
   ]
  },
  {
   "cell_type": "code",
   "execution_count": null,
   "metadata": {},
   "outputs": [],
   "source": []
  }
 ]
}