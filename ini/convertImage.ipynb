{
    "cells": [
        {
            "cell_type": "code",
            "execution_count": 5,
            "source": [
                "from wand.image import Image\r\n",
                "import os\r\n",
                "\r\n",
                "SourceFolder=\"aidata/test_1\"\r\n",
                "TargetFolder=\"aidata/new_contaminated_t\"\r\n",
                "\r\n",
                "for file in os.listdir(SourceFolder):\r\n",
                "    SourceFile=SourceFolder + \"/\" + file\r\n",
                "    TargetFile=TargetFolder + \"/\" + file.replace(\".HEIC\",\".JPG\")\r\n",
                "\r\n",
                "    img=Image(filename=SourceFile)\r\n",
                "    img.format='jpg'\r\n",
                "    img.save(filename=TargetFile)\r\n",
                "    img.close()"
            ],
            "outputs": [],
            "metadata": {}
        },
        {
            "cell_type": "code",
            "execution_count": null,
            "source": [],
            "outputs": [],
            "metadata": {}
        }
    ],
    "metadata": {
        "orig_nbformat": 4,
        "language_info": {
            "name": "python",
            "version": "3.9.6",
            "mimetype": "text/x-python",
            "codemirror_mode": {
                "name": "ipython",
                "version": 3
            },
            "pygments_lexer": "ipython3",
            "nbconvert_exporter": "python",
            "file_extension": ".py"
        },
        "kernelspec": {
            "name": "python3",
            "display_name": "Python 3.9.6 64-bit"
        },
        "interpreter": {
            "hash": "c1a7846af735771808fbc8272134e7984cc669109ae413ca91ad8b74a534aa1b"
        }
    },
    "nbformat": 4,
    "nbformat_minor": 2
}