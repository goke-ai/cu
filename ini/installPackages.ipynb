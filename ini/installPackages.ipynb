{
    "cells": [
        {
            "cell_type": "code",
            "execution_count": null,
            "source": [
                "!pip3 install -q tensorflow\r\n",
                "!pip3 install -q numpy\r\n",
                "!pip3 install -q scipy\r\n",
                "!pip3 install -q matplotlib\r\n",
                "!pip3 install -q pandas\r\n",
                "!pip3 install -q scikit-learn\r\n",
                "!pip3 install -q xlrd xlwt\r\n",
                "!pip3 install -q openpyxl"
            ],
            "outputs": [],
            "metadata": {}
        }
    ],
    "metadata": {
        "orig_nbformat": 4,
        "language_info": {
            "name": "python"
        }
    },
    "nbformat": 4,
    "nbformat_minor": 2
}