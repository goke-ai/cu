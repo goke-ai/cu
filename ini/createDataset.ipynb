{
    "cells": [
        {
            "cell_type": "code",
            "execution_count": null,
            "source": [
                "import os\r\n",
                "\r\n",
                "folderPath = \"aidata/clean_t\"\r\n",
                "\r\n",
                "dirList = os.listdir(folderPath)\r\n",
                "dirLen = len(dirList)\r\n",
                "\r\n",
                "for i in range(2,dirLen,3):\r\n",
                "    print(i, dirList[i])\r\n",
                "    \r\n"
            ],
            "outputs": [],
            "metadata": {}
        },
        {
            "cell_type": "code",
            "execution_count": null,
            "source": [
                "# # Importing the modules\r\n",
                "# import os\r\n",
                "# import shutil\r\n",
                "\r\n",
                "# srcDir = \"data/clean\"\r\n",
                "# destDir = \"data/clean_t\"\r\n",
                "\r\n",
                "# # create a dir where we want to copy and rename\r\n",
                "# # os.mkdir(destDir)\r\n",
                "\r\n",
                "# dirList = os.listdir(srcDir)\r\n",
                "# dirLen = len(dirList)\r\n",
                "\r\n",
                "# m3 =0;\r\n",
                "# for i in range(0, dirLen):\r\n",
                "#     x = i+1\r\n",
                "#     if x%3 == 0:\r\n",
                "#         m3 = m3+1\r\n",
                "#         print(i, m3, dirList[i])\r\n",
                "#         if m3 == 3:\r\n",
                "#             m3 = 0;\r\n",
                "\r\n",
                "#     # srcFile = os.path.join(srcDir, dirList[i])\r\n",
                "#     # #copy the file to destination dir\r\n",
                "#     # shutil.copy(srcFile, destDir)\r\n",
                "\r\n",
                "# # dstFile = os.path.join(destDir,'test.txt.copy2')\r\n",
                "# # new_dst_file_name = os.path.join(dest_dir, 'test.txt.copy3')\r\n",
                "\r\n",
                "# # os.rename(dst_file, new_dst_file_name)#rename\r\n",
                "# # os.chdir(dest_dir)\r\n"
            ],
            "outputs": [],
            "metadata": {}
        },
        {
            "cell_type": "code",
            "execution_count": null,
            "source": [
                "from PIL import Image\r\n",
                "\r\n",
                "img = Image.open(\"aidata/clean_t/IMG_2706.JPG\")\r\n",
                "imgGray = img.convert('L')\r\n"
            ],
            "outputs": [],
            "metadata": {}
        },
        {
            "cell_type": "code",
            "execution_count": null,
            "source": [
                "img.show()\r\n"
            ],
            "outputs": [],
            "metadata": {}
        },
        {
            "cell_type": "code",
            "execution_count": null,
            "source": [
                "imgGray.show()\r\n"
            ],
            "outputs": [],
            "metadata": {}
        },
        {
            "cell_type": "code",
            "execution_count": null,
            "source": [
                "print(img.size)\r\n",
                "print(imgGray.size)\r\n"
            ],
            "outputs": [],
            "metadata": {}
        },
        {
            "cell_type": "code",
            "execution_count": null,
            "source": [
                "import numpy as np\r\n",
                "\r\n",
                "imgArray = np.array(img)\r\n",
                "print(imgArray.shape)\r\n",
                "imgGrayArray = np.array(imgGray)\r\n",
                "print(imgGrayArray.shape)"
            ],
            "outputs": [],
            "metadata": {}
        },
        {
            "cell_type": "code",
            "execution_count": null,
            "source": [
                "import matplotlib.pyplot as plt\r\n",
                "\r\n",
                "plt.imshow(img)\r\n",
                "plt.show()"
            ],
            "outputs": [],
            "metadata": {}
        },
        {
            "cell_type": "code",
            "execution_count": null,
            "source": [
                "import matplotlib.pyplot as plt\r\n",
                "\r\n",
                "plt.imshow(imgGray)\r\n",
                "plt.show()"
            ],
            "outputs": [],
            "metadata": {}
        },
        {
            "cell_type": "code",
            "execution_count": null,
            "source": [
                "import matplotlib.pyplot as plt\r\n",
                "\r\n",
                "plt.imshow(imgArray)\r\n",
                "plt.show()"
            ],
            "outputs": [],
            "metadata": {}
        },
        {
            "cell_type": "code",
            "execution_count": null,
            "source": [
                "import matplotlib.pyplot as plt\r\n",
                "\r\n",
                "print(imgArray.shape)\r\n",
                "imgArray = np.rollaxis(imgArray, 0,2)\r\n",
                "print(imgArray.shape)\r\n",
                "        "
            ],
            "outputs": [],
            "metadata": {}
        },
        {
            "cell_type": "code",
            "execution_count": null,
            "source": [
                "import matplotlib.pyplot as plt\r\n",
                "\r\n",
                "plt.imshow(imgArray)\r\n",
                "plt.show()"
            ],
            "outputs": [],
            "metadata": {}
        },
        {
            "cell_type": "code",
            "execution_count": null,
            "source": [
                "import matplotlib.pyplot as plt\r\n",
                "\r\n",
                "print(imgGrayArray.shape)\r\n",
                "imgGrayArray = np.rollaxis(imgGrayArray, 0,2)\r\n",
                "print(imgGrayArray.shape)\r\n"
            ],
            "outputs": [],
            "metadata": {}
        },
        {
            "cell_type": "code",
            "execution_count": null,
            "source": [
                "import matplotlib.pyplot as plt\r\n",
                "\r\n",
                "plt.imshow(imgGrayArray)\r\n",
                "plt.show()"
            ],
            "outputs": [],
            "metadata": {}
        },
        {
            "cell_type": "code",
            "execution_count": null,
            "source": [
                "(0,0) < (10,10)"
            ],
            "outputs": [],
            "metadata": {}
        },
        {
            "cell_type": "code",
            "execution_count": null,
            "source": [
                "def getImageSize(img, r=1):\r\n",
                "    (w, h) = img.size\r\n",
                "    return int(w/r), int(h/r)\r\n",
                "\r\n",
                "def getSize(size, factor=1):\r\n",
                "    (h, w) = size\r\n",
                "    return int(h*factor), int(w*factor)"
            ],
            "outputs": [],
            "metadata": {}
        },
        {
            "cell_type": "code",
            "execution_count": null,
            "source": [
                "import os\r\n",
                "from PIL import Image\r\n",
                "\r\n",
                "def getMinWidthHeight(srcDir):\r\n",
                "    srcList = os.listdir(srcDir)\r\n",
                "    fname = srcList[0]\r\n",
                "    filePath = os.path.join(srcDir, fname)\r\n",
                "    img = Image.open(filePath)\r\n",
                "    (oh, ow) = img.size\r\n",
                "\r\n",
                "    for fname in srcList:\r\n",
                "        filePath = os.path.join(srcDir, fname)\r\n",
                "\r\n",
                "        img = Image.open(filePath)\r\n",
                "        (h, w) = img.size\r\n",
                "\r\n",
                "        if h < oh:\r\n",
                "            oh = h\r\n",
                "        if w < ow:\r\n",
                "            ow = w\r\n",
                "        \r\n",
                "        return (oh, ow)\r\n"
            ],
            "outputs": [],
            "metadata": {}
        },
        {
            "cell_type": "code",
            "execution_count": null,
            "source": [
                "import os\r\n",
                "from PIL import Image\r\n",
                "import numpy as np\r\n",
                "\r\n",
                "def createDataset(dataImages, dataLabels, srcDir, label1, gray=True, size=None):\r\n",
                "    srcList = os.listdir(srcDir)\r\n",
                "    for fname in srcList:\r\n",
                "        filePath = os.path.join(srcDir, fname)\r\n",
                "\r\n",
                "        img = Image.open(filePath)\r\n",
                "\r\n",
                "        if size != None:\r\n",
                "            imgRes = img.resize(size)\r\n",
                "        else:\r\n",
                "            imgRes = img\r\n",
                "        \r\n",
                "        if gray == True:\r\n",
                "            imgGray = imgRes.convert('L')\r\n",
                "            data1 = np.array(imgGray)\r\n",
                "            data1 = np.rollaxis(data1, 0,2)\r\n",
                "        else:\r\n",
                "            data1 = np.array(imgRes)\r\n",
                "            data1 = np.rollaxis(data1, 0,2)\r\n",
                "        \r\n",
                "        dataImages.append(data1)\r\n",
                "        dataLabels.append(label1)\r\n",
                "        "
            ],
            "outputs": [],
            "metadata": {}
        },
        {
            "cell_type": "code",
            "execution_count": null,
            "source": [
                "import os\r\n",
                "from PIL import Image\r\n",
                "import numpy as np\r\n",
                "\r\n",
                "datasetFileName = \"dataset.npz\"\r\n",
                "\r\n",
                "className = {\"clean\": 0, \"contaminated\": 1}\r\n",
                "\r\n",
                "dataImages = [];\r\n",
                "dataLabels = [];\r\n",
                "\r\n",
                "srcDir1 = \"aidata/clean_t\"\r\n",
                "srcDir2 = \"aidata/contaminated_t\"\r\n",
                "\r\n",
                "\r\n",
                "h1,w1 = getMinWidthHeight(srcDir1)\r\n",
                "print(h1,w1)\r\n",
                "h2,w2 = getMinWidthHeight(srcDir2)\r\n",
                "print(h2,w2)\r\n",
                "\r\n",
                "h = h1\r\n",
                "w = w1\r\n",
                "if h2 < h:\r\n",
                "    h = h2\r\n",
                "if w2 < w:\r\n",
                "    w = w2\r\n",
                "\r\n",
                "originalSize = (h,w)\r\n",
                "print(originalSize)\r\n",
                "\r\n",
                "size = getSize(originalSize, 0.1)\r\n",
                "\r\n",
                "label1 = className[\"clean\"]\r\n",
                "createDataset(dataImages, dataLabels, srcDir1, label1, gray=False, size=size)\r\n",
                "\r\n",
                "label2 = className[\"contaminated\"]\r\n",
                "createDataset(dataImages, dataLabels, srcDir2, label2, gray=False, size=size)\r\n",
                "\r\n",
                "\r\n",
                "np.savez_compressed(datasetFileName, images=dataImages, labels=dataLabels)\r\n"
            ],
            "outputs": [],
            "metadata": {}
        },
        {
            "cell_type": "code",
            "execution_count": null,
            "source": [
                "print(len(dataImages))\r\n",
                "print(len(dataLabels))\r\n"
            ],
            "outputs": [],
            "metadata": {}
        },
        {
            "cell_type": "code",
            "execution_count": null,
            "source": [
                "dataLabels[0]"
            ],
            "outputs": [],
            "metadata": {}
        },
        {
            "cell_type": "code",
            "execution_count": null,
            "source": [
                "import matplotlib.pyplot as plt\r\n",
                "\r\n",
                "plt.imshow(dataImages[0])\r\n",
                "plt.xlabel(f\"{list(className.keys())[list(className.values()).index(dataLabels[0])]}: {dataLabels[0]}\")\r\n",
                "plt.show()"
            ],
            "outputs": [],
            "metadata": {}
        },
        {
            "cell_type": "code",
            "execution_count": null,
            "source": [
                "# load dataset file\r\n",
                "\r\n",
                "with np.load(datasetFileName) as data:\r\n",
                "    loadedImages = data['images']\r\n",
                "    loadedLabels = data['labels']"
            ],
            "outputs": [],
            "metadata": {}
        },
        {
            "cell_type": "code",
            "execution_count": null,
            "source": [
                "print(loadedImages.shape)\r\n",
                "loadedImages.dtype"
            ],
            "outputs": [],
            "metadata": {}
        },
        {
            "cell_type": "code",
            "execution_count": null,
            "source": [
                "print(loadedLabels.shape)\r\n",
                "loadedLabels.dtype"
            ],
            "outputs": [],
            "metadata": {}
        },
        {
            "cell_type": "code",
            "execution_count": null,
            "source": [
                "import matplotlib.pyplot as plt\r\n",
                "\r\n",
                "plt.imshow(loadedImages[0])\r\n",
                "plt.xlabel(f\"{list(className.keys())[list(className.values()).index(loadedLabels[0])]}: {loadedLabels[0]}\")\r\n",
                "plt.show()"
            ],
            "outputs": [],
            "metadata": {}
        }
    ],
    "metadata": {
        "orig_nbformat": 4,
        "language_info": {
            "name": "python",
            "version": "3.9.6",
            "mimetype": "text/x-python",
            "codemirror_mode": {
                "name": "ipython",
                "version": 3
            },
            "pygments_lexer": "ipython3",
            "nbconvert_exporter": "python",
            "file_extension": ".py"
        },
        "kernelspec": {
            "name": "python3",
            "display_name": "Python 3.9.6 64-bit"
        },
        "interpreter": {
            "hash": "c1a7846af735771808fbc8272134e7984cc669109ae413ca91ad8b74a534aa1b"
        }
    },
    "nbformat": 4,
    "nbformat_minor": 2
}