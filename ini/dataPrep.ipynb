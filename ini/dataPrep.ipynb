{
 "cells": [
  {
   "cell_type": "code",
   "execution_count": null,
   "source": [
    "!pip3 install -q tensorflow\r\n",
    "!pip3 install -q numpy\r\n",
    "!pip3 install -q scipy\r\n",
    "!pip3 install -q matplotlib\r\n",
    "!pip3 install -q pandas\r\n",
    "!pip3 install -q scikit-learn\r\n",
    "!pip3 install -q xlrd xlwt\r\n",
    "!pip3 install -q openpyxl\r\n",
    "\r\n"
   ],
   "outputs": [],
   "metadata": {}
  },
  {
   "cell_type": "code",
   "execution_count": null,
   "source": [
    "import numpy as np\r\n",
    "from sklearn.model_selection import train_test_split\r\n",
    "\r\n",
    "data = np.load(\"dataset2.npy\", allow_pickle=True)\r\n",
    "\r\n",
    "dataImages = data[:,0]\r\n",
    "dataLabels = data[:,1].astype('uint8')\r\n"
   ],
   "outputs": [],
   "metadata": {}
  },
  {
   "cell_type": "code",
   "execution_count": null,
   "source": [
    "dataShape = (len(dataImages),)+dataImages[0].shape\r\n",
    "print(dataShape)\r\n"
   ],
   "outputs": [],
   "metadata": {}
  },
  {
   "cell_type": "code",
   "execution_count": null,
   "source": [
    "# expand the dim of dataset\r\n",
    "a = np.empty(dataShape, dtype=np.uint8)\r\n",
    "\r\n",
    "for i in range(len(dataImages)):\r\n",
    "    a[i] = dataImages[i].astype('uint8')\r\n",
    "\r\n",
    "dataImages = a"
   ],
   "outputs": [],
   "metadata": {}
  },
  {
   "cell_type": "code",
   "execution_count": null,
   "source": [
    "# Split the data up in train and test sets\r\n",
    "trainImages, testImages, trainLabels, testLabels = train_test_split(dataImages, dataLabels, test_size=0.33, random_state=42)\r\n",
    "\r\n",
    "classNames = ['Clean', 'Contaminated']"
   ],
   "outputs": [],
   "metadata": {}
  },
  {
   "cell_type": "code",
   "execution_count": null,
   "source": [
    "trainImages.shape"
   ],
   "outputs": [],
   "metadata": {}
  },
  {
   "cell_type": "code",
   "execution_count": null,
   "source": [
    "trainImages.dtype"
   ],
   "outputs": [],
   "metadata": {}
  },
  {
   "cell_type": "code",
   "execution_count": null,
   "source": [
    "trainImages[0]"
   ],
   "outputs": [],
   "metadata": {}
  },
  {
   "cell_type": "code",
   "execution_count": null,
   "source": [
    "len(trainLabels)"
   ],
   "outputs": [],
   "metadata": {}
  },
  {
   "cell_type": "code",
   "execution_count": null,
   "source": [
    "trainLabels"
   ],
   "outputs": [],
   "metadata": {}
  },
  {
   "cell_type": "code",
   "execution_count": null,
   "source": [
    "import matplotlib.pyplot as plt\r\n",
    "\r\n",
    "plt.figure()\r\n",
    "plt.imshow(trainImages[0])\r\n",
    "plt.colorbar()\r\n",
    "plt.grid(False)\r\n",
    "plt.show()"
   ],
   "outputs": [],
   "metadata": {}
  },
  {
   "cell_type": "code",
   "execution_count": null,
   "source": [
    "trainImages = trainImages / 255.0\r\n",
    "\r\n",
    "testImages = testImages / 255.0"
   ],
   "outputs": [],
   "metadata": {}
  },
  {
   "cell_type": "code",
   "execution_count": null,
   "source": [
    "import matplotlib.pyplot as plt\r\n",
    "\r\n",
    "plt.figure(figsize=(10,10))\r\n",
    "for i in range(25):\r\n",
    "    plt.subplot(5,5,i+1)\r\n",
    "    plt.xticks([])\r\n",
    "    plt.yticks([])\r\n",
    "    plt.grid(False)\r\n",
    "    plt.imshow(trainImages[i], cmap=plt.cm.binary)\r\n",
    "    plt.xlabel(classNames[trainLabels[i]])\r\n",
    "plt.show()"
   ],
   "outputs": [],
   "metadata": {}
  },
  {
   "cell_type": "code",
   "execution_count": null,
   "source": [
    "size = trainImages[0].shape\r\n",
    "size"
   ],
   "outputs": [],
   "metadata": {}
  },
  {
   "cell_type": "code",
   "execution_count": null,
   "source": [
    "import tensorflow as tf\r\n",
    "\r\n",
    "\r\n",
    "model = tf.keras.Sequential([\r\n",
    "    # tf.keras.layers.Flatten(input_shape=(28, 28)),\r\n",
    "    tf.keras.layers.Flatten(input_shape=size),\r\n",
    "    tf.keras.layers.Dense(128, activation='relu'),\r\n",
    "    tf.keras.layers.Dense(10)\r\n",
    "])"
   ],
   "outputs": [],
   "metadata": {}
  },
  {
   "cell_type": "code",
   "execution_count": null,
   "source": [
    "model.compile(optimizer='adam',\r\n",
    "              loss=tf.keras.losses.SparseCategoricalCrossentropy(from_logits=True),\r\n",
    "              metrics=['accuracy'])"
   ],
   "outputs": [],
   "metadata": {}
  },
  {
   "cell_type": "code",
   "execution_count": null,
   "source": [
    "model.fit(trainImages, trainLabels, epochs=10)"
   ],
   "outputs": [],
   "metadata": {}
  },
  {
   "cell_type": "code",
   "execution_count": null,
   "source": [
    "testLoss, testAcc = model.evaluate(testImages,  testLabels, verbose=2)\r\n",
    "\r\n",
    "print('\\nTest accuracy:', testAcc)"
   ],
   "outputs": [],
   "metadata": {}
  },
  {
   "cell_type": "code",
   "execution_count": null,
   "source": [
    "probabilityModel = tf.keras.Sequential([model, \r\n",
    "                                         tf.keras.layers.Softmax()])"
   ],
   "outputs": [],
   "metadata": {}
  },
  {
   "cell_type": "code",
   "execution_count": null,
   "source": [
    "predictions = probabilityModel.predict(testImages)"
   ],
   "outputs": [],
   "metadata": {}
  },
  {
   "cell_type": "code",
   "execution_count": null,
   "source": [
    "predictions[0]"
   ],
   "outputs": [],
   "metadata": {}
  },
  {
   "cell_type": "code",
   "execution_count": null,
   "source": [
    "np.argmax(predictions[0])"
   ],
   "outputs": [],
   "metadata": {}
  },
  {
   "cell_type": "code",
   "execution_count": null,
   "source": [
    "testLabels[0]"
   ],
   "outputs": [],
   "metadata": {}
  },
  {
   "cell_type": "code",
   "execution_count": null,
   "source": [
    "def plot_image(i, predictionsArray, trueLabels, img):\r\n",
    "  trueLabel, img = trueLabels[i], img[i]\r\n",
    "  plt.grid(False)\r\n",
    "  plt.xticks([])\r\n",
    "  plt.yticks([])\r\n",
    "\r\n",
    "  plt.imshow(img, cmap=plt.cm.binary)\r\n",
    "\r\n",
    "  predictedLabel = np.argmax(predictionsArray)\r\n",
    "  if predictedLabel == trueLabel:\r\n",
    "    color = 'blue'\r\n",
    "  else:\r\n",
    "    color = 'red'\r\n",
    "\r\n",
    "  plt.xlabel(\"{} {:2.0f}% ({})\".format(classNames[predictedLabel],\r\n",
    "                                100*np.max(predictionsArray),\r\n",
    "                                classNames[trueLabel]),\r\n",
    "                                color=color)\r\n",
    "\r\n",
    "def plot_value_array(i, predictionsArray, trueLabels):\r\n",
    "  trueLabel = trueLabels[i]\r\n",
    "  plt.grid(False)\r\n",
    "  plt.xticks(range(2))\r\n",
    "  plt.yticks([])\r\n",
    "  thisplot = plt.bar(range(10), predictionsArray, color=\"#777777\")\r\n",
    "  plt.ylim([0, 1])\r\n",
    "  predictedLabel = np.argmax(predictionsArray)\r\n",
    "\r\n",
    "  thisplot[predictedLabel].set_color('red')\r\n",
    "  thisplot[trueLabel].set_color('blue')"
   ],
   "outputs": [],
   "metadata": {}
  },
  {
   "cell_type": "code",
   "execution_count": null,
   "source": [
    "i = 0\r\n",
    "plt.figure(figsize=(6,3))\r\n",
    "plt.subplot(1,2,1)\r\n",
    "plot_image(i, predictions[i], testLabels, testImages)\r\n",
    "plt.subplot(1,2,2)\r\n",
    "plot_value_array(i, predictions[i],  testLabels)\r\n",
    "plt.show()"
   ],
   "outputs": [],
   "metadata": {}
  },
  {
   "cell_type": "code",
   "execution_count": null,
   "source": [
    "i = 12\r\n",
    "plt.figure(figsize=(6,3))\r\n",
    "plt.subplot(1,2,1)\r\n",
    "plot_image(i, predictions[i], testLabels, testImages)\r\n",
    "plt.subplot(1,2,2)\r\n",
    "plot_value_array(i, predictions[i],  testLabels)\r\n",
    "plt.show()"
   ],
   "outputs": [],
   "metadata": {}
  },
  {
   "cell_type": "code",
   "execution_count": null,
   "source": [
    "# Plot the first X test images, their predicted labels, and the true labels.\r\n",
    "# Color correct predictions in blue and incorrect predictions in red.\r\n",
    "num_rows = 5\r\n",
    "num_cols = 3\r\n",
    "num_images = num_rows*num_cols\r\n",
    "plt.figure(figsize=(2*2*num_cols, 2*num_rows))\r\n",
    "for i in range(num_images):\r\n",
    "    plt.subplot(num_rows, 2*num_cols, 2*i+1)\r\n",
    "    plot_image(i, predictions[i], testLabels, testImages)\r\n",
    "    plt.subplot(num_rows, 2*num_cols, 2*i+2)\r\n",
    "    plot_value_array(i, predictions[i], testLabels)\r\n",
    "plt.tight_layout()\r\n",
    "plt.show()"
   ],
   "outputs": [],
   "metadata": {}
  },
  {
   "cell_type": "code",
   "execution_count": null,
   "source": [
    "# Grab an image from the test dataset.\r\n",
    "img = testImages[1]\r\n",
    "\r\n",
    "print(img.shape)"
   ],
   "outputs": [],
   "metadata": {}
  },
  {
   "cell_type": "code",
   "execution_count": null,
   "source": [
    "# Add the image to a batch where it's the only member.\r\n",
    "img = (np.expand_dims(img,0))\r\n",
    "\r\n",
    "print(img.shape)\r\n",
    "print(img)"
   ],
   "outputs": [],
   "metadata": {}
  },
  {
   "cell_type": "code",
   "execution_count": null,
   "source": [
    "predictionsSingle = probabilityModel.predict(img)\r\n",
    "\r\n",
    "print(predictionsSingle)"
   ],
   "outputs": [],
   "metadata": {}
  },
  {
   "cell_type": "code",
   "execution_count": null,
   "source": [
    "plot_value_array(1, predictionsSingle[0], testLabels)\r\n",
    "_ = plt.xticks(range(10), classNames, rotation=45)\r\n",
    "plt.show()"
   ],
   "outputs": [],
   "metadata": {}
  },
  {
   "cell_type": "code",
   "execution_count": null,
   "source": [
    "np.argmax(predictionsSingle[0])"
   ],
   "outputs": [],
   "metadata": {}
  },
  {
   "cell_type": "code",
   "execution_count": null,
   "source": [
    "import os\r\n",
    "\r\n",
    "modelDir = 'tf_model'\r\n",
    "version = \"1\"\r\n",
    "\r\n",
    "exportPath = os.path.join(modelDir, version)\r\n",
    "\r\n",
    "# save the model\r\n",
    "model.save(exportPath, save_format=\"tf\")\r\n",
    "\r\n",
    "print('\\nexport path = {}'.format(exportPath))\r\n",
    "\r\n",
    "!dir {exportPath}"
   ],
   "outputs": [],
   "metadata": {}
  },
  {
   "cell_type": "code",
   "execution_count": null,
   "source": [
    "import json\r\n",
    "# create json object\r\n",
    "\r\n",
    "jsonData = json.dumps({\"signature_name\":\"serving_default\", \"instances\":testImages[:2].tolist()})"
   ],
   "outputs": [],
   "metadata": {}
  },
  {
   "cell_type": "code",
   "execution_count": null,
   "source": [
    "import requests\r\n",
    "headers = {\"content-type\":\"application/json\"}\r\n",
    "json_response = requests.post('http://localhost:8501/v1/models/giwa:predict', data=jsonData, headers=headers)\r\n",
    "\r\n",
    "predictions = json.loads(json_response.text)['predictions']"
   ],
   "outputs": [],
   "metadata": {}
  },
  {
   "cell_type": "code",
   "execution_count": null,
   "source": [
    "pred = [np.argmax(predictions[p]) for p in range(len(predictions))]\r\n",
    "print(\"Predictions: \", pred)\r\n",
    "print(\"Actual: \", testLabels[:2].tolist())"
   ],
   "outputs": [],
   "metadata": {}
  },
  {
   "cell_type": "code",
   "execution_count": null,
   "source": [],
   "outputs": [],
   "metadata": {}
  }
 ],
 "metadata": {
  "interpreter": {
   "hash": "c1a7846af735771808fbc8272134e7984cc669109ae413ca91ad8b74a534aa1b"
  },
  "kernelspec": {
   "name": "python3",
   "display_name": "Python 3.9.6 64-bit"
  },
  "language_info": {
   "codemirror_mode": {
    "name": "ipython",
    "version": 3
   },
   "file_extension": ".py",
   "mimetype": "text/x-python",
   "name": "python",
   "nbconvert_exporter": "python",
   "pygments_lexer": "ipython3",
   "version": "3.9.6"
  }
 },
 "nbformat": 4,
 "nbformat_minor": 4
}