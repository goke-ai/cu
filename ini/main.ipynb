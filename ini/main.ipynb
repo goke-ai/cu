{
 "cells": [
  {
   "cell_type": "code",
   "execution_count": null,
   "metadata": {},
   "outputs": [],
   "source": [
    "# TensorFlow and tf.keras\n",
    "import tensorflow as tf\n",
    "\n",
    "# Helper libraries\n",
    "import numpy as np\n",
    "import matplotlib.pyplot as plt\n",
    "from sklearn.model_selection import train_test_split\n",
    "\n",
    "print(tf.__version__)"
   ]
  },
  {
   "cell_type": "code",
   "execution_count": 1,
   "metadata": {},
   "outputs": [],
   "source": [
    "import numpy as np\n",
    "# from sklearn.model_selection import train_test_split\n",
    "\n",
    "datasetFileName = \"dataset.npz\"\n",
    "with np.load(datasetFileName) as data:\n",
    "    dataImages = data['images']\n",
    "    dataLabels = data['labels']\n",
    "\n",
    "classNames = ['Clean', 'Contaminated']\n"
   ]
  },
  {
   "cell_type": "code",
   "execution_count": 2,
   "metadata": {},
   "outputs": [
    {
     "name": "stdout",
     "output_type": "stream",
     "text": [
      "(248, 326, 244, 3)\n"
     ]
    },
    {
     "data": {
      "text/plain": [
       "dtype('uint8')"
      ]
     },
     "execution_count": 2,
     "metadata": {},
     "output_type": "execute_result"
    }
   ],
   "source": [
    "print(dataImages.shape)\n",
    "dataImages.dtype\n"
   ]
  },
  {
   "cell_type": "code",
   "execution_count": null,
   "metadata": {},
   "outputs": [],
   "source": [
    "# dataShape = (len(dataImages),)+dataImages[0].shape\n",
    "# print(dataShape)"
   ]
  },
  {
   "cell_type": "code",
   "execution_count": null,
   "metadata": {},
   "outputs": [],
   "source": [
    "# a = np.empty(dataShape, dtype=np.uint8)\n",
    "\n",
    "# for i in range(len(dataImages)):\n",
    "#     a[i] = dataImages[i].astype('uint8')\n",
    "\n",
    "# dataImages = a\n",
    "\n",
    "# del a"
   ]
  },
  {
   "cell_type": "code",
   "execution_count": null,
   "metadata": {},
   "outputs": [],
   "source": [
    "print(dataLabels.shape)\n",
    "dataLabels.dtype\n"
   ]
  },
  {
   "cell_type": "code",
   "execution_count": null,
   "metadata": {},
   "outputs": [],
   "source": [
    "# dataLabels = np.uint8(dataLabels)\n",
    "\n",
    "# print(dataLabels.shape)\n",
    "# dataLabels.dtype"
   ]
  },
  {
   "cell_type": "code",
   "execution_count": null,
   "metadata": {},
   "outputs": [],
   "source": [
    "\n",
    "# Split the data up in train and test sets\n",
    "trainImages, testImages, trainLabels, testLabels = train_test_split(dataImages, dataLabels, test_size=0.33, random_state=42)\n"
   ]
  },
  {
   "cell_type": "code",
   "execution_count": null,
   "metadata": {},
   "outputs": [],
   "source": [
    "trainImages.shape"
   ]
  },
  {
   "cell_type": "code",
   "execution_count": null,
   "metadata": {},
   "outputs": [],
   "source": [
    "trainImages.dtype"
   ]
  },
  {
   "cell_type": "code",
   "execution_count": null,
   "metadata": {},
   "outputs": [],
   "source": [
    "trainImages[0]"
   ]
  },
  {
   "cell_type": "code",
   "execution_count": null,
   "metadata": {},
   "outputs": [],
   "source": [
    "len(trainLabels)"
   ]
  },
  {
   "cell_type": "code",
   "execution_count": null,
   "metadata": {},
   "outputs": [],
   "source": [
    "trainLabels"
   ]
  },
  {
   "cell_type": "code",
   "execution_count": null,
   "metadata": {},
   "outputs": [],
   "source": [
    "import matplotlib.pyplot as plt\n",
    "\n",
    "plt.figure()\n",
    "plt.imshow(trainImages[0])\n",
    "plt.xlabel(classNames[trainLabels[0]])\n",
    "plt.colorbar()\n",
    "plt.grid(False)\n",
    "plt.show()"
   ]
  },
  {
   "cell_type": "code",
   "execution_count": null,
   "metadata": {},
   "outputs": [],
   "source": [
    "trainImages = trainImages / 255.0\n",
    "\n",
    "testImages = testImages / 255.0"
   ]
  },
  {
   "cell_type": "code",
   "execution_count": null,
   "metadata": {},
   "outputs": [],
   "source": [
    "import matplotlib.pyplot as plt\n",
    "\n",
    "plt.figure(figsize=(10,10))\n",
    "for i in range(25):\n",
    "    plt.subplot(5,5,i+1)\n",
    "    plt.xticks([])\n",
    "    plt.yticks([])\n",
    "    plt.grid(False)\n",
    "    plt.imshow(trainImages[i], cmap=plt.cm.binary)\n",
    "    plt.xlabel(classNames[trainLabels[i]])\n",
    "plt.show()"
   ]
  },
  {
   "cell_type": "code",
   "execution_count": null,
   "metadata": {},
   "outputs": [],
   "source": [
    "inputShape = trainImages[0].shape\n",
    "print(inputShape)\n",
    "outputShape = len(classNames)\n",
    "print(outputShape)"
   ]
  },
  {
   "cell_type": "code",
   "execution_count": null,
   "metadata": {},
   "outputs": [],
   "source": [
    "import tensorflow as tf\n",
    "\n",
    "model = tf.keras.Sequential([\n",
    "    # tf.keras.layers.Flatten(input_shape=(28, 28)),\n",
    "    tf.keras.layers.Flatten(input_shape=inputShape),\n",
    "    tf.keras.layers.Dense(128, activation='relu'),\n",
    "    tf.keras.layers.Dense(outputShape)\n",
    "])\n",
    "model.summary()\n"
   ]
  },
  {
   "cell_type": "code",
   "execution_count": null,
   "metadata": {},
   "outputs": [],
   "source": [
    "model.compile(optimizer='adam',\n",
    "              loss=tf.keras.losses.SparseCategoricalCrossentropy(from_logits=True),\n",
    "              metrics=['accuracy'])"
   ]
  },
  {
   "cell_type": "code",
   "execution_count": null,
   "metadata": {},
   "outputs": [],
   "source": [
    "model.fit(trainImages, trainLabels, epochs=10)"
   ]
  },
  {
   "cell_type": "code",
   "execution_count": null,
   "metadata": {},
   "outputs": [],
   "source": [
    "testLoss, testAcc = model.evaluate(testImages,  testLabels, verbose=2)\n",
    "\n",
    "print('\\nTest accuracy:', testAcc)"
   ]
  },
  {
   "cell_type": "code",
   "execution_count": null,
   "metadata": {},
   "outputs": [],
   "source": [
    "predictions = model.predict(testImages)\n",
    "predictions[0]"
   ]
  },
  {
   "cell_type": "code",
   "execution_count": null,
   "metadata": {},
   "outputs": [],
   "source": [
    "np.argmax(predictions[0])"
   ]
  },
  {
   "cell_type": "code",
   "execution_count": null,
   "metadata": {},
   "outputs": [],
   "source": [
    "testLabels[0]"
   ]
  },
  {
   "cell_type": "code",
   "execution_count": null,
   "metadata": {},
   "outputs": [],
   "source": [
    "probabilityModel = tf.keras.Sequential([model, tf.keras.layers.Softmax()])\n"
   ]
  },
  {
   "cell_type": "code",
   "execution_count": null,
   "metadata": {},
   "outputs": [],
   "source": [
    "predictions = probabilityModel.predict(testImages)\n"
   ]
  },
  {
   "cell_type": "code",
   "execution_count": null,
   "metadata": {},
   "outputs": [],
   "source": [
    "predictions[0]"
   ]
  },
  {
   "cell_type": "code",
   "execution_count": null,
   "metadata": {},
   "outputs": [],
   "source": [
    "np.argmax(predictions[0])"
   ]
  },
  {
   "cell_type": "code",
   "execution_count": null,
   "metadata": {},
   "outputs": [],
   "source": [
    "testLabels[0]"
   ]
  },
  {
   "cell_type": "code",
   "execution_count": null,
   "metadata": {},
   "outputs": [],
   "source": [
    "import matplotlib.pyplot as plt\n",
    "\n",
    "def plot_image(i, predictionsArray, trueLabels, img):\n",
    "  trueLabel, img = trueLabels[i], img[i]\n",
    "  plt.grid(False)\n",
    "  plt.xticks([])\n",
    "  plt.yticks([])\n",
    "\n",
    "  plt.imshow(img, cmap=plt.cm.binary)\n",
    "\n",
    "  predictedLabel = np.argmax(predictionsArray)\n",
    "  if predictedLabel == trueLabel:\n",
    "    color = 'blue'\n",
    "  else:\n",
    "    color = 'red'\n",
    "\n",
    "  plt.xlabel(\"{} {:2.0f}% ({})\".format(classNames[predictedLabel],\n",
    "                                100*np.max(predictionsArray),\n",
    "                                classNames[trueLabel]),\n",
    "                                color=color)\n",
    "\n",
    "def plot_value_array(i, predictionsArray, trueLabels):\n",
    "  trueLabel = trueLabels[i]\n",
    "  plt.grid(False)\n",
    "  plt.xticks(range(outputShape))\n",
    "  plt.yticks([])\n",
    "  thisplot = plt.bar(range(outputShape), predictionsArray, color=\"#777777\")\n",
    "  plt.ylim([0, 1])\n",
    "  predictedLabel = np.argmax(predictionsArray)\n",
    "\n",
    "  thisplot[predictedLabel].set_color('red')\n",
    "  thisplot[trueLabel].set_color('blue')"
   ]
  },
  {
   "cell_type": "code",
   "execution_count": null,
   "metadata": {},
   "outputs": [],
   "source": [
    "import matplotlib.pyplot as plt\n",
    "\n",
    "i = 0\n",
    "plt.figure(figsize=(6,3))\n",
    "plt.subplot(1,2,1)\n",
    "plot_image(i, predictions[i], testLabels, testImages)\n",
    "plt.subplot(1,2,2)\n",
    "plot_value_array(i, predictions[i],  testLabels)\n",
    "plt.show()"
   ]
  },
  {
   "cell_type": "code",
   "execution_count": null,
   "metadata": {},
   "outputs": [],
   "source": [
    "import matplotlib.pyplot as plt\n",
    "\n",
    "i = 12\n",
    "plt.figure(figsize=(6,3))\n",
    "plt.subplot(1,2,1)\n",
    "plot_image(i, predictions[i], testLabels, testImages)\n",
    "plt.subplot(1,2,2)\n",
    "plot_value_array(i, predictions[i],  testLabels)\n",
    "plt.show()"
   ]
  },
  {
   "cell_type": "code",
   "execution_count": null,
   "metadata": {},
   "outputs": [],
   "source": [
    "testLabels[i]"
   ]
  },
  {
   "cell_type": "code",
   "execution_count": null,
   "metadata": {},
   "outputs": [],
   "source": [
    "import matplotlib.pyplot as plt\n",
    "\n",
    "# Plot the first X test images, their predicted labels, and the true labels.\n",
    "# Color correct predictions in blue and incorrect predictions in red.\n",
    "high = testLabels.shape[0]\n",
    "numRows = 5\n",
    "numCols = 3\n",
    "numImages = numRows*numCols\n",
    "\n",
    "selectedIndex = np.random.randint(0, high, size=numImages)\n",
    "\n",
    "somePredictions = predictions[selectedIndex]\n",
    "someImages = testImages[selectedIndex]\n",
    "someLabels = testLabels[selectedIndex]\n",
    "\n",
    "plt.figure(figsize=(2*2*numCols, 2*numRows))\n",
    "for i in range(numImages):\n",
    "    plt.subplot(numRows, 2*numCols, 2*i+1)\n",
    "    plot_image(i, predictions[i], someLabels, someImages)\n",
    "    plt.subplot(numRows, 2*numCols, 2*i+2)\n",
    "    plot_value_array(i, predictions[i], testLabels)\n",
    "plt.tight_layout()\n",
    "plt.show()"
   ]
  },
  {
   "cell_type": "code",
   "execution_count": null,
   "metadata": {},
   "outputs": [],
   "source": [
    "# Grab an image from the test dataset.\n",
    "img = testImages[1]\n",
    "\n",
    "print(img.shape)"
   ]
  },
  {
   "cell_type": "code",
   "execution_count": null,
   "metadata": {},
   "outputs": [],
   "source": [
    "import numpy as np\n",
    "\n",
    "# Add the image to a batch where it's the only member.\n",
    "img = (np.expand_dims(img,0))\n",
    "\n",
    "print(img.shape)"
   ]
  },
  {
   "cell_type": "code",
   "execution_count": null,
   "metadata": {},
   "outputs": [],
   "source": [
    "predictionsSingle = probabilityModel.predict(img)\n",
    "\n",
    "print(predictionsSingle)"
   ]
  },
  {
   "cell_type": "code",
   "execution_count": null,
   "metadata": {},
   "outputs": [],
   "source": [
    "plot_value_array(1, predictionsSingle[0], testLabels)\n",
    "_ = plt.xticks(range(outputShape), classNames, rotation=45)\n",
    "plt.show()"
   ]
  },
  {
   "cell_type": "code",
   "execution_count": null,
   "metadata": {},
   "outputs": [],
   "source": [
    "np.argmax(predictionsSingle[0])"
   ]
  },
  {
   "cell_type": "code",
   "execution_count": null,
   "metadata": {},
   "outputs": [],
   "source": [
    "print(testAcc)\n",
    "\n",
    "version = f'{testAcc*100:.0f}'\n",
    "\n",
    "print(version)\n",
    "\n"
   ]
  },
  {
   "cell_type": "code",
   "execution_count": null,
   "metadata": {},
   "outputs": [],
   "source": [
    "import os\n",
    "\n",
    "exportPath = \"\"\n",
    "\n",
    "if testAcc > 0.95:\n",
    "    modelDir = 'tf_model'\n",
    "    version = f\"4_{(testAcc*100):.0f}\"\n",
    "\n",
    "    # for SavedModel format\n",
    "    exportPath = os.path.join(modelDir, version)\n",
    "    # save the model\n",
    "    model.save(exportPath, save_format=\"tf\")\n",
    "\n",
    "    print('\\nexport path = {}'.format(exportPath))\n",
    "\n",
    "    !dir {exportPath}"
   ]
  },
  {
   "cell_type": "code",
   "execution_count": null,
   "metadata": {},
   "outputs": [],
   "source": [
    "x_img = testImages[5]\n",
    "\n",
    "plt.imshow(x_img)\n",
    "plt.xlabel(classNames[testLabels[5]])\n",
    "plt.show()"
   ]
  },
  {
   "cell_type": "code",
   "execution_count": null,
   "metadata": {},
   "outputs": [],
   "source": [
    "# load SavedModel format\n",
    "\n",
    "newModel = tf.keras.models.load_model(exportPath)\n",
    "\n",
    "# Check its architecture\n",
    "newModel.summary()"
   ]
  },
  {
   "cell_type": "code",
   "execution_count": null,
   "metadata": {},
   "outputs": [],
   "source": [
    "# Evaluate the restored model\n",
    "loss, acc = newModel.evaluate(testImages, testLabels, verbose=2)\n",
    "print('Restored model, accuracy: {:5.2f}%'.format(100 * acc))\n",
    "\n",
    "newPredictions = newModel.predict(testImages)\n",
    "\n",
    "print(newPredictions.shape)"
   ]
  },
  {
   "cell_type": "code",
   "execution_count": null,
   "metadata": {},
   "outputs": [],
   "source": [
    "print(\"prediction: \", np.argmax(newPredictions[0]))\n",
    "print(\"actual: \", testLabels[0])\n"
   ]
  },
  {
   "cell_type": "code",
   "execution_count": null,
   "metadata": {},
   "outputs": [],
   "source": [
    "testLabels[0]"
   ]
  },
  {
   "cell_type": "code",
   "execution_count": null,
   "metadata": {},
   "outputs": [],
   "source": [
    "import json\n",
    "# create json object\n",
    "\n",
    "jsonData = json.dumps({\"signature_name\":\"serving_default\", \"instances\":testImages[34].tolist()})"
   ]
  },
  {
   "cell_type": "code",
   "execution_count": null,
   "metadata": {},
   "outputs": [],
   "source": [
    "import requests\n",
    "\n",
    "apiRunning=False\n",
    "\n",
    "if apiRunning == True:\n",
    "    headers = {\"content-type\":\"application/json\"}\n",
    "    json_response = requests.post('http://localhost:8501/v1/models/giwa:predict', data=jsonData, headers=headers)\n",
    "\n",
    "    predictions = json.loads(json_response.text)['predictions']\n",
    "\n",
    "    pred = [np.argmax(predictions[p]) for p in range(len(predictions))]\n",
    "    print(\"Predictions: \", pred)\n",
    "    print(\"Actual: \", testLabels[5].tolist())"
   ]
  },
  {
   "cell_type": "code",
   "execution_count": null,
   "metadata": {},
   "outputs": [],
   "source": [
    "#  HDF5 format\n",
    "\n",
    "import os\n",
    "\n",
    "exportPath = \"\"\n",
    "\n",
    "if testAcc > 0.95:\n",
    "    modelDir = 'tf_model'\n",
    "    version = f\"4_{(testAcc*100):.0f}\"\n",
    "\n",
    "    # for HDF5 format\n",
    "    exportPath = os.path.join(modelDir, f\"{version}.h5\")\n",
    "    # Save the entire model to a HDF5 file.\n",
    "    # The '.h5' extension indicates that the model should be saved to HDF5.\n",
    "    model.save(exportPath)\n",
    "\n",
    "    !dir {exportPath}"
   ]
  },
  {
   "cell_type": "code",
   "execution_count": null,
   "metadata": {},
   "outputs": [],
   "source": [
    "\n",
    "# Recreate the exact same model, including its weights and the optimizer\n",
    "newModelHF = tf.keras.models.load_model(exportPath)\n",
    "\n",
    "# Show the model architecture\n",
    "newModelHF.summary()"
   ]
  },
  {
   "cell_type": "code",
   "execution_count": null,
   "metadata": {},
   "outputs": [],
   "source": [
    "# Evaluate the restored model\n",
    "loss, acc = newModelHF.evaluate(testImages, testLabels, verbose=2)\n",
    "print('Restored model, accuracy: {:5.2f}%'.format(100 * acc))\n",
    "\n",
    "newPredictions = newModelHF.predict(testImages)\n",
    "\n",
    "print(newPredictions.shape)"
   ]
  },
  {
   "cell_type": "code",
   "execution_count": null,
   "metadata": {},
   "outputs": [],
   "source": [
    "print(\"prediction: \", np.argmax(newPredictions[0]))\n",
    "print(\"actual: \", testLabels[0])\n"
   ]
  }
 ],
 "metadata": {
  "interpreter": {
   "hash": "c1a7846af735771808fbc8272134e7984cc669109ae413ca91ad8b74a534aa1b"
  },
  "kernelspec": {
   "display_name": "Python 3.9.6 64-bit",
   "name": "python3"
  },
  "language_info": {
   "codemirror_mode": {
    "name": "ipython",
    "version": 3
   },
   "file_extension": ".py",
   "mimetype": "text/x-python",
   "name": "python",
   "nbconvert_exporter": "python",
   "pygments_lexer": "ipython3",
   "version": "3.10.0"
  }
 },
 "nbformat": 4,
 "nbformat_minor": 4
}
