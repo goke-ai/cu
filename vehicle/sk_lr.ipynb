{
 "metadata": {
  "language_info": {
   "codemirror_mode": {
    "name": "ipython",
    "version": 3
   },
   "file_extension": ".py",
   "mimetype": "text/x-python",
   "name": "python",
   "nbconvert_exporter": "python",
   "pygments_lexer": "ipython3",
   "version": "3.8.5"
  },
  "orig_nbformat": 2,
  "kernelspec": {
   "name": "python385jvsc74a57bd0916dbcbb3f70747c44a77c7bcd40155683ae19c65e1c03b4aa3499c5328201f1",
   "display_name": "Python 3.8.5 64-bit"
  },
  "metadata": {
   "interpreter": {
    "hash": "916dbcbb3f70747c44a77c7bcd40155683ae19c65e1c03b4aa3499c5328201f1"
   }
  }
 },
 "nbformat": 4,
 "nbformat_minor": 2,
 "cells": [
  {
   "cell_type": "code",
   "execution_count": 8,
   "metadata": {},
   "outputs": [],
   "source": [
    "import matplotlib.pyplot as plt\n",
    "import numpy as np\n",
    "import pandas as pd\n",
    "import seaborn as sns"
   ]
  },
  {
   "cell_type": "code",
   "execution_count": 9,
   "metadata": {},
   "outputs": [
    {
     "output_type": "execute_result",
     "data": {
      "text/plain": [
       "        SN    Make    Yr FuelType  VehicleUse    CO   CO2     O2   HC  lamda  \\\n",
       "1        1   Honda  2006   Petrol  Commercial  0.00  13.5   1.55    0   1.08   \n",
       "2        2   Honda  2007   Petrol  Commercial  0.00  14.7   0.08   10   1.00   \n",
       "3        3  Toyota  2011   Petrol  Commercial  0.00  14.6   0.72    1   1.04   \n",
       "4        4  Toyota  1998   Petrol    Official  0.00  10.2   3.15    1   1.22   \n",
       "5        5  Toyota  2002   Petrol    Official  0.00  14.5   0.60    1   1.03   \n",
       "...    ...     ...   ...      ...         ...   ...   ...    ...  ...    ...   \n",
       "2761  2796  Toyota  1987   Petrol     Private  4.49   5.8  11.29  603   1.51   \n",
       "2762  2797  Toyota  2007   Petrol  Commercial  4.51  11.9   0.47  388   0.88   \n",
       "2763  2798  Nissan  1984   Petrol     Private  4.51  10.9   1.55  203   0.93   \n",
       "2764  2799  Nissan  1986   Petrol     Private  4.55   9.9   3.44  679   1.00   \n",
       "2765  2800  Nissan  1989   Petrol    Official  4.65   8.3   5.61  138   1.13   \n",
       "\n",
       "      ...     Age_A      CO_A     CO2_A      O2_A      HC_A     Age_N  \\\n",
       "1     ...  0.507334  0.000000  0.856125  0.098296  0.000000  0.007586   \n",
       "2     ...  0.366348  0.000000  0.769332  0.004187  0.523355  0.006638   \n",
       "3     ...  0.200590  0.000000  0.976205  0.048142  0.066863  0.002845   \n",
       "4     ...  0.830721  0.000000  0.529584  0.163548  0.051920  0.015172   \n",
       "5     ...  0.636347  0.000000  0.768920  0.031817  0.053029  0.011379   \n",
       "...   ...       ...       ...       ...       ...       ...       ...   \n",
       "2761  ...  0.044720  0.007437  0.009607  0.018700  0.998751  0.025603   \n",
       "2762  ...  0.018029  0.011616  0.030649  0.001210  0.999299  0.006638   \n",
       "2763  ...  0.145950  0.021941  0.053029  0.007541  0.987597  0.028447   \n",
       "2764  ...  0.041196  0.006694  0.014566  0.005061  0.999010  0.026551   \n",
       "2765  ...  0.177708  0.033054  0.058999  0.039878  0.980947  0.023706   \n",
       "\n",
       "          CO_N     CO2_N      O2_N      HC_N  \n",
       "1     0.000000  0.021640  0.005918  0.000000  \n",
       "2     0.000000  0.023564  0.000305  0.000628  \n",
       "3     0.000000  0.023403  0.002749  0.000063  \n",
       "4     0.000000  0.016350  0.012027  0.000063  \n",
       "5     0.000000  0.023243  0.002291  0.000063  \n",
       "...        ...       ...       ...       ...  \n",
       "2761  0.058813  0.009297  0.043108  0.037891  \n",
       "2762  0.059075  0.019075  0.001795  0.024381  \n",
       "2763  0.059075  0.017472  0.005918  0.012756  \n",
       "2764  0.059599  0.015869  0.013135  0.042666  \n",
       "2765  0.060909  0.013305  0.021420  0.008671  \n",
       "\n",
       "[2765 rows x 80 columns]"
      ],
      "text/html": "<div>\n<style scoped>\n    .dataframe tbody tr th:only-of-type {\n        vertical-align: middle;\n    }\n\n    .dataframe tbody tr th {\n        vertical-align: top;\n    }\n\n    .dataframe thead th {\n        text-align: right;\n    }\n</style>\n<table border=\"1\" class=\"dataframe\">\n  <thead>\n    <tr style=\"text-align: right;\">\n      <th></th>\n      <th>SN</th>\n      <th>Make</th>\n      <th>Yr</th>\n      <th>FuelType</th>\n      <th>VehicleUse</th>\n      <th>CO</th>\n      <th>CO2</th>\n      <th>O2</th>\n      <th>HC</th>\n      <th>lamda</th>\n      <th>...</th>\n      <th>Age_A</th>\n      <th>CO_A</th>\n      <th>CO2_A</th>\n      <th>O2_A</th>\n      <th>HC_A</th>\n      <th>Age_N</th>\n      <th>CO_N</th>\n      <th>CO2_N</th>\n      <th>O2_N</th>\n      <th>HC_N</th>\n    </tr>\n  </thead>\n  <tbody>\n    <tr>\n      <th>1</th>\n      <td>1</td>\n      <td>Honda</td>\n      <td>2006</td>\n      <td>Petrol</td>\n      <td>Commercial</td>\n      <td>0.00</td>\n      <td>13.5</td>\n      <td>1.55</td>\n      <td>0</td>\n      <td>1.08</td>\n      <td>...</td>\n      <td>0.507334</td>\n      <td>0.000000</td>\n      <td>0.856125</td>\n      <td>0.098296</td>\n      <td>0.000000</td>\n      <td>0.007586</td>\n      <td>0.000000</td>\n      <td>0.021640</td>\n      <td>0.005918</td>\n      <td>0.000000</td>\n    </tr>\n    <tr>\n      <th>2</th>\n      <td>2</td>\n      <td>Honda</td>\n      <td>2007</td>\n      <td>Petrol</td>\n      <td>Commercial</td>\n      <td>0.00</td>\n      <td>14.7</td>\n      <td>0.08</td>\n      <td>10</td>\n      <td>1.00</td>\n      <td>...</td>\n      <td>0.366348</td>\n      <td>0.000000</td>\n      <td>0.769332</td>\n      <td>0.004187</td>\n      <td>0.523355</td>\n      <td>0.006638</td>\n      <td>0.000000</td>\n      <td>0.023564</td>\n      <td>0.000305</td>\n      <td>0.000628</td>\n    </tr>\n    <tr>\n      <th>3</th>\n      <td>3</td>\n      <td>Toyota</td>\n      <td>2011</td>\n      <td>Petrol</td>\n      <td>Commercial</td>\n      <td>0.00</td>\n      <td>14.6</td>\n      <td>0.72</td>\n      <td>1</td>\n      <td>1.04</td>\n      <td>...</td>\n      <td>0.200590</td>\n      <td>0.000000</td>\n      <td>0.976205</td>\n      <td>0.048142</td>\n      <td>0.066863</td>\n      <td>0.002845</td>\n      <td>0.000000</td>\n      <td>0.023403</td>\n      <td>0.002749</td>\n      <td>0.000063</td>\n    </tr>\n    <tr>\n      <th>4</th>\n      <td>4</td>\n      <td>Toyota</td>\n      <td>1998</td>\n      <td>Petrol</td>\n      <td>Official</td>\n      <td>0.00</td>\n      <td>10.2</td>\n      <td>3.15</td>\n      <td>1</td>\n      <td>1.22</td>\n      <td>...</td>\n      <td>0.830721</td>\n      <td>0.000000</td>\n      <td>0.529584</td>\n      <td>0.163548</td>\n      <td>0.051920</td>\n      <td>0.015172</td>\n      <td>0.000000</td>\n      <td>0.016350</td>\n      <td>0.012027</td>\n      <td>0.000063</td>\n    </tr>\n    <tr>\n      <th>5</th>\n      <td>5</td>\n      <td>Toyota</td>\n      <td>2002</td>\n      <td>Petrol</td>\n      <td>Official</td>\n      <td>0.00</td>\n      <td>14.5</td>\n      <td>0.60</td>\n      <td>1</td>\n      <td>1.03</td>\n      <td>...</td>\n      <td>0.636347</td>\n      <td>0.000000</td>\n      <td>0.768920</td>\n      <td>0.031817</td>\n      <td>0.053029</td>\n      <td>0.011379</td>\n      <td>0.000000</td>\n      <td>0.023243</td>\n      <td>0.002291</td>\n      <td>0.000063</td>\n    </tr>\n    <tr>\n      <th>...</th>\n      <td>...</td>\n      <td>...</td>\n      <td>...</td>\n      <td>...</td>\n      <td>...</td>\n      <td>...</td>\n      <td>...</td>\n      <td>...</td>\n      <td>...</td>\n      <td>...</td>\n      <td>...</td>\n      <td>...</td>\n      <td>...</td>\n      <td>...</td>\n      <td>...</td>\n      <td>...</td>\n      <td>...</td>\n      <td>...</td>\n      <td>...</td>\n      <td>...</td>\n      <td>...</td>\n    </tr>\n    <tr>\n      <th>2761</th>\n      <td>2796</td>\n      <td>Toyota</td>\n      <td>1987</td>\n      <td>Petrol</td>\n      <td>Private</td>\n      <td>4.49</td>\n      <td>5.8</td>\n      <td>11.29</td>\n      <td>603</td>\n      <td>1.51</td>\n      <td>...</td>\n      <td>0.044720</td>\n      <td>0.007437</td>\n      <td>0.009607</td>\n      <td>0.018700</td>\n      <td>0.998751</td>\n      <td>0.025603</td>\n      <td>0.058813</td>\n      <td>0.009297</td>\n      <td>0.043108</td>\n      <td>0.037891</td>\n    </tr>\n    <tr>\n      <th>2762</th>\n      <td>2797</td>\n      <td>Toyota</td>\n      <td>2007</td>\n      <td>Petrol</td>\n      <td>Commercial</td>\n      <td>4.51</td>\n      <td>11.9</td>\n      <td>0.47</td>\n      <td>388</td>\n      <td>0.88</td>\n      <td>...</td>\n      <td>0.018029</td>\n      <td>0.011616</td>\n      <td>0.030649</td>\n      <td>0.001210</td>\n      <td>0.999299</td>\n      <td>0.006638</td>\n      <td>0.059075</td>\n      <td>0.019075</td>\n      <td>0.001795</td>\n      <td>0.024381</td>\n    </tr>\n    <tr>\n      <th>2763</th>\n      <td>2798</td>\n      <td>Nissan</td>\n      <td>1984</td>\n      <td>Petrol</td>\n      <td>Private</td>\n      <td>4.51</td>\n      <td>10.9</td>\n      <td>1.55</td>\n      <td>203</td>\n      <td>0.93</td>\n      <td>...</td>\n      <td>0.145950</td>\n      <td>0.021941</td>\n      <td>0.053029</td>\n      <td>0.007541</td>\n      <td>0.987597</td>\n      <td>0.028447</td>\n      <td>0.059075</td>\n      <td>0.017472</td>\n      <td>0.005918</td>\n      <td>0.012756</td>\n    </tr>\n    <tr>\n      <th>2764</th>\n      <td>2799</td>\n      <td>Nissan</td>\n      <td>1986</td>\n      <td>Petrol</td>\n      <td>Private</td>\n      <td>4.55</td>\n      <td>9.9</td>\n      <td>3.44</td>\n      <td>679</td>\n      <td>1.00</td>\n      <td>...</td>\n      <td>0.041196</td>\n      <td>0.006694</td>\n      <td>0.014566</td>\n      <td>0.005061</td>\n      <td>0.999010</td>\n      <td>0.026551</td>\n      <td>0.059599</td>\n      <td>0.015869</td>\n      <td>0.013135</td>\n      <td>0.042666</td>\n    </tr>\n    <tr>\n      <th>2765</th>\n      <td>2800</td>\n      <td>Nissan</td>\n      <td>1989</td>\n      <td>Petrol</td>\n      <td>Official</td>\n      <td>4.65</td>\n      <td>8.3</td>\n      <td>5.61</td>\n      <td>138</td>\n      <td>1.13</td>\n      <td>...</td>\n      <td>0.177708</td>\n      <td>0.033054</td>\n      <td>0.058999</td>\n      <td>0.039878</td>\n      <td>0.980947</td>\n      <td>0.023706</td>\n      <td>0.060909</td>\n      <td>0.013305</td>\n      <td>0.021420</td>\n      <td>0.008671</td>\n    </tr>\n  </tbody>\n</table>\n<p>2765 rows × 80 columns</p>\n</div>"
     },
     "metadata": {},
     "execution_count": 9
    }
   ],
   "source": [
    "fileName = 'ovehicle_emission_1.xls'\n",
    "rawDataset = pd.read_excel(fileName, index_col=0)\n",
    "rawDataset"
   ]
  },
  {
   "cell_type": "code",
   "execution_count": 10,
   "metadata": {},
   "outputs": [],
   "source": [
    "dataset = rawDataset.copy()"
   ]
  },
  {
   "cell_type": "code",
   "execution_count": 11,
   "metadata": {},
   "outputs": [
    {
     "output_type": "execute_result",
     "data": {
      "text/plain": [
       "Index(['SN', 'Make', 'Yr', 'FuelType', 'VehicleUse', 'CO', 'CO2', 'O2', 'HC',\n",
       "       'lamda', 'Study', 'OGEPA', 'Age', 'VehicleType', 'EUROII', 'NESREAI',\n",
       "       'AFR', 'NESREAII', 'EUROIII', 'Make_N', 'FuelType_N', 'VehicleUse_N',\n",
       "       'Study_N', 'OGEPA_N', 'VehicleType_N', 'EUROII_N', 'NESREAI_N',\n",
       "       'NESREAII_N', 'EUROIII_N', 'Make_Honda', 'Make_Mazda',\n",
       "       'Make_Mercedez B', 'Make_Mitsubushi', 'Make_Nissan', 'Make_Peugeot',\n",
       "       'Make_Toyota', 'Make_Volkswagen', 'FuelType_Petrol',\n",
       "       'VehicleUse_Commercial', 'VehicleUse_Official', 'VehicleUse_Private',\n",
       "       'Study_Failed', 'Study_Passed', 'OGEPA_Failed', 'OGEPA_Passed',\n",
       "       'VehicleType_Bullion V', 'VehicleType_Bus', 'VehicleType_CABSTAR',\n",
       "       'VehicleType_Car', 'VehicleType_Jeep', 'VehicleType_PICK-UP',\n",
       "       'VehicleType_TRUCK', 'EUROII_Failed', 'EUROII_Passed', 'NESREAI_Failed',\n",
       "       'NESREAI_Passed', 'NESREAII_Failed', 'NESREAII_Passed',\n",
       "       'EUROIII_Failed', 'EUROIII_Passed', 'Age_S', 'CO_S', 'CO2_S', 'O2_S',\n",
       "       'HC_S', 'Age_X', 'CO_X', 'CO2_X', 'O2_X', 'HC_X', 'Age_A', 'CO_A',\n",
       "       'CO2_A', 'O2_A', 'HC_A', 'Age_N', 'CO_N', 'CO2_N', 'O2_N', 'HC_N'],\n",
       "      dtype='object')"
      ]
     },
     "metadata": {},
     "execution_count": 11
    }
   ],
   "source": [
    "dataset.columns"
   ]
  },
  {
   "cell_type": "code",
   "execution_count": 25,
   "metadata": {},
   "outputs": [
    {
     "output_type": "execute_result",
     "data": {
      "text/plain": [
       "          CO_X     CO2_X      O2_X      HC_X     Age_X  Make_Honda  \\\n",
       "1     0.000000  0.851613  0.061249  0.000000  0.162162           1   \n",
       "21    0.000000  0.787097  0.113691  0.000393  0.270270           0   \n",
       "41    0.002151  0.800000  0.153323  0.003141  0.378378           0   \n",
       "61    0.002151  0.593548  0.085669  0.005104  0.567568           0   \n",
       "81    0.002151  0.032258  0.086069  0.000393  0.378378           0   \n",
       "...        ...       ...       ...       ...       ...         ...   \n",
       "2681  0.722581  0.664516  0.151721  0.056537  0.540541           0   \n",
       "2701  0.737634  0.748387  0.054444  0.069494  0.540541           1   \n",
       "2721  0.782796  0.754839  0.035228  0.182175  0.270270           0   \n",
       "2741  0.862366  0.774194  0.017614  0.095799  0.189189           0   \n",
       "2761  0.965591  0.354839  0.451161  0.236749  0.675676           0   \n",
       "\n",
       "      Make_Mazda  Make_Mercedez B  Make_Mitsubushi  Make_Nissan  Make_Peugeot  \\\n",
       "1              0                0                0            0             0   \n",
       "21             0                0                0            1             0   \n",
       "41             0                0                0            0             0   \n",
       "61             0                0                0            1             0   \n",
       "81             0                0                0            1             0   \n",
       "...          ...              ...              ...          ...           ...   \n",
       "2681           0                1                0            0             0   \n",
       "2701           0                0                0            0             0   \n",
       "2721           0                0                0            0             0   \n",
       "2741           0                0                0            0             0   \n",
       "2761           0                0                0            0             0   \n",
       "\n",
       "      Make_Toyota  Make_Volkswagen  \n",
       "1               0                0  \n",
       "21              0                0  \n",
       "41              1                0  \n",
       "61              0                0  \n",
       "81              0                0  \n",
       "...           ...              ...  \n",
       "2681            0                0  \n",
       "2701            0                0  \n",
       "2721            1                0  \n",
       "2741            1                0  \n",
       "2761            1                0  \n",
       "\n",
       "[139 rows x 13 columns]"
      ],
      "text/html": "<div>\n<style scoped>\n    .dataframe tbody tr th:only-of-type {\n        vertical-align: middle;\n    }\n\n    .dataframe tbody tr th {\n        vertical-align: top;\n    }\n\n    .dataframe thead th {\n        text-align: right;\n    }\n</style>\n<table border=\"1\" class=\"dataframe\">\n  <thead>\n    <tr style=\"text-align: right;\">\n      <th></th>\n      <th>CO_X</th>\n      <th>CO2_X</th>\n      <th>O2_X</th>\n      <th>HC_X</th>\n      <th>Age_X</th>\n      <th>Make_Honda</th>\n      <th>Make_Mazda</th>\n      <th>Make_Mercedez B</th>\n      <th>Make_Mitsubushi</th>\n      <th>Make_Nissan</th>\n      <th>Make_Peugeot</th>\n      <th>Make_Toyota</th>\n      <th>Make_Volkswagen</th>\n    </tr>\n  </thead>\n  <tbody>\n    <tr>\n      <th>1</th>\n      <td>0.000000</td>\n      <td>0.851613</td>\n      <td>0.061249</td>\n      <td>0.000000</td>\n      <td>0.162162</td>\n      <td>1</td>\n      <td>0</td>\n      <td>0</td>\n      <td>0</td>\n      <td>0</td>\n      <td>0</td>\n      <td>0</td>\n      <td>0</td>\n    </tr>\n    <tr>\n      <th>21</th>\n      <td>0.000000</td>\n      <td>0.787097</td>\n      <td>0.113691</td>\n      <td>0.000393</td>\n      <td>0.270270</td>\n      <td>0</td>\n      <td>0</td>\n      <td>0</td>\n      <td>0</td>\n      <td>1</td>\n      <td>0</td>\n      <td>0</td>\n      <td>0</td>\n    </tr>\n    <tr>\n      <th>41</th>\n      <td>0.002151</td>\n      <td>0.800000</td>\n      <td>0.153323</td>\n      <td>0.003141</td>\n      <td>0.378378</td>\n      <td>0</td>\n      <td>0</td>\n      <td>0</td>\n      <td>0</td>\n      <td>0</td>\n      <td>0</td>\n      <td>1</td>\n      <td>0</td>\n    </tr>\n    <tr>\n      <th>61</th>\n      <td>0.002151</td>\n      <td>0.593548</td>\n      <td>0.085669</td>\n      <td>0.005104</td>\n      <td>0.567568</td>\n      <td>0</td>\n      <td>0</td>\n      <td>0</td>\n      <td>0</td>\n      <td>1</td>\n      <td>0</td>\n      <td>0</td>\n      <td>0</td>\n    </tr>\n    <tr>\n      <th>81</th>\n      <td>0.002151</td>\n      <td>0.032258</td>\n      <td>0.086069</td>\n      <td>0.000393</td>\n      <td>0.378378</td>\n      <td>0</td>\n      <td>0</td>\n      <td>0</td>\n      <td>0</td>\n      <td>1</td>\n      <td>0</td>\n      <td>0</td>\n      <td>0</td>\n    </tr>\n    <tr>\n      <th>...</th>\n      <td>...</td>\n      <td>...</td>\n      <td>...</td>\n      <td>...</td>\n      <td>...</td>\n      <td>...</td>\n      <td>...</td>\n      <td>...</td>\n      <td>...</td>\n      <td>...</td>\n      <td>...</td>\n      <td>...</td>\n      <td>...</td>\n    </tr>\n    <tr>\n      <th>2681</th>\n      <td>0.722581</td>\n      <td>0.664516</td>\n      <td>0.151721</td>\n      <td>0.056537</td>\n      <td>0.540541</td>\n      <td>0</td>\n      <td>0</td>\n      <td>1</td>\n      <td>0</td>\n      <td>0</td>\n      <td>0</td>\n      <td>0</td>\n      <td>0</td>\n    </tr>\n    <tr>\n      <th>2701</th>\n      <td>0.737634</td>\n      <td>0.748387</td>\n      <td>0.054444</td>\n      <td>0.069494</td>\n      <td>0.540541</td>\n      <td>1</td>\n      <td>0</td>\n      <td>0</td>\n      <td>0</td>\n      <td>0</td>\n      <td>0</td>\n      <td>0</td>\n      <td>0</td>\n    </tr>\n    <tr>\n      <th>2721</th>\n      <td>0.782796</td>\n      <td>0.754839</td>\n      <td>0.035228</td>\n      <td>0.182175</td>\n      <td>0.270270</td>\n      <td>0</td>\n      <td>0</td>\n      <td>0</td>\n      <td>0</td>\n      <td>0</td>\n      <td>0</td>\n      <td>1</td>\n      <td>0</td>\n    </tr>\n    <tr>\n      <th>2741</th>\n      <td>0.862366</td>\n      <td>0.774194</td>\n      <td>0.017614</td>\n      <td>0.095799</td>\n      <td>0.189189</td>\n      <td>0</td>\n      <td>0</td>\n      <td>0</td>\n      <td>0</td>\n      <td>0</td>\n      <td>0</td>\n      <td>1</td>\n      <td>0</td>\n    </tr>\n    <tr>\n      <th>2761</th>\n      <td>0.965591</td>\n      <td>0.354839</td>\n      <td>0.451161</td>\n      <td>0.236749</td>\n      <td>0.675676</td>\n      <td>0</td>\n      <td>0</td>\n      <td>0</td>\n      <td>0</td>\n      <td>0</td>\n      <td>0</td>\n      <td>1</td>\n      <td>0</td>\n    </tr>\n  </tbody>\n</table>\n<p>139 rows × 13 columns</p>\n</div>"
     },
     "metadata": {},
     "execution_count": 25
    }
   ],
   "source": [
    "dfx = dataset[['CO_X','CO2_X', 'O2_X', 'HC_X', 'Age_X','Make_Honda', 'Make_Mazda',\n",
    "       'Make_Mercedez B', 'Make_Mitsubushi', 'Make_Nissan', 'Make_Peugeot',\n",
    "       'Make_Toyota', 'Make_Volkswagen']]\n",
    "\n",
    "dfx = dfx.loc[::20, :]\n",
    "dfx"
   ]
  },
  {
   "cell_type": "code",
   "execution_count": 26,
   "metadata": {},
   "outputs": [
    {
     "output_type": "stream",
     "name": "stdout",
     "text": [
      "Coefficients: \n [[ 0.07736172  0.03563932  0.01066393  0.11598557 -0.08740436 -0.02805387\n  -0.18298393  0.04317116  0.09298218]\n [-0.19144467  0.09969356  0.01760639  0.00157307 -0.01964517  0.01408923\n  -0.17811401  0.0531001   0.01169682]\n [ 0.1884772  -0.09423583  0.00905478 -0.01940224  0.01525605 -0.03557095\n   0.20169206 -0.04213292 -0.03466097]\n [ 0.1484224  -0.05033416 -0.02307358 -0.05872376  0.00092692 -0.04327676\n   0.16650702 -0.02126329  0.02923762]]\nMean squared error: 0.03\nCoefficient of determination: 0.07\n"
     ]
    }
   ],
   "source": [
    "import matplotlib.pyplot as plt\n",
    "import numpy as np\n",
    "from sklearn import datasets, linear_model\n",
    "from sklearn.model_selection import train_test_split\n",
    "from sklearn.metrics import mean_squared_error, r2_score\n",
    "\n",
    "i = 4\n",
    "\n",
    "# Load the vehicle dataset\n",
    "X, y = dfx.iloc[:,i:], dfx.iloc[:,:i]\n",
    "\n",
    "# Use only one feature\n",
    "# X = X[:, np.newaxis, 2]\n",
    "\n",
    "# Split the data into training/testing sets\n",
    "X_train, X_test, y_train, y_test = train_test_split(X, y, random_state=21)\n",
    "\n",
    "# Create linear regression object\n",
    "regr = linear_model.LinearRegression()\n",
    "\n",
    "# Train the model using the training sets\n",
    "regr.fit(X_train, y_train)\n",
    "\n",
    "# Make predictions using the testing set\n",
    "y_pred = regr.predict(X_test)\n",
    "\n",
    "# The coefficients\n",
    "print('Coefficients: \\n', regr.coef_)\n",
    "\n",
    "# The mean squared error\n",
    "print('Mean squared error: %.2f' % mean_squared_error(y_test, y_pred))\n",
    "\n",
    "# The coefficient of determination: 1 is perfect prediction\n",
    "print('Coefficient of determination: %.2f' % r2_score(y_test, y_pred))\n"
   ]
  },
  {
   "cell_type": "code",
   "execution_count": null,
   "metadata": {},
   "outputs": [],
   "source": []
  }
 ]
}