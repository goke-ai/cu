{
 "metadata": {
  "language_info": {
   "codemirror_mode": {
    "name": "ipython",
    "version": 3
   },
   "file_extension": ".py",
   "mimetype": "text/x-python",
   "name": "python",
   "nbconvert_exporter": "python",
   "pygments_lexer": "ipython3",
   "version": "3.9.0-final"
  },
  "orig_nbformat": 2,
  "kernelspec": {
   "name": "python3",
   "display_name": "Python 3.9.0 64-bit",
   "metadata": {
    "interpreter": {
     "hash": "c1a7846af735771808fbc8272134e7984cc669109ae413ca91ad8b74a534aa1b"
    }
   }
  }
 },
 "nbformat": 4,
 "nbformat_minor": 2,
 "cells": [
  {
   "cell_type": "code",
   "execution_count": 130,
   "metadata": {},
   "outputs": [
    {
     "output_type": "stream",
     "name": "stdout",
     "text": [
      "Make\nFuel\nVehicle\nUse\n"
     ]
    },
    {
     "output_type": "execute_result",
     "data": {
      "text/plain": [
       "         Make    Yr    Fuel Vehicle         Use  CO   CO2     O2   HC  Age  \\\n",
       "1       Honda  2006  Petrol     Car  Commercial   0  13.5   1.55    0    8   \n",
       "2       Honda  2007  Petrol    Jeep  Commercial   0  14.7   0.08   10    7   \n",
       "3      Toyota  2011  Petrol     Car  Commercial   0  14.6   0.72    1    3   \n",
       "4      Toyota  1998  Petrol     Car    Official   0  10.2   3.15    1   16   \n",
       "5      Toyota  2002  Petrol     Car    Official   0  14.5   0.60    1   12   \n",
       "6      Toyota  2002  Petrol    Jeep    Official   0  12.9   1.52    4   12   \n",
       "7       Honda  1993  Petrol     Car     Private   0  12.5   2.80   34   21   \n",
       "8       Honda  1993  Petrol     Car     Private   0   5.3   5.30  697   21   \n",
       "9   Volswagen  1994  Petrol     Car     Private   0  12.5  12.50    4   20   \n",
       "10     Nissan  1997  Petrol    Jeep     Private   0  13.6   5.30    4   17   \n",
       "\n",
       "    Make0  Make1  Make2  Make3  Fuel0  Vehicle0  Vehicle1  Use0  Use1  Use2  \n",
       "1     1.0    0.0    0.0    0.0    1.0       1.0       0.0   1.0   0.0   0.0  \n",
       "2     1.0    0.0    0.0    0.0    1.0       0.0       1.0   1.0   0.0   0.0  \n",
       "3     0.0    0.0    1.0    0.0    1.0       1.0       0.0   1.0   0.0   0.0  \n",
       "4     0.0    0.0    1.0    0.0    1.0       1.0       0.0   0.0   1.0   0.0  \n",
       "5     0.0    0.0    1.0    0.0    1.0       1.0       0.0   0.0   1.0   0.0  \n",
       "6     0.0    0.0    1.0    0.0    1.0       0.0       1.0   0.0   1.0   0.0  \n",
       "7     1.0    0.0    0.0    0.0    1.0       1.0       0.0   0.0   0.0   1.0  \n",
       "8     1.0    0.0    0.0    0.0    1.0       1.0       0.0   0.0   0.0   1.0  \n",
       "9     0.0    0.0    0.0    1.0    1.0       1.0       0.0   0.0   0.0   1.0  \n",
       "10    0.0    1.0    0.0    0.0    1.0       0.0       1.0   0.0   0.0   1.0  "
      ],
      "text/html": "<div>\n<style scoped>\n    .dataframe tbody tr th:only-of-type {\n        vertical-align: middle;\n    }\n\n    .dataframe tbody tr th {\n        vertical-align: top;\n    }\n\n    .dataframe thead th {\n        text-align: right;\n    }\n</style>\n<table border=\"1\" class=\"dataframe\">\n  <thead>\n    <tr style=\"text-align: right;\">\n      <th></th>\n      <th>Make</th>\n      <th>Yr</th>\n      <th>Fuel</th>\n      <th>Vehicle</th>\n      <th>Use</th>\n      <th>CO</th>\n      <th>CO2</th>\n      <th>O2</th>\n      <th>HC</th>\n      <th>Age</th>\n      <th>Make0</th>\n      <th>Make1</th>\n      <th>Make2</th>\n      <th>Make3</th>\n      <th>Fuel0</th>\n      <th>Vehicle0</th>\n      <th>Vehicle1</th>\n      <th>Use0</th>\n      <th>Use1</th>\n      <th>Use2</th>\n    </tr>\n  </thead>\n  <tbody>\n    <tr>\n      <th>1</th>\n      <td>Honda</td>\n      <td>2006</td>\n      <td>Petrol</td>\n      <td>Car</td>\n      <td>Commercial</td>\n      <td>0</td>\n      <td>13.5</td>\n      <td>1.55</td>\n      <td>0</td>\n      <td>8</td>\n      <td>1.0</td>\n      <td>0.0</td>\n      <td>0.0</td>\n      <td>0.0</td>\n      <td>1.0</td>\n      <td>1.0</td>\n      <td>0.0</td>\n      <td>1.0</td>\n      <td>0.0</td>\n      <td>0.0</td>\n    </tr>\n    <tr>\n      <th>2</th>\n      <td>Honda</td>\n      <td>2007</td>\n      <td>Petrol</td>\n      <td>Jeep</td>\n      <td>Commercial</td>\n      <td>0</td>\n      <td>14.7</td>\n      <td>0.08</td>\n      <td>10</td>\n      <td>7</td>\n      <td>1.0</td>\n      <td>0.0</td>\n      <td>0.0</td>\n      <td>0.0</td>\n      <td>1.0</td>\n      <td>0.0</td>\n      <td>1.0</td>\n      <td>1.0</td>\n      <td>0.0</td>\n      <td>0.0</td>\n    </tr>\n    <tr>\n      <th>3</th>\n      <td>Toyota</td>\n      <td>2011</td>\n      <td>Petrol</td>\n      <td>Car</td>\n      <td>Commercial</td>\n      <td>0</td>\n      <td>14.6</td>\n      <td>0.72</td>\n      <td>1</td>\n      <td>3</td>\n      <td>0.0</td>\n      <td>0.0</td>\n      <td>1.0</td>\n      <td>0.0</td>\n      <td>1.0</td>\n      <td>1.0</td>\n      <td>0.0</td>\n      <td>1.0</td>\n      <td>0.0</td>\n      <td>0.0</td>\n    </tr>\n    <tr>\n      <th>4</th>\n      <td>Toyota</td>\n      <td>1998</td>\n      <td>Petrol</td>\n      <td>Car</td>\n      <td>Official</td>\n      <td>0</td>\n      <td>10.2</td>\n      <td>3.15</td>\n      <td>1</td>\n      <td>16</td>\n      <td>0.0</td>\n      <td>0.0</td>\n      <td>1.0</td>\n      <td>0.0</td>\n      <td>1.0</td>\n      <td>1.0</td>\n      <td>0.0</td>\n      <td>0.0</td>\n      <td>1.0</td>\n      <td>0.0</td>\n    </tr>\n    <tr>\n      <th>5</th>\n      <td>Toyota</td>\n      <td>2002</td>\n      <td>Petrol</td>\n      <td>Car</td>\n      <td>Official</td>\n      <td>0</td>\n      <td>14.5</td>\n      <td>0.60</td>\n      <td>1</td>\n      <td>12</td>\n      <td>0.0</td>\n      <td>0.0</td>\n      <td>1.0</td>\n      <td>0.0</td>\n      <td>1.0</td>\n      <td>1.0</td>\n      <td>0.0</td>\n      <td>0.0</td>\n      <td>1.0</td>\n      <td>0.0</td>\n    </tr>\n    <tr>\n      <th>6</th>\n      <td>Toyota</td>\n      <td>2002</td>\n      <td>Petrol</td>\n      <td>Jeep</td>\n      <td>Official</td>\n      <td>0</td>\n      <td>12.9</td>\n      <td>1.52</td>\n      <td>4</td>\n      <td>12</td>\n      <td>0.0</td>\n      <td>0.0</td>\n      <td>1.0</td>\n      <td>0.0</td>\n      <td>1.0</td>\n      <td>0.0</td>\n      <td>1.0</td>\n      <td>0.0</td>\n      <td>1.0</td>\n      <td>0.0</td>\n    </tr>\n    <tr>\n      <th>7</th>\n      <td>Honda</td>\n      <td>1993</td>\n      <td>Petrol</td>\n      <td>Car</td>\n      <td>Private</td>\n      <td>0</td>\n      <td>12.5</td>\n      <td>2.80</td>\n      <td>34</td>\n      <td>21</td>\n      <td>1.0</td>\n      <td>0.0</td>\n      <td>0.0</td>\n      <td>0.0</td>\n      <td>1.0</td>\n      <td>1.0</td>\n      <td>0.0</td>\n      <td>0.0</td>\n      <td>0.0</td>\n      <td>1.0</td>\n    </tr>\n    <tr>\n      <th>8</th>\n      <td>Honda</td>\n      <td>1993</td>\n      <td>Petrol</td>\n      <td>Car</td>\n      <td>Private</td>\n      <td>0</td>\n      <td>5.3</td>\n      <td>5.30</td>\n      <td>697</td>\n      <td>21</td>\n      <td>1.0</td>\n      <td>0.0</td>\n      <td>0.0</td>\n      <td>0.0</td>\n      <td>1.0</td>\n      <td>1.0</td>\n      <td>0.0</td>\n      <td>0.0</td>\n      <td>0.0</td>\n      <td>1.0</td>\n    </tr>\n    <tr>\n      <th>9</th>\n      <td>Volswagen</td>\n      <td>1994</td>\n      <td>Petrol</td>\n      <td>Car</td>\n      <td>Private</td>\n      <td>0</td>\n      <td>12.5</td>\n      <td>12.50</td>\n      <td>4</td>\n      <td>20</td>\n      <td>0.0</td>\n      <td>0.0</td>\n      <td>0.0</td>\n      <td>1.0</td>\n      <td>1.0</td>\n      <td>1.0</td>\n      <td>0.0</td>\n      <td>0.0</td>\n      <td>0.0</td>\n      <td>1.0</td>\n    </tr>\n    <tr>\n      <th>10</th>\n      <td>Nissan</td>\n      <td>1997</td>\n      <td>Petrol</td>\n      <td>Jeep</td>\n      <td>Private</td>\n      <td>0</td>\n      <td>13.6</td>\n      <td>5.30</td>\n      <td>4</td>\n      <td>17</td>\n      <td>0.0</td>\n      <td>1.0</td>\n      <td>0.0</td>\n      <td>0.0</td>\n      <td>1.0</td>\n      <td>0.0</td>\n      <td>1.0</td>\n      <td>0.0</td>\n      <td>0.0</td>\n      <td>1.0</td>\n    </tr>\n  </tbody>\n</table>\n</div>"
     },
     "metadata": {},
     "execution_count": 130
    }
   ],
   "source": [
    "import pandas as pd\n",
    "from sklearn.feature_extraction import DictVectorizer\n",
    "\n",
    "vec = DictVectorizer()\n",
    "\n",
    "df = pd.read_excel('vehicle_emission.xls', index_col=0)\n",
    "df_cols = df[['Make','Fuel', 'Vehicle','Use']]\n",
    "\n",
    "dfw = df.copy()\n",
    "\n",
    "for c in df_cols.columns:\n",
    "    print(c)\n",
    "    df1 = df_cols[[c]]\n",
    "    dic1 = df1.to_dict('records')\n",
    "    aMake =vec.fit_transform(dic1).toarray()\n",
    "    df2 = pd.DataFrame(aMake)\n",
    "    # start index\n",
    "    df2.index += 1\n",
    "    # rename columns\n",
    "    df2.columns = [c + str(x)  for x in df2.columns]\n",
    "    dfw = pd.concat([dfw, df2], axis=1)\n",
    "\n",
    "dfw"
   ]
  },
  {
   "cell_type": "code",
   "execution_count": 131,
   "metadata": {},
   "outputs": [],
   "source": [
    "import sklearn.preprocessing as preprocessing\n",
    "\n",
    "X = df[['Age','CO','CO2','O2','HC']].to_numpy()\n",
    "X_normalized = preprocessing.normalize(X, norm='l2')\n",
    "# \n",
    "df2 = pd.DataFrame(X_normalized)\n",
    "# start index\n",
    "df2.index += 1\n",
    "df2.columns = ['Age0','CO20','CO20','O20','HC0']\n",
    "dfw = pd.concat([dfw, df2], axis=1)"
   ]
  },
  {
   "cell_type": "code",
   "execution_count": 132,
   "metadata": {},
   "outputs": [
    {
     "output_type": "stream",
     "name": "stdout",
     "text": [
      "MinMaxScaler()\n(array([3.  , 0.  , 5.3 , 0.08, 0.  ]), array([ 21. ,   0. ,  14.7,  12.5, 697. ]))\n"
     ]
    },
    {
     "output_type": "execute_result",
     "data": {
      "text/plain": [
       "array([[0.27777778, 0.        , 0.87234043, 0.11835749, 0.        ],\n",
       "       [0.22222222, 0.        , 1.        , 0.        , 0.0143472 ],\n",
       "       [0.        , 0.        , 0.9893617 , 0.05152979, 0.00143472],\n",
       "       [0.72222222, 0.        , 0.5212766 , 0.24718196, 0.00143472],\n",
       "       [0.5       , 0.        , 0.9787234 , 0.04186795, 0.00143472],\n",
       "       [0.5       , 0.        , 0.80851064, 0.11594203, 0.00573888],\n",
       "       [1.        , 0.        , 0.76595745, 0.21900161, 0.04878049],\n",
       "       [1.        , 0.        , 0.        , 0.42028986, 1.        ],\n",
       "       [0.94444444, 0.        , 0.76595745, 1.        , 0.00573888],\n",
       "       [0.77777778, 0.        , 0.88297872, 0.42028986, 0.00573888]])"
      ]
     },
     "metadata": {},
     "execution_count": 132
    }
   ],
   "source": [
    "from sklearn.preprocessing import MinMaxScaler\n",
    "\n",
    "data = df[['Age','CO','CO2','O2','HC']].to_numpy()\n",
    "\n",
    "scaler = MinMaxScaler()\n",
    "print(scaler.fit(data))\n",
    "print((scaler.data_min_, scaler.data_max_))\n",
    "\n",
    "data_normalized = scaler.transform(data)\n",
    "\n",
    "data_normalized"
   ]
  },
  {
   "cell_type": "code",
   "execution_count": 133,
   "metadata": {},
   "outputs": [],
   "source": [
    "df2 = pd.DataFrame(data_normalized)\n",
    "\n",
    "# start index\n",
    "df2.index += 1\n",
    "df2.columns = ['Age1','CO1','CO21','O21','HC1']\n",
    "dfw = pd.concat([dfw, df2], axis=1)\n"
   ]
  },
  {
   "cell_type": "code",
   "execution_count": 134,
   "metadata": {},
   "outputs": [
    {
     "output_type": "execute_result",
     "data": {
      "text/plain": [
       "         Make    Yr    Fuel Vehicle         Use  CO   CO2     O2   HC  Age  \\\n",
       "1       Honda  2006  Petrol     Car  Commercial   0  13.5   1.55    0    8   \n",
       "2       Honda  2007  Petrol    Jeep  Commercial   0  14.7   0.08   10    7   \n",
       "3      Toyota  2011  Petrol     Car  Commercial   0  14.6   0.72    1    3   \n",
       "4      Toyota  1998  Petrol     Car    Official   0  10.2   3.15    1   16   \n",
       "5      Toyota  2002  Petrol     Car    Official   0  14.5   0.60    1   12   \n",
       "6      Toyota  2002  Petrol    Jeep    Official   0  12.9   1.52    4   12   \n",
       "7       Honda  1993  Petrol     Car     Private   0  12.5   2.80   34   21   \n",
       "8       Honda  1993  Petrol     Car     Private   0   5.3   5.30  697   21   \n",
       "9   Volswagen  1994  Petrol     Car     Private   0  12.5  12.50    4   20   \n",
       "10     Nissan  1997  Petrol    Jeep     Private   0  13.6   5.30    4   17   \n",
       "\n",
       "    ...      Age0  CO20      CO20       O20       HC0      Age1  CO1  \\\n",
       "1   ...  0.507334   0.0  0.856125  0.098296  0.000000  0.277778  0.0   \n",
       "2   ...  0.366348   0.0  0.769332  0.004187  0.523355  0.222222  0.0   \n",
       "3   ...  0.200590   0.0  0.976205  0.048142  0.066863  0.000000  0.0   \n",
       "4   ...  0.830721   0.0  0.529584  0.163548  0.051920  0.722222  0.0   \n",
       "5   ...  0.636347   0.0  0.768920  0.031817  0.053029  0.500000  0.0   \n",
       "6   ...  0.661863   0.0  0.711502  0.083836  0.220621  0.500000  0.0   \n",
       "7   ...  0.500413   0.0  0.297865  0.066722  0.810192  1.000000  0.0   \n",
       "8   ...  0.030114   0.0  0.007600  0.007600  0.999489  1.000000  0.0   \n",
       "9   ...  0.740995   0.0  0.463122  0.463122  0.148199  0.944444  0.0   \n",
       "10  ...  0.746901   0.0  0.597521  0.232857  0.175741  0.777778  0.0   \n",
       "\n",
       "        CO21       O21       HC1  \n",
       "1   0.872340  0.118357  0.000000  \n",
       "2   1.000000  0.000000  0.014347  \n",
       "3   0.989362  0.051530  0.001435  \n",
       "4   0.521277  0.247182  0.001435  \n",
       "5   0.978723  0.041868  0.001435  \n",
       "6   0.808511  0.115942  0.005739  \n",
       "7   0.765957  0.219002  0.048780  \n",
       "8   0.000000  0.420290  1.000000  \n",
       "9   0.765957  1.000000  0.005739  \n",
       "10  0.882979  0.420290  0.005739  \n",
       "\n",
       "[10 rows x 30 columns]"
      ],
      "text/html": "<div>\n<style scoped>\n    .dataframe tbody tr th:only-of-type {\n        vertical-align: middle;\n    }\n\n    .dataframe tbody tr th {\n        vertical-align: top;\n    }\n\n    .dataframe thead th {\n        text-align: right;\n    }\n</style>\n<table border=\"1\" class=\"dataframe\">\n  <thead>\n    <tr style=\"text-align: right;\">\n      <th></th>\n      <th>Make</th>\n      <th>Yr</th>\n      <th>Fuel</th>\n      <th>Vehicle</th>\n      <th>Use</th>\n      <th>CO</th>\n      <th>CO2</th>\n      <th>O2</th>\n      <th>HC</th>\n      <th>Age</th>\n      <th>...</th>\n      <th>Age0</th>\n      <th>CO20</th>\n      <th>CO20</th>\n      <th>O20</th>\n      <th>HC0</th>\n      <th>Age1</th>\n      <th>CO1</th>\n      <th>CO21</th>\n      <th>O21</th>\n      <th>HC1</th>\n    </tr>\n  </thead>\n  <tbody>\n    <tr>\n      <th>1</th>\n      <td>Honda</td>\n      <td>2006</td>\n      <td>Petrol</td>\n      <td>Car</td>\n      <td>Commercial</td>\n      <td>0</td>\n      <td>13.5</td>\n      <td>1.55</td>\n      <td>0</td>\n      <td>8</td>\n      <td>...</td>\n      <td>0.507334</td>\n      <td>0.0</td>\n      <td>0.856125</td>\n      <td>0.098296</td>\n      <td>0.000000</td>\n      <td>0.277778</td>\n      <td>0.0</td>\n      <td>0.872340</td>\n      <td>0.118357</td>\n      <td>0.000000</td>\n    </tr>\n    <tr>\n      <th>2</th>\n      <td>Honda</td>\n      <td>2007</td>\n      <td>Petrol</td>\n      <td>Jeep</td>\n      <td>Commercial</td>\n      <td>0</td>\n      <td>14.7</td>\n      <td>0.08</td>\n      <td>10</td>\n      <td>7</td>\n      <td>...</td>\n      <td>0.366348</td>\n      <td>0.0</td>\n      <td>0.769332</td>\n      <td>0.004187</td>\n      <td>0.523355</td>\n      <td>0.222222</td>\n      <td>0.0</td>\n      <td>1.000000</td>\n      <td>0.000000</td>\n      <td>0.014347</td>\n    </tr>\n    <tr>\n      <th>3</th>\n      <td>Toyota</td>\n      <td>2011</td>\n      <td>Petrol</td>\n      <td>Car</td>\n      <td>Commercial</td>\n      <td>0</td>\n      <td>14.6</td>\n      <td>0.72</td>\n      <td>1</td>\n      <td>3</td>\n      <td>...</td>\n      <td>0.200590</td>\n      <td>0.0</td>\n      <td>0.976205</td>\n      <td>0.048142</td>\n      <td>0.066863</td>\n      <td>0.000000</td>\n      <td>0.0</td>\n      <td>0.989362</td>\n      <td>0.051530</td>\n      <td>0.001435</td>\n    </tr>\n    <tr>\n      <th>4</th>\n      <td>Toyota</td>\n      <td>1998</td>\n      <td>Petrol</td>\n      <td>Car</td>\n      <td>Official</td>\n      <td>0</td>\n      <td>10.2</td>\n      <td>3.15</td>\n      <td>1</td>\n      <td>16</td>\n      <td>...</td>\n      <td>0.830721</td>\n      <td>0.0</td>\n      <td>0.529584</td>\n      <td>0.163548</td>\n      <td>0.051920</td>\n      <td>0.722222</td>\n      <td>0.0</td>\n      <td>0.521277</td>\n      <td>0.247182</td>\n      <td>0.001435</td>\n    </tr>\n    <tr>\n      <th>5</th>\n      <td>Toyota</td>\n      <td>2002</td>\n      <td>Petrol</td>\n      <td>Car</td>\n      <td>Official</td>\n      <td>0</td>\n      <td>14.5</td>\n      <td>0.60</td>\n      <td>1</td>\n      <td>12</td>\n      <td>...</td>\n      <td>0.636347</td>\n      <td>0.0</td>\n      <td>0.768920</td>\n      <td>0.031817</td>\n      <td>0.053029</td>\n      <td>0.500000</td>\n      <td>0.0</td>\n      <td>0.978723</td>\n      <td>0.041868</td>\n      <td>0.001435</td>\n    </tr>\n    <tr>\n      <th>6</th>\n      <td>Toyota</td>\n      <td>2002</td>\n      <td>Petrol</td>\n      <td>Jeep</td>\n      <td>Official</td>\n      <td>0</td>\n      <td>12.9</td>\n      <td>1.52</td>\n      <td>4</td>\n      <td>12</td>\n      <td>...</td>\n      <td>0.661863</td>\n      <td>0.0</td>\n      <td>0.711502</td>\n      <td>0.083836</td>\n      <td>0.220621</td>\n      <td>0.500000</td>\n      <td>0.0</td>\n      <td>0.808511</td>\n      <td>0.115942</td>\n      <td>0.005739</td>\n    </tr>\n    <tr>\n      <th>7</th>\n      <td>Honda</td>\n      <td>1993</td>\n      <td>Petrol</td>\n      <td>Car</td>\n      <td>Private</td>\n      <td>0</td>\n      <td>12.5</td>\n      <td>2.80</td>\n      <td>34</td>\n      <td>21</td>\n      <td>...</td>\n      <td>0.500413</td>\n      <td>0.0</td>\n      <td>0.297865</td>\n      <td>0.066722</td>\n      <td>0.810192</td>\n      <td>1.000000</td>\n      <td>0.0</td>\n      <td>0.765957</td>\n      <td>0.219002</td>\n      <td>0.048780</td>\n    </tr>\n    <tr>\n      <th>8</th>\n      <td>Honda</td>\n      <td>1993</td>\n      <td>Petrol</td>\n      <td>Car</td>\n      <td>Private</td>\n      <td>0</td>\n      <td>5.3</td>\n      <td>5.30</td>\n      <td>697</td>\n      <td>21</td>\n      <td>...</td>\n      <td>0.030114</td>\n      <td>0.0</td>\n      <td>0.007600</td>\n      <td>0.007600</td>\n      <td>0.999489</td>\n      <td>1.000000</td>\n      <td>0.0</td>\n      <td>0.000000</td>\n      <td>0.420290</td>\n      <td>1.000000</td>\n    </tr>\n    <tr>\n      <th>9</th>\n      <td>Volswagen</td>\n      <td>1994</td>\n      <td>Petrol</td>\n      <td>Car</td>\n      <td>Private</td>\n      <td>0</td>\n      <td>12.5</td>\n      <td>12.50</td>\n      <td>4</td>\n      <td>20</td>\n      <td>...</td>\n      <td>0.740995</td>\n      <td>0.0</td>\n      <td>0.463122</td>\n      <td>0.463122</td>\n      <td>0.148199</td>\n      <td>0.944444</td>\n      <td>0.0</td>\n      <td>0.765957</td>\n      <td>1.000000</td>\n      <td>0.005739</td>\n    </tr>\n    <tr>\n      <th>10</th>\n      <td>Nissan</td>\n      <td>1997</td>\n      <td>Petrol</td>\n      <td>Jeep</td>\n      <td>Private</td>\n      <td>0</td>\n      <td>13.6</td>\n      <td>5.30</td>\n      <td>4</td>\n      <td>17</td>\n      <td>...</td>\n      <td>0.746901</td>\n      <td>0.0</td>\n      <td>0.597521</td>\n      <td>0.232857</td>\n      <td>0.175741</td>\n      <td>0.777778</td>\n      <td>0.0</td>\n      <td>0.882979</td>\n      <td>0.420290</td>\n      <td>0.005739</td>\n    </tr>\n  </tbody>\n</table>\n<p>10 rows × 30 columns</p>\n</div>"
     },
     "metadata": {},
     "execution_count": 134
    }
   ],
   "source": [
    "dfw"
   ]
  },
  {
   "cell_type": "code",
   "execution_count": 135,
   "metadata": {},
   "outputs": [
    {
     "output_type": "execute_result",
     "data": {
      "text/plain": [
       "    Make0  Make1  Make2  Make3  Fuel0  Vehicle0  Vehicle1  Use0  Use1  Use2\n",
       "1     1.0    0.0    0.0    0.0    1.0       1.0       0.0   1.0   0.0   0.0\n",
       "2     1.0    0.0    0.0    0.0    1.0       0.0       1.0   1.0   0.0   0.0\n",
       "3     0.0    0.0    1.0    0.0    1.0       1.0       0.0   1.0   0.0   0.0\n",
       "4     0.0    0.0    1.0    0.0    1.0       1.0       0.0   0.0   1.0   0.0\n",
       "5     0.0    0.0    1.0    0.0    1.0       1.0       0.0   0.0   1.0   0.0\n",
       "6     0.0    0.0    1.0    0.0    1.0       0.0       1.0   0.0   1.0   0.0\n",
       "7     1.0    0.0    0.0    0.0    1.0       1.0       0.0   0.0   0.0   1.0\n",
       "8     1.0    0.0    0.0    0.0    1.0       1.0       0.0   0.0   0.0   1.0\n",
       "9     0.0    0.0    0.0    1.0    1.0       1.0       0.0   0.0   0.0   1.0\n",
       "10    0.0    1.0    0.0    0.0    1.0       0.0       1.0   0.0   0.0   1.0"
      ],
      "text/html": "<div>\n<style scoped>\n    .dataframe tbody tr th:only-of-type {\n        vertical-align: middle;\n    }\n\n    .dataframe tbody tr th {\n        vertical-align: top;\n    }\n\n    .dataframe thead th {\n        text-align: right;\n    }\n</style>\n<table border=\"1\" class=\"dataframe\">\n  <thead>\n    <tr style=\"text-align: right;\">\n      <th></th>\n      <th>Make0</th>\n      <th>Make1</th>\n      <th>Make2</th>\n      <th>Make3</th>\n      <th>Fuel0</th>\n      <th>Vehicle0</th>\n      <th>Vehicle1</th>\n      <th>Use0</th>\n      <th>Use1</th>\n      <th>Use2</th>\n    </tr>\n  </thead>\n  <tbody>\n    <tr>\n      <th>1</th>\n      <td>1.0</td>\n      <td>0.0</td>\n      <td>0.0</td>\n      <td>0.0</td>\n      <td>1.0</td>\n      <td>1.0</td>\n      <td>0.0</td>\n      <td>1.0</td>\n      <td>0.0</td>\n      <td>0.0</td>\n    </tr>\n    <tr>\n      <th>2</th>\n      <td>1.0</td>\n      <td>0.0</td>\n      <td>0.0</td>\n      <td>0.0</td>\n      <td>1.0</td>\n      <td>0.0</td>\n      <td>1.0</td>\n      <td>1.0</td>\n      <td>0.0</td>\n      <td>0.0</td>\n    </tr>\n    <tr>\n      <th>3</th>\n      <td>0.0</td>\n      <td>0.0</td>\n      <td>1.0</td>\n      <td>0.0</td>\n      <td>1.0</td>\n      <td>1.0</td>\n      <td>0.0</td>\n      <td>1.0</td>\n      <td>0.0</td>\n      <td>0.0</td>\n    </tr>\n    <tr>\n      <th>4</th>\n      <td>0.0</td>\n      <td>0.0</td>\n      <td>1.0</td>\n      <td>0.0</td>\n      <td>1.0</td>\n      <td>1.0</td>\n      <td>0.0</td>\n      <td>0.0</td>\n      <td>1.0</td>\n      <td>0.0</td>\n    </tr>\n    <tr>\n      <th>5</th>\n      <td>0.0</td>\n      <td>0.0</td>\n      <td>1.0</td>\n      <td>0.0</td>\n      <td>1.0</td>\n      <td>1.0</td>\n      <td>0.0</td>\n      <td>0.0</td>\n      <td>1.0</td>\n      <td>0.0</td>\n    </tr>\n    <tr>\n      <th>6</th>\n      <td>0.0</td>\n      <td>0.0</td>\n      <td>1.0</td>\n      <td>0.0</td>\n      <td>1.0</td>\n      <td>0.0</td>\n      <td>1.0</td>\n      <td>0.0</td>\n      <td>1.0</td>\n      <td>0.0</td>\n    </tr>\n    <tr>\n      <th>7</th>\n      <td>1.0</td>\n      <td>0.0</td>\n      <td>0.0</td>\n      <td>0.0</td>\n      <td>1.0</td>\n      <td>1.0</td>\n      <td>0.0</td>\n      <td>0.0</td>\n      <td>0.0</td>\n      <td>1.0</td>\n    </tr>\n    <tr>\n      <th>8</th>\n      <td>1.0</td>\n      <td>0.0</td>\n      <td>0.0</td>\n      <td>0.0</td>\n      <td>1.0</td>\n      <td>1.0</td>\n      <td>0.0</td>\n      <td>0.0</td>\n      <td>0.0</td>\n      <td>1.0</td>\n    </tr>\n    <tr>\n      <th>9</th>\n      <td>0.0</td>\n      <td>0.0</td>\n      <td>0.0</td>\n      <td>1.0</td>\n      <td>1.0</td>\n      <td>1.0</td>\n      <td>0.0</td>\n      <td>0.0</td>\n      <td>0.0</td>\n      <td>1.0</td>\n    </tr>\n    <tr>\n      <th>10</th>\n      <td>0.0</td>\n      <td>1.0</td>\n      <td>0.0</td>\n      <td>0.0</td>\n      <td>1.0</td>\n      <td>0.0</td>\n      <td>1.0</td>\n      <td>0.0</td>\n      <td>0.0</td>\n      <td>1.0</td>\n    </tr>\n  </tbody>\n</table>\n</div>"
     },
     "metadata": {},
     "execution_count": 135
    }
   ],
   "source": [
    "x1 = dfw.iloc[:,10:20]\n",
    "x1"
   ]
  },
  {
   "cell_type": "code",
   "execution_count": 136,
   "metadata": {},
   "outputs": [
    {
     "output_type": "execute_result",
     "data": {
      "text/plain": [
       "        Age0  CO20      CO20       O20       HC0      Age1  CO1      CO21  \\\n",
       "1   0.507334   0.0  0.856125  0.098296  0.000000  0.277778  0.0  0.872340   \n",
       "2   0.366348   0.0  0.769332  0.004187  0.523355  0.222222  0.0  1.000000   \n",
       "3   0.200590   0.0  0.976205  0.048142  0.066863  0.000000  0.0  0.989362   \n",
       "4   0.830721   0.0  0.529584  0.163548  0.051920  0.722222  0.0  0.521277   \n",
       "5   0.636347   0.0  0.768920  0.031817  0.053029  0.500000  0.0  0.978723   \n",
       "6   0.661863   0.0  0.711502  0.083836  0.220621  0.500000  0.0  0.808511   \n",
       "7   0.500413   0.0  0.297865  0.066722  0.810192  1.000000  0.0  0.765957   \n",
       "8   0.030114   0.0  0.007600  0.007600  0.999489  1.000000  0.0  0.000000   \n",
       "9   0.740995   0.0  0.463122  0.463122  0.148199  0.944444  0.0  0.765957   \n",
       "10  0.746901   0.0  0.597521  0.232857  0.175741  0.777778  0.0  0.882979   \n",
       "\n",
       "         O21       HC1  \n",
       "1   0.118357  0.000000  \n",
       "2   0.000000  0.014347  \n",
       "3   0.051530  0.001435  \n",
       "4   0.247182  0.001435  \n",
       "5   0.041868  0.001435  \n",
       "6   0.115942  0.005739  \n",
       "7   0.219002  0.048780  \n",
       "8   0.420290  1.000000  \n",
       "9   1.000000  0.005739  \n",
       "10  0.420290  0.005739  "
      ],
      "text/html": "<div>\n<style scoped>\n    .dataframe tbody tr th:only-of-type {\n        vertical-align: middle;\n    }\n\n    .dataframe tbody tr th {\n        vertical-align: top;\n    }\n\n    .dataframe thead th {\n        text-align: right;\n    }\n</style>\n<table border=\"1\" class=\"dataframe\">\n  <thead>\n    <tr style=\"text-align: right;\">\n      <th></th>\n      <th>Age0</th>\n      <th>CO20</th>\n      <th>CO20</th>\n      <th>O20</th>\n      <th>HC0</th>\n      <th>Age1</th>\n      <th>CO1</th>\n      <th>CO21</th>\n      <th>O21</th>\n      <th>HC1</th>\n    </tr>\n  </thead>\n  <tbody>\n    <tr>\n      <th>1</th>\n      <td>0.507334</td>\n      <td>0.0</td>\n      <td>0.856125</td>\n      <td>0.098296</td>\n      <td>0.000000</td>\n      <td>0.277778</td>\n      <td>0.0</td>\n      <td>0.872340</td>\n      <td>0.118357</td>\n      <td>0.000000</td>\n    </tr>\n    <tr>\n      <th>2</th>\n      <td>0.366348</td>\n      <td>0.0</td>\n      <td>0.769332</td>\n      <td>0.004187</td>\n      <td>0.523355</td>\n      <td>0.222222</td>\n      <td>0.0</td>\n      <td>1.000000</td>\n      <td>0.000000</td>\n      <td>0.014347</td>\n    </tr>\n    <tr>\n      <th>3</th>\n      <td>0.200590</td>\n      <td>0.0</td>\n      <td>0.976205</td>\n      <td>0.048142</td>\n      <td>0.066863</td>\n      <td>0.000000</td>\n      <td>0.0</td>\n      <td>0.989362</td>\n      <td>0.051530</td>\n      <td>0.001435</td>\n    </tr>\n    <tr>\n      <th>4</th>\n      <td>0.830721</td>\n      <td>0.0</td>\n      <td>0.529584</td>\n      <td>0.163548</td>\n      <td>0.051920</td>\n      <td>0.722222</td>\n      <td>0.0</td>\n      <td>0.521277</td>\n      <td>0.247182</td>\n      <td>0.001435</td>\n    </tr>\n    <tr>\n      <th>5</th>\n      <td>0.636347</td>\n      <td>0.0</td>\n      <td>0.768920</td>\n      <td>0.031817</td>\n      <td>0.053029</td>\n      <td>0.500000</td>\n      <td>0.0</td>\n      <td>0.978723</td>\n      <td>0.041868</td>\n      <td>0.001435</td>\n    </tr>\n    <tr>\n      <th>6</th>\n      <td>0.661863</td>\n      <td>0.0</td>\n      <td>0.711502</td>\n      <td>0.083836</td>\n      <td>0.220621</td>\n      <td>0.500000</td>\n      <td>0.0</td>\n      <td>0.808511</td>\n      <td>0.115942</td>\n      <td>0.005739</td>\n    </tr>\n    <tr>\n      <th>7</th>\n      <td>0.500413</td>\n      <td>0.0</td>\n      <td>0.297865</td>\n      <td>0.066722</td>\n      <td>0.810192</td>\n      <td>1.000000</td>\n      <td>0.0</td>\n      <td>0.765957</td>\n      <td>0.219002</td>\n      <td>0.048780</td>\n    </tr>\n    <tr>\n      <th>8</th>\n      <td>0.030114</td>\n      <td>0.0</td>\n      <td>0.007600</td>\n      <td>0.007600</td>\n      <td>0.999489</td>\n      <td>1.000000</td>\n      <td>0.0</td>\n      <td>0.000000</td>\n      <td>0.420290</td>\n      <td>1.000000</td>\n    </tr>\n    <tr>\n      <th>9</th>\n      <td>0.740995</td>\n      <td>0.0</td>\n      <td>0.463122</td>\n      <td>0.463122</td>\n      <td>0.148199</td>\n      <td>0.944444</td>\n      <td>0.0</td>\n      <td>0.765957</td>\n      <td>1.000000</td>\n      <td>0.005739</td>\n    </tr>\n    <tr>\n      <th>10</th>\n      <td>0.746901</td>\n      <td>0.0</td>\n      <td>0.597521</td>\n      <td>0.232857</td>\n      <td>0.175741</td>\n      <td>0.777778</td>\n      <td>0.0</td>\n      <td>0.882979</td>\n      <td>0.420290</td>\n      <td>0.005739</td>\n    </tr>\n  </tbody>\n</table>\n</div>"
     },
     "metadata": {},
     "execution_count": 136
    }
   ],
   "source": [
    "x2 = dfw.iloc[:,20:]\n",
    "x2"
   ]
  },
  {
   "cell_type": "code",
   "execution_count": 137,
   "metadata": {},
   "outputs": [
    {
     "output_type": "execute_result",
     "data": {
      "text/plain": [
       "        Age1  CO1      CO21       O21       HC1\n",
       "1   0.277778  0.0  0.872340  0.118357  0.000000\n",
       "2   0.222222  0.0  1.000000  0.000000  0.014347\n",
       "3   0.000000  0.0  0.989362  0.051530  0.001435\n",
       "4   0.722222  0.0  0.521277  0.247182  0.001435\n",
       "5   0.500000  0.0  0.978723  0.041868  0.001435\n",
       "6   0.500000  0.0  0.808511  0.115942  0.005739\n",
       "7   1.000000  0.0  0.765957  0.219002  0.048780\n",
       "8   1.000000  0.0  0.000000  0.420290  1.000000\n",
       "9   0.944444  0.0  0.765957  1.000000  0.005739\n",
       "10  0.777778  0.0  0.882979  0.420290  0.005739"
      ],
      "text/html": "<div>\n<style scoped>\n    .dataframe tbody tr th:only-of-type {\n        vertical-align: middle;\n    }\n\n    .dataframe tbody tr th {\n        vertical-align: top;\n    }\n\n    .dataframe thead th {\n        text-align: right;\n    }\n</style>\n<table border=\"1\" class=\"dataframe\">\n  <thead>\n    <tr style=\"text-align: right;\">\n      <th></th>\n      <th>Age1</th>\n      <th>CO1</th>\n      <th>CO21</th>\n      <th>O21</th>\n      <th>HC1</th>\n    </tr>\n  </thead>\n  <tbody>\n    <tr>\n      <th>1</th>\n      <td>0.277778</td>\n      <td>0.0</td>\n      <td>0.872340</td>\n      <td>0.118357</td>\n      <td>0.000000</td>\n    </tr>\n    <tr>\n      <th>2</th>\n      <td>0.222222</td>\n      <td>0.0</td>\n      <td>1.000000</td>\n      <td>0.000000</td>\n      <td>0.014347</td>\n    </tr>\n    <tr>\n      <th>3</th>\n      <td>0.000000</td>\n      <td>0.0</td>\n      <td>0.989362</td>\n      <td>0.051530</td>\n      <td>0.001435</td>\n    </tr>\n    <tr>\n      <th>4</th>\n      <td>0.722222</td>\n      <td>0.0</td>\n      <td>0.521277</td>\n      <td>0.247182</td>\n      <td>0.001435</td>\n    </tr>\n    <tr>\n      <th>5</th>\n      <td>0.500000</td>\n      <td>0.0</td>\n      <td>0.978723</td>\n      <td>0.041868</td>\n      <td>0.001435</td>\n    </tr>\n    <tr>\n      <th>6</th>\n      <td>0.500000</td>\n      <td>0.0</td>\n      <td>0.808511</td>\n      <td>0.115942</td>\n      <td>0.005739</td>\n    </tr>\n    <tr>\n      <th>7</th>\n      <td>1.000000</td>\n      <td>0.0</td>\n      <td>0.765957</td>\n      <td>0.219002</td>\n      <td>0.048780</td>\n    </tr>\n    <tr>\n      <th>8</th>\n      <td>1.000000</td>\n      <td>0.0</td>\n      <td>0.000000</td>\n      <td>0.420290</td>\n      <td>1.000000</td>\n    </tr>\n    <tr>\n      <th>9</th>\n      <td>0.944444</td>\n      <td>0.0</td>\n      <td>0.765957</td>\n      <td>1.000000</td>\n      <td>0.005739</td>\n    </tr>\n    <tr>\n      <th>10</th>\n      <td>0.777778</td>\n      <td>0.0</td>\n      <td>0.882979</td>\n      <td>0.420290</td>\n      <td>0.005739</td>\n    </tr>\n  </tbody>\n</table>\n</div>"
     },
     "metadata": {},
     "execution_count": 137
    }
   ],
   "source": [
    "x3 = dfw.iloc[:,25:]\n",
    "x3"
   ]
  },
  {
   "cell_type": "code",
   "execution_count": 138,
   "metadata": {},
   "outputs": [
    {
     "output_type": "execute_result",
     "data": {
      "text/plain": [
       "1     0.277778\n",
       "2     0.222222\n",
       "3     0.000000\n",
       "4     0.722222\n",
       "5     0.500000\n",
       "6     0.500000\n",
       "7     1.000000\n",
       "8     1.000000\n",
       "9     0.944444\n",
       "10    0.777778\n",
       "Name: Age1, dtype: float64"
      ]
     },
     "metadata": {},
     "execution_count": 138
    }
   ],
   "source": [
    "x4 = dfw['Age1']\n",
    "x4"
   ]
  },
  {
   "cell_type": "code",
   "execution_count": 139,
   "metadata": {},
   "outputs": [
    {
     "output_type": "execute_result",
     "data": {
      "text/plain": [
       "    CO1      CO21       O21       HC1\n",
       "1   0.0  0.872340  0.118357  0.000000\n",
       "2   0.0  1.000000  0.000000  0.014347\n",
       "3   0.0  0.989362  0.051530  0.001435\n",
       "4   0.0  0.521277  0.247182  0.001435\n",
       "5   0.0  0.978723  0.041868  0.001435\n",
       "6   0.0  0.808511  0.115942  0.005739\n",
       "7   0.0  0.765957  0.219002  0.048780\n",
       "8   0.0  0.000000  0.420290  1.000000\n",
       "9   0.0  0.765957  1.000000  0.005739\n",
       "10  0.0  0.882979  0.420290  0.005739"
      ],
      "text/html": "<div>\n<style scoped>\n    .dataframe tbody tr th:only-of-type {\n        vertical-align: middle;\n    }\n\n    .dataframe tbody tr th {\n        vertical-align: top;\n    }\n\n    .dataframe thead th {\n        text-align: right;\n    }\n</style>\n<table border=\"1\" class=\"dataframe\">\n  <thead>\n    <tr style=\"text-align: right;\">\n      <th></th>\n      <th>CO1</th>\n      <th>CO21</th>\n      <th>O21</th>\n      <th>HC1</th>\n    </tr>\n  </thead>\n  <tbody>\n    <tr>\n      <th>1</th>\n      <td>0.0</td>\n      <td>0.872340</td>\n      <td>0.118357</td>\n      <td>0.000000</td>\n    </tr>\n    <tr>\n      <th>2</th>\n      <td>0.0</td>\n      <td>1.000000</td>\n      <td>0.000000</td>\n      <td>0.014347</td>\n    </tr>\n    <tr>\n      <th>3</th>\n      <td>0.0</td>\n      <td>0.989362</td>\n      <td>0.051530</td>\n      <td>0.001435</td>\n    </tr>\n    <tr>\n      <th>4</th>\n      <td>0.0</td>\n      <td>0.521277</td>\n      <td>0.247182</td>\n      <td>0.001435</td>\n    </tr>\n    <tr>\n      <th>5</th>\n      <td>0.0</td>\n      <td>0.978723</td>\n      <td>0.041868</td>\n      <td>0.001435</td>\n    </tr>\n    <tr>\n      <th>6</th>\n      <td>0.0</td>\n      <td>0.808511</td>\n      <td>0.115942</td>\n      <td>0.005739</td>\n    </tr>\n    <tr>\n      <th>7</th>\n      <td>0.0</td>\n      <td>0.765957</td>\n      <td>0.219002</td>\n      <td>0.048780</td>\n    </tr>\n    <tr>\n      <th>8</th>\n      <td>0.0</td>\n      <td>0.000000</td>\n      <td>0.420290</td>\n      <td>1.000000</td>\n    </tr>\n    <tr>\n      <th>9</th>\n      <td>0.0</td>\n      <td>0.765957</td>\n      <td>1.000000</td>\n      <td>0.005739</td>\n    </tr>\n    <tr>\n      <th>10</th>\n      <td>0.0</td>\n      <td>0.882979</td>\n      <td>0.420290</td>\n      <td>0.005739</td>\n    </tr>\n  </tbody>\n</table>\n</div>"
     },
     "metadata": {},
     "execution_count": 139
    }
   ],
   "source": [
    "x5 = dfw.iloc[:,26:]\n",
    "x5"
   ]
  },
  {
   "cell_type": "code",
   "execution_count": 140,
   "metadata": {},
   "outputs": [
    {
     "output_type": "execute_result",
     "data": {
      "text/plain": [
       "    Make0  Make1  Make2  Make3  Fuel0  Vehicle0  Vehicle1  Use0  Use1  Use2  \\\n",
       "1     1.0    0.0    0.0    0.0    1.0       1.0       0.0   1.0   0.0   0.0   \n",
       "2     1.0    0.0    0.0    0.0    1.0       0.0       1.0   1.0   0.0   0.0   \n",
       "3     0.0    0.0    1.0    0.0    1.0       1.0       0.0   1.0   0.0   0.0   \n",
       "4     0.0    0.0    1.0    0.0    1.0       1.0       0.0   0.0   1.0   0.0   \n",
       "5     0.0    0.0    1.0    0.0    1.0       1.0       0.0   0.0   1.0   0.0   \n",
       "6     0.0    0.0    1.0    0.0    1.0       0.0       1.0   0.0   1.0   0.0   \n",
       "7     1.0    0.0    0.0    0.0    1.0       1.0       0.0   0.0   0.0   1.0   \n",
       "8     1.0    0.0    0.0    0.0    1.0       1.0       0.0   0.0   0.0   1.0   \n",
       "9     0.0    0.0    0.0    1.0    1.0       1.0       0.0   0.0   0.0   1.0   \n",
       "10    0.0    1.0    0.0    0.0    1.0       0.0       1.0   0.0   0.0   1.0   \n",
       "\n",
       "        Age1  CO1      CO21       O21       HC1  \n",
       "1   0.277778  0.0  0.872340  0.118357  0.000000  \n",
       "2   0.222222  0.0  1.000000  0.000000  0.014347  \n",
       "3   0.000000  0.0  0.989362  0.051530  0.001435  \n",
       "4   0.722222  0.0  0.521277  0.247182  0.001435  \n",
       "5   0.500000  0.0  0.978723  0.041868  0.001435  \n",
       "6   0.500000  0.0  0.808511  0.115942  0.005739  \n",
       "7   1.000000  0.0  0.765957  0.219002  0.048780  \n",
       "8   1.000000  0.0  0.000000  0.420290  1.000000  \n",
       "9   0.944444  0.0  0.765957  1.000000  0.005739  \n",
       "10  0.777778  0.0  0.882979  0.420290  0.005739  "
      ],
      "text/html": "<div>\n<style scoped>\n    .dataframe tbody tr th:only-of-type {\n        vertical-align: middle;\n    }\n\n    .dataframe tbody tr th {\n        vertical-align: top;\n    }\n\n    .dataframe thead th {\n        text-align: right;\n    }\n</style>\n<table border=\"1\" class=\"dataframe\">\n  <thead>\n    <tr style=\"text-align: right;\">\n      <th></th>\n      <th>Make0</th>\n      <th>Make1</th>\n      <th>Make2</th>\n      <th>Make3</th>\n      <th>Fuel0</th>\n      <th>Vehicle0</th>\n      <th>Vehicle1</th>\n      <th>Use0</th>\n      <th>Use1</th>\n      <th>Use2</th>\n      <th>Age1</th>\n      <th>CO1</th>\n      <th>CO21</th>\n      <th>O21</th>\n      <th>HC1</th>\n    </tr>\n  </thead>\n  <tbody>\n    <tr>\n      <th>1</th>\n      <td>1.0</td>\n      <td>0.0</td>\n      <td>0.0</td>\n      <td>0.0</td>\n      <td>1.0</td>\n      <td>1.0</td>\n      <td>0.0</td>\n      <td>1.0</td>\n      <td>0.0</td>\n      <td>0.0</td>\n      <td>0.277778</td>\n      <td>0.0</td>\n      <td>0.872340</td>\n      <td>0.118357</td>\n      <td>0.000000</td>\n    </tr>\n    <tr>\n      <th>2</th>\n      <td>1.0</td>\n      <td>0.0</td>\n      <td>0.0</td>\n      <td>0.0</td>\n      <td>1.0</td>\n      <td>0.0</td>\n      <td>1.0</td>\n      <td>1.0</td>\n      <td>0.0</td>\n      <td>0.0</td>\n      <td>0.222222</td>\n      <td>0.0</td>\n      <td>1.000000</td>\n      <td>0.000000</td>\n      <td>0.014347</td>\n    </tr>\n    <tr>\n      <th>3</th>\n      <td>0.0</td>\n      <td>0.0</td>\n      <td>1.0</td>\n      <td>0.0</td>\n      <td>1.0</td>\n      <td>1.0</td>\n      <td>0.0</td>\n      <td>1.0</td>\n      <td>0.0</td>\n      <td>0.0</td>\n      <td>0.000000</td>\n      <td>0.0</td>\n      <td>0.989362</td>\n      <td>0.051530</td>\n      <td>0.001435</td>\n    </tr>\n    <tr>\n      <th>4</th>\n      <td>0.0</td>\n      <td>0.0</td>\n      <td>1.0</td>\n      <td>0.0</td>\n      <td>1.0</td>\n      <td>1.0</td>\n      <td>0.0</td>\n      <td>0.0</td>\n      <td>1.0</td>\n      <td>0.0</td>\n      <td>0.722222</td>\n      <td>0.0</td>\n      <td>0.521277</td>\n      <td>0.247182</td>\n      <td>0.001435</td>\n    </tr>\n    <tr>\n      <th>5</th>\n      <td>0.0</td>\n      <td>0.0</td>\n      <td>1.0</td>\n      <td>0.0</td>\n      <td>1.0</td>\n      <td>1.0</td>\n      <td>0.0</td>\n      <td>0.0</td>\n      <td>1.0</td>\n      <td>0.0</td>\n      <td>0.500000</td>\n      <td>0.0</td>\n      <td>0.978723</td>\n      <td>0.041868</td>\n      <td>0.001435</td>\n    </tr>\n    <tr>\n      <th>6</th>\n      <td>0.0</td>\n      <td>0.0</td>\n      <td>1.0</td>\n      <td>0.0</td>\n      <td>1.0</td>\n      <td>0.0</td>\n      <td>1.0</td>\n      <td>0.0</td>\n      <td>1.0</td>\n      <td>0.0</td>\n      <td>0.500000</td>\n      <td>0.0</td>\n      <td>0.808511</td>\n      <td>0.115942</td>\n      <td>0.005739</td>\n    </tr>\n    <tr>\n      <th>7</th>\n      <td>1.0</td>\n      <td>0.0</td>\n      <td>0.0</td>\n      <td>0.0</td>\n      <td>1.0</td>\n      <td>1.0</td>\n      <td>0.0</td>\n      <td>0.0</td>\n      <td>0.0</td>\n      <td>1.0</td>\n      <td>1.000000</td>\n      <td>0.0</td>\n      <td>0.765957</td>\n      <td>0.219002</td>\n      <td>0.048780</td>\n    </tr>\n    <tr>\n      <th>8</th>\n      <td>1.0</td>\n      <td>0.0</td>\n      <td>0.0</td>\n      <td>0.0</td>\n      <td>1.0</td>\n      <td>1.0</td>\n      <td>0.0</td>\n      <td>0.0</td>\n      <td>0.0</td>\n      <td>1.0</td>\n      <td>1.000000</td>\n      <td>0.0</td>\n      <td>0.000000</td>\n      <td>0.420290</td>\n      <td>1.000000</td>\n    </tr>\n    <tr>\n      <th>9</th>\n      <td>0.0</td>\n      <td>0.0</td>\n      <td>0.0</td>\n      <td>1.0</td>\n      <td>1.0</td>\n      <td>1.0</td>\n      <td>0.0</td>\n      <td>0.0</td>\n      <td>0.0</td>\n      <td>1.0</td>\n      <td>0.944444</td>\n      <td>0.0</td>\n      <td>0.765957</td>\n      <td>1.000000</td>\n      <td>0.005739</td>\n    </tr>\n    <tr>\n      <th>10</th>\n      <td>0.0</td>\n      <td>1.0</td>\n      <td>0.0</td>\n      <td>0.0</td>\n      <td>1.0</td>\n      <td>0.0</td>\n      <td>1.0</td>\n      <td>0.0</td>\n      <td>0.0</td>\n      <td>1.0</td>\n      <td>0.777778</td>\n      <td>0.0</td>\n      <td>0.882979</td>\n      <td>0.420290</td>\n      <td>0.005739</td>\n    </tr>\n  </tbody>\n</table>\n</div>"
     },
     "metadata": {},
     "execution_count": 140
    }
   ],
   "source": [
    "dfx = pd.concat([x1, x4, x5], axis=1)\n",
    "dfx"
   ]
  },
  {
   "cell_type": "code",
   "execution_count": 141,
   "metadata": {},
   "outputs": [
    {
     "output_type": "execute_result",
     "data": {
      "text/plain": [
       "    Make0  Make1  Make2  Make3  Fuel0  Vehicle0  Vehicle1  Use0  Use1  Use2  \\\n",
       "1     1.0    0.0    0.0    0.0    1.0       1.0       0.0   1.0   0.0   0.0   \n",
       "2     1.0    0.0    0.0    0.0    1.0       0.0       1.0   1.0   0.0   0.0   \n",
       "3     0.0    0.0    1.0    0.0    1.0       1.0       0.0   1.0   0.0   0.0   \n",
       "4     0.0    0.0    1.0    0.0    1.0       1.0       0.0   0.0   1.0   0.0   \n",
       "5     0.0    0.0    1.0    0.0    1.0       1.0       0.0   0.0   1.0   0.0   \n",
       "6     0.0    0.0    1.0    0.0    1.0       0.0       1.0   0.0   1.0   0.0   \n",
       "7     1.0    0.0    0.0    0.0    1.0       1.0       0.0   0.0   0.0   1.0   \n",
       "8     1.0    0.0    0.0    0.0    1.0       1.0       0.0   0.0   0.0   1.0   \n",
       "9     0.0    0.0    0.0    1.0    1.0       1.0       0.0   0.0   0.0   1.0   \n",
       "10    0.0    1.0    0.0    0.0    1.0       0.0       1.0   0.0   0.0   1.0   \n",
       "\n",
       "        Age1  \n",
       "1   0.277778  \n",
       "2   0.222222  \n",
       "3   0.000000  \n",
       "4   0.722222  \n",
       "5   0.500000  \n",
       "6   0.500000  \n",
       "7   1.000000  \n",
       "8   1.000000  \n",
       "9   0.944444  \n",
       "10  0.777778  "
      ],
      "text/html": "<div>\n<style scoped>\n    .dataframe tbody tr th:only-of-type {\n        vertical-align: middle;\n    }\n\n    .dataframe tbody tr th {\n        vertical-align: top;\n    }\n\n    .dataframe thead th {\n        text-align: right;\n    }\n</style>\n<table border=\"1\" class=\"dataframe\">\n  <thead>\n    <tr style=\"text-align: right;\">\n      <th></th>\n      <th>Make0</th>\n      <th>Make1</th>\n      <th>Make2</th>\n      <th>Make3</th>\n      <th>Fuel0</th>\n      <th>Vehicle0</th>\n      <th>Vehicle1</th>\n      <th>Use0</th>\n      <th>Use1</th>\n      <th>Use2</th>\n      <th>Age1</th>\n    </tr>\n  </thead>\n  <tbody>\n    <tr>\n      <th>1</th>\n      <td>1.0</td>\n      <td>0.0</td>\n      <td>0.0</td>\n      <td>0.0</td>\n      <td>1.0</td>\n      <td>1.0</td>\n      <td>0.0</td>\n      <td>1.0</td>\n      <td>0.0</td>\n      <td>0.0</td>\n      <td>0.277778</td>\n    </tr>\n    <tr>\n      <th>2</th>\n      <td>1.0</td>\n      <td>0.0</td>\n      <td>0.0</td>\n      <td>0.0</td>\n      <td>1.0</td>\n      <td>0.0</td>\n      <td>1.0</td>\n      <td>1.0</td>\n      <td>0.0</td>\n      <td>0.0</td>\n      <td>0.222222</td>\n    </tr>\n    <tr>\n      <th>3</th>\n      <td>0.0</td>\n      <td>0.0</td>\n      <td>1.0</td>\n      <td>0.0</td>\n      <td>1.0</td>\n      <td>1.0</td>\n      <td>0.0</td>\n      <td>1.0</td>\n      <td>0.0</td>\n      <td>0.0</td>\n      <td>0.000000</td>\n    </tr>\n    <tr>\n      <th>4</th>\n      <td>0.0</td>\n      <td>0.0</td>\n      <td>1.0</td>\n      <td>0.0</td>\n      <td>1.0</td>\n      <td>1.0</td>\n      <td>0.0</td>\n      <td>0.0</td>\n      <td>1.0</td>\n      <td>0.0</td>\n      <td>0.722222</td>\n    </tr>\n    <tr>\n      <th>5</th>\n      <td>0.0</td>\n      <td>0.0</td>\n      <td>1.0</td>\n      <td>0.0</td>\n      <td>1.0</td>\n      <td>1.0</td>\n      <td>0.0</td>\n      <td>0.0</td>\n      <td>1.0</td>\n      <td>0.0</td>\n      <td>0.500000</td>\n    </tr>\n    <tr>\n      <th>6</th>\n      <td>0.0</td>\n      <td>0.0</td>\n      <td>1.0</td>\n      <td>0.0</td>\n      <td>1.0</td>\n      <td>0.0</td>\n      <td>1.0</td>\n      <td>0.0</td>\n      <td>1.0</td>\n      <td>0.0</td>\n      <td>0.500000</td>\n    </tr>\n    <tr>\n      <th>7</th>\n      <td>1.0</td>\n      <td>0.0</td>\n      <td>0.0</td>\n      <td>0.0</td>\n      <td>1.0</td>\n      <td>1.0</td>\n      <td>0.0</td>\n      <td>0.0</td>\n      <td>0.0</td>\n      <td>1.0</td>\n      <td>1.000000</td>\n    </tr>\n    <tr>\n      <th>8</th>\n      <td>1.0</td>\n      <td>0.0</td>\n      <td>0.0</td>\n      <td>0.0</td>\n      <td>1.0</td>\n      <td>1.0</td>\n      <td>0.0</td>\n      <td>0.0</td>\n      <td>0.0</td>\n      <td>1.0</td>\n      <td>1.000000</td>\n    </tr>\n    <tr>\n      <th>9</th>\n      <td>0.0</td>\n      <td>0.0</td>\n      <td>0.0</td>\n      <td>1.0</td>\n      <td>1.0</td>\n      <td>1.0</td>\n      <td>0.0</td>\n      <td>0.0</td>\n      <td>0.0</td>\n      <td>1.0</td>\n      <td>0.944444</td>\n    </tr>\n    <tr>\n      <th>10</th>\n      <td>0.0</td>\n      <td>1.0</td>\n      <td>0.0</td>\n      <td>0.0</td>\n      <td>1.0</td>\n      <td>0.0</td>\n      <td>1.0</td>\n      <td>0.0</td>\n      <td>0.0</td>\n      <td>1.0</td>\n      <td>0.777778</td>\n    </tr>\n  </tbody>\n</table>\n</div>"
     },
     "metadata": {},
     "execution_count": 141
    }
   ],
   "source": [
    "dfx.iloc[:,:11]"
   ]
  },
  {
   "cell_type": "code",
   "execution_count": 142,
   "metadata": {},
   "outputs": [
    {
     "output_type": "execute_result",
     "data": {
      "text/plain": [
       "    CO1      CO21       O21       HC1\n",
       "1   0.0  0.872340  0.118357  0.000000\n",
       "2   0.0  1.000000  0.000000  0.014347\n",
       "3   0.0  0.989362  0.051530  0.001435\n",
       "4   0.0  0.521277  0.247182  0.001435\n",
       "5   0.0  0.978723  0.041868  0.001435\n",
       "6   0.0  0.808511  0.115942  0.005739\n",
       "7   0.0  0.765957  0.219002  0.048780\n",
       "8   0.0  0.000000  0.420290  1.000000\n",
       "9   0.0  0.765957  1.000000  0.005739\n",
       "10  0.0  0.882979  0.420290  0.005739"
      ],
      "text/html": "<div>\n<style scoped>\n    .dataframe tbody tr th:only-of-type {\n        vertical-align: middle;\n    }\n\n    .dataframe tbody tr th {\n        vertical-align: top;\n    }\n\n    .dataframe thead th {\n        text-align: right;\n    }\n</style>\n<table border=\"1\" class=\"dataframe\">\n  <thead>\n    <tr style=\"text-align: right;\">\n      <th></th>\n      <th>CO1</th>\n      <th>CO21</th>\n      <th>O21</th>\n      <th>HC1</th>\n    </tr>\n  </thead>\n  <tbody>\n    <tr>\n      <th>1</th>\n      <td>0.0</td>\n      <td>0.872340</td>\n      <td>0.118357</td>\n      <td>0.000000</td>\n    </tr>\n    <tr>\n      <th>2</th>\n      <td>0.0</td>\n      <td>1.000000</td>\n      <td>0.000000</td>\n      <td>0.014347</td>\n    </tr>\n    <tr>\n      <th>3</th>\n      <td>0.0</td>\n      <td>0.989362</td>\n      <td>0.051530</td>\n      <td>0.001435</td>\n    </tr>\n    <tr>\n      <th>4</th>\n      <td>0.0</td>\n      <td>0.521277</td>\n      <td>0.247182</td>\n      <td>0.001435</td>\n    </tr>\n    <tr>\n      <th>5</th>\n      <td>0.0</td>\n      <td>0.978723</td>\n      <td>0.041868</td>\n      <td>0.001435</td>\n    </tr>\n    <tr>\n      <th>6</th>\n      <td>0.0</td>\n      <td>0.808511</td>\n      <td>0.115942</td>\n      <td>0.005739</td>\n    </tr>\n    <tr>\n      <th>7</th>\n      <td>0.0</td>\n      <td>0.765957</td>\n      <td>0.219002</td>\n      <td>0.048780</td>\n    </tr>\n    <tr>\n      <th>8</th>\n      <td>0.0</td>\n      <td>0.000000</td>\n      <td>0.420290</td>\n      <td>1.000000</td>\n    </tr>\n    <tr>\n      <th>9</th>\n      <td>0.0</td>\n      <td>0.765957</td>\n      <td>1.000000</td>\n      <td>0.005739</td>\n    </tr>\n    <tr>\n      <th>10</th>\n      <td>0.0</td>\n      <td>0.882979</td>\n      <td>0.420290</td>\n      <td>0.005739</td>\n    </tr>\n  </tbody>\n</table>\n</div>"
     },
     "metadata": {},
     "execution_count": 142
    }
   ],
   "source": [
    "dfx.iloc[:,11:]"
   ]
  },
  {
   "cell_type": "code",
   "execution_count": 143,
   "metadata": {},
   "outputs": [],
   "source": [
    "# dfw.to_excel(\"result.xlsx\")\n",
    "with pd.ExcelWriter('output.xlsx') as writer:  \n",
    "    df.to_excel(writer, sheet_name='Sheet_name_1')\n",
    "    dfw.to_excel(writer, sheet_name='Sheet_name_2')\n",
    "    dfx.to_excel(writer, sheet_name='Sheet_name_3')"
   ]
  },
  {
   "cell_type": "code",
   "execution_count": 144,
   "metadata": {},
   "outputs": [
    {
     "output_type": "stream",
     "name": "stdout",
     "text": [
      "Coefficients: \n [[ 0.00000000e+00  0.00000000e+00  0.00000000e+00  0.00000000e+00\n   0.00000000e+00  0.00000000e+00  0.00000000e+00  0.00000000e+00\n   0.00000000e+00  0.00000000e+00  0.00000000e+00]\n [-3.08999755e-01  0.00000000e+00 -3.99241868e-02  3.48923942e-01\n  -1.11022302e-16  4.08107117e-02 -4.08107117e-02 -2.20775251e-01\n  -3.99241868e-02  2.60699438e-01 -1.94460748e+00]\n [-2.50465045e-01  5.55111512e-17 -1.25242934e-01  3.75707979e-01\n   1.11022302e-16 -2.97767783e-03  2.97767783e-03  1.94201510e-01\n  -1.25242934e-01 -6.89585763e-02  8.36331834e-01]\n [ 4.97658273e-01 -1.11022302e-16 -1.40173816e-03 -4.96256535e-01\n   0.00000000e+00 -4.57626280e-03  4.57626280e-03 -4.95662857e-01\n  -1.40173816e-03  4.97064595e-01  6.23361203e-03]]\nMean squared error: 0.22\nCoefficient of determination: -267.97\n"
     ]
    }
   ],
   "source": [
    "import matplotlib.pyplot as plt\n",
    "import numpy as np\n",
    "from sklearn import datasets, linear_model\n",
    "from sklearn.model_selection import train_test_split\n",
    "from sklearn.metrics import mean_squared_error, r2_score\n",
    "\n",
    "# Load the vehicle dataset\n",
    "X, y = dfx.iloc[:,:11], dfx.iloc[:,11:]\n",
    "\n",
    "# Use only one feature\n",
    "# X = X[:, np.newaxis, 2]\n",
    "\n",
    "# Split the data into training/testing sets\n",
    "X_train, X_test, y_train, y_test = train_test_split(X, y, random_state=1)\n",
    "\n",
    "# Create linear regression object\n",
    "regr = linear_model.LinearRegression()\n",
    "\n",
    "# Train the model using the training sets\n",
    "regr.fit(X_train, y_train)\n",
    "\n",
    "# Make predictions using the testing set\n",
    "y_pred = regr.predict(X_test)\n",
    "\n",
    "# The coefficients\n",
    "print('Coefficients: \\n', regr.coef_)\n",
    "\n",
    "# The mean squared error\n",
    "print('Mean squared error: %.2f' % mean_squared_error(y_test, y_pred))\n",
    "\n",
    "# The coefficient of determination: 1 is perfect prediction\n",
    "print('Coefficient of determination: %.2f' % r2_score(y_test, y_pred))\n",
    "\n"
   ]
  },
  {
   "cell_type": "code",
   "execution_count": 16,
   "metadata": {},
   "outputs": [
    {
     "output_type": "error",
     "ename": "ValueError",
     "evalue": "x and y must be the same size",
     "traceback": [
      "\u001b[1;31m---------------------------------------------------------------------------\u001b[0m",
      "\u001b[1;31mValueError\u001b[0m                                Traceback (most recent call last)",
      "\u001b[1;32m<ipython-input-16-ba3a6fa224d1>\u001b[0m in \u001b[0;36m<module>\u001b[1;34m\u001b[0m\n\u001b[0;32m      1\u001b[0m \u001b[1;31m# Plot outputs\u001b[0m\u001b[1;33m\u001b[0m\u001b[1;33m\u001b[0m\u001b[1;33m\u001b[0m\u001b[0m\n\u001b[1;32m----> 2\u001b[1;33m \u001b[0mplt\u001b[0m\u001b[1;33m.\u001b[0m\u001b[0mscatter\u001b[0m\u001b[1;33m(\u001b[0m\u001b[0mX_test\u001b[0m\u001b[1;33m,\u001b[0m \u001b[0my_test\u001b[0m\u001b[1;33m,\u001b[0m  \u001b[0mcolor\u001b[0m\u001b[1;33m=\u001b[0m\u001b[1;34m'black'\u001b[0m\u001b[1;33m)\u001b[0m\u001b[1;33m\u001b[0m\u001b[1;33m\u001b[0m\u001b[0m\n\u001b[0m\u001b[0;32m      3\u001b[0m \u001b[0mplt\u001b[0m\u001b[1;33m.\u001b[0m\u001b[0mplot\u001b[0m\u001b[1;33m(\u001b[0m\u001b[0mX_test\u001b[0m\u001b[1;33m,\u001b[0m \u001b[0my_pred\u001b[0m\u001b[1;33m,\u001b[0m \u001b[0mcolor\u001b[0m\u001b[1;33m=\u001b[0m\u001b[1;34m'blue'\u001b[0m\u001b[1;33m,\u001b[0m \u001b[0mlinewidth\u001b[0m\u001b[1;33m=\u001b[0m\u001b[1;36m3\u001b[0m\u001b[1;33m)\u001b[0m\u001b[1;33m\u001b[0m\u001b[1;33m\u001b[0m\u001b[0m\n\u001b[0;32m      4\u001b[0m \u001b[1;33m\u001b[0m\u001b[0m\n\u001b[0;32m      5\u001b[0m \u001b[0mplt\u001b[0m\u001b[1;33m.\u001b[0m\u001b[0mxticks\u001b[0m\u001b[1;33m(\u001b[0m\u001b[1;33m(\u001b[0m\u001b[1;33m)\u001b[0m\u001b[1;33m)\u001b[0m\u001b[1;33m\u001b[0m\u001b[1;33m\u001b[0m\u001b[0m\n",
      "\u001b[1;32mC:\\sdk\\Python39\\lib\\site-packages\\matplotlib\\pyplot.py\u001b[0m in \u001b[0;36mscatter\u001b[1;34m(x, y, s, c, marker, cmap, norm, vmin, vmax, alpha, linewidths, verts, edgecolors, plotnonfinite, data, **kwargs)\u001b[0m\n\u001b[0;32m   2888\u001b[0m         \u001b[0mverts\u001b[0m\u001b[1;33m=\u001b[0m\u001b[0mcbook\u001b[0m\u001b[1;33m.\u001b[0m\u001b[0mdeprecation\u001b[0m\u001b[1;33m.\u001b[0m\u001b[0m_deprecated_parameter\u001b[0m\u001b[1;33m,\u001b[0m\u001b[1;33m\u001b[0m\u001b[1;33m\u001b[0m\u001b[0m\n\u001b[0;32m   2889\u001b[0m         edgecolors=None, *, plotnonfinite=False, data=None, **kwargs):\n\u001b[1;32m-> 2890\u001b[1;33m     __ret = gca().scatter(\n\u001b[0m\u001b[0;32m   2891\u001b[0m         \u001b[0mx\u001b[0m\u001b[1;33m,\u001b[0m \u001b[0my\u001b[0m\u001b[1;33m,\u001b[0m \u001b[0ms\u001b[0m\u001b[1;33m=\u001b[0m\u001b[0ms\u001b[0m\u001b[1;33m,\u001b[0m \u001b[0mc\u001b[0m\u001b[1;33m=\u001b[0m\u001b[0mc\u001b[0m\u001b[1;33m,\u001b[0m \u001b[0mmarker\u001b[0m\u001b[1;33m=\u001b[0m\u001b[0mmarker\u001b[0m\u001b[1;33m,\u001b[0m \u001b[0mcmap\u001b[0m\u001b[1;33m=\u001b[0m\u001b[0mcmap\u001b[0m\u001b[1;33m,\u001b[0m \u001b[0mnorm\u001b[0m\u001b[1;33m=\u001b[0m\u001b[0mnorm\u001b[0m\u001b[1;33m,\u001b[0m\u001b[1;33m\u001b[0m\u001b[1;33m\u001b[0m\u001b[0m\n\u001b[0;32m   2892\u001b[0m         \u001b[0mvmin\u001b[0m\u001b[1;33m=\u001b[0m\u001b[0mvmin\u001b[0m\u001b[1;33m,\u001b[0m \u001b[0mvmax\u001b[0m\u001b[1;33m=\u001b[0m\u001b[0mvmax\u001b[0m\u001b[1;33m,\u001b[0m \u001b[0malpha\u001b[0m\u001b[1;33m=\u001b[0m\u001b[0malpha\u001b[0m\u001b[1;33m,\u001b[0m \u001b[0mlinewidths\u001b[0m\u001b[1;33m=\u001b[0m\u001b[0mlinewidths\u001b[0m\u001b[1;33m,\u001b[0m\u001b[1;33m\u001b[0m\u001b[1;33m\u001b[0m\u001b[0m\n",
      "\u001b[1;32mC:\\sdk\\Python39\\lib\\site-packages\\matplotlib\\__init__.py\u001b[0m in \u001b[0;36minner\u001b[1;34m(ax, data, *args, **kwargs)\u001b[0m\n\u001b[0;32m   1445\u001b[0m     \u001b[1;32mdef\u001b[0m \u001b[0minner\u001b[0m\u001b[1;33m(\u001b[0m\u001b[0max\u001b[0m\u001b[1;33m,\u001b[0m \u001b[1;33m*\u001b[0m\u001b[0margs\u001b[0m\u001b[1;33m,\u001b[0m \u001b[0mdata\u001b[0m\u001b[1;33m=\u001b[0m\u001b[1;32mNone\u001b[0m\u001b[1;33m,\u001b[0m \u001b[1;33m**\u001b[0m\u001b[0mkwargs\u001b[0m\u001b[1;33m)\u001b[0m\u001b[1;33m:\u001b[0m\u001b[1;33m\u001b[0m\u001b[1;33m\u001b[0m\u001b[0m\n\u001b[0;32m   1446\u001b[0m         \u001b[1;32mif\u001b[0m \u001b[0mdata\u001b[0m \u001b[1;32mis\u001b[0m \u001b[1;32mNone\u001b[0m\u001b[1;33m:\u001b[0m\u001b[1;33m\u001b[0m\u001b[1;33m\u001b[0m\u001b[0m\n\u001b[1;32m-> 1447\u001b[1;33m             \u001b[1;32mreturn\u001b[0m \u001b[0mfunc\u001b[0m\u001b[1;33m(\u001b[0m\u001b[0max\u001b[0m\u001b[1;33m,\u001b[0m \u001b[1;33m*\u001b[0m\u001b[0mmap\u001b[0m\u001b[1;33m(\u001b[0m\u001b[0msanitize_sequence\u001b[0m\u001b[1;33m,\u001b[0m \u001b[0margs\u001b[0m\u001b[1;33m)\u001b[0m\u001b[1;33m,\u001b[0m \u001b[1;33m**\u001b[0m\u001b[0mkwargs\u001b[0m\u001b[1;33m)\u001b[0m\u001b[1;33m\u001b[0m\u001b[1;33m\u001b[0m\u001b[0m\n\u001b[0m\u001b[0;32m   1448\u001b[0m \u001b[1;33m\u001b[0m\u001b[0m\n\u001b[0;32m   1449\u001b[0m         \u001b[0mbound\u001b[0m \u001b[1;33m=\u001b[0m \u001b[0mnew_sig\u001b[0m\u001b[1;33m.\u001b[0m\u001b[0mbind\u001b[0m\u001b[1;33m(\u001b[0m\u001b[0max\u001b[0m\u001b[1;33m,\u001b[0m \u001b[1;33m*\u001b[0m\u001b[0margs\u001b[0m\u001b[1;33m,\u001b[0m \u001b[1;33m**\u001b[0m\u001b[0mkwargs\u001b[0m\u001b[1;33m)\u001b[0m\u001b[1;33m\u001b[0m\u001b[1;33m\u001b[0m\u001b[0m\n",
      "\u001b[1;32mC:\\sdk\\Python39\\lib\\site-packages\\matplotlib\\cbook\\deprecation.py\u001b[0m in \u001b[0;36mwrapper\u001b[1;34m(*inner_args, **inner_kwargs)\u001b[0m\n\u001b[0;32m    409\u001b[0m                          \u001b[1;32melse\u001b[0m \u001b[0mdeprecation_addendum\u001b[0m\u001b[1;33m,\u001b[0m\u001b[1;33m\u001b[0m\u001b[1;33m\u001b[0m\u001b[0m\n\u001b[0;32m    410\u001b[0m                 **kwargs)\n\u001b[1;32m--> 411\u001b[1;33m         \u001b[1;32mreturn\u001b[0m \u001b[0mfunc\u001b[0m\u001b[1;33m(\u001b[0m\u001b[1;33m*\u001b[0m\u001b[0minner_args\u001b[0m\u001b[1;33m,\u001b[0m \u001b[1;33m**\u001b[0m\u001b[0minner_kwargs\u001b[0m\u001b[1;33m)\u001b[0m\u001b[1;33m\u001b[0m\u001b[1;33m\u001b[0m\u001b[0m\n\u001b[0m\u001b[0;32m    412\u001b[0m \u001b[1;33m\u001b[0m\u001b[0m\n\u001b[0;32m    413\u001b[0m     \u001b[1;32mreturn\u001b[0m \u001b[0mwrapper\u001b[0m\u001b[1;33m\u001b[0m\u001b[1;33m\u001b[0m\u001b[0m\n",
      "\u001b[1;32mC:\\sdk\\Python39\\lib\\site-packages\\matplotlib\\axes\\_axes.py\u001b[0m in \u001b[0;36mscatter\u001b[1;34m(self, x, y, s, c, marker, cmap, norm, vmin, vmax, alpha, linewidths, verts, edgecolors, plotnonfinite, **kwargs)\u001b[0m\n\u001b[0;32m   4439\u001b[0m         \u001b[0my\u001b[0m \u001b[1;33m=\u001b[0m \u001b[0mnp\u001b[0m\u001b[1;33m.\u001b[0m\u001b[0mma\u001b[0m\u001b[1;33m.\u001b[0m\u001b[0mravel\u001b[0m\u001b[1;33m(\u001b[0m\u001b[0my\u001b[0m\u001b[1;33m)\u001b[0m\u001b[1;33m\u001b[0m\u001b[1;33m\u001b[0m\u001b[0m\n\u001b[0;32m   4440\u001b[0m         \u001b[1;32mif\u001b[0m \u001b[0mx\u001b[0m\u001b[1;33m.\u001b[0m\u001b[0msize\u001b[0m \u001b[1;33m!=\u001b[0m \u001b[0my\u001b[0m\u001b[1;33m.\u001b[0m\u001b[0msize\u001b[0m\u001b[1;33m:\u001b[0m\u001b[1;33m\u001b[0m\u001b[1;33m\u001b[0m\u001b[0m\n\u001b[1;32m-> 4441\u001b[1;33m             \u001b[1;32mraise\u001b[0m \u001b[0mValueError\u001b[0m\u001b[1;33m(\u001b[0m\u001b[1;34m\"x and y must be the same size\"\u001b[0m\u001b[1;33m)\u001b[0m\u001b[1;33m\u001b[0m\u001b[1;33m\u001b[0m\u001b[0m\n\u001b[0m\u001b[0;32m   4442\u001b[0m \u001b[1;33m\u001b[0m\u001b[0m\n\u001b[0;32m   4443\u001b[0m         \u001b[1;32mif\u001b[0m \u001b[0ms\u001b[0m \u001b[1;32mis\u001b[0m \u001b[1;32mNone\u001b[0m\u001b[1;33m:\u001b[0m\u001b[1;33m\u001b[0m\u001b[1;33m\u001b[0m\u001b[0m\n",
      "\u001b[1;31mValueError\u001b[0m: x and y must be the same size"
     ]
    }
   ],
   "source": [
    "# Plot outputs\n",
    "plt.scatter(X_test, y_test,  color='black')\n",
    "plt.plot(X_test, y_pred, color='blue', linewidth=3)\n",
    "\n",
    "plt.xticks(())\n",
    "plt.yticks(())\n",
    "\n",
    "plt.show()"
   ]
  },
  {
   "cell_type": "code",
   "execution_count": 160,
   "metadata": {},
   "outputs": [
    {
     "output_type": "stream",
     "name": "stdout",
     "text": [
      "[[ 0.00910569  1.23048312 -0.04099189 -0.16027018]\n [ 0.00943126  0.51104214  0.47085878  0.58436662]]\n-219.34663478264272\n"
     ]
    }
   ],
   "source": [
    "from sklearn.neural_network import MLPRegressor\n",
    "from sklearn.datasets import make_regression\n",
    "from sklearn.model_selection import train_test_split\n",
    "\n",
    "X, y = dfx.iloc[:,:11], dfx.iloc[:,11:]\n",
    "\n",
    "X_train, X_test, y_train, y_test = train_test_split(X, y, random_state=1)\n",
    "\n",
    "regr = MLPRegressor(random_state=1, max_iter=500).fit(X_train, y_train)\n",
    "\n",
    "print(regr.predict(X_test[:2]))\n",
    "\n",
    "print(regr.score(X_test, y_test))"
   ]
  },
  {
   "cell_type": "code",
   "execution_count": 155,
   "metadata": {},
   "outputs": [
    {
     "output_type": "execute_result",
     "data": {
      "text/plain": [
       "    Make0  Make1  Make2  Make3  Fuel0  Vehicle0  Vehicle1  Use0  Use1  Use2  \\\n",
       "3     0.0    0.0    1.0    0.0    1.0       1.0       0.0   1.0   0.0   0.0   \n",
       "10    0.0    1.0    0.0    0.0    1.0       0.0       1.0   0.0   0.0   1.0   \n",
       "7     1.0    0.0    0.0    0.0    1.0       1.0       0.0   0.0   0.0   1.0   \n",
       "8     1.0    0.0    0.0    0.0    1.0       1.0       0.0   0.0   0.0   1.0   \n",
       "1     1.0    0.0    0.0    0.0    1.0       1.0       0.0   1.0   0.0   0.0   \n",
       "4     0.0    0.0    1.0    0.0    1.0       1.0       0.0   0.0   1.0   0.0   \n",
       "9     0.0    0.0    0.0    1.0    1.0       1.0       0.0   0.0   0.0   1.0   \n",
       "\n",
       "        Age1  \n",
       "3   0.000000  \n",
       "10  0.777778  \n",
       "7   1.000000  \n",
       "8   1.000000  \n",
       "1   0.277778  \n",
       "4   0.722222  \n",
       "9   0.944444  "
      ],
      "text/html": "<div>\n<style scoped>\n    .dataframe tbody tr th:only-of-type {\n        vertical-align: middle;\n    }\n\n    .dataframe tbody tr th {\n        vertical-align: top;\n    }\n\n    .dataframe thead th {\n        text-align: right;\n    }\n</style>\n<table border=\"1\" class=\"dataframe\">\n  <thead>\n    <tr style=\"text-align: right;\">\n      <th></th>\n      <th>Make0</th>\n      <th>Make1</th>\n      <th>Make2</th>\n      <th>Make3</th>\n      <th>Fuel0</th>\n      <th>Vehicle0</th>\n      <th>Vehicle1</th>\n      <th>Use0</th>\n      <th>Use1</th>\n      <th>Use2</th>\n      <th>Age1</th>\n    </tr>\n  </thead>\n  <tbody>\n    <tr>\n      <th>3</th>\n      <td>0.0</td>\n      <td>0.0</td>\n      <td>1.0</td>\n      <td>0.0</td>\n      <td>1.0</td>\n      <td>1.0</td>\n      <td>0.0</td>\n      <td>1.0</td>\n      <td>0.0</td>\n      <td>0.0</td>\n      <td>0.000000</td>\n    </tr>\n    <tr>\n      <th>10</th>\n      <td>0.0</td>\n      <td>1.0</td>\n      <td>0.0</td>\n      <td>0.0</td>\n      <td>1.0</td>\n      <td>0.0</td>\n      <td>1.0</td>\n      <td>0.0</td>\n      <td>0.0</td>\n      <td>1.0</td>\n      <td>0.777778</td>\n    </tr>\n    <tr>\n      <th>7</th>\n      <td>1.0</td>\n      <td>0.0</td>\n      <td>0.0</td>\n      <td>0.0</td>\n      <td>1.0</td>\n      <td>1.0</td>\n      <td>0.0</td>\n      <td>0.0</td>\n      <td>0.0</td>\n      <td>1.0</td>\n      <td>1.000000</td>\n    </tr>\n    <tr>\n      <th>8</th>\n      <td>1.0</td>\n      <td>0.0</td>\n      <td>0.0</td>\n      <td>0.0</td>\n      <td>1.0</td>\n      <td>1.0</td>\n      <td>0.0</td>\n      <td>0.0</td>\n      <td>0.0</td>\n      <td>1.0</td>\n      <td>1.000000</td>\n    </tr>\n    <tr>\n      <th>1</th>\n      <td>1.0</td>\n      <td>0.0</td>\n      <td>0.0</td>\n      <td>0.0</td>\n      <td>1.0</td>\n      <td>1.0</td>\n      <td>0.0</td>\n      <td>1.0</td>\n      <td>0.0</td>\n      <td>0.0</td>\n      <td>0.277778</td>\n    </tr>\n    <tr>\n      <th>4</th>\n      <td>0.0</td>\n      <td>0.0</td>\n      <td>1.0</td>\n      <td>0.0</td>\n      <td>1.0</td>\n      <td>1.0</td>\n      <td>0.0</td>\n      <td>0.0</td>\n      <td>1.0</td>\n      <td>0.0</td>\n      <td>0.722222</td>\n    </tr>\n    <tr>\n      <th>9</th>\n      <td>0.0</td>\n      <td>0.0</td>\n      <td>0.0</td>\n      <td>1.0</td>\n      <td>1.0</td>\n      <td>1.0</td>\n      <td>0.0</td>\n      <td>0.0</td>\n      <td>0.0</td>\n      <td>1.0</td>\n      <td>0.944444</td>\n    </tr>\n  </tbody>\n</table>\n</div>"
     },
     "metadata": {},
     "execution_count": 155
    }
   ],
   "source": [
    "X_train"
   ]
  },
  {
   "cell_type": "code",
   "execution_count": 146,
   "metadata": {},
   "outputs": [
    {
     "output_type": "execute_result",
     "data": {
      "text/plain": [
       "    CO1      CO21       O21       HC1\n",
       "1   0.0  0.872340  0.118357  0.000000\n",
       "2   0.0  1.000000  0.000000  0.014347\n",
       "3   0.0  0.989362  0.051530  0.001435\n",
       "4   0.0  0.521277  0.247182  0.001435\n",
       "5   0.0  0.978723  0.041868  0.001435\n",
       "6   0.0  0.808511  0.115942  0.005739\n",
       "7   0.0  0.765957  0.219002  0.048780\n",
       "8   0.0  0.000000  0.420290  1.000000\n",
       "9   0.0  0.765957  1.000000  0.005739\n",
       "10  0.0  0.882979  0.420290  0.005739"
      ],
      "text/html": "<div>\n<style scoped>\n    .dataframe tbody tr th:only-of-type {\n        vertical-align: middle;\n    }\n\n    .dataframe tbody tr th {\n        vertical-align: top;\n    }\n\n    .dataframe thead th {\n        text-align: right;\n    }\n</style>\n<table border=\"1\" class=\"dataframe\">\n  <thead>\n    <tr style=\"text-align: right;\">\n      <th></th>\n      <th>CO1</th>\n      <th>CO21</th>\n      <th>O21</th>\n      <th>HC1</th>\n    </tr>\n  </thead>\n  <tbody>\n    <tr>\n      <th>1</th>\n      <td>0.0</td>\n      <td>0.872340</td>\n      <td>0.118357</td>\n      <td>0.000000</td>\n    </tr>\n    <tr>\n      <th>2</th>\n      <td>0.0</td>\n      <td>1.000000</td>\n      <td>0.000000</td>\n      <td>0.014347</td>\n    </tr>\n    <tr>\n      <th>3</th>\n      <td>0.0</td>\n      <td>0.989362</td>\n      <td>0.051530</td>\n      <td>0.001435</td>\n    </tr>\n    <tr>\n      <th>4</th>\n      <td>0.0</td>\n      <td>0.521277</td>\n      <td>0.247182</td>\n      <td>0.001435</td>\n    </tr>\n    <tr>\n      <th>5</th>\n      <td>0.0</td>\n      <td>0.978723</td>\n      <td>0.041868</td>\n      <td>0.001435</td>\n    </tr>\n    <tr>\n      <th>6</th>\n      <td>0.0</td>\n      <td>0.808511</td>\n      <td>0.115942</td>\n      <td>0.005739</td>\n    </tr>\n    <tr>\n      <th>7</th>\n      <td>0.0</td>\n      <td>0.765957</td>\n      <td>0.219002</td>\n      <td>0.048780</td>\n    </tr>\n    <tr>\n      <th>8</th>\n      <td>0.0</td>\n      <td>0.000000</td>\n      <td>0.420290</td>\n      <td>1.000000</td>\n    </tr>\n    <tr>\n      <th>9</th>\n      <td>0.0</td>\n      <td>0.765957</td>\n      <td>1.000000</td>\n      <td>0.005739</td>\n    </tr>\n    <tr>\n      <th>10</th>\n      <td>0.0</td>\n      <td>0.882979</td>\n      <td>0.420290</td>\n      <td>0.005739</td>\n    </tr>\n  </tbody>\n</table>\n</div>"
     },
     "metadata": {},
     "execution_count": 146
    }
   ],
   "source": [
    "y"
   ]
  },
  {
   "cell_type": "code",
   "execution_count": null,
   "metadata": {},
   "outputs": [],
   "source": []
  }
 ]
}