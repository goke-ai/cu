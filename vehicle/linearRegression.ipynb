{
 "metadata": {
  "language_info": {
   "codemirror_mode": {
    "name": "ipython",
    "version": 3
   },
   "file_extension": ".py",
   "mimetype": "text/x-python",
   "name": "python",
   "nbconvert_exporter": "python",
   "pygments_lexer": "ipython3",
   "version": "3.9.1-final"
  },
  "orig_nbformat": 2,
  "kernelspec": {
   "name": "python3",
   "display_name": "Python 3.9.1 64-bit",
   "metadata": {
    "interpreter": {
     "hash": "c1a7846af735771808fbc8272134e7984cc669109ae413ca91ad8b74a534aa1b"
    }
   }
  }
 },
 "nbformat": 4,
 "nbformat_minor": 2,
 "cells": [
  {
   "cell_type": "code",
   "execution_count": 3,
   "metadata": {},
   "outputs": [
    {
     "output_type": "stream",
     "name": "stdout",
     "text": [
      "Make\nFuel\nVehicle\nUse\n"
     ]
    },
    {
     "output_type": "execute_result",
     "data": {
      "text/plain": [
       "         Make    Yr    Fuel Vehicle         Use  CO   CO2     O2   HC  Age  \\\n",
       "1       Honda  2006  Petrol     Car  Commercial   0  13.5   1.55    0    8   \n",
       "2       Honda  2007  Petrol    Jeep  Commercial   0  14.7   0.08   10    7   \n",
       "3      Toyota  2011  Petrol     Car  Commercial   0  14.6   0.72    1    3   \n",
       "4      Toyota  1998  Petrol     Car    Official   0  10.2   3.15    1   16   \n",
       "5      Toyota  2002  Petrol     Car    Official   0  14.5   0.60    1   12   \n",
       "6      Toyota  2002  Petrol    Jeep    Official   0  12.9   1.52    4   12   \n",
       "7       Honda  1993  Petrol     Car     Private   0  12.5   2.80   34   21   \n",
       "8       Honda  1993  Petrol     Car     Private   0   5.3   5.30  697   21   \n",
       "9   Volswagen  1994  Petrol     Car     Private   0  12.5  12.50    4   20   \n",
       "10     Nissan  1997  Petrol    Jeep     Private   0  13.6   5.30    4   17   \n",
       "\n",
       "    Make0  Make1  Make2  Make3  Fuel0  Vehicle0  Vehicle1  Use0  Use1  Use2  \n",
       "1     1.0    0.0    0.0    0.0    1.0       1.0       0.0   1.0   0.0   0.0  \n",
       "2     1.0    0.0    0.0    0.0    1.0       0.0       1.0   1.0   0.0   0.0  \n",
       "3     0.0    0.0    1.0    0.0    1.0       1.0       0.0   1.0   0.0   0.0  \n",
       "4     0.0    0.0    1.0    0.0    1.0       1.0       0.0   0.0   1.0   0.0  \n",
       "5     0.0    0.0    1.0    0.0    1.0       1.0       0.0   0.0   1.0   0.0  \n",
       "6     0.0    0.0    1.0    0.0    1.0       0.0       1.0   0.0   1.0   0.0  \n",
       "7     1.0    0.0    0.0    0.0    1.0       1.0       0.0   0.0   0.0   1.0  \n",
       "8     1.0    0.0    0.0    0.0    1.0       1.0       0.0   0.0   0.0   1.0  \n",
       "9     0.0    0.0    0.0    1.0    1.0       1.0       0.0   0.0   0.0   1.0  \n",
       "10    0.0    1.0    0.0    0.0    1.0       0.0       1.0   0.0   0.0   1.0  "
      ],
      "text/html": "<div>\n<style scoped>\n    .dataframe tbody tr th:only-of-type {\n        vertical-align: middle;\n    }\n\n    .dataframe tbody tr th {\n        vertical-align: top;\n    }\n\n    .dataframe thead th {\n        text-align: right;\n    }\n</style>\n<table border=\"1\" class=\"dataframe\">\n  <thead>\n    <tr style=\"text-align: right;\">\n      <th></th>\n      <th>Make</th>\n      <th>Yr</th>\n      <th>Fuel</th>\n      <th>Vehicle</th>\n      <th>Use</th>\n      <th>CO</th>\n      <th>CO2</th>\n      <th>O2</th>\n      <th>HC</th>\n      <th>Age</th>\n      <th>Make0</th>\n      <th>Make1</th>\n      <th>Make2</th>\n      <th>Make3</th>\n      <th>Fuel0</th>\n      <th>Vehicle0</th>\n      <th>Vehicle1</th>\n      <th>Use0</th>\n      <th>Use1</th>\n      <th>Use2</th>\n    </tr>\n  </thead>\n  <tbody>\n    <tr>\n      <th>1</th>\n      <td>Honda</td>\n      <td>2006</td>\n      <td>Petrol</td>\n      <td>Car</td>\n      <td>Commercial</td>\n      <td>0</td>\n      <td>13.5</td>\n      <td>1.55</td>\n      <td>0</td>\n      <td>8</td>\n      <td>1.0</td>\n      <td>0.0</td>\n      <td>0.0</td>\n      <td>0.0</td>\n      <td>1.0</td>\n      <td>1.0</td>\n      <td>0.0</td>\n      <td>1.0</td>\n      <td>0.0</td>\n      <td>0.0</td>\n    </tr>\n    <tr>\n      <th>2</th>\n      <td>Honda</td>\n      <td>2007</td>\n      <td>Petrol</td>\n      <td>Jeep</td>\n      <td>Commercial</td>\n      <td>0</td>\n      <td>14.7</td>\n      <td>0.08</td>\n      <td>10</td>\n      <td>7</td>\n      <td>1.0</td>\n      <td>0.0</td>\n      <td>0.0</td>\n      <td>0.0</td>\n      <td>1.0</td>\n      <td>0.0</td>\n      <td>1.0</td>\n      <td>1.0</td>\n      <td>0.0</td>\n      <td>0.0</td>\n    </tr>\n    <tr>\n      <th>3</th>\n      <td>Toyota</td>\n      <td>2011</td>\n      <td>Petrol</td>\n      <td>Car</td>\n      <td>Commercial</td>\n      <td>0</td>\n      <td>14.6</td>\n      <td>0.72</td>\n      <td>1</td>\n      <td>3</td>\n      <td>0.0</td>\n      <td>0.0</td>\n      <td>1.0</td>\n      <td>0.0</td>\n      <td>1.0</td>\n      <td>1.0</td>\n      <td>0.0</td>\n      <td>1.0</td>\n      <td>0.0</td>\n      <td>0.0</td>\n    </tr>\n    <tr>\n      <th>4</th>\n      <td>Toyota</td>\n      <td>1998</td>\n      <td>Petrol</td>\n      <td>Car</td>\n      <td>Official</td>\n      <td>0</td>\n      <td>10.2</td>\n      <td>3.15</td>\n      <td>1</td>\n      <td>16</td>\n      <td>0.0</td>\n      <td>0.0</td>\n      <td>1.0</td>\n      <td>0.0</td>\n      <td>1.0</td>\n      <td>1.0</td>\n      <td>0.0</td>\n      <td>0.0</td>\n      <td>1.0</td>\n      <td>0.0</td>\n    </tr>\n    <tr>\n      <th>5</th>\n      <td>Toyota</td>\n      <td>2002</td>\n      <td>Petrol</td>\n      <td>Car</td>\n      <td>Official</td>\n      <td>0</td>\n      <td>14.5</td>\n      <td>0.60</td>\n      <td>1</td>\n      <td>12</td>\n      <td>0.0</td>\n      <td>0.0</td>\n      <td>1.0</td>\n      <td>0.0</td>\n      <td>1.0</td>\n      <td>1.0</td>\n      <td>0.0</td>\n      <td>0.0</td>\n      <td>1.0</td>\n      <td>0.0</td>\n    </tr>\n    <tr>\n      <th>6</th>\n      <td>Toyota</td>\n      <td>2002</td>\n      <td>Petrol</td>\n      <td>Jeep</td>\n      <td>Official</td>\n      <td>0</td>\n      <td>12.9</td>\n      <td>1.52</td>\n      <td>4</td>\n      <td>12</td>\n      <td>0.0</td>\n      <td>0.0</td>\n      <td>1.0</td>\n      <td>0.0</td>\n      <td>1.0</td>\n      <td>0.0</td>\n      <td>1.0</td>\n      <td>0.0</td>\n      <td>1.0</td>\n      <td>0.0</td>\n    </tr>\n    <tr>\n      <th>7</th>\n      <td>Honda</td>\n      <td>1993</td>\n      <td>Petrol</td>\n      <td>Car</td>\n      <td>Private</td>\n      <td>0</td>\n      <td>12.5</td>\n      <td>2.80</td>\n      <td>34</td>\n      <td>21</td>\n      <td>1.0</td>\n      <td>0.0</td>\n      <td>0.0</td>\n      <td>0.0</td>\n      <td>1.0</td>\n      <td>1.0</td>\n      <td>0.0</td>\n      <td>0.0</td>\n      <td>0.0</td>\n      <td>1.0</td>\n    </tr>\n    <tr>\n      <th>8</th>\n      <td>Honda</td>\n      <td>1993</td>\n      <td>Petrol</td>\n      <td>Car</td>\n      <td>Private</td>\n      <td>0</td>\n      <td>5.3</td>\n      <td>5.30</td>\n      <td>697</td>\n      <td>21</td>\n      <td>1.0</td>\n      <td>0.0</td>\n      <td>0.0</td>\n      <td>0.0</td>\n      <td>1.0</td>\n      <td>1.0</td>\n      <td>0.0</td>\n      <td>0.0</td>\n      <td>0.0</td>\n      <td>1.0</td>\n    </tr>\n    <tr>\n      <th>9</th>\n      <td>Volswagen</td>\n      <td>1994</td>\n      <td>Petrol</td>\n      <td>Car</td>\n      <td>Private</td>\n      <td>0</td>\n      <td>12.5</td>\n      <td>12.50</td>\n      <td>4</td>\n      <td>20</td>\n      <td>0.0</td>\n      <td>0.0</td>\n      <td>0.0</td>\n      <td>1.0</td>\n      <td>1.0</td>\n      <td>1.0</td>\n      <td>0.0</td>\n      <td>0.0</td>\n      <td>0.0</td>\n      <td>1.0</td>\n    </tr>\n    <tr>\n      <th>10</th>\n      <td>Nissan</td>\n      <td>1997</td>\n      <td>Petrol</td>\n      <td>Jeep</td>\n      <td>Private</td>\n      <td>0</td>\n      <td>13.6</td>\n      <td>5.30</td>\n      <td>4</td>\n      <td>17</td>\n      <td>0.0</td>\n      <td>1.0</td>\n      <td>0.0</td>\n      <td>0.0</td>\n      <td>1.0</td>\n      <td>0.0</td>\n      <td>1.0</td>\n      <td>0.0</td>\n      <td>0.0</td>\n      <td>1.0</td>\n    </tr>\n  </tbody>\n</table>\n</div>"
     },
     "metadata": {},
     "execution_count": 3
    }
   ],
   "source": [
    "import pandas as pd\n",
    "from sklearn.feature_extraction import DictVectorizer\n",
    "\n",
    "vec = DictVectorizer()\n",
    "\n",
    "df = pd.read_excel('vehicle_emission.xls', index_col=0)\n",
    "df_cols = df[['Make','Fuel', 'Vehicle','Use']]\n",
    "\n",
    "dfw = df.copy()\n",
    "\n",
    "for c in df_cols.columns:\n",
    "    print(c)\n",
    "    df1 = df_cols[[c]]\n",
    "    dic1 = df1.to_dict('records')\n",
    "    aMake =vec.fit_transform(dic1).toarray()\n",
    "    df2 = pd.DataFrame(aMake)\n",
    "    # start index\n",
    "    df2.index += 1\n",
    "    # rename columns\n",
    "    df2.columns = [c + str(x)  for x in df2.columns]\n",
    "    dfw = pd.concat([dfw, df2], axis=1)\n",
    "\n",
    "dfw"
   ]
  },
  {
   "cell_type": "code",
   "execution_count": 8,
   "metadata": {},
   "outputs": [
    {
     "output_type": "execute_result",
     "data": {
      "text/plain": [
       "(    Age  Make0  Make1  Make2  Make3  Fuel0  Vehicle0  Vehicle1  Use0  Use1  \\\n",
       " 1     8    1.0    0.0    0.0    0.0    1.0       1.0       0.0   1.0   0.0   \n",
       " 2     7    1.0    0.0    0.0    0.0    1.0       0.0       1.0   1.0   0.0   \n",
       " 3     3    0.0    0.0    1.0    0.0    1.0       1.0       0.0   1.0   0.0   \n",
       " 4    16    0.0    0.0    1.0    0.0    1.0       1.0       0.0   0.0   1.0   \n",
       " 5    12    0.0    0.0    1.0    0.0    1.0       1.0       0.0   0.0   1.0   \n",
       " 6    12    0.0    0.0    1.0    0.0    1.0       0.0       1.0   0.0   1.0   \n",
       " 7    21    1.0    0.0    0.0    0.0    1.0       1.0       0.0   0.0   0.0   \n",
       " 8    21    1.0    0.0    0.0    0.0    1.0       1.0       0.0   0.0   0.0   \n",
       " 9    20    0.0    0.0    0.0    1.0    1.0       1.0       0.0   0.0   0.0   \n",
       " 10   17    0.0    1.0    0.0    0.0    1.0       0.0       1.0   0.0   0.0   \n",
       " \n",
       "     Use2  \n",
       " 1    0.0  \n",
       " 2    0.0  \n",
       " 3    0.0  \n",
       " 4    0.0  \n",
       " 5    0.0  \n",
       " 6    0.0  \n",
       " 7    1.0  \n",
       " 8    1.0  \n",
       " 9    1.0  \n",
       " 10   1.0  ,\n",
       "     CO   CO2     O2\n",
       " 1    0  13.5   1.55\n",
       " 2    0  14.7   0.08\n",
       " 3    0  14.6   0.72\n",
       " 4    0  10.2   3.15\n",
       " 5    0  14.5   0.60\n",
       " 6    0  12.9   1.52\n",
       " 7    0  12.5   2.80\n",
       " 8    0   5.3   5.30\n",
       " 9    0  12.5  12.50\n",
       " 10   0  13.6   5.30)"
      ]
     },
     "metadata": {},
     "execution_count": 8
    }
   ],
   "source": [
    "dfw.iloc[:,9:], dfw.iloc[:,5:8],"
   ]
  },
  {
   "cell_type": "code",
   "execution_count": 21,
   "metadata": {},
   "outputs": [
    {
     "output_type": "stream",
     "name": "stdout",
     "text": [
      "Coefficients: \n [[ 0.00000000e+00  0.00000000e+00  0.00000000e+00  0.00000000e+00\n   0.00000000e+00  0.00000000e+00  0.00000000e+00  0.00000000e+00\n   0.00000000e+00  0.00000000e+00  0.00000000e+00]\n [-1.07500000e+00  1.77500000e+00  7.25000000e-01 -2.50000000e+00\n   3.55271368e-15  0.00000000e+00 -7.25000000e-01  7.25000000e-01\n  -6.31666667e+00  3.25833333e+00  3.05833333e+00]\n [ 6.37500000e-01 -1.55321429e+00  7.48928571e-01  8.04285714e-01\n  -1.77635684e-15  6.31088724e-30 -7.48928571e-01  7.48928571e-01\n   3.88166667e+00 -1.97583333e+00 -1.90583333e+00]]\nMean squared error: 10.23\nCoefficient of determination: -2.81\n"
     ]
    }
   ],
   "source": [
    "import matplotlib.pyplot as plt\n",
    "import numpy as np\n",
    "from sklearn import datasets, linear_model\n",
    "from sklearn.model_selection import train_test_split\n",
    "from sklearn.metrics import mean_squared_error, r2_score\n",
    "\n",
    "# Load the vehicle dataset\n",
    "X, y = dfw.iloc[:,9:], dfw.iloc[:,5:8]\n",
    "\n",
    "# Use only one feature\n",
    "# X = X[:, np.newaxis, 2]\n",
    "\n",
    "# Split the data into training/testing sets\n",
    "X_train, X_test, y_train, y_test = train_test_split(X, y, random_state=42)\n",
    "\n",
    "# Create linear regression object\n",
    "regr = linear_model.LinearRegression()\n",
    "\n",
    "# Train the model using the training sets\n",
    "regr.fit(X_train, y_train)\n",
    "\n",
    "# Make predictions using the testing set\n",
    "y_pred = regr.predict(X_test)\n",
    "\n",
    "# The coefficients\n",
    "print('Coefficients: \\n', regr.coef_)\n",
    "# The mean squared error\n",
    "print('Mean squared error: %.2f'\n",
    "      % mean_squared_error(y_test, y_pred))\n",
    "# The coefficient of determination: 1 is perfect prediction\n",
    "print('Coefficient of determination: %.2f'\n",
    "      % r2_score(y_test, y_pred))\n",
    "\n"
   ]
  },
  {
   "cell_type": "code",
   "execution_count": 16,
   "metadata": {},
   "outputs": [
    {
     "output_type": "error",
     "ename": "ValueError",
     "evalue": "x and y must be the same size",
     "traceback": [
      "\u001b[1;31m---------------------------------------------------------------------------\u001b[0m",
      "\u001b[1;31mValueError\u001b[0m                                Traceback (most recent call last)",
      "\u001b[1;32m<ipython-input-16-ba3a6fa224d1>\u001b[0m in \u001b[0;36m<module>\u001b[1;34m\u001b[0m\n\u001b[0;32m      1\u001b[0m \u001b[1;31m# Plot outputs\u001b[0m\u001b[1;33m\u001b[0m\u001b[1;33m\u001b[0m\u001b[1;33m\u001b[0m\u001b[0m\n\u001b[1;32m----> 2\u001b[1;33m \u001b[0mplt\u001b[0m\u001b[1;33m.\u001b[0m\u001b[0mscatter\u001b[0m\u001b[1;33m(\u001b[0m\u001b[0mX_test\u001b[0m\u001b[1;33m,\u001b[0m \u001b[0my_test\u001b[0m\u001b[1;33m,\u001b[0m  \u001b[0mcolor\u001b[0m\u001b[1;33m=\u001b[0m\u001b[1;34m'black'\u001b[0m\u001b[1;33m)\u001b[0m\u001b[1;33m\u001b[0m\u001b[1;33m\u001b[0m\u001b[0m\n\u001b[0m\u001b[0;32m      3\u001b[0m \u001b[0mplt\u001b[0m\u001b[1;33m.\u001b[0m\u001b[0mplot\u001b[0m\u001b[1;33m(\u001b[0m\u001b[0mX_test\u001b[0m\u001b[1;33m,\u001b[0m \u001b[0my_pred\u001b[0m\u001b[1;33m,\u001b[0m \u001b[0mcolor\u001b[0m\u001b[1;33m=\u001b[0m\u001b[1;34m'blue'\u001b[0m\u001b[1;33m,\u001b[0m \u001b[0mlinewidth\u001b[0m\u001b[1;33m=\u001b[0m\u001b[1;36m3\u001b[0m\u001b[1;33m)\u001b[0m\u001b[1;33m\u001b[0m\u001b[1;33m\u001b[0m\u001b[0m\n\u001b[0;32m      4\u001b[0m \u001b[1;33m\u001b[0m\u001b[0m\n\u001b[0;32m      5\u001b[0m \u001b[0mplt\u001b[0m\u001b[1;33m.\u001b[0m\u001b[0mxticks\u001b[0m\u001b[1;33m(\u001b[0m\u001b[1;33m(\u001b[0m\u001b[1;33m)\u001b[0m\u001b[1;33m)\u001b[0m\u001b[1;33m\u001b[0m\u001b[1;33m\u001b[0m\u001b[0m\n",
      "\u001b[1;32mC:\\sdk\\Python39\\lib\\site-packages\\matplotlib\\pyplot.py\u001b[0m in \u001b[0;36mscatter\u001b[1;34m(x, y, s, c, marker, cmap, norm, vmin, vmax, alpha, linewidths, verts, edgecolors, plotnonfinite, data, **kwargs)\u001b[0m\n\u001b[0;32m   2888\u001b[0m         \u001b[0mverts\u001b[0m\u001b[1;33m=\u001b[0m\u001b[0mcbook\u001b[0m\u001b[1;33m.\u001b[0m\u001b[0mdeprecation\u001b[0m\u001b[1;33m.\u001b[0m\u001b[0m_deprecated_parameter\u001b[0m\u001b[1;33m,\u001b[0m\u001b[1;33m\u001b[0m\u001b[1;33m\u001b[0m\u001b[0m\n\u001b[0;32m   2889\u001b[0m         edgecolors=None, *, plotnonfinite=False, data=None, **kwargs):\n\u001b[1;32m-> 2890\u001b[1;33m     __ret = gca().scatter(\n\u001b[0m\u001b[0;32m   2891\u001b[0m         \u001b[0mx\u001b[0m\u001b[1;33m,\u001b[0m \u001b[0my\u001b[0m\u001b[1;33m,\u001b[0m \u001b[0ms\u001b[0m\u001b[1;33m=\u001b[0m\u001b[0ms\u001b[0m\u001b[1;33m,\u001b[0m \u001b[0mc\u001b[0m\u001b[1;33m=\u001b[0m\u001b[0mc\u001b[0m\u001b[1;33m,\u001b[0m \u001b[0mmarker\u001b[0m\u001b[1;33m=\u001b[0m\u001b[0mmarker\u001b[0m\u001b[1;33m,\u001b[0m \u001b[0mcmap\u001b[0m\u001b[1;33m=\u001b[0m\u001b[0mcmap\u001b[0m\u001b[1;33m,\u001b[0m \u001b[0mnorm\u001b[0m\u001b[1;33m=\u001b[0m\u001b[0mnorm\u001b[0m\u001b[1;33m,\u001b[0m\u001b[1;33m\u001b[0m\u001b[1;33m\u001b[0m\u001b[0m\n\u001b[0;32m   2892\u001b[0m         \u001b[0mvmin\u001b[0m\u001b[1;33m=\u001b[0m\u001b[0mvmin\u001b[0m\u001b[1;33m,\u001b[0m \u001b[0mvmax\u001b[0m\u001b[1;33m=\u001b[0m\u001b[0mvmax\u001b[0m\u001b[1;33m,\u001b[0m \u001b[0malpha\u001b[0m\u001b[1;33m=\u001b[0m\u001b[0malpha\u001b[0m\u001b[1;33m,\u001b[0m \u001b[0mlinewidths\u001b[0m\u001b[1;33m=\u001b[0m\u001b[0mlinewidths\u001b[0m\u001b[1;33m,\u001b[0m\u001b[1;33m\u001b[0m\u001b[1;33m\u001b[0m\u001b[0m\n",
      "\u001b[1;32mC:\\sdk\\Python39\\lib\\site-packages\\matplotlib\\__init__.py\u001b[0m in \u001b[0;36minner\u001b[1;34m(ax, data, *args, **kwargs)\u001b[0m\n\u001b[0;32m   1445\u001b[0m     \u001b[1;32mdef\u001b[0m \u001b[0minner\u001b[0m\u001b[1;33m(\u001b[0m\u001b[0max\u001b[0m\u001b[1;33m,\u001b[0m \u001b[1;33m*\u001b[0m\u001b[0margs\u001b[0m\u001b[1;33m,\u001b[0m \u001b[0mdata\u001b[0m\u001b[1;33m=\u001b[0m\u001b[1;32mNone\u001b[0m\u001b[1;33m,\u001b[0m \u001b[1;33m**\u001b[0m\u001b[0mkwargs\u001b[0m\u001b[1;33m)\u001b[0m\u001b[1;33m:\u001b[0m\u001b[1;33m\u001b[0m\u001b[1;33m\u001b[0m\u001b[0m\n\u001b[0;32m   1446\u001b[0m         \u001b[1;32mif\u001b[0m \u001b[0mdata\u001b[0m \u001b[1;32mis\u001b[0m \u001b[1;32mNone\u001b[0m\u001b[1;33m:\u001b[0m\u001b[1;33m\u001b[0m\u001b[1;33m\u001b[0m\u001b[0m\n\u001b[1;32m-> 1447\u001b[1;33m             \u001b[1;32mreturn\u001b[0m \u001b[0mfunc\u001b[0m\u001b[1;33m(\u001b[0m\u001b[0max\u001b[0m\u001b[1;33m,\u001b[0m \u001b[1;33m*\u001b[0m\u001b[0mmap\u001b[0m\u001b[1;33m(\u001b[0m\u001b[0msanitize_sequence\u001b[0m\u001b[1;33m,\u001b[0m \u001b[0margs\u001b[0m\u001b[1;33m)\u001b[0m\u001b[1;33m,\u001b[0m \u001b[1;33m**\u001b[0m\u001b[0mkwargs\u001b[0m\u001b[1;33m)\u001b[0m\u001b[1;33m\u001b[0m\u001b[1;33m\u001b[0m\u001b[0m\n\u001b[0m\u001b[0;32m   1448\u001b[0m \u001b[1;33m\u001b[0m\u001b[0m\n\u001b[0;32m   1449\u001b[0m         \u001b[0mbound\u001b[0m \u001b[1;33m=\u001b[0m \u001b[0mnew_sig\u001b[0m\u001b[1;33m.\u001b[0m\u001b[0mbind\u001b[0m\u001b[1;33m(\u001b[0m\u001b[0max\u001b[0m\u001b[1;33m,\u001b[0m \u001b[1;33m*\u001b[0m\u001b[0margs\u001b[0m\u001b[1;33m,\u001b[0m \u001b[1;33m**\u001b[0m\u001b[0mkwargs\u001b[0m\u001b[1;33m)\u001b[0m\u001b[1;33m\u001b[0m\u001b[1;33m\u001b[0m\u001b[0m\n",
      "\u001b[1;32mC:\\sdk\\Python39\\lib\\site-packages\\matplotlib\\cbook\\deprecation.py\u001b[0m in \u001b[0;36mwrapper\u001b[1;34m(*inner_args, **inner_kwargs)\u001b[0m\n\u001b[0;32m    409\u001b[0m                          \u001b[1;32melse\u001b[0m \u001b[0mdeprecation_addendum\u001b[0m\u001b[1;33m,\u001b[0m\u001b[1;33m\u001b[0m\u001b[1;33m\u001b[0m\u001b[0m\n\u001b[0;32m    410\u001b[0m                 **kwargs)\n\u001b[1;32m--> 411\u001b[1;33m         \u001b[1;32mreturn\u001b[0m \u001b[0mfunc\u001b[0m\u001b[1;33m(\u001b[0m\u001b[1;33m*\u001b[0m\u001b[0minner_args\u001b[0m\u001b[1;33m,\u001b[0m \u001b[1;33m**\u001b[0m\u001b[0minner_kwargs\u001b[0m\u001b[1;33m)\u001b[0m\u001b[1;33m\u001b[0m\u001b[1;33m\u001b[0m\u001b[0m\n\u001b[0m\u001b[0;32m    412\u001b[0m \u001b[1;33m\u001b[0m\u001b[0m\n\u001b[0;32m    413\u001b[0m     \u001b[1;32mreturn\u001b[0m \u001b[0mwrapper\u001b[0m\u001b[1;33m\u001b[0m\u001b[1;33m\u001b[0m\u001b[0m\n",
      "\u001b[1;32mC:\\sdk\\Python39\\lib\\site-packages\\matplotlib\\axes\\_axes.py\u001b[0m in \u001b[0;36mscatter\u001b[1;34m(self, x, y, s, c, marker, cmap, norm, vmin, vmax, alpha, linewidths, verts, edgecolors, plotnonfinite, **kwargs)\u001b[0m\n\u001b[0;32m   4439\u001b[0m         \u001b[0my\u001b[0m \u001b[1;33m=\u001b[0m \u001b[0mnp\u001b[0m\u001b[1;33m.\u001b[0m\u001b[0mma\u001b[0m\u001b[1;33m.\u001b[0m\u001b[0mravel\u001b[0m\u001b[1;33m(\u001b[0m\u001b[0my\u001b[0m\u001b[1;33m)\u001b[0m\u001b[1;33m\u001b[0m\u001b[1;33m\u001b[0m\u001b[0m\n\u001b[0;32m   4440\u001b[0m         \u001b[1;32mif\u001b[0m \u001b[0mx\u001b[0m\u001b[1;33m.\u001b[0m\u001b[0msize\u001b[0m \u001b[1;33m!=\u001b[0m \u001b[0my\u001b[0m\u001b[1;33m.\u001b[0m\u001b[0msize\u001b[0m\u001b[1;33m:\u001b[0m\u001b[1;33m\u001b[0m\u001b[1;33m\u001b[0m\u001b[0m\n\u001b[1;32m-> 4441\u001b[1;33m             \u001b[1;32mraise\u001b[0m \u001b[0mValueError\u001b[0m\u001b[1;33m(\u001b[0m\u001b[1;34m\"x and y must be the same size\"\u001b[0m\u001b[1;33m)\u001b[0m\u001b[1;33m\u001b[0m\u001b[1;33m\u001b[0m\u001b[0m\n\u001b[0m\u001b[0;32m   4442\u001b[0m \u001b[1;33m\u001b[0m\u001b[0m\n\u001b[0;32m   4443\u001b[0m         \u001b[1;32mif\u001b[0m \u001b[0ms\u001b[0m \u001b[1;32mis\u001b[0m \u001b[1;32mNone\u001b[0m\u001b[1;33m:\u001b[0m\u001b[1;33m\u001b[0m\u001b[1;33m\u001b[0m\u001b[0m\n",
      "\u001b[1;31mValueError\u001b[0m: x and y must be the same size"
     ]
    }
   ],
   "source": [
    "# Plot outputs\n",
    "plt.scatter(X_test, y_test,  color='black')\n",
    "plt.plot(X_test, y_pred, color='blue', linewidth=3)\n",
    "\n",
    "plt.xticks(())\n",
    "plt.yticks(())\n",
    "\n",
    "plt.show()"
   ]
  },
  {
   "cell_type": "code",
   "execution_count": null,
   "metadata": {},
   "outputs": [],
   "source": []
  }
 ]
}