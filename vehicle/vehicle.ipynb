{
 "metadata": {
  "language_info": {
   "codemirror_mode": {
    "name": "ipython",
    "version": 3
   },
   "file_extension": ".py",
   "mimetype": "text/x-python",
   "name": "python",
   "nbconvert_exporter": "python",
   "pygments_lexer": "ipython3",
   "version": "3.8.5"
  },
  "orig_nbformat": 2,
  "kernelspec": {
   "name": "python385jvsc74a57bd0916dbcbb3f70747c44a77c7bcd40155683ae19c65e1c03b4aa3499c5328201f1",
   "display_name": "Python 3.8.5 64-bit"
  },
  "metadata": {
   "interpreter": {
    "hash": "916dbcbb3f70747c44a77c7bcd40155683ae19c65e1c03b4aa3499c5328201f1"
   }
  }
 },
 "nbformat": 4,
 "nbformat_minor": 2,
 "cells": [
  {
   "cell_type": "code",
   "execution_count": null,
   "source": [
    "!pip3 install -q xlrd xlwt\n",
    "!pip3 install -q openpyxl\n",
    "!pip3 install -q numpy\n",
    "!pip3 install -q scipy\n",
    "!pip3 install -q pandas\n",
    "!pip3 install -q matplotlib\n",
    "!pip3 install -q seaborn\n",
    "!pip3 install -q tensorflow\n",
    "!pip3 install -q scikit-learn\n"
   ],
   "outputs": [],
   "metadata": {}
  },
  {
   "cell_type": "code",
   "execution_count": null,
   "source": [
    "import matplotlib.pyplot as plt\n",
    "import numpy as np\n",
    "import pandas as pd\n",
    "import seaborn as sns\n",
    "\n",
    "\n",
    "# Make numpy printouts easier to read.\n",
    "np.set_printoptions(precision=3, suppress=True)"
   ],
   "outputs": [],
   "metadata": {}
  },
  {
   "cell_type": "code",
   "execution_count": null,
   "source": [
    "rawDataset = pd.read_excel('vehicle_emission_1.xls', index_col=0)\n",
    "rawDataset"
   ],
   "outputs": [],
   "metadata": {}
  },
  {
   "cell_type": "code",
   "execution_count": null,
   "source": [
    "rawDataset.columns"
   ],
   "outputs": [],
   "metadata": {}
  },
  {
   "cell_type": "code",
   "execution_count": null,
   "source": [
    "# prefix = ['Make', 'FuelType', 'VehicleUse', 'Study', 'OGEPA', 'VehicleType', 'EUROII', 'NESREAI', 'NESREAII', 'EUROIII']\n",
    "boolCols = ['Study', 'OGEPA', 'EUROII', 'NESREAI', 'NESREAII', 'EUROIII']\n",
    "\n",
    "dataset = rawDataset.copy()\n",
    "\n",
    "for col in boolCols:\n",
    "    dict_colData = { x:i for i,x in enumerate(rawDataset[col].unique())}\n",
    "    print(dict_colData)\n",
    "    dataset[col + '_N'] = dataset[col].map(dict_colData)\n",
    "    \n",
    "# dataset = pd.get_dummies(dataset, prefix=prefix, prefix_sep='_')\n",
    "dataset"
   ],
   "outputs": [],
   "metadata": {}
  },
  {
   "cell_type": "code",
   "execution_count": null,
   "source": [
    "dataset = dataset.drop(boolCols, axis=1)"
   ],
   "outputs": [],
   "metadata": {}
  },
  {
   "cell_type": "code",
   "execution_count": null,
   "source": [
    "prefix = ['Make', 'FuelType', 'VehicleUse', 'VehicleType']\n",
    "dataset = pd.get_dummies(dataset, prefix=prefix, prefix_sep='_')\n",
    "dataset"
   ],
   "outputs": [],
   "metadata": {}
  },
  {
   "cell_type": "code",
   "execution_count": null,
   "source": [
    "dataset.columns"
   ],
   "outputs": [],
   "metadata": {}
  },
  {
   "cell_type": "code",
   "execution_count": null,
   "source": [
    "sns.pairplot(dataset[['CO', 'CO2', 'O2', 'HC', 'Age']], diag_kind='kde')"
   ],
   "outputs": [],
   "metadata": {}
  },
  {
   "cell_type": "code",
   "execution_count": null,
   "source": [
    "dataset.describe().transpose()"
   ],
   "outputs": [],
   "metadata": {}
  },
  {
   "cell_type": "code",
   "execution_count": null,
   "source": [
    "dataset.columns"
   ],
   "outputs": [],
   "metadata": {}
  },
  {
   "cell_type": "code",
   "execution_count": null,
   "source": [
    "h = 15\n",
    "X = dataset.copy()\n",
    "X = X.dropna()\n",
    "X = X.loc[::h]\n",
    "sns.pairplot(X[['CO', 'CO2', 'O2', 'HC', 'Age', 'lamda', 'AFR']], diag_kind='kde')"
   ],
   "outputs": [],
   "metadata": {}
  },
  {
   "cell_type": "code",
   "execution_count": null,
   "source": [
    "import matplotlib.pyplot as plt\n",
    "import numpy as np\n",
    "from sklearn import datasets, linear_model\n",
    "from sklearn.model_selection import train_test_split\n",
    "from sklearn.metrics import mean_squared_error, r2_score\n",
    "from sklearn.preprocessing import StandardScaler\n",
    "\n",
    "# Load the vehicle dataset\n",
    "X = dataset.copy()\n",
    "X = X.dropna()\n",
    "X = X.loc[::h]\n",
    "# sns.pairplot(X[['CO', 'CO2', 'O2', 'HC', 'Age']], diag_kind='kde')\n",
    "\n",
    "y = X[['CO','CO2','O2','HC']]\n",
    "X = X.drop(['CO','CO2','O2','HC','Yr', \n",
    "            'lamda',\n",
    "            'AFR',\n",
    "            'Study_N', 'OGEPA_N', 'EUROII_N', 'NESREAI_N', 'NESREAII_N', 'EUROIII_N'\n",
    "            ]\n",
    "            , axis=1)\n",
    "\n",
    "scaler = StandardScaler()\n",
    "scaler.fit(X)\n",
    "X_normalized = scaler.transform(X)\n",
    "\n",
    "# Use only one feature\n",
    "# X = X[:, np.newaxis, 2]\n",
    "\n",
    "for i in range(1000):\n",
    "    # Split the data into training/testing sets\n",
    "    X_train, X_test, y_train, y_test = train_test_split(X_normalized, y, random_state=i)\n",
    "\n",
    "    # Create linear regression object\n",
    "    regr = linear_model.LinearRegression()\n",
    "\n",
    "    # Train the model using the training sets\n",
    "    regr.fit(X_train, y_train)\n",
    "\n",
    "    # Make predictions using the testing set\n",
    "    y_pred = regr.predict(X_test)\n",
    "\n",
    "    # # The coefficients\n",
    "    # print('Coefficients: \\n', regr.coef_)\n",
    "\n",
    "    # # The mean squared error\n",
    "    # print('Mean squared error: %.2f' % mean_squared_error(y_test, y_pred))\n",
    "\n",
    "    # # The coefficient of determination: 1 is perfect prediction\n",
    "    # print('Coefficient of determination: %.2f' % r2_score(y_test, y_pred))\n",
    "\n",
    "    mse = mean_squared_error(y_test, y_pred)\n",
    "    r2 = r2_score(y_test, y_pred)\n",
    "\n",
    "    if r2 > .5:\n",
    "        print(i, '- ', r2, mse, len(X_train), len(X_test))\n"
   ],
   "outputs": [],
   "metadata": {
    "tags": []
   }
  },
  {
   "cell_type": "code",
   "execution_count": null,
   "source": [],
   "outputs": [],
   "metadata": {}
  }
 ]
}