{
 "metadata": {
  "language_info": {
   "codemirror_mode": {
    "name": "ipython",
    "version": 3
   },
   "file_extension": ".py",
   "mimetype": "text/x-python",
   "name": "python",
   "nbconvert_exporter": "python",
   "pygments_lexer": "ipython3",
   "version": "3.9.0-final"
  },
  "orig_nbformat": 2,
  "kernelspec": {
   "name": "python3",
   "display_name": "Python 3.9.0 64-bit",
   "metadata": {
    "interpreter": {
     "hash": "c1a7846af735771808fbc8272134e7984cc669109ae413ca91ad8b74a534aa1b"
    }
   }
  }
 },
 "nbformat": 4,
 "nbformat_minor": 2,
 "cells": [
  {
   "cell_type": "code",
   "execution_count": 53,
   "metadata": {},
   "outputs": [
    {
     "output_type": "execute_result",
     "data": {
      "text/plain": [
       "         Make    Yr    Fuel Vehicle         Use  CO   CO2     O2   HC  Age\n",
       "1       Honda  2006  Petrol     Car  Commercial   0  13.5   1.55    0    8\n",
       "2       Honda  2007  Petrol    Jeep  Commercial   0  14.7   0.08   10    7\n",
       "3      Toyota  2011  Petrol     Car  Commercial   0  14.6   0.72    1    3\n",
       "4      Toyota  1998  Petrol     Car    Official   0  10.2   3.15    1   16\n",
       "5      Toyota  2002  Petrol     Car    Official   0  14.5   0.60    1   12\n",
       "6      Toyota  2002  Petrol    Jeep    Official   0  12.9   1.52    4   12\n",
       "7       Honda  1993  Petrol     Car     Private   0  12.5   2.80   34   21\n",
       "8       Honda  1993  Petrol     Car     Private   0   5.3   5.30  697   21\n",
       "9   Volswagen  1994  Petrol     Car     Private   0  12.5  12.50    4   20\n",
       "10     Nissan  1997  Petrol    Jeep     Private   0  13.6   5.30    4   17"
      ],
      "text/html": "<div>\n<style scoped>\n    .dataframe tbody tr th:only-of-type {\n        vertical-align: middle;\n    }\n\n    .dataframe tbody tr th {\n        vertical-align: top;\n    }\n\n    .dataframe thead th {\n        text-align: right;\n    }\n</style>\n<table border=\"1\" class=\"dataframe\">\n  <thead>\n    <tr style=\"text-align: right;\">\n      <th></th>\n      <th>Make</th>\n      <th>Yr</th>\n      <th>Fuel</th>\n      <th>Vehicle</th>\n      <th>Use</th>\n      <th>CO</th>\n      <th>CO2</th>\n      <th>O2</th>\n      <th>HC</th>\n      <th>Age</th>\n    </tr>\n  </thead>\n  <tbody>\n    <tr>\n      <th>1</th>\n      <td>Honda</td>\n      <td>2006</td>\n      <td>Petrol</td>\n      <td>Car</td>\n      <td>Commercial</td>\n      <td>0</td>\n      <td>13.5</td>\n      <td>1.55</td>\n      <td>0</td>\n      <td>8</td>\n    </tr>\n    <tr>\n      <th>2</th>\n      <td>Honda</td>\n      <td>2007</td>\n      <td>Petrol</td>\n      <td>Jeep</td>\n      <td>Commercial</td>\n      <td>0</td>\n      <td>14.7</td>\n      <td>0.08</td>\n      <td>10</td>\n      <td>7</td>\n    </tr>\n    <tr>\n      <th>3</th>\n      <td>Toyota</td>\n      <td>2011</td>\n      <td>Petrol</td>\n      <td>Car</td>\n      <td>Commercial</td>\n      <td>0</td>\n      <td>14.6</td>\n      <td>0.72</td>\n      <td>1</td>\n      <td>3</td>\n    </tr>\n    <tr>\n      <th>4</th>\n      <td>Toyota</td>\n      <td>1998</td>\n      <td>Petrol</td>\n      <td>Car</td>\n      <td>Official</td>\n      <td>0</td>\n      <td>10.2</td>\n      <td>3.15</td>\n      <td>1</td>\n      <td>16</td>\n    </tr>\n    <tr>\n      <th>5</th>\n      <td>Toyota</td>\n      <td>2002</td>\n      <td>Petrol</td>\n      <td>Car</td>\n      <td>Official</td>\n      <td>0</td>\n      <td>14.5</td>\n      <td>0.60</td>\n      <td>1</td>\n      <td>12</td>\n    </tr>\n    <tr>\n      <th>6</th>\n      <td>Toyota</td>\n      <td>2002</td>\n      <td>Petrol</td>\n      <td>Jeep</td>\n      <td>Official</td>\n      <td>0</td>\n      <td>12.9</td>\n      <td>1.52</td>\n      <td>4</td>\n      <td>12</td>\n    </tr>\n    <tr>\n      <th>7</th>\n      <td>Honda</td>\n      <td>1993</td>\n      <td>Petrol</td>\n      <td>Car</td>\n      <td>Private</td>\n      <td>0</td>\n      <td>12.5</td>\n      <td>2.80</td>\n      <td>34</td>\n      <td>21</td>\n    </tr>\n    <tr>\n      <th>8</th>\n      <td>Honda</td>\n      <td>1993</td>\n      <td>Petrol</td>\n      <td>Car</td>\n      <td>Private</td>\n      <td>0</td>\n      <td>5.3</td>\n      <td>5.30</td>\n      <td>697</td>\n      <td>21</td>\n    </tr>\n    <tr>\n      <th>9</th>\n      <td>Volswagen</td>\n      <td>1994</td>\n      <td>Petrol</td>\n      <td>Car</td>\n      <td>Private</td>\n      <td>0</td>\n      <td>12.5</td>\n      <td>12.50</td>\n      <td>4</td>\n      <td>20</td>\n    </tr>\n    <tr>\n      <th>10</th>\n      <td>Nissan</td>\n      <td>1997</td>\n      <td>Petrol</td>\n      <td>Jeep</td>\n      <td>Private</td>\n      <td>0</td>\n      <td>13.6</td>\n      <td>5.30</td>\n      <td>4</td>\n      <td>17</td>\n    </tr>\n  </tbody>\n</table>\n</div>"
     },
     "metadata": {},
     "execution_count": 53
    }
   ],
   "source": [
    "import pandas as pd\n",
    "df = pd.read_excel('vehicle_emission.xls', index_col=0)\n",
    "df"
   ]
  },
  {
   "cell_type": "code",
   "execution_count": 54,
   "metadata": {},
   "outputs": [],
   "source": [
    "from sklearn.neural_network import MLPRegressor\n",
    "from sklearn.datasets import make_regression\n",
    "from sklearn.model_selection import train_test_split\n",
    "\n",
    "X, y = make_regression(n_samples=200, random_state=1)\n",
    "\n",
    "# X_train, X_test, y_train, y_test = train_test_split(X, y, random_state=1)\n",
    "\n",
    "# regr = MLPRegressor(random_state=1, max_iter=500).fit(X_train, y_train)\n",
    "\n",
    "# regr.predict(X_test[:2])\n",
    "\n",
    "# regr.score(X_test, y_test)"
   ]
  },
  {
   "cell_type": "code",
   "execution_count": 55,
   "metadata": {},
   "outputs": [],
   "source": [
    "from sklearn.feature_extraction import DictVectorizer\n",
    "vec = DictVectorizer()\n",
    "\n",
    "# vec.fit_transform(measurements).toarray()"
   ]
  },
  {
   "cell_type": "code",
   "execution_count": 56,
   "metadata": {},
   "outputs": [
    {
     "output_type": "execute_result",
     "data": {
      "text/plain": [
       "         Make    Yr    Fuel Vehicle         Use  CO   CO2     O2   HC  Age\n",
       "1       Honda  2006  Petrol     Car  Commercial   0  13.5   1.55    0    8\n",
       "2       Honda  2007  Petrol    Jeep  Commercial   0  14.7   0.08   10    7\n",
       "3      Toyota  2011  Petrol     Car  Commercial   0  14.6   0.72    1    3\n",
       "4      Toyota  1998  Petrol     Car    Official   0  10.2   3.15    1   16\n",
       "5      Toyota  2002  Petrol     Car    Official   0  14.5   0.60    1   12\n",
       "6      Toyota  2002  Petrol    Jeep    Official   0  12.9   1.52    4   12\n",
       "7       Honda  1993  Petrol     Car     Private   0  12.5   2.80   34   21\n",
       "8       Honda  1993  Petrol     Car     Private   0   5.3   5.30  697   21\n",
       "9   Volswagen  1994  Petrol     Car     Private   0  12.5  12.50    4   20\n",
       "10     Nissan  1997  Petrol    Jeep     Private   0  13.6   5.30    4   17"
      ],
      "text/html": "<div>\n<style scoped>\n    .dataframe tbody tr th:only-of-type {\n        vertical-align: middle;\n    }\n\n    .dataframe tbody tr th {\n        vertical-align: top;\n    }\n\n    .dataframe thead th {\n        text-align: right;\n    }\n</style>\n<table border=\"1\" class=\"dataframe\">\n  <thead>\n    <tr style=\"text-align: right;\">\n      <th></th>\n      <th>Make</th>\n      <th>Yr</th>\n      <th>Fuel</th>\n      <th>Vehicle</th>\n      <th>Use</th>\n      <th>CO</th>\n      <th>CO2</th>\n      <th>O2</th>\n      <th>HC</th>\n      <th>Age</th>\n    </tr>\n  </thead>\n  <tbody>\n    <tr>\n      <th>1</th>\n      <td>Honda</td>\n      <td>2006</td>\n      <td>Petrol</td>\n      <td>Car</td>\n      <td>Commercial</td>\n      <td>0</td>\n      <td>13.5</td>\n      <td>1.55</td>\n      <td>0</td>\n      <td>8</td>\n    </tr>\n    <tr>\n      <th>2</th>\n      <td>Honda</td>\n      <td>2007</td>\n      <td>Petrol</td>\n      <td>Jeep</td>\n      <td>Commercial</td>\n      <td>0</td>\n      <td>14.7</td>\n      <td>0.08</td>\n      <td>10</td>\n      <td>7</td>\n    </tr>\n    <tr>\n      <th>3</th>\n      <td>Toyota</td>\n      <td>2011</td>\n      <td>Petrol</td>\n      <td>Car</td>\n      <td>Commercial</td>\n      <td>0</td>\n      <td>14.6</td>\n      <td>0.72</td>\n      <td>1</td>\n      <td>3</td>\n    </tr>\n    <tr>\n      <th>4</th>\n      <td>Toyota</td>\n      <td>1998</td>\n      <td>Petrol</td>\n      <td>Car</td>\n      <td>Official</td>\n      <td>0</td>\n      <td>10.2</td>\n      <td>3.15</td>\n      <td>1</td>\n      <td>16</td>\n    </tr>\n    <tr>\n      <th>5</th>\n      <td>Toyota</td>\n      <td>2002</td>\n      <td>Petrol</td>\n      <td>Car</td>\n      <td>Official</td>\n      <td>0</td>\n      <td>14.5</td>\n      <td>0.60</td>\n      <td>1</td>\n      <td>12</td>\n    </tr>\n    <tr>\n      <th>6</th>\n      <td>Toyota</td>\n      <td>2002</td>\n      <td>Petrol</td>\n      <td>Jeep</td>\n      <td>Official</td>\n      <td>0</td>\n      <td>12.9</td>\n      <td>1.52</td>\n      <td>4</td>\n      <td>12</td>\n    </tr>\n    <tr>\n      <th>7</th>\n      <td>Honda</td>\n      <td>1993</td>\n      <td>Petrol</td>\n      <td>Car</td>\n      <td>Private</td>\n      <td>0</td>\n      <td>12.5</td>\n      <td>2.80</td>\n      <td>34</td>\n      <td>21</td>\n    </tr>\n    <tr>\n      <th>8</th>\n      <td>Honda</td>\n      <td>1993</td>\n      <td>Petrol</td>\n      <td>Car</td>\n      <td>Private</td>\n      <td>0</td>\n      <td>5.3</td>\n      <td>5.30</td>\n      <td>697</td>\n      <td>21</td>\n    </tr>\n    <tr>\n      <th>9</th>\n      <td>Volswagen</td>\n      <td>1994</td>\n      <td>Petrol</td>\n      <td>Car</td>\n      <td>Private</td>\n      <td>0</td>\n      <td>12.5</td>\n      <td>12.50</td>\n      <td>4</td>\n      <td>20</td>\n    </tr>\n    <tr>\n      <th>10</th>\n      <td>Nissan</td>\n      <td>1997</td>\n      <td>Petrol</td>\n      <td>Jeep</td>\n      <td>Private</td>\n      <td>0</td>\n      <td>13.6</td>\n      <td>5.30</td>\n      <td>4</td>\n      <td>17</td>\n    </tr>\n  </tbody>\n</table>\n</div>"
     },
     "metadata": {},
     "execution_count": 56
    }
   ],
   "source": [
    "df"
   ]
  },
  {
   "cell_type": "code",
   "execution_count": 57,
   "metadata": {},
   "outputs": [
    {
     "output_type": "execute_result",
     "data": {
      "text/plain": [
       "         Make    Fuel Vehicle         Use\n",
       "1       Honda  Petrol     Car  Commercial\n",
       "2       Honda  Petrol    Jeep  Commercial\n",
       "3      Toyota  Petrol     Car  Commercial\n",
       "4      Toyota  Petrol     Car    Official\n",
       "5      Toyota  Petrol     Car    Official\n",
       "6      Toyota  Petrol    Jeep    Official\n",
       "7       Honda  Petrol     Car     Private\n",
       "8       Honda  Petrol     Car     Private\n",
       "9   Volswagen  Petrol     Car     Private\n",
       "10     Nissan  Petrol    Jeep     Private"
      ],
      "text/html": "<div>\n<style scoped>\n    .dataframe tbody tr th:only-of-type {\n        vertical-align: middle;\n    }\n\n    .dataframe tbody tr th {\n        vertical-align: top;\n    }\n\n    .dataframe thead th {\n        text-align: right;\n    }\n</style>\n<table border=\"1\" class=\"dataframe\">\n  <thead>\n    <tr style=\"text-align: right;\">\n      <th></th>\n      <th>Make</th>\n      <th>Fuel</th>\n      <th>Vehicle</th>\n      <th>Use</th>\n    </tr>\n  </thead>\n  <tbody>\n    <tr>\n      <th>1</th>\n      <td>Honda</td>\n      <td>Petrol</td>\n      <td>Car</td>\n      <td>Commercial</td>\n    </tr>\n    <tr>\n      <th>2</th>\n      <td>Honda</td>\n      <td>Petrol</td>\n      <td>Jeep</td>\n      <td>Commercial</td>\n    </tr>\n    <tr>\n      <th>3</th>\n      <td>Toyota</td>\n      <td>Petrol</td>\n      <td>Car</td>\n      <td>Commercial</td>\n    </tr>\n    <tr>\n      <th>4</th>\n      <td>Toyota</td>\n      <td>Petrol</td>\n      <td>Car</td>\n      <td>Official</td>\n    </tr>\n    <tr>\n      <th>5</th>\n      <td>Toyota</td>\n      <td>Petrol</td>\n      <td>Car</td>\n      <td>Official</td>\n    </tr>\n    <tr>\n      <th>6</th>\n      <td>Toyota</td>\n      <td>Petrol</td>\n      <td>Jeep</td>\n      <td>Official</td>\n    </tr>\n    <tr>\n      <th>7</th>\n      <td>Honda</td>\n      <td>Petrol</td>\n      <td>Car</td>\n      <td>Private</td>\n    </tr>\n    <tr>\n      <th>8</th>\n      <td>Honda</td>\n      <td>Petrol</td>\n      <td>Car</td>\n      <td>Private</td>\n    </tr>\n    <tr>\n      <th>9</th>\n      <td>Volswagen</td>\n      <td>Petrol</td>\n      <td>Car</td>\n      <td>Private</td>\n    </tr>\n    <tr>\n      <th>10</th>\n      <td>Nissan</td>\n      <td>Petrol</td>\n      <td>Jeep</td>\n      <td>Private</td>\n    </tr>\n  </tbody>\n</table>\n</div>"
     },
     "metadata": {},
     "execution_count": 57
    }
   ],
   "source": [
    "df_cols = df[['Make','Fuel', 'Vehicle','Use']]\n",
    "df_cols"
   ]
  },
  {
   "cell_type": "code",
   "execution_count": 58,
   "metadata": {},
   "outputs": [
    {
     "output_type": "stream",
     "name": "stdout",
     "text": [
      "Make\nFuel\nVehicle\nUse\n"
     ]
    }
   ],
   "source": [
    "dfw = df.copy()\n",
    "for c in df_cols.columns:\n",
    "    print(c)\n",
    "    df1 = df_cols[[c]]\n",
    "    dic1 = df1.to_dict('records')\n",
    "    aMake =vec.fit_transform(dic1).toarray()\n",
    "    df2 = pd.DataFrame(aMake)\n",
    "    # start index\n",
    "    df2.index += 1\n",
    "    # rename columns\n",
    "    df2.columns = [c + str(x)  for x in df2.columns]\n",
    "    dfw = pd.concat([dfw, df2], axis=1)"
   ]
  },
  {
   "cell_type": "code",
   "execution_count": 59,
   "metadata": {},
   "outputs": [
    {
     "output_type": "execute_result",
     "data": {
      "text/plain": [
       "         Make    Yr    Fuel Vehicle         Use  CO   CO2     O2   HC  Age\n",
       "1       Honda  2006  Petrol     Car  Commercial   0  13.5   1.55    0    8\n",
       "2       Honda  2007  Petrol    Jeep  Commercial   0  14.7   0.08   10    7\n",
       "3      Toyota  2011  Petrol     Car  Commercial   0  14.6   0.72    1    3\n",
       "4      Toyota  1998  Petrol     Car    Official   0  10.2   3.15    1   16\n",
       "5      Toyota  2002  Petrol     Car    Official   0  14.5   0.60    1   12\n",
       "6      Toyota  2002  Petrol    Jeep    Official   0  12.9   1.52    4   12\n",
       "7       Honda  1993  Petrol     Car     Private   0  12.5   2.80   34   21\n",
       "8       Honda  1993  Petrol     Car     Private   0   5.3   5.30  697   21\n",
       "9   Volswagen  1994  Petrol     Car     Private   0  12.5  12.50    4   20\n",
       "10     Nissan  1997  Petrol    Jeep     Private   0  13.6   5.30    4   17"
      ],
      "text/html": "<div>\n<style scoped>\n    .dataframe tbody tr th:only-of-type {\n        vertical-align: middle;\n    }\n\n    .dataframe tbody tr th {\n        vertical-align: top;\n    }\n\n    .dataframe thead th {\n        text-align: right;\n    }\n</style>\n<table border=\"1\" class=\"dataframe\">\n  <thead>\n    <tr style=\"text-align: right;\">\n      <th></th>\n      <th>Make</th>\n      <th>Yr</th>\n      <th>Fuel</th>\n      <th>Vehicle</th>\n      <th>Use</th>\n      <th>CO</th>\n      <th>CO2</th>\n      <th>O2</th>\n      <th>HC</th>\n      <th>Age</th>\n    </tr>\n  </thead>\n  <tbody>\n    <tr>\n      <th>1</th>\n      <td>Honda</td>\n      <td>2006</td>\n      <td>Petrol</td>\n      <td>Car</td>\n      <td>Commercial</td>\n      <td>0</td>\n      <td>13.5</td>\n      <td>1.55</td>\n      <td>0</td>\n      <td>8</td>\n    </tr>\n    <tr>\n      <th>2</th>\n      <td>Honda</td>\n      <td>2007</td>\n      <td>Petrol</td>\n      <td>Jeep</td>\n      <td>Commercial</td>\n      <td>0</td>\n      <td>14.7</td>\n      <td>0.08</td>\n      <td>10</td>\n      <td>7</td>\n    </tr>\n    <tr>\n      <th>3</th>\n      <td>Toyota</td>\n      <td>2011</td>\n      <td>Petrol</td>\n      <td>Car</td>\n      <td>Commercial</td>\n      <td>0</td>\n      <td>14.6</td>\n      <td>0.72</td>\n      <td>1</td>\n      <td>3</td>\n    </tr>\n    <tr>\n      <th>4</th>\n      <td>Toyota</td>\n      <td>1998</td>\n      <td>Petrol</td>\n      <td>Car</td>\n      <td>Official</td>\n      <td>0</td>\n      <td>10.2</td>\n      <td>3.15</td>\n      <td>1</td>\n      <td>16</td>\n    </tr>\n    <tr>\n      <th>5</th>\n      <td>Toyota</td>\n      <td>2002</td>\n      <td>Petrol</td>\n      <td>Car</td>\n      <td>Official</td>\n      <td>0</td>\n      <td>14.5</td>\n      <td>0.60</td>\n      <td>1</td>\n      <td>12</td>\n    </tr>\n    <tr>\n      <th>6</th>\n      <td>Toyota</td>\n      <td>2002</td>\n      <td>Petrol</td>\n      <td>Jeep</td>\n      <td>Official</td>\n      <td>0</td>\n      <td>12.9</td>\n      <td>1.52</td>\n      <td>4</td>\n      <td>12</td>\n    </tr>\n    <tr>\n      <th>7</th>\n      <td>Honda</td>\n      <td>1993</td>\n      <td>Petrol</td>\n      <td>Car</td>\n      <td>Private</td>\n      <td>0</td>\n      <td>12.5</td>\n      <td>2.80</td>\n      <td>34</td>\n      <td>21</td>\n    </tr>\n    <tr>\n      <th>8</th>\n      <td>Honda</td>\n      <td>1993</td>\n      <td>Petrol</td>\n      <td>Car</td>\n      <td>Private</td>\n      <td>0</td>\n      <td>5.3</td>\n      <td>5.30</td>\n      <td>697</td>\n      <td>21</td>\n    </tr>\n    <tr>\n      <th>9</th>\n      <td>Volswagen</td>\n      <td>1994</td>\n      <td>Petrol</td>\n      <td>Car</td>\n      <td>Private</td>\n      <td>0</td>\n      <td>12.5</td>\n      <td>12.50</td>\n      <td>4</td>\n      <td>20</td>\n    </tr>\n    <tr>\n      <th>10</th>\n      <td>Nissan</td>\n      <td>1997</td>\n      <td>Petrol</td>\n      <td>Jeep</td>\n      <td>Private</td>\n      <td>0</td>\n      <td>13.6</td>\n      <td>5.30</td>\n      <td>4</td>\n      <td>17</td>\n    </tr>\n  </tbody>\n</table>\n</div>"
     },
     "metadata": {},
     "execution_count": 59
    }
   ],
   "source": [
    "df"
   ]
  },
  {
   "cell_type": "code",
   "execution_count": 60,
   "metadata": {},
   "outputs": [
    {
     "output_type": "execute_result",
     "data": {
      "text/plain": [
       "         Make    Yr    Fuel Vehicle         Use  CO   CO2     O2   HC  Age  \\\n",
       "1       Honda  2006  Petrol     Car  Commercial   0  13.5   1.55    0    8   \n",
       "2       Honda  2007  Petrol    Jeep  Commercial   0  14.7   0.08   10    7   \n",
       "3      Toyota  2011  Petrol     Car  Commercial   0  14.6   0.72    1    3   \n",
       "4      Toyota  1998  Petrol     Car    Official   0  10.2   3.15    1   16   \n",
       "5      Toyota  2002  Petrol     Car    Official   0  14.5   0.60    1   12   \n",
       "6      Toyota  2002  Petrol    Jeep    Official   0  12.9   1.52    4   12   \n",
       "7       Honda  1993  Petrol     Car     Private   0  12.5   2.80   34   21   \n",
       "8       Honda  1993  Petrol     Car     Private   0   5.3   5.30  697   21   \n",
       "9   Volswagen  1994  Petrol     Car     Private   0  12.5  12.50    4   20   \n",
       "10     Nissan  1997  Petrol    Jeep     Private   0  13.6   5.30    4   17   \n",
       "\n",
       "    Make0  Make1  Make2  Make3  Fuel0  Vehicle0  Vehicle1  Use0  Use1  Use2  \n",
       "1     1.0    0.0    0.0    0.0    1.0       1.0       0.0   1.0   0.0   0.0  \n",
       "2     1.0    0.0    0.0    0.0    1.0       0.0       1.0   1.0   0.0   0.0  \n",
       "3     0.0    0.0    1.0    0.0    1.0       1.0       0.0   1.0   0.0   0.0  \n",
       "4     0.0    0.0    1.0    0.0    1.0       1.0       0.0   0.0   1.0   0.0  \n",
       "5     0.0    0.0    1.0    0.0    1.0       1.0       0.0   0.0   1.0   0.0  \n",
       "6     0.0    0.0    1.0    0.0    1.0       0.0       1.0   0.0   1.0   0.0  \n",
       "7     1.0    0.0    0.0    0.0    1.0       1.0       0.0   0.0   0.0   1.0  \n",
       "8     1.0    0.0    0.0    0.0    1.0       1.0       0.0   0.0   0.0   1.0  \n",
       "9     0.0    0.0    0.0    1.0    1.0       1.0       0.0   0.0   0.0   1.0  \n",
       "10    0.0    1.0    0.0    0.0    1.0       0.0       1.0   0.0   0.0   1.0  "
      ],
      "text/html": "<div>\n<style scoped>\n    .dataframe tbody tr th:only-of-type {\n        vertical-align: middle;\n    }\n\n    .dataframe tbody tr th {\n        vertical-align: top;\n    }\n\n    .dataframe thead th {\n        text-align: right;\n    }\n</style>\n<table border=\"1\" class=\"dataframe\">\n  <thead>\n    <tr style=\"text-align: right;\">\n      <th></th>\n      <th>Make</th>\n      <th>Yr</th>\n      <th>Fuel</th>\n      <th>Vehicle</th>\n      <th>Use</th>\n      <th>CO</th>\n      <th>CO2</th>\n      <th>O2</th>\n      <th>HC</th>\n      <th>Age</th>\n      <th>Make0</th>\n      <th>Make1</th>\n      <th>Make2</th>\n      <th>Make3</th>\n      <th>Fuel0</th>\n      <th>Vehicle0</th>\n      <th>Vehicle1</th>\n      <th>Use0</th>\n      <th>Use1</th>\n      <th>Use2</th>\n    </tr>\n  </thead>\n  <tbody>\n    <tr>\n      <th>1</th>\n      <td>Honda</td>\n      <td>2006</td>\n      <td>Petrol</td>\n      <td>Car</td>\n      <td>Commercial</td>\n      <td>0</td>\n      <td>13.5</td>\n      <td>1.55</td>\n      <td>0</td>\n      <td>8</td>\n      <td>1.0</td>\n      <td>0.0</td>\n      <td>0.0</td>\n      <td>0.0</td>\n      <td>1.0</td>\n      <td>1.0</td>\n      <td>0.0</td>\n      <td>1.0</td>\n      <td>0.0</td>\n      <td>0.0</td>\n    </tr>\n    <tr>\n      <th>2</th>\n      <td>Honda</td>\n      <td>2007</td>\n      <td>Petrol</td>\n      <td>Jeep</td>\n      <td>Commercial</td>\n      <td>0</td>\n      <td>14.7</td>\n      <td>0.08</td>\n      <td>10</td>\n      <td>7</td>\n      <td>1.0</td>\n      <td>0.0</td>\n      <td>0.0</td>\n      <td>0.0</td>\n      <td>1.0</td>\n      <td>0.0</td>\n      <td>1.0</td>\n      <td>1.0</td>\n      <td>0.0</td>\n      <td>0.0</td>\n    </tr>\n    <tr>\n      <th>3</th>\n      <td>Toyota</td>\n      <td>2011</td>\n      <td>Petrol</td>\n      <td>Car</td>\n      <td>Commercial</td>\n      <td>0</td>\n      <td>14.6</td>\n      <td>0.72</td>\n      <td>1</td>\n      <td>3</td>\n      <td>0.0</td>\n      <td>0.0</td>\n      <td>1.0</td>\n      <td>0.0</td>\n      <td>1.0</td>\n      <td>1.0</td>\n      <td>0.0</td>\n      <td>1.0</td>\n      <td>0.0</td>\n      <td>0.0</td>\n    </tr>\n    <tr>\n      <th>4</th>\n      <td>Toyota</td>\n      <td>1998</td>\n      <td>Petrol</td>\n      <td>Car</td>\n      <td>Official</td>\n      <td>0</td>\n      <td>10.2</td>\n      <td>3.15</td>\n      <td>1</td>\n      <td>16</td>\n      <td>0.0</td>\n      <td>0.0</td>\n      <td>1.0</td>\n      <td>0.0</td>\n      <td>1.0</td>\n      <td>1.0</td>\n      <td>0.0</td>\n      <td>0.0</td>\n      <td>1.0</td>\n      <td>0.0</td>\n    </tr>\n    <tr>\n      <th>5</th>\n      <td>Toyota</td>\n      <td>2002</td>\n      <td>Petrol</td>\n      <td>Car</td>\n      <td>Official</td>\n      <td>0</td>\n      <td>14.5</td>\n      <td>0.60</td>\n      <td>1</td>\n      <td>12</td>\n      <td>0.0</td>\n      <td>0.0</td>\n      <td>1.0</td>\n      <td>0.0</td>\n      <td>1.0</td>\n      <td>1.0</td>\n      <td>0.0</td>\n      <td>0.0</td>\n      <td>1.0</td>\n      <td>0.0</td>\n    </tr>\n    <tr>\n      <th>6</th>\n      <td>Toyota</td>\n      <td>2002</td>\n      <td>Petrol</td>\n      <td>Jeep</td>\n      <td>Official</td>\n      <td>0</td>\n      <td>12.9</td>\n      <td>1.52</td>\n      <td>4</td>\n      <td>12</td>\n      <td>0.0</td>\n      <td>0.0</td>\n      <td>1.0</td>\n      <td>0.0</td>\n      <td>1.0</td>\n      <td>0.0</td>\n      <td>1.0</td>\n      <td>0.0</td>\n      <td>1.0</td>\n      <td>0.0</td>\n    </tr>\n    <tr>\n      <th>7</th>\n      <td>Honda</td>\n      <td>1993</td>\n      <td>Petrol</td>\n      <td>Car</td>\n      <td>Private</td>\n      <td>0</td>\n      <td>12.5</td>\n      <td>2.80</td>\n      <td>34</td>\n      <td>21</td>\n      <td>1.0</td>\n      <td>0.0</td>\n      <td>0.0</td>\n      <td>0.0</td>\n      <td>1.0</td>\n      <td>1.0</td>\n      <td>0.0</td>\n      <td>0.0</td>\n      <td>0.0</td>\n      <td>1.0</td>\n    </tr>\n    <tr>\n      <th>8</th>\n      <td>Honda</td>\n      <td>1993</td>\n      <td>Petrol</td>\n      <td>Car</td>\n      <td>Private</td>\n      <td>0</td>\n      <td>5.3</td>\n      <td>5.30</td>\n      <td>697</td>\n      <td>21</td>\n      <td>1.0</td>\n      <td>0.0</td>\n      <td>0.0</td>\n      <td>0.0</td>\n      <td>1.0</td>\n      <td>1.0</td>\n      <td>0.0</td>\n      <td>0.0</td>\n      <td>0.0</td>\n      <td>1.0</td>\n    </tr>\n    <tr>\n      <th>9</th>\n      <td>Volswagen</td>\n      <td>1994</td>\n      <td>Petrol</td>\n      <td>Car</td>\n      <td>Private</td>\n      <td>0</td>\n      <td>12.5</td>\n      <td>12.50</td>\n      <td>4</td>\n      <td>20</td>\n      <td>0.0</td>\n      <td>0.0</td>\n      <td>0.0</td>\n      <td>1.0</td>\n      <td>1.0</td>\n      <td>1.0</td>\n      <td>0.0</td>\n      <td>0.0</td>\n      <td>0.0</td>\n      <td>1.0</td>\n    </tr>\n    <tr>\n      <th>10</th>\n      <td>Nissan</td>\n      <td>1997</td>\n      <td>Petrol</td>\n      <td>Jeep</td>\n      <td>Private</td>\n      <td>0</td>\n      <td>13.6</td>\n      <td>5.30</td>\n      <td>4</td>\n      <td>17</td>\n      <td>0.0</td>\n      <td>1.0</td>\n      <td>0.0</td>\n      <td>0.0</td>\n      <td>1.0</td>\n      <td>0.0</td>\n      <td>1.0</td>\n      <td>0.0</td>\n      <td>0.0</td>\n      <td>1.0</td>\n    </tr>\n  </tbody>\n</table>\n</div>"
     },
     "metadata": {},
     "execution_count": 60
    }
   ],
   "source": [
    "dfw"
   ]
  },
  {
   "cell_type": "code",
   "execution_count": 61,
   "metadata": {},
   "outputs": [
    {
     "output_type": "execute_result",
     "data": {
      "text/plain": [
       "array([[0.38539003, 0.65034568, 0.65034568, 0.07466932, 0.        ],\n",
       "       [0.29036236, 0.60976096, 0.60976096, 0.00331843, 0.41480337],\n",
       "       [0.143536  , 0.69854189, 0.69854189, 0.03444864, 0.04784533],\n",
       "       [0.73412842, 0.46800687, 0.46800687, 0.14453153, 0.04588303],\n",
       "       [0.50446001, 0.60955585, 0.60955585, 0.025223  , 0.04203833],\n",
       "       [0.53928886, 0.57973553, 0.57973553, 0.06830992, 0.17976295],\n",
       "       [0.47958957, 0.28546998, 0.28546998, 0.06394528, 0.77647835],\n",
       "       [0.03011285, 0.00759991, 0.00759991, 0.00759991, 0.99945982],\n",
       "       [0.67238762, 0.42024226, 0.42024226, 0.42024226, 0.13447752],\n",
       "       [0.64116258, 0.51293007, 0.51293007, 0.19989186, 0.15086178]])"
      ]
     },
     "metadata": {},
     "execution_count": 61
    }
   ],
   "source": [
    "import sklearn.preprocessing as preprocessing\n",
    "X = df[['Age','CO2','CO2','O2','HC']].to_numpy()\n",
    "X_normalized = preprocessing.normalize(X, norm='l2')\n",
    "\n",
    "X_normalized"
   ]
  },
  {
   "cell_type": "code",
   "execution_count": 62,
   "metadata": {},
   "outputs": [
    {
     "output_type": "execute_result",
     "data": {
      "text/plain": [
       "         Make    Yr    Fuel Vehicle         Use  CO   CO2     O2   HC  Age  \\\n",
       "1       Honda  2006  Petrol     Car  Commercial   0  13.5   1.55    0    8   \n",
       "2       Honda  2007  Petrol    Jeep  Commercial   0  14.7   0.08   10    7   \n",
       "3      Toyota  2011  Petrol     Car  Commercial   0  14.6   0.72    1    3   \n",
       "4      Toyota  1998  Petrol     Car    Official   0  10.2   3.15    1   16   \n",
       "5      Toyota  2002  Petrol     Car    Official   0  14.5   0.60    1   12   \n",
       "6      Toyota  2002  Petrol    Jeep    Official   0  12.9   1.52    4   12   \n",
       "7       Honda  1993  Petrol     Car     Private   0  12.5   2.80   34   21   \n",
       "8       Honda  1993  Petrol     Car     Private   0   5.3   5.30  697   21   \n",
       "9   Volswagen  1994  Petrol     Car     Private   0  12.5  12.50    4   20   \n",
       "10     Nissan  1997  Petrol    Jeep     Private   0  13.6   5.30    4   17   \n",
       "\n",
       "    ...  Vehicle0  Vehicle1  Use0  Use1  Use2      Age0      CO20      CO20  \\\n",
       "1   ...       1.0       0.0   1.0   0.0   0.0  0.385390  0.650346  0.650346   \n",
       "2   ...       0.0       1.0   1.0   0.0   0.0  0.290362  0.609761  0.609761   \n",
       "3   ...       1.0       0.0   1.0   0.0   0.0  0.143536  0.698542  0.698542   \n",
       "4   ...       1.0       0.0   0.0   1.0   0.0  0.734128  0.468007  0.468007   \n",
       "5   ...       1.0       0.0   0.0   1.0   0.0  0.504460  0.609556  0.609556   \n",
       "6   ...       0.0       1.0   0.0   1.0   0.0  0.539289  0.579736  0.579736   \n",
       "7   ...       1.0       0.0   0.0   0.0   1.0  0.479590  0.285470  0.285470   \n",
       "8   ...       1.0       0.0   0.0   0.0   1.0  0.030113  0.007600  0.007600   \n",
       "9   ...       1.0       0.0   0.0   0.0   1.0  0.672388  0.420242  0.420242   \n",
       "10  ...       0.0       1.0   0.0   0.0   1.0  0.641163  0.512930  0.512930   \n",
       "\n",
       "         O20       HC0  \n",
       "1   0.074669  0.000000  \n",
       "2   0.003318  0.414803  \n",
       "3   0.034449  0.047845  \n",
       "4   0.144532  0.045883  \n",
       "5   0.025223  0.042038  \n",
       "6   0.068310  0.179763  \n",
       "7   0.063945  0.776478  \n",
       "8   0.007600  0.999460  \n",
       "9   0.420242  0.134478  \n",
       "10  0.199892  0.150862  \n",
       "\n",
       "[10 rows x 25 columns]"
      ],
      "text/html": "<div>\n<style scoped>\n    .dataframe tbody tr th:only-of-type {\n        vertical-align: middle;\n    }\n\n    .dataframe tbody tr th {\n        vertical-align: top;\n    }\n\n    .dataframe thead th {\n        text-align: right;\n    }\n</style>\n<table border=\"1\" class=\"dataframe\">\n  <thead>\n    <tr style=\"text-align: right;\">\n      <th></th>\n      <th>Make</th>\n      <th>Yr</th>\n      <th>Fuel</th>\n      <th>Vehicle</th>\n      <th>Use</th>\n      <th>CO</th>\n      <th>CO2</th>\n      <th>O2</th>\n      <th>HC</th>\n      <th>Age</th>\n      <th>...</th>\n      <th>Vehicle0</th>\n      <th>Vehicle1</th>\n      <th>Use0</th>\n      <th>Use1</th>\n      <th>Use2</th>\n      <th>Age0</th>\n      <th>CO20</th>\n      <th>CO20</th>\n      <th>O20</th>\n      <th>HC0</th>\n    </tr>\n  </thead>\n  <tbody>\n    <tr>\n      <th>1</th>\n      <td>Honda</td>\n      <td>2006</td>\n      <td>Petrol</td>\n      <td>Car</td>\n      <td>Commercial</td>\n      <td>0</td>\n      <td>13.5</td>\n      <td>1.55</td>\n      <td>0</td>\n      <td>8</td>\n      <td>...</td>\n      <td>1.0</td>\n      <td>0.0</td>\n      <td>1.0</td>\n      <td>0.0</td>\n      <td>0.0</td>\n      <td>0.385390</td>\n      <td>0.650346</td>\n      <td>0.650346</td>\n      <td>0.074669</td>\n      <td>0.000000</td>\n    </tr>\n    <tr>\n      <th>2</th>\n      <td>Honda</td>\n      <td>2007</td>\n      <td>Petrol</td>\n      <td>Jeep</td>\n      <td>Commercial</td>\n      <td>0</td>\n      <td>14.7</td>\n      <td>0.08</td>\n      <td>10</td>\n      <td>7</td>\n      <td>...</td>\n      <td>0.0</td>\n      <td>1.0</td>\n      <td>1.0</td>\n      <td>0.0</td>\n      <td>0.0</td>\n      <td>0.290362</td>\n      <td>0.609761</td>\n      <td>0.609761</td>\n      <td>0.003318</td>\n      <td>0.414803</td>\n    </tr>\n    <tr>\n      <th>3</th>\n      <td>Toyota</td>\n      <td>2011</td>\n      <td>Petrol</td>\n      <td>Car</td>\n      <td>Commercial</td>\n      <td>0</td>\n      <td>14.6</td>\n      <td>0.72</td>\n      <td>1</td>\n      <td>3</td>\n      <td>...</td>\n      <td>1.0</td>\n      <td>0.0</td>\n      <td>1.0</td>\n      <td>0.0</td>\n      <td>0.0</td>\n      <td>0.143536</td>\n      <td>0.698542</td>\n      <td>0.698542</td>\n      <td>0.034449</td>\n      <td>0.047845</td>\n    </tr>\n    <tr>\n      <th>4</th>\n      <td>Toyota</td>\n      <td>1998</td>\n      <td>Petrol</td>\n      <td>Car</td>\n      <td>Official</td>\n      <td>0</td>\n      <td>10.2</td>\n      <td>3.15</td>\n      <td>1</td>\n      <td>16</td>\n      <td>...</td>\n      <td>1.0</td>\n      <td>0.0</td>\n      <td>0.0</td>\n      <td>1.0</td>\n      <td>0.0</td>\n      <td>0.734128</td>\n      <td>0.468007</td>\n      <td>0.468007</td>\n      <td>0.144532</td>\n      <td>0.045883</td>\n    </tr>\n    <tr>\n      <th>5</th>\n      <td>Toyota</td>\n      <td>2002</td>\n      <td>Petrol</td>\n      <td>Car</td>\n      <td>Official</td>\n      <td>0</td>\n      <td>14.5</td>\n      <td>0.60</td>\n      <td>1</td>\n      <td>12</td>\n      <td>...</td>\n      <td>1.0</td>\n      <td>0.0</td>\n      <td>0.0</td>\n      <td>1.0</td>\n      <td>0.0</td>\n      <td>0.504460</td>\n      <td>0.609556</td>\n      <td>0.609556</td>\n      <td>0.025223</td>\n      <td>0.042038</td>\n    </tr>\n    <tr>\n      <th>6</th>\n      <td>Toyota</td>\n      <td>2002</td>\n      <td>Petrol</td>\n      <td>Jeep</td>\n      <td>Official</td>\n      <td>0</td>\n      <td>12.9</td>\n      <td>1.52</td>\n      <td>4</td>\n      <td>12</td>\n      <td>...</td>\n      <td>0.0</td>\n      <td>1.0</td>\n      <td>0.0</td>\n      <td>1.0</td>\n      <td>0.0</td>\n      <td>0.539289</td>\n      <td>0.579736</td>\n      <td>0.579736</td>\n      <td>0.068310</td>\n      <td>0.179763</td>\n    </tr>\n    <tr>\n      <th>7</th>\n      <td>Honda</td>\n      <td>1993</td>\n      <td>Petrol</td>\n      <td>Car</td>\n      <td>Private</td>\n      <td>0</td>\n      <td>12.5</td>\n      <td>2.80</td>\n      <td>34</td>\n      <td>21</td>\n      <td>...</td>\n      <td>1.0</td>\n      <td>0.0</td>\n      <td>0.0</td>\n      <td>0.0</td>\n      <td>1.0</td>\n      <td>0.479590</td>\n      <td>0.285470</td>\n      <td>0.285470</td>\n      <td>0.063945</td>\n      <td>0.776478</td>\n    </tr>\n    <tr>\n      <th>8</th>\n      <td>Honda</td>\n      <td>1993</td>\n      <td>Petrol</td>\n      <td>Car</td>\n      <td>Private</td>\n      <td>0</td>\n      <td>5.3</td>\n      <td>5.30</td>\n      <td>697</td>\n      <td>21</td>\n      <td>...</td>\n      <td>1.0</td>\n      <td>0.0</td>\n      <td>0.0</td>\n      <td>0.0</td>\n      <td>1.0</td>\n      <td>0.030113</td>\n      <td>0.007600</td>\n      <td>0.007600</td>\n      <td>0.007600</td>\n      <td>0.999460</td>\n    </tr>\n    <tr>\n      <th>9</th>\n      <td>Volswagen</td>\n      <td>1994</td>\n      <td>Petrol</td>\n      <td>Car</td>\n      <td>Private</td>\n      <td>0</td>\n      <td>12.5</td>\n      <td>12.50</td>\n      <td>4</td>\n      <td>20</td>\n      <td>...</td>\n      <td>1.0</td>\n      <td>0.0</td>\n      <td>0.0</td>\n      <td>0.0</td>\n      <td>1.0</td>\n      <td>0.672388</td>\n      <td>0.420242</td>\n      <td>0.420242</td>\n      <td>0.420242</td>\n      <td>0.134478</td>\n    </tr>\n    <tr>\n      <th>10</th>\n      <td>Nissan</td>\n      <td>1997</td>\n      <td>Petrol</td>\n      <td>Jeep</td>\n      <td>Private</td>\n      <td>0</td>\n      <td>13.6</td>\n      <td>5.30</td>\n      <td>4</td>\n      <td>17</td>\n      <td>...</td>\n      <td>0.0</td>\n      <td>1.0</td>\n      <td>0.0</td>\n      <td>0.0</td>\n      <td>1.0</td>\n      <td>0.641163</td>\n      <td>0.512930</td>\n      <td>0.512930</td>\n      <td>0.199892</td>\n      <td>0.150862</td>\n    </tr>\n  </tbody>\n</table>\n<p>10 rows × 25 columns</p>\n</div>"
     },
     "metadata": {},
     "execution_count": 62
    }
   ],
   "source": [
    "df2 = pd.DataFrame(X_normalized)\n",
    "\n",
    "# start index\n",
    "df2.index += 1\n",
    "df2.columns = ['Age0','CO20','CO20','O20','HC0']\n",
    "dfw = pd.concat([dfw, df2], axis=1)\n",
    "dfw"
   ]
  },
  {
   "cell_type": "code",
   "execution_count": 63,
   "metadata": {},
   "outputs": [
    {
     "output_type": "stream",
     "name": "stdout",
     "text": [
      "MinMaxScaler()\n(array([3.  , 5.3 , 5.3 , 0.08, 0.  ]), array([ 21. ,  14.7,  14.7,  12.5, 697. ]))\n"
     ]
    },
    {
     "output_type": "execute_result",
     "data": {
      "text/plain": [
       "array([[0.27777778, 0.87234043, 0.87234043, 0.11835749, 0.        ],\n",
       "       [0.22222222, 1.        , 1.        , 0.        , 0.0143472 ],\n",
       "       [0.        , 0.9893617 , 0.9893617 , 0.05152979, 0.00143472],\n",
       "       [0.72222222, 0.5212766 , 0.5212766 , 0.24718196, 0.00143472],\n",
       "       [0.5       , 0.9787234 , 0.9787234 , 0.04186795, 0.00143472],\n",
       "       [0.5       , 0.80851064, 0.80851064, 0.11594203, 0.00573888],\n",
       "       [1.        , 0.76595745, 0.76595745, 0.21900161, 0.04878049],\n",
       "       [1.        , 0.        , 0.        , 0.42028986, 1.        ],\n",
       "       [0.94444444, 0.76595745, 0.76595745, 1.        , 0.00573888],\n",
       "       [0.77777778, 0.88297872, 0.88297872, 0.42028986, 0.00573888]])"
      ]
     },
     "metadata": {},
     "execution_count": 63
    }
   ],
   "source": [
    "from sklearn.preprocessing import MinMaxScaler\n",
    "\n",
    "data = df[['Age','CO2','CO2','O2','HC']].to_numpy()\n",
    "\n",
    "scaler = MinMaxScaler()\n",
    "print(scaler.fit(data))\n",
    "print((scaler.data_min_, scaler.data_max_))\n",
    "\n",
    "data_normalized = scaler.transform(data)\n",
    "\n",
    "data_normalized\n"
   ]
  },
  {
   "cell_type": "code",
   "execution_count": 64,
   "metadata": {},
   "outputs": [
    {
     "output_type": "execute_result",
     "data": {
      "text/plain": [
       "         Make    Yr    Fuel Vehicle         Use  CO   CO2     O2   HC  Age  \\\n",
       "1       Honda  2006  Petrol     Car  Commercial   0  13.5   1.55    0    8   \n",
       "2       Honda  2007  Petrol    Jeep  Commercial   0  14.7   0.08   10    7   \n",
       "3      Toyota  2011  Petrol     Car  Commercial   0  14.6   0.72    1    3   \n",
       "4      Toyota  1998  Petrol     Car    Official   0  10.2   3.15    1   16   \n",
       "5      Toyota  2002  Petrol     Car    Official   0  14.5   0.60    1   12   \n",
       "6      Toyota  2002  Petrol    Jeep    Official   0  12.9   1.52    4   12   \n",
       "7       Honda  1993  Petrol     Car     Private   0  12.5   2.80   34   21   \n",
       "8       Honda  1993  Petrol     Car     Private   0   5.3   5.30  697   21   \n",
       "9   Volswagen  1994  Petrol     Car     Private   0  12.5  12.50    4   20   \n",
       "10     Nissan  1997  Petrol    Jeep     Private   0  13.6   5.30    4   17   \n",
       "\n",
       "    ...      Age0      CO20      CO20       O20       HC0      Age1      CO21  \\\n",
       "1   ...  0.385390  0.650346  0.650346  0.074669  0.000000  0.277778  0.872340   \n",
       "2   ...  0.290362  0.609761  0.609761  0.003318  0.414803  0.222222  1.000000   \n",
       "3   ...  0.143536  0.698542  0.698542  0.034449  0.047845  0.000000  0.989362   \n",
       "4   ...  0.734128  0.468007  0.468007  0.144532  0.045883  0.722222  0.521277   \n",
       "5   ...  0.504460  0.609556  0.609556  0.025223  0.042038  0.500000  0.978723   \n",
       "6   ...  0.539289  0.579736  0.579736  0.068310  0.179763  0.500000  0.808511   \n",
       "7   ...  0.479590  0.285470  0.285470  0.063945  0.776478  1.000000  0.765957   \n",
       "8   ...  0.030113  0.007600  0.007600  0.007600  0.999460  1.000000  0.000000   \n",
       "9   ...  0.672388  0.420242  0.420242  0.420242  0.134478  0.944444  0.765957   \n",
       "10  ...  0.641163  0.512930  0.512930  0.199892  0.150862  0.777778  0.882979   \n",
       "\n",
       "        CO21       O21       HC1  \n",
       "1   0.872340  0.118357  0.000000  \n",
       "2   1.000000  0.000000  0.014347  \n",
       "3   0.989362  0.051530  0.001435  \n",
       "4   0.521277  0.247182  0.001435  \n",
       "5   0.978723  0.041868  0.001435  \n",
       "6   0.808511  0.115942  0.005739  \n",
       "7   0.765957  0.219002  0.048780  \n",
       "8   0.000000  0.420290  1.000000  \n",
       "9   0.765957  1.000000  0.005739  \n",
       "10  0.882979  0.420290  0.005739  \n",
       "\n",
       "[10 rows x 30 columns]"
      ],
      "text/html": "<div>\n<style scoped>\n    .dataframe tbody tr th:only-of-type {\n        vertical-align: middle;\n    }\n\n    .dataframe tbody tr th {\n        vertical-align: top;\n    }\n\n    .dataframe thead th {\n        text-align: right;\n    }\n</style>\n<table border=\"1\" class=\"dataframe\">\n  <thead>\n    <tr style=\"text-align: right;\">\n      <th></th>\n      <th>Make</th>\n      <th>Yr</th>\n      <th>Fuel</th>\n      <th>Vehicle</th>\n      <th>Use</th>\n      <th>CO</th>\n      <th>CO2</th>\n      <th>O2</th>\n      <th>HC</th>\n      <th>Age</th>\n      <th>...</th>\n      <th>Age0</th>\n      <th>CO20</th>\n      <th>CO20</th>\n      <th>O20</th>\n      <th>HC0</th>\n      <th>Age1</th>\n      <th>CO21</th>\n      <th>CO21</th>\n      <th>O21</th>\n      <th>HC1</th>\n    </tr>\n  </thead>\n  <tbody>\n    <tr>\n      <th>1</th>\n      <td>Honda</td>\n      <td>2006</td>\n      <td>Petrol</td>\n      <td>Car</td>\n      <td>Commercial</td>\n      <td>0</td>\n      <td>13.5</td>\n      <td>1.55</td>\n      <td>0</td>\n      <td>8</td>\n      <td>...</td>\n      <td>0.385390</td>\n      <td>0.650346</td>\n      <td>0.650346</td>\n      <td>0.074669</td>\n      <td>0.000000</td>\n      <td>0.277778</td>\n      <td>0.872340</td>\n      <td>0.872340</td>\n      <td>0.118357</td>\n      <td>0.000000</td>\n    </tr>\n    <tr>\n      <th>2</th>\n      <td>Honda</td>\n      <td>2007</td>\n      <td>Petrol</td>\n      <td>Jeep</td>\n      <td>Commercial</td>\n      <td>0</td>\n      <td>14.7</td>\n      <td>0.08</td>\n      <td>10</td>\n      <td>7</td>\n      <td>...</td>\n      <td>0.290362</td>\n      <td>0.609761</td>\n      <td>0.609761</td>\n      <td>0.003318</td>\n      <td>0.414803</td>\n      <td>0.222222</td>\n      <td>1.000000</td>\n      <td>1.000000</td>\n      <td>0.000000</td>\n      <td>0.014347</td>\n    </tr>\n    <tr>\n      <th>3</th>\n      <td>Toyota</td>\n      <td>2011</td>\n      <td>Petrol</td>\n      <td>Car</td>\n      <td>Commercial</td>\n      <td>0</td>\n      <td>14.6</td>\n      <td>0.72</td>\n      <td>1</td>\n      <td>3</td>\n      <td>...</td>\n      <td>0.143536</td>\n      <td>0.698542</td>\n      <td>0.698542</td>\n      <td>0.034449</td>\n      <td>0.047845</td>\n      <td>0.000000</td>\n      <td>0.989362</td>\n      <td>0.989362</td>\n      <td>0.051530</td>\n      <td>0.001435</td>\n    </tr>\n    <tr>\n      <th>4</th>\n      <td>Toyota</td>\n      <td>1998</td>\n      <td>Petrol</td>\n      <td>Car</td>\n      <td>Official</td>\n      <td>0</td>\n      <td>10.2</td>\n      <td>3.15</td>\n      <td>1</td>\n      <td>16</td>\n      <td>...</td>\n      <td>0.734128</td>\n      <td>0.468007</td>\n      <td>0.468007</td>\n      <td>0.144532</td>\n      <td>0.045883</td>\n      <td>0.722222</td>\n      <td>0.521277</td>\n      <td>0.521277</td>\n      <td>0.247182</td>\n      <td>0.001435</td>\n    </tr>\n    <tr>\n      <th>5</th>\n      <td>Toyota</td>\n      <td>2002</td>\n      <td>Petrol</td>\n      <td>Car</td>\n      <td>Official</td>\n      <td>0</td>\n      <td>14.5</td>\n      <td>0.60</td>\n      <td>1</td>\n      <td>12</td>\n      <td>...</td>\n      <td>0.504460</td>\n      <td>0.609556</td>\n      <td>0.609556</td>\n      <td>0.025223</td>\n      <td>0.042038</td>\n      <td>0.500000</td>\n      <td>0.978723</td>\n      <td>0.978723</td>\n      <td>0.041868</td>\n      <td>0.001435</td>\n    </tr>\n    <tr>\n      <th>6</th>\n      <td>Toyota</td>\n      <td>2002</td>\n      <td>Petrol</td>\n      <td>Jeep</td>\n      <td>Official</td>\n      <td>0</td>\n      <td>12.9</td>\n      <td>1.52</td>\n      <td>4</td>\n      <td>12</td>\n      <td>...</td>\n      <td>0.539289</td>\n      <td>0.579736</td>\n      <td>0.579736</td>\n      <td>0.068310</td>\n      <td>0.179763</td>\n      <td>0.500000</td>\n      <td>0.808511</td>\n      <td>0.808511</td>\n      <td>0.115942</td>\n      <td>0.005739</td>\n    </tr>\n    <tr>\n      <th>7</th>\n      <td>Honda</td>\n      <td>1993</td>\n      <td>Petrol</td>\n      <td>Car</td>\n      <td>Private</td>\n      <td>0</td>\n      <td>12.5</td>\n      <td>2.80</td>\n      <td>34</td>\n      <td>21</td>\n      <td>...</td>\n      <td>0.479590</td>\n      <td>0.285470</td>\n      <td>0.285470</td>\n      <td>0.063945</td>\n      <td>0.776478</td>\n      <td>1.000000</td>\n      <td>0.765957</td>\n      <td>0.765957</td>\n      <td>0.219002</td>\n      <td>0.048780</td>\n    </tr>\n    <tr>\n      <th>8</th>\n      <td>Honda</td>\n      <td>1993</td>\n      <td>Petrol</td>\n      <td>Car</td>\n      <td>Private</td>\n      <td>0</td>\n      <td>5.3</td>\n      <td>5.30</td>\n      <td>697</td>\n      <td>21</td>\n      <td>...</td>\n      <td>0.030113</td>\n      <td>0.007600</td>\n      <td>0.007600</td>\n      <td>0.007600</td>\n      <td>0.999460</td>\n      <td>1.000000</td>\n      <td>0.000000</td>\n      <td>0.000000</td>\n      <td>0.420290</td>\n      <td>1.000000</td>\n    </tr>\n    <tr>\n      <th>9</th>\n      <td>Volswagen</td>\n      <td>1994</td>\n      <td>Petrol</td>\n      <td>Car</td>\n      <td>Private</td>\n      <td>0</td>\n      <td>12.5</td>\n      <td>12.50</td>\n      <td>4</td>\n      <td>20</td>\n      <td>...</td>\n      <td>0.672388</td>\n      <td>0.420242</td>\n      <td>0.420242</td>\n      <td>0.420242</td>\n      <td>0.134478</td>\n      <td>0.944444</td>\n      <td>0.765957</td>\n      <td>0.765957</td>\n      <td>1.000000</td>\n      <td>0.005739</td>\n    </tr>\n    <tr>\n      <th>10</th>\n      <td>Nissan</td>\n      <td>1997</td>\n      <td>Petrol</td>\n      <td>Jeep</td>\n      <td>Private</td>\n      <td>0</td>\n      <td>13.6</td>\n      <td>5.30</td>\n      <td>4</td>\n      <td>17</td>\n      <td>...</td>\n      <td>0.641163</td>\n      <td>0.512930</td>\n      <td>0.512930</td>\n      <td>0.199892</td>\n      <td>0.150862</td>\n      <td>0.777778</td>\n      <td>0.882979</td>\n      <td>0.882979</td>\n      <td>0.420290</td>\n      <td>0.005739</td>\n    </tr>\n  </tbody>\n</table>\n<p>10 rows × 30 columns</p>\n</div>"
     },
     "metadata": {},
     "execution_count": 64
    }
   ],
   "source": [
    "df2 = pd.DataFrame(data_normalized)\n",
    "\n",
    "# start index\n",
    "df2.index += 1\n",
    "df2.columns = ['Age1','CO21','CO21','O21','HC1']\n",
    "dfw = pd.concat([dfw, df2], axis=1)\n",
    "dfw"
   ]
  },
  {
   "cell_type": "code",
   "execution_count": 66,
   "metadata": {},
   "outputs": [],
   "source": [
    "dfw.to_excel(\"dfw_out.xlsx\")"
   ]
  },
  {
   "cell_type": "code",
   "execution_count": 105,
   "metadata": {},
   "outputs": [],
   "source": [
    "import matplotlib.pyplot as plt"
   ]
  },
  {
   "cell_type": "code",
   "execution_count": 113,
   "metadata": {},
   "outputs": [],
   "source": [
    "x = df['Age']"
   ]
  },
  {
   "cell_type": "code",
   "execution_count": 121,
   "metadata": {},
   "outputs": [],
   "source": [
    "y = df['HC']"
   ]
  },
  {
   "cell_type": "code",
   "execution_count": 122,
   "metadata": {},
   "outputs": [
    {
     "output_type": "execute_result",
     "data": {
      "text/plain": [
       "<matplotlib.collections.PathCollection at 0x1f0b3c21850>"
      ]
     },
     "metadata": {},
     "execution_count": 122
    },
    {
     "output_type": "display_data",
     "data": {
      "text/plain": "<Figure size 432x288 with 1 Axes>",
      "image/svg+xml": "<?xml version=\"1.0\" encoding=\"utf-8\" standalone=\"no\"?>\r\n<!DOCTYPE svg PUBLIC \"-//W3C//DTD SVG 1.1//EN\"\r\n  \"http://www.w3.org/Graphics/SVG/1.1/DTD/svg11.dtd\">\r\n<!-- Created with matplotlib (https://matplotlib.org/) -->\r\n<svg height=\"248.518125pt\" version=\"1.1\" viewBox=\"0 0 375.2875 248.518125\" width=\"375.2875pt\" xmlns=\"http://www.w3.org/2000/svg\" xmlns:xlink=\"http://www.w3.org/1999/xlink\">\r\n <metadata>\r\n  <rdf:RDF xmlns:cc=\"http://creativecommons.org/ns#\" xmlns:dc=\"http://purl.org/dc/elements/1.1/\" xmlns:rdf=\"http://www.w3.org/1999/02/22-rdf-syntax-ns#\">\r\n   <cc:Work>\r\n    <dc:type rdf:resource=\"http://purl.org/dc/dcmitype/StillImage\"/>\r\n    <dc:date>2021-03-19T19:16:23.888401</dc:date>\r\n    <dc:format>image/svg+xml</dc:format>\r\n    <dc:creator>\r\n     <cc:Agent>\r\n      <dc:title>Matplotlib v3.3.3, https://matplotlib.org/</dc:title>\r\n     </cc:Agent>\r\n    </dc:creator>\r\n   </cc:Work>\r\n  </rdf:RDF>\r\n </metadata>\r\n <defs>\r\n  <style type=\"text/css\">*{stroke-linecap:butt;stroke-linejoin:round;}</style>\r\n </defs>\r\n <g id=\"figure_1\">\r\n  <g id=\"patch_1\">\r\n   <path d=\"M 0 248.518125 \r\nL 375.2875 248.518125 \r\nL 375.2875 0 \r\nL 0 0 \r\nz\r\n\" style=\"fill:none;\"/>\r\n  </g>\r\n  <g id=\"axes_1\">\r\n   <g id=\"patch_2\">\r\n    <path d=\"M 33.2875 224.64 \r\nL 368.0875 224.64 \r\nL 368.0875 7.2 \r\nL 33.2875 7.2 \r\nz\r\n\" style=\"fill:#ffffff;\"/>\r\n   </g>\r\n   <g id=\"PathCollection_1\">\r\n    <defs>\r\n     <path d=\"M 0 3 \r\nC 0.795609 3 1.55874 2.683901 2.12132 2.12132 \r\nC 2.683901 1.55874 3 0.795609 3 0 \r\nC 3 -0.795609 2.683901 -1.55874 2.12132 -2.12132 \r\nC 1.55874 -2.683901 0.795609 -3 0 -3 \r\nC -0.795609 -3 -1.55874 -2.683901 -2.12132 -2.12132 \r\nC -2.683901 -1.55874 -3 -0.795609 -3 0 \r\nC -3 0.795609 -2.683901 1.55874 -2.12132 2.12132 \r\nC -1.55874 2.683901 -0.795609 3 0 3 \r\nz\r\n\" id=\"me56311c2fa\" style=\"stroke:#1f77b4;\"/>\r\n    </defs>\r\n    <g clip-path=\"url(#p2726ca81d4)\">\r\n     <use style=\"fill:#1f77b4;stroke:#1f77b4;\" x=\"133.051136\" xlink:href=\"#me56311c2fa\" y=\"214.756364\"/>\r\n     <use style=\"fill:#1f77b4;stroke:#1f77b4;\" x=\"116.142045\" xlink:href=\"#me56311c2fa\" y=\"211.920313\"/>\r\n     <use style=\"fill:#1f77b4;stroke:#1f77b4;\" x=\"48.505682\" xlink:href=\"#me56311c2fa\" y=\"214.472759\"/>\r\n     <use style=\"fill:#1f77b4;stroke:#1f77b4;\" x=\"268.323864\" xlink:href=\"#me56311c2fa\" y=\"214.472759\"/>\r\n     <use style=\"fill:#1f77b4;stroke:#1f77b4;\" x=\"200.6875\" xlink:href=\"#me56311c2fa\" y=\"214.472759\"/>\r\n     <use style=\"fill:#1f77b4;stroke:#1f77b4;\" x=\"200.6875\" xlink:href=\"#me56311c2fa\" y=\"213.621943\"/>\r\n     <use style=\"fill:#1f77b4;stroke:#1f77b4;\" x=\"352.869318\" xlink:href=\"#me56311c2fa\" y=\"205.113792\"/>\r\n     <use style=\"fill:#1f77b4;stroke:#1f77b4;\" x=\"352.869318\" xlink:href=\"#me56311c2fa\" y=\"17.083636\"/>\r\n     <use style=\"fill:#1f77b4;stroke:#1f77b4;\" x=\"335.960227\" xlink:href=\"#me56311c2fa\" y=\"213.621943\"/>\r\n     <use style=\"fill:#1f77b4;stroke:#1f77b4;\" x=\"285.232955\" xlink:href=\"#me56311c2fa\" y=\"213.621943\"/>\r\n    </g>\r\n   </g>\r\n   <g id=\"matplotlib.axis_1\">\r\n    <g id=\"xtick_1\">\r\n     <g id=\"line2d_1\">\r\n      <defs>\r\n       <path d=\"M 0 0 \r\nL 0 3.5 \r\n\" id=\"ma24e089c0b\" style=\"stroke:#000000;stroke-width:0.8;\"/>\r\n      </defs>\r\n      <g>\r\n       <use style=\"stroke:#000000;stroke-width:0.8;\" x=\"40.051136\" xlink:href=\"#ma24e089c0b\" y=\"224.64\"/>\r\n      </g>\r\n     </g>\r\n     <g id=\"text_1\">\r\n      <!-- 2.5 -->\r\n      <g transform=\"translate(32.099574 239.238437)scale(0.1 -0.1)\">\r\n       <defs>\r\n        <path d=\"M 19.1875 8.296875 \r\nL 53.609375 8.296875 \r\nL 53.609375 0 \r\nL 7.328125 0 \r\nL 7.328125 8.296875 \r\nQ 12.9375 14.109375 22.625 23.890625 \r\nQ 32.328125 33.6875 34.8125 36.53125 \r\nQ 39.546875 41.84375 41.421875 45.53125 \r\nQ 43.3125 49.21875 43.3125 52.78125 \r\nQ 43.3125 58.59375 39.234375 62.25 \r\nQ 35.15625 65.921875 28.609375 65.921875 \r\nQ 23.96875 65.921875 18.8125 64.3125 \r\nQ 13.671875 62.703125 7.8125 59.421875 \r\nL 7.8125 69.390625 \r\nQ 13.765625 71.78125 18.9375 73 \r\nQ 24.125 74.21875 28.421875 74.21875 \r\nQ 39.75 74.21875 46.484375 68.546875 \r\nQ 53.21875 62.890625 53.21875 53.421875 \r\nQ 53.21875 48.921875 51.53125 44.890625 \r\nQ 49.859375 40.875 45.40625 35.40625 \r\nQ 44.1875 33.984375 37.640625 27.21875 \r\nQ 31.109375 20.453125 19.1875 8.296875 \r\nz\r\n\" id=\"DejaVuSans-50\"/>\r\n        <path d=\"M 10.6875 12.40625 \r\nL 21 12.40625 \r\nL 21 0 \r\nL 10.6875 0 \r\nz\r\n\" id=\"DejaVuSans-46\"/>\r\n        <path d=\"M 10.796875 72.90625 \r\nL 49.515625 72.90625 \r\nL 49.515625 64.59375 \r\nL 19.828125 64.59375 \r\nL 19.828125 46.734375 \r\nQ 21.96875 47.46875 24.109375 47.828125 \r\nQ 26.265625 48.1875 28.421875 48.1875 \r\nQ 40.625 48.1875 47.75 41.5 \r\nQ 54.890625 34.8125 54.890625 23.390625 \r\nQ 54.890625 11.625 47.5625 5.09375 \r\nQ 40.234375 -1.421875 26.90625 -1.421875 \r\nQ 22.3125 -1.421875 17.546875 -0.640625 \r\nQ 12.796875 0.140625 7.71875 1.703125 \r\nL 7.71875 11.625 \r\nQ 12.109375 9.234375 16.796875 8.0625 \r\nQ 21.484375 6.890625 26.703125 6.890625 \r\nQ 35.15625 6.890625 40.078125 11.328125 \r\nQ 45.015625 15.765625 45.015625 23.390625 \r\nQ 45.015625 31 40.078125 35.4375 \r\nQ 35.15625 39.890625 26.703125 39.890625 \r\nQ 22.75 39.890625 18.8125 39.015625 \r\nQ 14.890625 38.140625 10.796875 36.28125 \r\nz\r\n\" id=\"DejaVuSans-53\"/>\r\n       </defs>\r\n       <use xlink:href=\"#DejaVuSans-50\"/>\r\n       <use x=\"63.623047\" xlink:href=\"#DejaVuSans-46\"/>\r\n       <use x=\"95.410156\" xlink:href=\"#DejaVuSans-53\"/>\r\n      </g>\r\n     </g>\r\n    </g>\r\n    <g id=\"xtick_2\">\r\n     <g id=\"line2d_2\">\r\n      <g>\r\n       <use style=\"stroke:#000000;stroke-width:0.8;\" x=\"82.323864\" xlink:href=\"#ma24e089c0b\" y=\"224.64\"/>\r\n      </g>\r\n     </g>\r\n     <g id=\"text_2\">\r\n      <!-- 5.0 -->\r\n      <g transform=\"translate(74.372301 239.238437)scale(0.1 -0.1)\">\r\n       <defs>\r\n        <path d=\"M 31.78125 66.40625 \r\nQ 24.171875 66.40625 20.328125 58.90625 \r\nQ 16.5 51.421875 16.5 36.375 \r\nQ 16.5 21.390625 20.328125 13.890625 \r\nQ 24.171875 6.390625 31.78125 6.390625 \r\nQ 39.453125 6.390625 43.28125 13.890625 \r\nQ 47.125 21.390625 47.125 36.375 \r\nQ 47.125 51.421875 43.28125 58.90625 \r\nQ 39.453125 66.40625 31.78125 66.40625 \r\nz\r\nM 31.78125 74.21875 \r\nQ 44.046875 74.21875 50.515625 64.515625 \r\nQ 56.984375 54.828125 56.984375 36.375 \r\nQ 56.984375 17.96875 50.515625 8.265625 \r\nQ 44.046875 -1.421875 31.78125 -1.421875 \r\nQ 19.53125 -1.421875 13.0625 8.265625 \r\nQ 6.59375 17.96875 6.59375 36.375 \r\nQ 6.59375 54.828125 13.0625 64.515625 \r\nQ 19.53125 74.21875 31.78125 74.21875 \r\nz\r\n\" id=\"DejaVuSans-48\"/>\r\n       </defs>\r\n       <use xlink:href=\"#DejaVuSans-53\"/>\r\n       <use x=\"63.623047\" xlink:href=\"#DejaVuSans-46\"/>\r\n       <use x=\"95.410156\" xlink:href=\"#DejaVuSans-48\"/>\r\n      </g>\r\n     </g>\r\n    </g>\r\n    <g id=\"xtick_3\">\r\n     <g id=\"line2d_3\">\r\n      <g>\r\n       <use style=\"stroke:#000000;stroke-width:0.8;\" x=\"124.596591\" xlink:href=\"#ma24e089c0b\" y=\"224.64\"/>\r\n      </g>\r\n     </g>\r\n     <g id=\"text_3\">\r\n      <!-- 7.5 -->\r\n      <g transform=\"translate(116.645028 239.238437)scale(0.1 -0.1)\">\r\n       <defs>\r\n        <path d=\"M 8.203125 72.90625 \r\nL 55.078125 72.90625 \r\nL 55.078125 68.703125 \r\nL 28.609375 0 \r\nL 18.3125 0 \r\nL 43.21875 64.59375 \r\nL 8.203125 64.59375 \r\nz\r\n\" id=\"DejaVuSans-55\"/>\r\n       </defs>\r\n       <use xlink:href=\"#DejaVuSans-55\"/>\r\n       <use x=\"63.623047\" xlink:href=\"#DejaVuSans-46\"/>\r\n       <use x=\"95.410156\" xlink:href=\"#DejaVuSans-53\"/>\r\n      </g>\r\n     </g>\r\n    </g>\r\n    <g id=\"xtick_4\">\r\n     <g id=\"line2d_4\">\r\n      <g>\r\n       <use style=\"stroke:#000000;stroke-width:0.8;\" x=\"166.869318\" xlink:href=\"#ma24e089c0b\" y=\"224.64\"/>\r\n      </g>\r\n     </g>\r\n     <g id=\"text_4\">\r\n      <!-- 10.0 -->\r\n      <g transform=\"translate(155.736506 239.238437)scale(0.1 -0.1)\">\r\n       <defs>\r\n        <path d=\"M 12.40625 8.296875 \r\nL 28.515625 8.296875 \r\nL 28.515625 63.921875 \r\nL 10.984375 60.40625 \r\nL 10.984375 69.390625 \r\nL 28.421875 72.90625 \r\nL 38.28125 72.90625 \r\nL 38.28125 8.296875 \r\nL 54.390625 8.296875 \r\nL 54.390625 0 \r\nL 12.40625 0 \r\nz\r\n\" id=\"DejaVuSans-49\"/>\r\n       </defs>\r\n       <use xlink:href=\"#DejaVuSans-49\"/>\r\n       <use x=\"63.623047\" xlink:href=\"#DejaVuSans-48\"/>\r\n       <use x=\"127.246094\" xlink:href=\"#DejaVuSans-46\"/>\r\n       <use x=\"159.033203\" xlink:href=\"#DejaVuSans-48\"/>\r\n      </g>\r\n     </g>\r\n    </g>\r\n    <g id=\"xtick_5\">\r\n     <g id=\"line2d_5\">\r\n      <g>\r\n       <use style=\"stroke:#000000;stroke-width:0.8;\" x=\"209.142045\" xlink:href=\"#ma24e089c0b\" y=\"224.64\"/>\r\n      </g>\r\n     </g>\r\n     <g id=\"text_5\">\r\n      <!-- 12.5 -->\r\n      <g transform=\"translate(198.009233 239.238437)scale(0.1 -0.1)\">\r\n       <use xlink:href=\"#DejaVuSans-49\"/>\r\n       <use x=\"63.623047\" xlink:href=\"#DejaVuSans-50\"/>\r\n       <use x=\"127.246094\" xlink:href=\"#DejaVuSans-46\"/>\r\n       <use x=\"159.033203\" xlink:href=\"#DejaVuSans-53\"/>\r\n      </g>\r\n     </g>\r\n    </g>\r\n    <g id=\"xtick_6\">\r\n     <g id=\"line2d_6\">\r\n      <g>\r\n       <use style=\"stroke:#000000;stroke-width:0.8;\" x=\"251.414773\" xlink:href=\"#ma24e089c0b\" y=\"224.64\"/>\r\n      </g>\r\n     </g>\r\n     <g id=\"text_6\">\r\n      <!-- 15.0 -->\r\n      <g transform=\"translate(240.28196 239.238437)scale(0.1 -0.1)\">\r\n       <use xlink:href=\"#DejaVuSans-49\"/>\r\n       <use x=\"63.623047\" xlink:href=\"#DejaVuSans-53\"/>\r\n       <use x=\"127.246094\" xlink:href=\"#DejaVuSans-46\"/>\r\n       <use x=\"159.033203\" xlink:href=\"#DejaVuSans-48\"/>\r\n      </g>\r\n     </g>\r\n    </g>\r\n    <g id=\"xtick_7\">\r\n     <g id=\"line2d_7\">\r\n      <g>\r\n       <use style=\"stroke:#000000;stroke-width:0.8;\" x=\"293.6875\" xlink:href=\"#ma24e089c0b\" y=\"224.64\"/>\r\n      </g>\r\n     </g>\r\n     <g id=\"text_7\">\r\n      <!-- 17.5 -->\r\n      <g transform=\"translate(282.554688 239.238437)scale(0.1 -0.1)\">\r\n       <use xlink:href=\"#DejaVuSans-49\"/>\r\n       <use x=\"63.623047\" xlink:href=\"#DejaVuSans-55\"/>\r\n       <use x=\"127.246094\" xlink:href=\"#DejaVuSans-46\"/>\r\n       <use x=\"159.033203\" xlink:href=\"#DejaVuSans-53\"/>\r\n      </g>\r\n     </g>\r\n    </g>\r\n    <g id=\"xtick_8\">\r\n     <g id=\"line2d_8\">\r\n      <g>\r\n       <use style=\"stroke:#000000;stroke-width:0.8;\" x=\"335.960227\" xlink:href=\"#ma24e089c0b\" y=\"224.64\"/>\r\n      </g>\r\n     </g>\r\n     <g id=\"text_8\">\r\n      <!-- 20.0 -->\r\n      <g transform=\"translate(324.827415 239.238437)scale(0.1 -0.1)\">\r\n       <use xlink:href=\"#DejaVuSans-50\"/>\r\n       <use x=\"63.623047\" xlink:href=\"#DejaVuSans-48\"/>\r\n       <use x=\"127.246094\" xlink:href=\"#DejaVuSans-46\"/>\r\n       <use x=\"159.033203\" xlink:href=\"#DejaVuSans-48\"/>\r\n      </g>\r\n     </g>\r\n    </g>\r\n   </g>\r\n   <g id=\"matplotlib.axis_2\">\r\n    <g id=\"ytick_1\">\r\n     <g id=\"line2d_9\">\r\n      <defs>\r\n       <path d=\"M 0 0 \r\nL -3.5 0 \r\n\" id=\"mabac9ac0c6\" style=\"stroke:#000000;stroke-width:0.8;\"/>\r\n      </defs>\r\n      <g>\r\n       <use style=\"stroke:#000000;stroke-width:0.8;\" x=\"33.2875\" xlink:href=\"#mabac9ac0c6\" y=\"214.756364\"/>\r\n      </g>\r\n     </g>\r\n     <g id=\"text_9\">\r\n      <!-- 0 -->\r\n      <g transform=\"translate(19.925 218.555582)scale(0.1 -0.1)\">\r\n       <use xlink:href=\"#DejaVuSans-48\"/>\r\n      </g>\r\n     </g>\r\n    </g>\r\n    <g id=\"ytick_2\">\r\n     <g id=\"line2d_10\">\r\n      <g>\r\n       <use style=\"stroke:#000000;stroke-width:0.8;\" x=\"33.2875\" xlink:href=\"#mabac9ac0c6\" y=\"186.395858\"/>\r\n      </g>\r\n     </g>\r\n     <g id=\"text_10\">\r\n      <!-- 100 -->\r\n      <g transform=\"translate(7.2 190.195076)scale(0.1 -0.1)\">\r\n       <use xlink:href=\"#DejaVuSans-49\"/>\r\n       <use x=\"63.623047\" xlink:href=\"#DejaVuSans-48\"/>\r\n       <use x=\"127.246094\" xlink:href=\"#DejaVuSans-48\"/>\r\n      </g>\r\n     </g>\r\n    </g>\r\n    <g id=\"ytick_3\">\r\n     <g id=\"line2d_11\">\r\n      <g>\r\n       <use style=\"stroke:#000000;stroke-width:0.8;\" x=\"33.2875\" xlink:href=\"#mabac9ac0c6\" y=\"158.035352\"/>\r\n      </g>\r\n     </g>\r\n     <g id=\"text_11\">\r\n      <!-- 200 -->\r\n      <g transform=\"translate(7.2 161.83457)scale(0.1 -0.1)\">\r\n       <use xlink:href=\"#DejaVuSans-50\"/>\r\n       <use x=\"63.623047\" xlink:href=\"#DejaVuSans-48\"/>\r\n       <use x=\"127.246094\" xlink:href=\"#DejaVuSans-48\"/>\r\n      </g>\r\n     </g>\r\n    </g>\r\n    <g id=\"ytick_4\">\r\n     <g id=\"line2d_12\">\r\n      <g>\r\n       <use style=\"stroke:#000000;stroke-width:0.8;\" x=\"33.2875\" xlink:href=\"#mabac9ac0c6\" y=\"129.674845\"/>\r\n      </g>\r\n     </g>\r\n     <g id=\"text_12\">\r\n      <!-- 300 -->\r\n      <g transform=\"translate(7.2 133.474064)scale(0.1 -0.1)\">\r\n       <defs>\r\n        <path d=\"M 40.578125 39.3125 \r\nQ 47.65625 37.796875 51.625 33 \r\nQ 55.609375 28.21875 55.609375 21.1875 \r\nQ 55.609375 10.40625 48.1875 4.484375 \r\nQ 40.765625 -1.421875 27.09375 -1.421875 \r\nQ 22.515625 -1.421875 17.65625 -0.515625 \r\nQ 12.796875 0.390625 7.625 2.203125 \r\nL 7.625 11.71875 \r\nQ 11.71875 9.328125 16.59375 8.109375 \r\nQ 21.484375 6.890625 26.8125 6.890625 \r\nQ 36.078125 6.890625 40.9375 10.546875 \r\nQ 45.796875 14.203125 45.796875 21.1875 \r\nQ 45.796875 27.640625 41.28125 31.265625 \r\nQ 36.765625 34.90625 28.71875 34.90625 \r\nL 20.21875 34.90625 \r\nL 20.21875 43.015625 \r\nL 29.109375 43.015625 \r\nQ 36.375 43.015625 40.234375 45.921875 \r\nQ 44.09375 48.828125 44.09375 54.296875 \r\nQ 44.09375 59.90625 40.109375 62.90625 \r\nQ 36.140625 65.921875 28.71875 65.921875 \r\nQ 24.65625 65.921875 20.015625 65.03125 \r\nQ 15.375 64.15625 9.8125 62.3125 \r\nL 9.8125 71.09375 \r\nQ 15.4375 72.65625 20.34375 73.4375 \r\nQ 25.25 74.21875 29.59375 74.21875 \r\nQ 40.828125 74.21875 47.359375 69.109375 \r\nQ 53.90625 64.015625 53.90625 55.328125 \r\nQ 53.90625 49.265625 50.4375 45.09375 \r\nQ 46.96875 40.921875 40.578125 39.3125 \r\nz\r\n\" id=\"DejaVuSans-51\"/>\r\n       </defs>\r\n       <use xlink:href=\"#DejaVuSans-51\"/>\r\n       <use x=\"63.623047\" xlink:href=\"#DejaVuSans-48\"/>\r\n       <use x=\"127.246094\" xlink:href=\"#DejaVuSans-48\"/>\r\n      </g>\r\n     </g>\r\n    </g>\r\n    <g id=\"ytick_5\">\r\n     <g id=\"line2d_13\">\r\n      <g>\r\n       <use style=\"stroke:#000000;stroke-width:0.8;\" x=\"33.2875\" xlink:href=\"#mabac9ac0c6\" y=\"101.314339\"/>\r\n      </g>\r\n     </g>\r\n     <g id=\"text_13\">\r\n      <!-- 400 -->\r\n      <g transform=\"translate(7.2 105.113558)scale(0.1 -0.1)\">\r\n       <defs>\r\n        <path d=\"M 37.796875 64.3125 \r\nL 12.890625 25.390625 \r\nL 37.796875 25.390625 \r\nz\r\nM 35.203125 72.90625 \r\nL 47.609375 72.90625 \r\nL 47.609375 25.390625 \r\nL 58.015625 25.390625 \r\nL 58.015625 17.1875 \r\nL 47.609375 17.1875 \r\nL 47.609375 0 \r\nL 37.796875 0 \r\nL 37.796875 17.1875 \r\nL 4.890625 17.1875 \r\nL 4.890625 26.703125 \r\nz\r\n\" id=\"DejaVuSans-52\"/>\r\n       </defs>\r\n       <use xlink:href=\"#DejaVuSans-52\"/>\r\n       <use x=\"63.623047\" xlink:href=\"#DejaVuSans-48\"/>\r\n       <use x=\"127.246094\" xlink:href=\"#DejaVuSans-48\"/>\r\n      </g>\r\n     </g>\r\n    </g>\r\n    <g id=\"ytick_6\">\r\n     <g id=\"line2d_14\">\r\n      <g>\r\n       <use style=\"stroke:#000000;stroke-width:0.8;\" x=\"33.2875\" xlink:href=\"#mabac9ac0c6\" y=\"72.953833\"/>\r\n      </g>\r\n     </g>\r\n     <g id=\"text_14\">\r\n      <!-- 500 -->\r\n      <g transform=\"translate(7.2 76.753052)scale(0.1 -0.1)\">\r\n       <use xlink:href=\"#DejaVuSans-53\"/>\r\n       <use x=\"63.623047\" xlink:href=\"#DejaVuSans-48\"/>\r\n       <use x=\"127.246094\" xlink:href=\"#DejaVuSans-48\"/>\r\n      </g>\r\n     </g>\r\n    </g>\r\n    <g id=\"ytick_7\">\r\n     <g id=\"line2d_15\">\r\n      <g>\r\n       <use style=\"stroke:#000000;stroke-width:0.8;\" x=\"33.2875\" xlink:href=\"#mabac9ac0c6\" y=\"44.593327\"/>\r\n      </g>\r\n     </g>\r\n     <g id=\"text_15\">\r\n      <!-- 600 -->\r\n      <g transform=\"translate(7.2 48.392546)scale(0.1 -0.1)\">\r\n       <defs>\r\n        <path d=\"M 33.015625 40.375 \r\nQ 26.375 40.375 22.484375 35.828125 \r\nQ 18.609375 31.296875 18.609375 23.390625 \r\nQ 18.609375 15.53125 22.484375 10.953125 \r\nQ 26.375 6.390625 33.015625 6.390625 \r\nQ 39.65625 6.390625 43.53125 10.953125 \r\nQ 47.40625 15.53125 47.40625 23.390625 \r\nQ 47.40625 31.296875 43.53125 35.828125 \r\nQ 39.65625 40.375 33.015625 40.375 \r\nz\r\nM 52.59375 71.296875 \r\nL 52.59375 62.3125 \r\nQ 48.875 64.0625 45.09375 64.984375 \r\nQ 41.3125 65.921875 37.59375 65.921875 \r\nQ 27.828125 65.921875 22.671875 59.328125 \r\nQ 17.53125 52.734375 16.796875 39.40625 \r\nQ 19.671875 43.65625 24.015625 45.921875 \r\nQ 28.375 48.1875 33.59375 48.1875 \r\nQ 44.578125 48.1875 50.953125 41.515625 \r\nQ 57.328125 34.859375 57.328125 23.390625 \r\nQ 57.328125 12.15625 50.6875 5.359375 \r\nQ 44.046875 -1.421875 33.015625 -1.421875 \r\nQ 20.359375 -1.421875 13.671875 8.265625 \r\nQ 6.984375 17.96875 6.984375 36.375 \r\nQ 6.984375 53.65625 15.1875 63.9375 \r\nQ 23.390625 74.21875 37.203125 74.21875 \r\nQ 40.921875 74.21875 44.703125 73.484375 \r\nQ 48.484375 72.75 52.59375 71.296875 \r\nz\r\n\" id=\"DejaVuSans-54\"/>\r\n       </defs>\r\n       <use xlink:href=\"#DejaVuSans-54\"/>\r\n       <use x=\"63.623047\" xlink:href=\"#DejaVuSans-48\"/>\r\n       <use x=\"127.246094\" xlink:href=\"#DejaVuSans-48\"/>\r\n      </g>\r\n     </g>\r\n    </g>\r\n    <g id=\"ytick_8\">\r\n     <g id=\"line2d_16\">\r\n      <g>\r\n       <use style=\"stroke:#000000;stroke-width:0.8;\" x=\"33.2875\" xlink:href=\"#mabac9ac0c6\" y=\"16.232821\"/>\r\n      </g>\r\n     </g>\r\n     <g id=\"text_16\">\r\n      <!-- 700 -->\r\n      <g transform=\"translate(7.2 20.03204)scale(0.1 -0.1)\">\r\n       <use xlink:href=\"#DejaVuSans-55\"/>\r\n       <use x=\"63.623047\" xlink:href=\"#DejaVuSans-48\"/>\r\n       <use x=\"127.246094\" xlink:href=\"#DejaVuSans-48\"/>\r\n      </g>\r\n     </g>\r\n    </g>\r\n   </g>\r\n   <g id=\"patch_3\">\r\n    <path d=\"M 33.2875 224.64 \r\nL 33.2875 7.2 \r\n\" style=\"fill:none;stroke:#000000;stroke-linecap:square;stroke-linejoin:miter;stroke-width:0.8;\"/>\r\n   </g>\r\n   <g id=\"patch_4\">\r\n    <path d=\"M 368.0875 224.64 \r\nL 368.0875 7.2 \r\n\" style=\"fill:none;stroke:#000000;stroke-linecap:square;stroke-linejoin:miter;stroke-width:0.8;\"/>\r\n   </g>\r\n   <g id=\"patch_5\">\r\n    <path d=\"M 33.2875 224.64 \r\nL 368.0875 224.64 \r\n\" style=\"fill:none;stroke:#000000;stroke-linecap:square;stroke-linejoin:miter;stroke-width:0.8;\"/>\r\n   </g>\r\n   <g id=\"patch_6\">\r\n    <path d=\"M 33.2875 7.2 \r\nL 368.0875 7.2 \r\n\" style=\"fill:none;stroke:#000000;stroke-linecap:square;stroke-linejoin:miter;stroke-width:0.8;\"/>\r\n   </g>\r\n  </g>\r\n </g>\r\n <defs>\r\n  <clipPath id=\"p2726ca81d4\">\r\n   <rect height=\"217.44\" width=\"334.8\" x=\"33.2875\" y=\"7.2\"/>\r\n  </clipPath>\r\n </defs>\r\n</svg>\r\n",
      "image/png": "[encoded data removed]"
     },
     "metadata": {
      "needs_background": "light"
     }
    }
   ],
   "source": [
    "plt.scatter(x,y)"
   ]
  },
  {
   "cell_type": "code",
   "execution_count": null,
   "metadata": {},
   "outputs": [],
   "source": []
  }
 ]
}