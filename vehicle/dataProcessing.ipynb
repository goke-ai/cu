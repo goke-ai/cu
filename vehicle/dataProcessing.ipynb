{
 "metadata": {
  "language_info": {
   "codemirror_mode": {
    "name": "ipython",
    "version": 3
   },
   "file_extension": ".py",
   "mimetype": "text/x-python",
   "name": "python",
   "nbconvert_exporter": "python",
   "pygments_lexer": "ipython3",
   "version": "3.9.0-final"
  },
  "orig_nbformat": 2,
  "kernelspec": {
   "name": "python3",
   "display_name": "Python 3.9.0 64-bit",
   "metadata": {
    "interpreter": {
     "hash": "c1a7846af735771808fbc8272134e7984cc669109ae413ca91ad8b74a534aa1b"
    }
   }
  }
 },
 "nbformat": 4,
 "nbformat_minor": 2,
 "cells": [
  {
   "cell_type": "code",
   "execution_count": 5,
   "metadata": {},
   "outputs": [
    {
     "output_type": "execute_result",
     "data": {
      "text/plain": [
       "        Make    Yr FuelType  VehicleUse     CO   CO2    O2    HC  lamda  \\\n",
       "SN                                                                        \n",
       "1      Honda  2006   Petrol  Commercial   0.00  13.5  1.55     0   1.08   \n",
       "2      Honda  2007   Petrol  Commercial   0.00  14.7  0.08    10   1.00   \n",
       "3     Toyota  2011   Petrol  Commercial   0.00  14.6  0.72     1   1.04   \n",
       "4     Toyota  1998   Petrol    Official   0.00  10.2  3.15     1   1.22   \n",
       "5     Toyota  2002   Petrol    Official   0.00  14.5  0.60     1   1.03   \n",
       "...      ...   ...      ...         ...    ...   ...   ...   ...    ...   \n",
       "2971  Nissan  1989   Petrol    Official  10.02   6.8  2.94  1555   0.78   \n",
       "2972   Honda  1988   Petrol    Official  10.07   8.2  1.62   737   0.77   \n",
       "2973  Nissan  1992   Petrol     Private  10.11   8.8  1.56   585   0.78   \n",
       "2974  Toyota  2000   Petrol    Official  10.14   7.2  3.27   876   0.82   \n",
       "2975  Toyota  2004   Petrol  Commercial  10.16   8.6  1.27   712   0.77   \n",
       "\n",
       "       Study   OGEPA  Age VehicleType  EUROII NESREAI     AFR NESREAII EUROIII  \n",
       "SN                                                                              \n",
       "1     Passed  Passed    8         Car  Passed  Passed  15.876   Passed  Passed  \n",
       "2     Passed  Passed    7        Jeep  Passed  Passed  14.744   Passed  Passed  \n",
       "3     Passed  Passed    3         Car  Passed  Passed  15.244   Passed  Passed  \n",
       "4     Passed  Passed   16         Car  Passed  Passed  17.934   Passed  Passed  \n",
       "5     Passed  Passed   12         Car  Passed  Passed  15.141   Passed  Passed  \n",
       "...      ...     ...  ...         ...     ...     ...     ...      ...     ...  \n",
       "2971  Failed  Failed   25         Car  Failed  Failed  11.481   Failed  Failed  \n",
       "2972  Failed  Failed   26         Car  Failed  Failed  11.334   Failed  Failed  \n",
       "2973  Failed  Failed   22         Car  Failed  Failed  11.466   Failed  Failed  \n",
       "2974  Failed  Failed   14         Car  Failed  Failed  11.981   Failed  Failed  \n",
       "2975  Failed  Failed   10         Bus  Failed  Failed  11.246   Failed  Failed  \n",
       "\n",
       "[2520 rows x 18 columns]"
      ],
      "text/html": "<div>\n<style scoped>\n    .dataframe tbody tr th:only-of-type {\n        vertical-align: middle;\n    }\n\n    .dataframe tbody tr th {\n        vertical-align: top;\n    }\n\n    .dataframe thead th {\n        text-align: right;\n    }\n</style>\n<table border=\"1\" class=\"dataframe\">\n  <thead>\n    <tr style=\"text-align: right;\">\n      <th></th>\n      <th>Make</th>\n      <th>Yr</th>\n      <th>FuelType</th>\n      <th>VehicleUse</th>\n      <th>CO</th>\n      <th>CO2</th>\n      <th>O2</th>\n      <th>HC</th>\n      <th>lamda</th>\n      <th>Study</th>\n      <th>OGEPA</th>\n      <th>Age</th>\n      <th>VehicleType</th>\n      <th>EUROII</th>\n      <th>NESREAI</th>\n      <th>AFR</th>\n      <th>NESREAII</th>\n      <th>EUROIII</th>\n    </tr>\n    <tr>\n      <th>SN</th>\n      <th></th>\n      <th></th>\n      <th></th>\n      <th></th>\n      <th></th>\n      <th></th>\n      <th></th>\n      <th></th>\n      <th></th>\n      <th></th>\n      <th></th>\n      <th></th>\n      <th></th>\n      <th></th>\n      <th></th>\n      <th></th>\n      <th></th>\n      <th></th>\n    </tr>\n  </thead>\n  <tbody>\n    <tr>\n      <th>1</th>\n      <td>Honda</td>\n      <td>2006</td>\n      <td>Petrol</td>\n      <td>Commercial</td>\n      <td>0.00</td>\n      <td>13.5</td>\n      <td>1.55</td>\n      <td>0</td>\n      <td>1.08</td>\n      <td>Passed</td>\n      <td>Passed</td>\n      <td>8</td>\n      <td>Car</td>\n      <td>Passed</td>\n      <td>Passed</td>\n      <td>15.876</td>\n      <td>Passed</td>\n      <td>Passed</td>\n    </tr>\n    <tr>\n      <th>2</th>\n      <td>Honda</td>\n      <td>2007</td>\n      <td>Petrol</td>\n      <td>Commercial</td>\n      <td>0.00</td>\n      <td>14.7</td>\n      <td>0.08</td>\n      <td>10</td>\n      <td>1.00</td>\n      <td>Passed</td>\n      <td>Passed</td>\n      <td>7</td>\n      <td>Jeep</td>\n      <td>Passed</td>\n      <td>Passed</td>\n      <td>14.744</td>\n      <td>Passed</td>\n      <td>Passed</td>\n    </tr>\n    <tr>\n      <th>3</th>\n      <td>Toyota</td>\n      <td>2011</td>\n      <td>Petrol</td>\n      <td>Commercial</td>\n      <td>0.00</td>\n      <td>14.6</td>\n      <td>0.72</td>\n      <td>1</td>\n      <td>1.04</td>\n      <td>Passed</td>\n      <td>Passed</td>\n      <td>3</td>\n      <td>Car</td>\n      <td>Passed</td>\n      <td>Passed</td>\n      <td>15.244</td>\n      <td>Passed</td>\n      <td>Passed</td>\n    </tr>\n    <tr>\n      <th>4</th>\n      <td>Toyota</td>\n      <td>1998</td>\n      <td>Petrol</td>\n      <td>Official</td>\n      <td>0.00</td>\n      <td>10.2</td>\n      <td>3.15</td>\n      <td>1</td>\n      <td>1.22</td>\n      <td>Passed</td>\n      <td>Passed</td>\n      <td>16</td>\n      <td>Car</td>\n      <td>Passed</td>\n      <td>Passed</td>\n      <td>17.934</td>\n      <td>Passed</td>\n      <td>Passed</td>\n    </tr>\n    <tr>\n      <th>5</th>\n      <td>Toyota</td>\n      <td>2002</td>\n      <td>Petrol</td>\n      <td>Official</td>\n      <td>0.00</td>\n      <td>14.5</td>\n      <td>0.60</td>\n      <td>1</td>\n      <td>1.03</td>\n      <td>Passed</td>\n      <td>Passed</td>\n      <td>12</td>\n      <td>Car</td>\n      <td>Passed</td>\n      <td>Passed</td>\n      <td>15.141</td>\n      <td>Passed</td>\n      <td>Passed</td>\n    </tr>\n    <tr>\n      <th>...</th>\n      <td>...</td>\n      <td>...</td>\n      <td>...</td>\n      <td>...</td>\n      <td>...</td>\n      <td>...</td>\n      <td>...</td>\n      <td>...</td>\n      <td>...</td>\n      <td>...</td>\n      <td>...</td>\n      <td>...</td>\n      <td>...</td>\n      <td>...</td>\n      <td>...</td>\n      <td>...</td>\n      <td>...</td>\n      <td>...</td>\n    </tr>\n    <tr>\n      <th>2971</th>\n      <td>Nissan</td>\n      <td>1989</td>\n      <td>Petrol</td>\n      <td>Official</td>\n      <td>10.02</td>\n      <td>6.8</td>\n      <td>2.94</td>\n      <td>1555</td>\n      <td>0.78</td>\n      <td>Failed</td>\n      <td>Failed</td>\n      <td>25</td>\n      <td>Car</td>\n      <td>Failed</td>\n      <td>Failed</td>\n      <td>11.481</td>\n      <td>Failed</td>\n      <td>Failed</td>\n    </tr>\n    <tr>\n      <th>2972</th>\n      <td>Honda</td>\n      <td>1988</td>\n      <td>Petrol</td>\n      <td>Official</td>\n      <td>10.07</td>\n      <td>8.2</td>\n      <td>1.62</td>\n      <td>737</td>\n      <td>0.77</td>\n      <td>Failed</td>\n      <td>Failed</td>\n      <td>26</td>\n      <td>Car</td>\n      <td>Failed</td>\n      <td>Failed</td>\n      <td>11.334</td>\n      <td>Failed</td>\n      <td>Failed</td>\n    </tr>\n    <tr>\n      <th>2973</th>\n      <td>Nissan</td>\n      <td>1992</td>\n      <td>Petrol</td>\n      <td>Private</td>\n      <td>10.11</td>\n      <td>8.8</td>\n      <td>1.56</td>\n      <td>585</td>\n      <td>0.78</td>\n      <td>Failed</td>\n      <td>Failed</td>\n      <td>22</td>\n      <td>Car</td>\n      <td>Failed</td>\n      <td>Failed</td>\n      <td>11.466</td>\n      <td>Failed</td>\n      <td>Failed</td>\n    </tr>\n    <tr>\n      <th>2974</th>\n      <td>Toyota</td>\n      <td>2000</td>\n      <td>Petrol</td>\n      <td>Official</td>\n      <td>10.14</td>\n      <td>7.2</td>\n      <td>3.27</td>\n      <td>876</td>\n      <td>0.82</td>\n      <td>Failed</td>\n      <td>Failed</td>\n      <td>14</td>\n      <td>Car</td>\n      <td>Failed</td>\n      <td>Failed</td>\n      <td>11.981</td>\n      <td>Failed</td>\n      <td>Failed</td>\n    </tr>\n    <tr>\n      <th>2975</th>\n      <td>Toyota</td>\n      <td>2004</td>\n      <td>Petrol</td>\n      <td>Commercial</td>\n      <td>10.16</td>\n      <td>8.6</td>\n      <td>1.27</td>\n      <td>712</td>\n      <td>0.77</td>\n      <td>Failed</td>\n      <td>Failed</td>\n      <td>10</td>\n      <td>Bus</td>\n      <td>Failed</td>\n      <td>Failed</td>\n      <td>11.246</td>\n      <td>Failed</td>\n      <td>Failed</td>\n    </tr>\n  </tbody>\n</table>\n<p>2520 rows × 18 columns</p>\n</div>"
     },
     "metadata": {},
     "execution_count": 5
    }
   ],
   "source": [
    "import pandas as pd\n",
    "\n",
    "fileName = 'vehicle_emission_1.xls'\n",
    "rawDataset = pd.read_excel(fileName, index_col=0)\n",
    "rawDataset"
   ]
  },
  {
   "cell_type": "code",
   "execution_count": 6,
   "metadata": {},
   "outputs": [
    {
     "output_type": "execute_result",
     "data": {
      "text/plain": [
       "Index(['Make', 'Yr', 'FuelType', 'VehicleUse', 'CO', 'CO2', 'O2', 'HC',\n",
       "       'lamda', 'Study', 'OGEPA', 'Age', 'VehicleType', 'EUROII', 'NESREAI',\n",
       "       'AFR', 'NESREAII', 'EUROIII'],\n",
       "      dtype='object')"
      ]
     },
     "metadata": {},
     "execution_count": 6
    }
   ],
   "source": [
    "rawDataset.columns"
   ]
  },
  {
   "cell_type": "code",
   "execution_count": 7,
   "metadata": {},
   "outputs": [
    {
     "output_type": "execute_result",
     "data": {
      "text/plain": [
       "        Yr     CO   CO2    O2    HC  lamda  Age     AFR  Make_Honda  \\\n",
       "SN                                                                    \n",
       "1     2006   0.00  13.5  1.55     0   1.08    8  15.876           1   \n",
       "2     2007   0.00  14.7  0.08    10   1.00    7  14.744           1   \n",
       "3     2011   0.00  14.6  0.72     1   1.04    3  15.244           0   \n",
       "4     1998   0.00  10.2  3.15     1   1.22   16  17.934           0   \n",
       "5     2002   0.00  14.5  0.60     1   1.03   12  15.141           0   \n",
       "...    ...    ...   ...   ...   ...    ...  ...     ...         ...   \n",
       "2971  1989  10.02   6.8  2.94  1555   0.78   25  11.481           0   \n",
       "2972  1988  10.07   8.2  1.62   737   0.77   26  11.334           1   \n",
       "2973  1992  10.11   8.8  1.56   585   0.78   22  11.466           0   \n",
       "2974  2000  10.14   7.2  3.27   876   0.82   14  11.981           0   \n",
       "2975  2004  10.16   8.6  1.27   712   0.77   10  11.246           0   \n",
       "\n",
       "      Make_Mazda  ...  VehicleType_Jeep  VehicleType_PICK-UP  EUROII_Failed  \\\n",
       "SN                ...                                                         \n",
       "1              0  ...                 0                    0              0   \n",
       "2              0  ...                 1                    0              0   \n",
       "3              0  ...                 0                    0              0   \n",
       "4              0  ...                 0                    0              0   \n",
       "5              0  ...                 0                    0              0   \n",
       "...          ...  ...               ...                  ...            ...   \n",
       "2971           0  ...                 0                    0              1   \n",
       "2972           0  ...                 0                    0              1   \n",
       "2973           0  ...                 0                    0              1   \n",
       "2974           0  ...                 0                    0              1   \n",
       "2975           0  ...                 0                    0              1   \n",
       "\n",
       "      EUROII_Passed  NESREAI_Failed  NESREAI_Passed  NESREAII_Failed  \\\n",
       "SN                                                                     \n",
       "1                 1               0               1                0   \n",
       "2                 1               0               1                0   \n",
       "3                 1               0               1                0   \n",
       "4                 1               0               1                0   \n",
       "5                 1               0               1                0   \n",
       "...             ...             ...             ...              ...   \n",
       "2971              0               1               0                1   \n",
       "2972              0               1               0                1   \n",
       "2973              0               1               0                1   \n",
       "2974              0               1               0                1   \n",
       "2975              0               1               0                1   \n",
       "\n",
       "      NESREAII_Passed  EUROIII_Failed  EUROIII_Passed  \n",
       "SN                                                     \n",
       "1                   1               0               1  \n",
       "2                   1               0               1  \n",
       "3                   1               0               1  \n",
       "4                   1               0               1  \n",
       "5                   1               0               1  \n",
       "...               ...             ...             ...  \n",
       "2971                0               1               0  \n",
       "2972                0               1               0  \n",
       "2973                0               1               0  \n",
       "2974                0               1               0  \n",
       "2975                0               1               0  \n",
       "\n",
       "[2520 rows x 38 columns]"
      ],
      "text/html": "<div>\n<style scoped>\n    .dataframe tbody tr th:only-of-type {\n        vertical-align: middle;\n    }\n\n    .dataframe tbody tr th {\n        vertical-align: top;\n    }\n\n    .dataframe thead th {\n        text-align: right;\n    }\n</style>\n<table border=\"1\" class=\"dataframe\">\n  <thead>\n    <tr style=\"text-align: right;\">\n      <th></th>\n      <th>Yr</th>\n      <th>CO</th>\n      <th>CO2</th>\n      <th>O2</th>\n      <th>HC</th>\n      <th>lamda</th>\n      <th>Age</th>\n      <th>AFR</th>\n      <th>Make_Honda</th>\n      <th>Make_Mazda</th>\n      <th>...</th>\n      <th>VehicleType_Jeep</th>\n      <th>VehicleType_PICK-UP</th>\n      <th>EUROII_Failed</th>\n      <th>EUROII_Passed</th>\n      <th>NESREAI_Failed</th>\n      <th>NESREAI_Passed</th>\n      <th>NESREAII_Failed</th>\n      <th>NESREAII_Passed</th>\n      <th>EUROIII_Failed</th>\n      <th>EUROIII_Passed</th>\n    </tr>\n    <tr>\n      <th>SN</th>\n      <th></th>\n      <th></th>\n      <th></th>\n      <th></th>\n      <th></th>\n      <th></th>\n      <th></th>\n      <th></th>\n      <th></th>\n      <th></th>\n      <th></th>\n      <th></th>\n      <th></th>\n      <th></th>\n      <th></th>\n      <th></th>\n      <th></th>\n      <th></th>\n      <th></th>\n      <th></th>\n      <th></th>\n    </tr>\n  </thead>\n  <tbody>\n    <tr>\n      <th>1</th>\n      <td>2006</td>\n      <td>0.00</td>\n      <td>13.5</td>\n      <td>1.55</td>\n      <td>0</td>\n      <td>1.08</td>\n      <td>8</td>\n      <td>15.876</td>\n      <td>1</td>\n      <td>0</td>\n      <td>...</td>\n      <td>0</td>\n      <td>0</td>\n      <td>0</td>\n      <td>1</td>\n      <td>0</td>\n      <td>1</td>\n      <td>0</td>\n      <td>1</td>\n      <td>0</td>\n      <td>1</td>\n    </tr>\n    <tr>\n      <th>2</th>\n      <td>2007</td>\n      <td>0.00</td>\n      <td>14.7</td>\n      <td>0.08</td>\n      <td>10</td>\n      <td>1.00</td>\n      <td>7</td>\n      <td>14.744</td>\n      <td>1</td>\n      <td>0</td>\n      <td>...</td>\n      <td>1</td>\n      <td>0</td>\n      <td>0</td>\n      <td>1</td>\n      <td>0</td>\n      <td>1</td>\n      <td>0</td>\n      <td>1</td>\n      <td>0</td>\n      <td>1</td>\n    </tr>\n    <tr>\n      <th>3</th>\n      <td>2011</td>\n      <td>0.00</td>\n      <td>14.6</td>\n      <td>0.72</td>\n      <td>1</td>\n      <td>1.04</td>\n      <td>3</td>\n      <td>15.244</td>\n      <td>0</td>\n      <td>0</td>\n      <td>...</td>\n      <td>0</td>\n      <td>0</td>\n      <td>0</td>\n      <td>1</td>\n      <td>0</td>\n      <td>1</td>\n      <td>0</td>\n      <td>1</td>\n      <td>0</td>\n      <td>1</td>\n    </tr>\n    <tr>\n      <th>4</th>\n      <td>1998</td>\n      <td>0.00</td>\n      <td>10.2</td>\n      <td>3.15</td>\n      <td>1</td>\n      <td>1.22</td>\n      <td>16</td>\n      <td>17.934</td>\n      <td>0</td>\n      <td>0</td>\n      <td>...</td>\n      <td>0</td>\n      <td>0</td>\n      <td>0</td>\n      <td>1</td>\n      <td>0</td>\n      <td>1</td>\n      <td>0</td>\n      <td>1</td>\n      <td>0</td>\n      <td>1</td>\n    </tr>\n    <tr>\n      <th>5</th>\n      <td>2002</td>\n      <td>0.00</td>\n      <td>14.5</td>\n      <td>0.60</td>\n      <td>1</td>\n      <td>1.03</td>\n      <td>12</td>\n      <td>15.141</td>\n      <td>0</td>\n      <td>0</td>\n      <td>...</td>\n      <td>0</td>\n      <td>0</td>\n      <td>0</td>\n      <td>1</td>\n      <td>0</td>\n      <td>1</td>\n      <td>0</td>\n      <td>1</td>\n      <td>0</td>\n      <td>1</td>\n    </tr>\n    <tr>\n      <th>...</th>\n      <td>...</td>\n      <td>...</td>\n      <td>...</td>\n      <td>...</td>\n      <td>...</td>\n      <td>...</td>\n      <td>...</td>\n      <td>...</td>\n      <td>...</td>\n      <td>...</td>\n      <td>...</td>\n      <td>...</td>\n      <td>...</td>\n      <td>...</td>\n      <td>...</td>\n      <td>...</td>\n      <td>...</td>\n      <td>...</td>\n      <td>...</td>\n      <td>...</td>\n      <td>...</td>\n    </tr>\n    <tr>\n      <th>2971</th>\n      <td>1989</td>\n      <td>10.02</td>\n      <td>6.8</td>\n      <td>2.94</td>\n      <td>1555</td>\n      <td>0.78</td>\n      <td>25</td>\n      <td>11.481</td>\n      <td>0</td>\n      <td>0</td>\n      <td>...</td>\n      <td>0</td>\n      <td>0</td>\n      <td>1</td>\n      <td>0</td>\n      <td>1</td>\n      <td>0</td>\n      <td>1</td>\n      <td>0</td>\n      <td>1</td>\n      <td>0</td>\n    </tr>\n    <tr>\n      <th>2972</th>\n      <td>1988</td>\n      <td>10.07</td>\n      <td>8.2</td>\n      <td>1.62</td>\n      <td>737</td>\n      <td>0.77</td>\n      <td>26</td>\n      <td>11.334</td>\n      <td>1</td>\n      <td>0</td>\n      <td>...</td>\n      <td>0</td>\n      <td>0</td>\n      <td>1</td>\n      <td>0</td>\n      <td>1</td>\n      <td>0</td>\n      <td>1</td>\n      <td>0</td>\n      <td>1</td>\n      <td>0</td>\n    </tr>\n    <tr>\n      <th>2973</th>\n      <td>1992</td>\n      <td>10.11</td>\n      <td>8.8</td>\n      <td>1.56</td>\n      <td>585</td>\n      <td>0.78</td>\n      <td>22</td>\n      <td>11.466</td>\n      <td>0</td>\n      <td>0</td>\n      <td>...</td>\n      <td>0</td>\n      <td>0</td>\n      <td>1</td>\n      <td>0</td>\n      <td>1</td>\n      <td>0</td>\n      <td>1</td>\n      <td>0</td>\n      <td>1</td>\n      <td>0</td>\n    </tr>\n    <tr>\n      <th>2974</th>\n      <td>2000</td>\n      <td>10.14</td>\n      <td>7.2</td>\n      <td>3.27</td>\n      <td>876</td>\n      <td>0.82</td>\n      <td>14</td>\n      <td>11.981</td>\n      <td>0</td>\n      <td>0</td>\n      <td>...</td>\n      <td>0</td>\n      <td>0</td>\n      <td>1</td>\n      <td>0</td>\n      <td>1</td>\n      <td>0</td>\n      <td>1</td>\n      <td>0</td>\n      <td>1</td>\n      <td>0</td>\n    </tr>\n    <tr>\n      <th>2975</th>\n      <td>2004</td>\n      <td>10.16</td>\n      <td>8.6</td>\n      <td>1.27</td>\n      <td>712</td>\n      <td>0.77</td>\n      <td>10</td>\n      <td>11.246</td>\n      <td>0</td>\n      <td>0</td>\n      <td>...</td>\n      <td>0</td>\n      <td>0</td>\n      <td>1</td>\n      <td>0</td>\n      <td>1</td>\n      <td>0</td>\n      <td>1</td>\n      <td>0</td>\n      <td>1</td>\n      <td>0</td>\n    </tr>\n  </tbody>\n</table>\n<p>2520 rows × 38 columns</p>\n</div>"
     },
     "metadata": {},
     "execution_count": 7
    }
   ],
   "source": [
    "prefix = ['Make', 'FuelType', 'VehicleUse', 'Study', 'OGEPA', 'VehicleType', 'EUROII', 'NESREAI', 'NESREAII', 'EUROIII']\n",
    "\n",
    "dataset = rawDataset.copy()\n",
    "dataset = pd.get_dummies(dataset, prefix=prefix, prefix_sep='_')\n",
    "dataset"
   ]
  },
  {
   "cell_type": "code",
   "execution_count": 12,
   "metadata": {},
   "outputs": [
    {
     "output_type": "error",
     "ename": "ModuleNotFoundError",
     "evalue": "No module named 'xlwt'",
     "traceback": [
      "\u001b[1;31m---------------------------------------------------------------------------\u001b[0m",
      "\u001b[1;31mModuleNotFoundError\u001b[0m                       Traceback (most recent call last)",
      "\u001b[1;32m<ipython-input-12-bc8c264071dc>\u001b[0m in \u001b[0;36m<module>\u001b[1;34m\u001b[0m\n\u001b[0;32m      1\u001b[0m \u001b[1;31m# dfw.to_excel(\"result.xlsx\")\u001b[0m\u001b[1;33m\u001b[0m\u001b[1;33m\u001b[0m\u001b[1;33m\u001b[0m\u001b[0m\n\u001b[0;32m      2\u001b[0m \u001b[0mofileName\u001b[0m \u001b[1;33m=\u001b[0m \u001b[1;34m'o'\u001b[0m \u001b[1;33m+\u001b[0m \u001b[0mfileName\u001b[0m\u001b[1;33m\u001b[0m\u001b[1;33m\u001b[0m\u001b[0m\n\u001b[1;32m----> 3\u001b[1;33m \u001b[1;32mwith\u001b[0m \u001b[0mpd\u001b[0m\u001b[1;33m.\u001b[0m\u001b[0mExcelWriter\u001b[0m\u001b[1;33m(\u001b[0m\u001b[0mofileName\u001b[0m\u001b[1;33m)\u001b[0m \u001b[1;32mas\u001b[0m \u001b[0mwriter\u001b[0m\u001b[1;33m:\u001b[0m\u001b[1;33m\u001b[0m\u001b[1;33m\u001b[0m\u001b[0m\n\u001b[0m\u001b[0;32m      4\u001b[0m     \u001b[0mdataset\u001b[0m\u001b[1;33m.\u001b[0m\u001b[0mto_excel\u001b[0m\u001b[1;33m(\u001b[0m\u001b[0mwriter\u001b[0m\u001b[1;33m,\u001b[0m \u001b[0msheet_name\u001b[0m\u001b[1;33m=\u001b[0m\u001b[1;34m'Sheet1'\u001b[0m\u001b[1;33m)\u001b[0m\u001b[1;33m\u001b[0m\u001b[1;33m\u001b[0m\u001b[0m\n\u001b[0;32m      5\u001b[0m \u001b[1;33m\u001b[0m\u001b[0m\n",
      "\u001b[1;32mC:\\sdk\\Python39\\lib\\site-packages\\pandas\\io\\excel\\_xlwt.py\u001b[0m in \u001b[0;36m__init__\u001b[1;34m(self, path, engine, encoding, mode, **engine_kwargs)\u001b[0m\n\u001b[0;32m     11\u001b[0m     \u001b[1;32mdef\u001b[0m \u001b[0m__init__\u001b[0m\u001b[1;33m(\u001b[0m\u001b[0mself\u001b[0m\u001b[1;33m,\u001b[0m \u001b[0mpath\u001b[0m\u001b[1;33m,\u001b[0m \u001b[0mengine\u001b[0m\u001b[1;33m=\u001b[0m\u001b[1;32mNone\u001b[0m\u001b[1;33m,\u001b[0m \u001b[0mencoding\u001b[0m\u001b[1;33m=\u001b[0m\u001b[1;32mNone\u001b[0m\u001b[1;33m,\u001b[0m \u001b[0mmode\u001b[0m\u001b[1;33m=\u001b[0m\u001b[1;34m\"w\"\u001b[0m\u001b[1;33m,\u001b[0m \u001b[1;33m**\u001b[0m\u001b[0mengine_kwargs\u001b[0m\u001b[1;33m)\u001b[0m\u001b[1;33m:\u001b[0m\u001b[1;33m\u001b[0m\u001b[1;33m\u001b[0m\u001b[0m\n\u001b[0;32m     12\u001b[0m         \u001b[1;31m# Use the xlwt module as the Excel writer.\u001b[0m\u001b[1;33m\u001b[0m\u001b[1;33m\u001b[0m\u001b[1;33m\u001b[0m\u001b[0m\n\u001b[1;32m---> 13\u001b[1;33m         \u001b[1;32mimport\u001b[0m \u001b[0mxlwt\u001b[0m\u001b[1;33m\u001b[0m\u001b[1;33m\u001b[0m\u001b[0m\n\u001b[0m\u001b[0;32m     14\u001b[0m \u001b[1;33m\u001b[0m\u001b[0m\n\u001b[0;32m     15\u001b[0m         \u001b[0mengine_kwargs\u001b[0m\u001b[1;33m[\u001b[0m\u001b[1;34m\"engine\"\u001b[0m\u001b[1;33m]\u001b[0m \u001b[1;33m=\u001b[0m \u001b[0mengine\u001b[0m\u001b[1;33m\u001b[0m\u001b[1;33m\u001b[0m\u001b[0m\n",
      "\u001b[1;31mModuleNotFoundError\u001b[0m: No module named 'xlwt'"
     ]
    }
   ],
   "source": [
    "# dfw.to_excel(\"result.xlsx\")\n",
    "ofileName = 'o' + fileName\n",
    "with pd.ExcelWriter(ofileName) as writer:  \n",
    "    dataset.to_excel(writer, sheet_name='Sheet1')\n",
    "    "
   ]
  },
  {
   "cell_type": "code",
   "execution_count": null,
   "metadata": {},
   "outputs": [],
   "source": []
  }
 ]
}